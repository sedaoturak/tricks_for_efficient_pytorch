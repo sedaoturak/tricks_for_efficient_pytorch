{
  "nbformat": 4,
  "nbformat_minor": 0,
  "metadata": {
    "colab": {
      "provenance": [],
      "collapsed_sections": [],
      "toc_visible": true,
      "authorship_tag": "ABX9TyPlHEuxNcmCrwpPpXDiU+Qc",
      "include_colab_link": true
    },
    "kernelspec": {
      "name": "python3",
      "display_name": "Python 3"
    },
    "language_info": {
      "name": "python"
    },
    "accelerator": "GPU",
    "gpuClass": "standard"
  },
  "cells": [
    {
      "cell_type": "markdown",
      "metadata": {
        "id": "view-in-github",
        "colab_type": "text"
      },
      "source": [
        "<a href=\"https://colab.research.google.com/github/sedaoturak/tricks_for_efficient_pytorch/blob/main/efficient_pytorch.ipynb\" target=\"_parent\"><img src=\"https://colab.research.google.com/assets/colab-badge.svg\" alt=\"Open In Colab\"/></a>"
      ]
    },
    {
      "cell_type": "markdown",
      "source": [
        "#**Useful tips for more efficient Pytorch codes**\n",
        "\n",
        "This list of tips was prepared by using the resources below:\n",
        "1. https://nvlabs.github.io/eccv2020-mixed-precision-tutorial/files/szymon_migacz-pytorch-performance-tuning-guide.pdf\n",
        "2. https://pytorch.org/tutorials/recipes/recipes/tuning_guide.html \n",
        "3. https://efficientdl.com/faster-deep-learning-in-pytorch-a-guide/\n",
        "4. https://betterprogramming.pub/how-to-make-your-pytorch-code-run-faster-93079f3c1f7b"
      ],
      "metadata": {
        "id": "ngjZmLb0DEXS"
      }
    },
    {
      "cell_type": "markdown",
      "source": [
        "An example model to show the tips (VAE with CNN)\n",
        "\n",
        "*Model was taken from the website given below:*\n",
        "\n",
        "https://debuggercafe.com/convolutional-variational-autoencoder-in-pytorch-on-mnist-dataset/"
      ],
      "metadata": {
        "id": "fmWsaGaOqM_P"
      }
    },
    {
      "cell_type": "code",
      "source": [
        "import imageio\n",
        "import numpy as np\n",
        "import torchvision.transforms as transforms\n",
        "import matplotlib.pyplot as plt\n",
        "from torchvision.utils import save_image\n",
        "to_pil_image = transforms.ToPILImage()\n",
        "def image_to_vid(images):\n",
        "    imgs = [np.array(to_pil_image(img)) for img in images]\n",
        "    imageio.mimsave('../outputs/generated_images.gif', imgs)\n",
        "def save_reconstructed_images(recon_images, epoch):\n",
        "    save_image(recon_images.cpu(), f\"../outputs/output{epoch}.jpg\")\n",
        "def save_loss_plot(train_loss, valid_loss):\n",
        "    # loss plots\n",
        "    plt.figure(figsize=(10, 7))\n",
        "    plt.plot(train_loss, color='orange', label='train loss')\n",
        "    plt.plot(valid_loss, color='red', label='validataion loss')\n",
        "    plt.xlabel('Epochs')\n",
        "    plt.ylabel('Loss')\n",
        "    plt.legend()\n",
        "    plt.savefig('../outputs/loss.jpg')\n",
        "    plt.show()"
      ],
      "metadata": {
        "id": "EwdNtfjK1xb4"
      },
      "execution_count": 1,
      "outputs": []
    },
    {
      "cell_type": "code",
      "source": [
        "from tqdm import tqdm\n",
        "import torch \n",
        "def final_loss(bce_loss, mu, logvar):\n",
        "    BCE = bce_loss \n",
        "    KLD = -0.5 * torch.sum(1 + logvar - mu.pow(2) - logvar.exp())\n",
        "    return BCE + KLD\n",
        "\n",
        "def train(model, dataloader, dataset, device, optimizer, criterion):\n",
        "    model.train()\n",
        "    running_loss = 0.0\n",
        "    counter = 0\n",
        "    for i, data in tqdm(enumerate(dataloader), total=int(len(dataset)/dataloader.batch_size)):\n",
        "        counter += 1\n",
        "        data = data[0]\n",
        "        data = data.to(device)\n",
        "        optimizer.zero_grad()\n",
        "        reconstruction, mu, logvar = model(data)\n",
        "        bce_loss = criterion(reconstruction, data)\n",
        "        loss = final_loss(bce_loss, mu, logvar)\n",
        "        loss.backward()\n",
        "        running_loss += loss.item()\n",
        "        optimizer.step()\n",
        "    train_loss = running_loss / counter \n",
        "    return train_loss\n",
        "\n",
        "def validate(model, dataloader, dataset, device, criterion):\n",
        "    model.eval()\n",
        "    running_loss = 0.0\n",
        "    counter = 0\n",
        "    with torch.no_grad():\n",
        "        for i, data in tqdm(enumerate(dataloader), total=int(len(dataset)/dataloader.batch_size)):\n",
        "            counter += 1\n",
        "            data= data[0]\n",
        "            data = data.to(device)\n",
        "            reconstruction, mu, logvar = model(data)\n",
        "            bce_loss = criterion(reconstruction, data)\n",
        "            loss = final_loss(bce_loss, mu, logvar)\n",
        "            running_loss += loss.item()\n",
        "    val_loss = running_loss / counter\n",
        "    return val_loss"
      ],
      "metadata": {
        "id": "JEsOW5xzBp0o"
      },
      "execution_count": 2,
      "outputs": []
    },
    {
      "cell_type": "code",
      "source": [
        "import torch\n",
        "import torch.nn as nn\n",
        "import torch.nn.functional as F\n",
        "kernel_size = 4 # (4, 4) kernel\n",
        "init_channels = 8 # initial number of filters\n",
        "image_channels = 1 # MNIST images are grayscale\n",
        "latent_dim = 16 # latent dimension for sampling"
      ],
      "metadata": {
        "id": "peExvliFCZRW"
      },
      "execution_count": 3,
      "outputs": []
    },
    {
      "cell_type": "code",
      "source": [
        "# define a Conv VAE\n",
        "class ConvVAE(nn.Module):\n",
        "    def __init__(self):\n",
        "        super(ConvVAE, self).__init__()\n",
        " \n",
        "        # encoder\n",
        "        self.enc1 = nn.Conv2d(\n",
        "            in_channels=image_channels, out_channels=init_channels, kernel_size=kernel_size, \n",
        "            stride=2, padding=1\n",
        "        )\n",
        "        self.enc2 = nn.Conv2d(\n",
        "            in_channels=init_channels, out_channels=init_channels*2, kernel_size=kernel_size, \n",
        "            stride=2, padding=1\n",
        "        )\n",
        "        self.enc3 = nn.Conv2d(\n",
        "            in_channels=init_channels*2, out_channels=init_channels*4, kernel_size=kernel_size, \n",
        "            stride=2, padding=1\n",
        "        )\n",
        "        self.enc4 = nn.Conv2d(\n",
        "            in_channels=init_channels*4, out_channels=64, kernel_size=kernel_size, \n",
        "            stride=2, padding=0\n",
        "        )\n",
        "        # fully connected layers for learning representations\n",
        "        self.fc1 = nn.Linear(64, 128)\n",
        "        self.fc_mu = nn.Linear(128, latent_dim)\n",
        "        self.fc_log_var = nn.Linear(128, latent_dim)\n",
        "        self.fc2 = nn.Linear(latent_dim, 64)\n",
        "        # decoder \n",
        "        self.dec1 = nn.ConvTranspose2d(\n",
        "            in_channels=64, out_channels=init_channels*8, kernel_size=kernel_size, \n",
        "            stride=1, padding=0\n",
        "        )\n",
        "        self.dec2 = nn.ConvTranspose2d(\n",
        "            in_channels=init_channels*8, out_channels=init_channels*4, kernel_size=kernel_size, \n",
        "            stride=2, padding=1\n",
        "        )\n",
        "        self.dec3 = nn.ConvTranspose2d(\n",
        "            in_channels=init_channels*4, out_channels=init_channels*2, kernel_size=kernel_size, \n",
        "            stride=2, padding=1\n",
        "        )\n",
        "        self.dec4 = nn.ConvTranspose2d(\n",
        "            in_channels=init_channels*2, out_channels=image_channels, kernel_size=kernel_size, \n",
        "            stride=2, padding=1\n",
        "        )\n",
        "    def reparameterize(self, mu, log_var):\n",
        "        std = torch.exp(0.5*log_var) # standard deviation\n",
        "        eps = torch.randn_like(std) # `randn_like` as we need the same size\n",
        "        sample = mu + (eps * std) # sampling\n",
        "        return sample\n",
        " \n",
        "    def forward(self, x):\n",
        "        x = F.relu(self.enc1(x))\n",
        "        x = F.relu(self.enc2(x))\n",
        "        x = F.relu(self.enc3(x))\n",
        "        x = F.relu(self.enc4(x))\n",
        "        batch, _, _, _ = x.shape\n",
        "        x = F.adaptive_avg_pool2d(x, 1).reshape(batch, -1)\n",
        "        hidden = self.fc1(x)\n",
        "        # get `mu` and `log_var`\n",
        "        mu = self.fc_mu(hidden)\n",
        "        log_var = self.fc_log_var(hidden)\n",
        "        # get the latent vector through reparameterization\n",
        "        z = self.reparameterize(mu, log_var)\n",
        "        z = self.fc2(z)\n",
        "        z = z.view(-1, 64, 1, 1)\n",
        " \n",
        "        # decoding\n",
        "        x = F.relu(self.dec1(z))\n",
        "        x = F.relu(self.dec2(x))\n",
        "        x = F.relu(self.dec3(x))\n",
        "        reconstruction = torch.sigmoid(self.dec4(x))\n",
        "        return reconstruction, mu, log_var"
      ],
      "metadata": {
        "id": "Jn5cdrA9Eqps"
      },
      "execution_count": 4,
      "outputs": []
    },
    {
      "cell_type": "code",
      "source": [
        "import torch\n",
        "import torch.optim as optim\n",
        "import torch.nn as nn\n",
        "import torchvision.transforms as transforms\n",
        "import torchvision\n",
        "import matplotlib\n",
        "from torch.utils.data import DataLoader\n",
        "from torchvision.utils import make_grid\n",
        "\n",
        "device = torch.device('cuda' if torch.cuda.is_available() else 'cpu')\n",
        "# initialize the model\n",
        "model = ConvVAE().to(device)\n",
        "# set the learning parameters\n",
        "lr = 0.002\n",
        "epochs = 100\n",
        "batch_size = 128\n",
        "optimizer = optim.Adam(model.parameters(), lr=lr)\n",
        "criterion = nn.BCELoss(reduction='sum')\n",
        "# a list to save all the reconstructed images in PyTorch grid format\n",
        "grid_images = []\n",
        "\n",
        "transform = transforms.Compose([\n",
        "    transforms.Resize((32, 32)),\n",
        "    transforms.ToTensor(),\n",
        "])\n",
        "# training set and train data loader\n",
        "trainset = torchvision.datasets.MNIST(\n",
        "    root='../input', train=True, download=True, transform=transform\n",
        ")\n",
        "trainloader = DataLoader(\n",
        "    trainset, batch_size=batch_size, shuffle=True\n",
        ")\n",
        "# validation set and validation data loader\n",
        "testset = torchvision.datasets.MNIST(\n",
        "    root='../input', train=False, download=True, transform=transform\n",
        ")\n",
        "testloader = DataLoader(\n",
        "    testset, batch_size=batch_size, shuffle=False\n",
        ")"
      ],
      "metadata": {
        "id": "xOelqLt4Es1D"
      },
      "execution_count": 12,
      "outputs": []
    },
    {
      "cell_type": "code",
      "source": [
        "train_loss = []\n",
        "valid_loss = []\n",
        "for epoch in range(epochs):\n",
        "    print(f\"Epoch {epoch+1} of {epochs}\")\n",
        "    train_epoch_loss = train(\n",
        "        model, trainloader, trainset, device, optimizer, criterion\n",
        "    )\n",
        "    valid_epoch_loss = validate(\n",
        "        model, testloader, testset, device, criterion\n",
        "    )\n",
        "    train_loss.append(train_epoch_loss)\n",
        "    valid_loss.append(valid_epoch_loss)\n",
        "\n",
        "    print(f\"Train Loss: {train_epoch_loss:.4f}\")\n",
        "    print(f\"Val Loss: {valid_epoch_loss:.4f}\")"
      ],
      "metadata": {
        "id": "UUloIH6dEy4x"
      },
      "execution_count": null,
      "outputs": []
    },
    {
      "cell_type": "markdown",
      "source": [
        "# 1.DataLoader Attributes"
      ],
      "metadata": {
        "id": "A_tzxgXHDzms"
      }
    },
    {
      "cell_type": "markdown",
      "source": [
        "1.1. set `num_workers > 0`\n",
        "\n",
        "Rule of thumb: it is two times number of available GPU, otherwise it leads it to slow down!\n",
        "\n",
        "`num_worker = 4 * num_GPU`"
      ],
      "metadata": {
        "id": "_QE5XIWPENCR"
      }
    },
    {
      "cell_type": "markdown",
      "source": [
        "1.2. set `pin_memory=True`\n",
        "\n",
        "It must be `True` together with `num_workers > 0`, otherwise it won't affect the speed.\n",
        "\n",
        "recommended resource: https://developer.nvidia.com/blog/how-optimize-data-transfers-cuda-cc/"
      ],
      "metadata": {
        "id": "ak_Ff-lWEatA"
      }
    },
    {
      "cell_type": "markdown",
      "source": [
        "![Screen Shot 2022-10-02 at 8.26.56 PM.png](data:image/png;base64,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)"
      ],
      "metadata": {
        "id": "ZUMUtq9cPCX2"
      }
    },
    {
      "cell_type": "markdown",
      "source": [
        "# 2.Balance Learning Rate and Batch Size\n",
        "\n",
        "Double the learning rate when you double the batch size."
      ],
      "metadata": {
        "id": "WHLtz96UHqjf"
      }
    },
    {
      "cell_type": "code",
      "source": [
        "import time\n",
        "start_time = time.time()\n",
        "\n",
        "lr = 0.001\n",
        "batch_size = 64\n",
        "\n",
        "train_loss = []\n",
        "valid_loss = []\n",
        "for epoch in range(epochs):\n",
        "    print(f\"Epoch {epoch+1} of {epochs}\")\n",
        "    train_epoch_loss = train(\n",
        "        model, trainloader, trainset, device, optimizer, criterion\n",
        "    )\n",
        "    valid_epoch_loss = validate(\n",
        "        model, testloader, testset, device, criterion\n",
        "    )\n",
        "    train_loss.append(train_epoch_loss)\n",
        "    valid_loss.append(valid_epoch_loss)\n",
        "\n",
        "    print(f\"Train Loss: {train_epoch_loss:.4f}\")\n",
        "    print(f\"Val Loss: {valid_epoch_loss:.4f}\")\n",
        "\n",
        "print('Total time: {:.3f}s'.format(time.time() - start_time))"
      ],
      "metadata": {
        "id": "OdmdcaQwIZIP",
        "colab": {
          "base_uri": "https://localhost:8080/"
        },
        "outputId": "b1a7baa3-8638-4071-fd92-d95c21bf7582"
      },
      "execution_count": 7,
      "outputs": [
        {
          "output_type": "stream",
          "name": "stdout",
          "text": [
            "Epoch 1 of 100\n"
          ]
        },
        {
          "output_type": "stream",
          "name": "stderr",
          "text": [
            "938it [00:21, 43.86it/s]                         \n",
            "157it [00:01, 97.90it/s]                         \n"
          ]
        },
        {
          "output_type": "stream",
          "name": "stdout",
          "text": [
            "Train Loss: 15736.3915\n",
            "Val Loss: 12137.2865\n",
            "Epoch 2 of 100\n"
          ]
        },
        {
          "output_type": "stream",
          "name": "stderr",
          "text": [
            "938it [00:15, 61.86it/s]\n",
            "157it [00:01, 97.60it/s]                         \n"
          ]
        },
        {
          "output_type": "stream",
          "name": "stdout",
          "text": [
            "Train Loss: 11473.2856\n",
            "Val Loss: 11074.1469\n",
            "Epoch 3 of 100\n"
          ]
        },
        {
          "output_type": "stream",
          "name": "stderr",
          "text": [
            "938it [00:15, 60.34it/s]                         \n",
            "157it [00:01, 97.33it/s]                         \n"
          ]
        },
        {
          "output_type": "stream",
          "name": "stdout",
          "text": [
            "Train Loss: 10811.8939\n",
            "Val Loss: 10474.2668\n",
            "Epoch 4 of 100\n"
          ]
        },
        {
          "output_type": "stream",
          "name": "stderr",
          "text": [
            "938it [00:14, 62.98it/s]                         \n",
            "157it [00:01, 96.73it/s]                         \n"
          ]
        },
        {
          "output_type": "stream",
          "name": "stdout",
          "text": [
            "Train Loss: 10485.3948\n",
            "Val Loss: 10354.4504\n",
            "Epoch 5 of 100\n"
          ]
        },
        {
          "output_type": "stream",
          "name": "stderr",
          "text": [
            "938it [00:15, 60.30it/s]\n",
            "157it [00:01, 99.08it/s]                          \n"
          ]
        },
        {
          "output_type": "stream",
          "name": "stdout",
          "text": [
            "Train Loss: 10362.3855\n",
            "Val Loss: 10211.4170\n",
            "Epoch 6 of 100\n"
          ]
        },
        {
          "output_type": "stream",
          "name": "stderr",
          "text": [
            "938it [00:14, 63.06it/s]                         \n",
            "157it [00:01, 93.94it/s]                         \n"
          ]
        },
        {
          "output_type": "stream",
          "name": "stdout",
          "text": [
            "Train Loss: 10289.4507\n",
            "Val Loss: 10163.3461\n",
            "Epoch 7 of 100\n"
          ]
        },
        {
          "output_type": "stream",
          "name": "stderr",
          "text": [
            "938it [00:15, 59.04it/s]\n",
            "157it [00:01, 95.89it/s]                         \n"
          ]
        },
        {
          "output_type": "stream",
          "name": "stdout",
          "text": [
            "Train Loss: 10231.7564\n",
            "Val Loss: 10168.3119\n",
            "Epoch 8 of 100\n"
          ]
        },
        {
          "output_type": "stream",
          "name": "stderr",
          "text": [
            "938it [00:16, 55.79it/s]                         \n",
            "157it [00:01, 96.45it/s]                         \n"
          ]
        },
        {
          "output_type": "stream",
          "name": "stdout",
          "text": [
            "Train Loss: 10189.7020\n",
            "Val Loss: 10133.2991\n",
            "Epoch 9 of 100\n"
          ]
        },
        {
          "output_type": "stream",
          "name": "stderr",
          "text": [
            "938it [00:15, 60.68it/s]                         \n",
            "157it [00:01, 83.63it/s]                         \n"
          ]
        },
        {
          "output_type": "stream",
          "name": "stdout",
          "text": [
            "Train Loss: 10153.4505\n",
            "Val Loss: 10069.6244\n",
            "Epoch 10 of 100\n"
          ]
        },
        {
          "output_type": "stream",
          "name": "stderr",
          "text": [
            "938it [00:15, 62.50it/s]                         \n",
            "157it [00:01, 96.76it/s]                         \n"
          ]
        },
        {
          "output_type": "stream",
          "name": "stdout",
          "text": [
            "Train Loss: 10116.3014\n",
            "Val Loss: 10054.5824\n",
            "Epoch 11 of 100\n"
          ]
        },
        {
          "output_type": "stream",
          "name": "stderr",
          "text": [
            "938it [00:14, 62.59it/s]                         \n",
            "157it [00:01, 96.06it/s]                         \n"
          ]
        },
        {
          "output_type": "stream",
          "name": "stdout",
          "text": [
            "Train Loss: 10024.5085\n",
            "Val Loss: 9914.4110\n",
            "Epoch 12 of 100\n"
          ]
        },
        {
          "output_type": "stream",
          "name": "stderr",
          "text": [
            "938it [00:15, 59.80it/s]                         \n",
            "157it [00:01, 96.66it/s]                         \n"
          ]
        },
        {
          "output_type": "stream",
          "name": "stdout",
          "text": [
            "Train Loss: 9951.5011\n",
            "Val Loss: 9878.7202\n",
            "Epoch 13 of 100\n"
          ]
        },
        {
          "output_type": "stream",
          "name": "stderr",
          "text": [
            "938it [00:14, 62.90it/s]                         \n",
            "157it [00:01, 95.48it/s]                         \n"
          ]
        },
        {
          "output_type": "stream",
          "name": "stdout",
          "text": [
            "Train Loss: 9911.5238\n",
            "Val Loss: 9851.8873\n",
            "Epoch 14 of 100\n"
          ]
        },
        {
          "output_type": "stream",
          "name": "stderr",
          "text": [
            "938it [00:15, 60.07it/s]                         \n",
            "157it [00:01, 96.14it/s]                         \n"
          ]
        },
        {
          "output_type": "stream",
          "name": "stdout",
          "text": [
            "Train Loss: 9888.1015\n",
            "Val Loss: 9828.7484\n",
            "Epoch 15 of 100\n"
          ]
        },
        {
          "output_type": "stream",
          "name": "stderr",
          "text": [
            "938it [00:14, 63.09it/s]                         \n",
            "157it [00:01, 96.92it/s]                         \n"
          ]
        },
        {
          "output_type": "stream",
          "name": "stdout",
          "text": [
            "Train Loss: 9867.1222\n",
            "Val Loss: 9814.4015\n",
            "Epoch 16 of 100\n"
          ]
        },
        {
          "output_type": "stream",
          "name": "stderr",
          "text": [
            "938it [00:15, 60.19it/s]\n",
            "157it [00:01, 98.71it/s]                         \n"
          ]
        },
        {
          "output_type": "stream",
          "name": "stdout",
          "text": [
            "Train Loss: 9844.3417\n",
            "Val Loss: 9815.5398\n",
            "Epoch 17 of 100\n"
          ]
        },
        {
          "output_type": "stream",
          "name": "stderr",
          "text": [
            "938it [00:14, 63.16it/s]                         \n",
            "157it [00:01, 98.48it/s]                         \n"
          ]
        },
        {
          "output_type": "stream",
          "name": "stdout",
          "text": [
            "Train Loss: 9834.2808\n",
            "Val Loss: 9799.4648\n",
            "Epoch 18 of 100\n"
          ]
        },
        {
          "output_type": "stream",
          "name": "stderr",
          "text": [
            "938it [00:15, 62.38it/s]                         \n",
            "157it [00:02, 70.65it/s]                         \n"
          ]
        },
        {
          "output_type": "stream",
          "name": "stdout",
          "text": [
            "Train Loss: 9818.5048\n",
            "Val Loss: 9848.5401\n",
            "Epoch 19 of 100\n"
          ]
        },
        {
          "output_type": "stream",
          "name": "stderr",
          "text": [
            "938it [00:14, 63.44it/s]                         \n",
            "157it [00:01, 96.50it/s]                         \n"
          ]
        },
        {
          "output_type": "stream",
          "name": "stdout",
          "text": [
            "Train Loss: 9801.9618\n",
            "Val Loss: 9754.0937\n",
            "Epoch 20 of 100\n"
          ]
        },
        {
          "output_type": "stream",
          "name": "stderr",
          "text": [
            "938it [00:14, 63.14it/s]                         \n",
            "157it [00:01, 96.24it/s]                         \n"
          ]
        },
        {
          "output_type": "stream",
          "name": "stdout",
          "text": [
            "Train Loss: 9792.5443\n",
            "Val Loss: 9738.2581\n",
            "Epoch 21 of 100\n"
          ]
        },
        {
          "output_type": "stream",
          "name": "stderr",
          "text": [
            "938it [00:17, 54.76it/s]                         \n",
            "157it [00:01, 97.47it/s]                         \n"
          ]
        },
        {
          "output_type": "stream",
          "name": "stdout",
          "text": [
            "Train Loss: 9777.0908\n",
            "Val Loss: 9737.9170\n",
            "Epoch 22 of 100\n"
          ]
        },
        {
          "output_type": "stream",
          "name": "stderr",
          "text": [
            "938it [00:14, 63.19it/s]\n",
            "157it [00:01, 97.34it/s]                         \n"
          ]
        },
        {
          "output_type": "stream",
          "name": "stdout",
          "text": [
            "Train Loss: 9766.6120\n",
            "Val Loss: 9716.3913\n",
            "Epoch 23 of 100\n"
          ]
        },
        {
          "output_type": "stream",
          "name": "stderr",
          "text": [
            "938it [00:15, 60.07it/s]                         \n",
            "157it [00:01, 97.96it/s] \n"
          ]
        },
        {
          "output_type": "stream",
          "name": "stdout",
          "text": [
            "Train Loss: 9760.7452\n",
            "Val Loss: 9692.5307\n",
            "Epoch 24 of 100\n"
          ]
        },
        {
          "output_type": "stream",
          "name": "stderr",
          "text": [
            "938it [00:14, 63.31it/s]\n",
            "157it [00:01, 98.21it/s]                         \n"
          ]
        },
        {
          "output_type": "stream",
          "name": "stdout",
          "text": [
            "Train Loss: 9748.5034\n",
            "Val Loss: 9739.5230\n",
            "Epoch 25 of 100\n"
          ]
        },
        {
          "output_type": "stream",
          "name": "stderr",
          "text": [
            "938it [00:15, 60.25it/s]                         \n",
            "157it [00:01, 97.47it/s]                         \n"
          ]
        },
        {
          "output_type": "stream",
          "name": "stdout",
          "text": [
            "Train Loss: 9739.0081\n",
            "Val Loss: 9690.5764\n",
            "Epoch 26 of 100\n"
          ]
        },
        {
          "output_type": "stream",
          "name": "stderr",
          "text": [
            "938it [00:14, 63.44it/s]\n",
            "157it [00:01, 97.55it/s]                         \n"
          ]
        },
        {
          "output_type": "stream",
          "name": "stdout",
          "text": [
            "Train Loss: 9731.5756\n",
            "Val Loss: 9710.2220\n",
            "Epoch 27 of 100\n"
          ]
        },
        {
          "output_type": "stream",
          "name": "stderr",
          "text": [
            "938it [00:15, 61.23it/s]                         \n",
            "157it [00:01, 83.37it/s]                         \n"
          ]
        },
        {
          "output_type": "stream",
          "name": "stdout",
          "text": [
            "Train Loss: 9725.0214\n",
            "Val Loss: 9699.6146\n",
            "Epoch 28 of 100\n"
          ]
        },
        {
          "output_type": "stream",
          "name": "stderr",
          "text": [
            "938it [00:14, 63.36it/s]\n",
            "157it [00:01, 95.99it/s]                         \n"
          ]
        },
        {
          "output_type": "stream",
          "name": "stdout",
          "text": [
            "Train Loss: 9717.9287\n",
            "Val Loss: 9713.2899\n",
            "Epoch 29 of 100\n"
          ]
        },
        {
          "output_type": "stream",
          "name": "stderr",
          "text": [
            "938it [00:14, 63.26it/s]\n",
            "157it [00:01, 95.55it/s]                         \n"
          ]
        },
        {
          "output_type": "stream",
          "name": "stdout",
          "text": [
            "Train Loss: 9713.0721\n",
            "Val Loss: 9716.7364\n",
            "Epoch 30 of 100\n"
          ]
        },
        {
          "output_type": "stream",
          "name": "stderr",
          "text": [
            "938it [00:15, 60.50it/s]                         \n",
            "157it [00:01, 97.01it/s]                         \n"
          ]
        },
        {
          "output_type": "stream",
          "name": "stdout",
          "text": [
            "Train Loss: 9704.0334\n",
            "Val Loss: 9696.6939\n",
            "Epoch 31 of 100\n"
          ]
        },
        {
          "output_type": "stream",
          "name": "stderr",
          "text": [
            "938it [00:14, 63.40it/s]                         \n",
            "157it [00:01, 96.41it/s]                         \n"
          ]
        },
        {
          "output_type": "stream",
          "name": "stdout",
          "text": [
            "Train Loss: 9698.9785\n",
            "Val Loss: 9700.2942\n",
            "Epoch 32 of 100\n"
          ]
        },
        {
          "output_type": "stream",
          "name": "stderr",
          "text": [
            "938it [00:15, 60.76it/s]                         \n",
            "157it [00:01, 97.06it/s]                         \n"
          ]
        },
        {
          "output_type": "stream",
          "name": "stdout",
          "text": [
            "Train Loss: 9694.9558\n",
            "Val Loss: 9668.8640\n",
            "Epoch 33 of 100\n"
          ]
        },
        {
          "output_type": "stream",
          "name": "stderr",
          "text": [
            "938it [00:16, 56.44it/s]                         \n",
            "157it [00:01, 97.72it/s]                         \n"
          ]
        },
        {
          "output_type": "stream",
          "name": "stdout",
          "text": [
            "Train Loss: 9689.5250\n",
            "Val Loss: 9679.9495\n",
            "Epoch 34 of 100\n"
          ]
        },
        {
          "output_type": "stream",
          "name": "stderr",
          "text": [
            "938it [00:15, 60.40it/s]\n",
            "157it [00:01, 97.90it/s]                         \n"
          ]
        },
        {
          "output_type": "stream",
          "name": "stdout",
          "text": [
            "Train Loss: 9681.0010\n",
            "Val Loss: 9640.9865\n",
            "Epoch 35 of 100\n"
          ]
        },
        {
          "output_type": "stream",
          "name": "stderr",
          "text": [
            "938it [00:14, 63.61it/s]\n",
            "157it [00:01, 100.99it/s]                         \n"
          ]
        },
        {
          "output_type": "stream",
          "name": "stdout",
          "text": [
            "Train Loss: 9676.3941\n",
            "Val Loss: 9644.1670\n",
            "Epoch 36 of 100\n"
          ]
        },
        {
          "output_type": "stream",
          "name": "stderr",
          "text": [
            "938it [00:14, 63.53it/s]                         \n",
            "157it [00:02, 72.24it/s]                         \n"
          ]
        },
        {
          "output_type": "stream",
          "name": "stdout",
          "text": [
            "Train Loss: 9672.8678\n",
            "Val Loss: 9648.5365\n",
            "Epoch 37 of 100\n"
          ]
        },
        {
          "output_type": "stream",
          "name": "stderr",
          "text": [
            "938it [00:15, 62.45it/s]                         \n",
            "157it [00:01, 97.18it/s]                         \n"
          ]
        },
        {
          "output_type": "stream",
          "name": "stdout",
          "text": [
            "Train Loss: 9667.4459\n",
            "Val Loss: 9685.5163\n",
            "Epoch 38 of 100\n"
          ]
        },
        {
          "output_type": "stream",
          "name": "stderr",
          "text": [
            "938it [00:14, 63.58it/s]\n",
            "157it [00:01, 97.48it/s]                         \n"
          ]
        },
        {
          "output_type": "stream",
          "name": "stdout",
          "text": [
            "Train Loss: 9663.0477\n",
            "Val Loss: 9648.9279\n",
            "Epoch 39 of 100\n"
          ]
        },
        {
          "output_type": "stream",
          "name": "stderr",
          "text": [
            "938it [00:15, 60.14it/s]                         \n",
            "157it [00:01, 96.55it/s]                         \n"
          ]
        },
        {
          "output_type": "stream",
          "name": "stdout",
          "text": [
            "Train Loss: 9659.7687\n",
            "Val Loss: 9639.9745\n",
            "Epoch 40 of 100\n"
          ]
        },
        {
          "output_type": "stream",
          "name": "stderr",
          "text": [
            "938it [00:14, 63.54it/s]\n",
            "157it [00:01, 98.74it/s]                         \n"
          ]
        },
        {
          "output_type": "stream",
          "name": "stdout",
          "text": [
            "Train Loss: 9656.5616\n",
            "Val Loss: 9661.6535\n",
            "Epoch 41 of 100\n"
          ]
        },
        {
          "output_type": "stream",
          "name": "stderr",
          "text": [
            "938it [00:15, 60.92it/s]                         \n",
            "157it [00:01, 97.39it/s]                         \n"
          ]
        },
        {
          "output_type": "stream",
          "name": "stdout",
          "text": [
            "Train Loss: 9650.0394\n",
            "Val Loss: 9667.8460\n",
            "Epoch 42 of 100\n"
          ]
        },
        {
          "output_type": "stream",
          "name": "stderr",
          "text": [
            "938it [00:14, 63.81it/s]\n",
            "157it [00:01, 98.41it/s]\n"
          ]
        },
        {
          "output_type": "stream",
          "name": "stdout",
          "text": [
            "Train Loss: 9649.0561\n",
            "Val Loss: 9675.4286\n",
            "Epoch 43 of 100\n"
          ]
        },
        {
          "output_type": "stream",
          "name": "stderr",
          "text": [
            "938it [00:15, 60.71it/s]                         \n",
            "157it [00:01, 97.31it/s]                         \n"
          ]
        },
        {
          "output_type": "stream",
          "name": "stdout",
          "text": [
            "Train Loss: 9643.2710\n",
            "Val Loss: 9664.3984\n",
            "Epoch 44 of 100\n"
          ]
        },
        {
          "output_type": "stream",
          "name": "stderr",
          "text": [
            "938it [00:14, 63.79it/s]                         \n",
            "157it [00:01, 96.51it/s]                         \n"
          ]
        },
        {
          "output_type": "stream",
          "name": "stdout",
          "text": [
            "Train Loss: 9642.6425\n",
            "Val Loss: 9666.2479\n",
            "Epoch 45 of 100\n"
          ]
        },
        {
          "output_type": "stream",
          "name": "stderr",
          "text": [
            "938it [00:14, 64.07it/s]\n",
            "157it [00:01, 96.06it/s]                         \n"
          ]
        },
        {
          "output_type": "stream",
          "name": "stdout",
          "text": [
            "Train Loss: 9638.3886\n",
            "Val Loss: 9617.6336\n",
            "Epoch 46 of 100\n"
          ]
        },
        {
          "output_type": "stream",
          "name": "stderr",
          "text": [
            "938it [00:17, 55.01it/s]                         \n",
            "157it [00:01, 97.02it/s]                         \n"
          ]
        },
        {
          "output_type": "stream",
          "name": "stdout",
          "text": [
            "Train Loss: 9635.6849\n",
            "Val Loss: 9624.5963\n",
            "Epoch 47 of 100\n"
          ]
        },
        {
          "output_type": "stream",
          "name": "stderr",
          "text": [
            "938it [00:14, 63.50it/s]                         \n",
            "157it [00:01, 97.89it/s]                         \n"
          ]
        },
        {
          "output_type": "stream",
          "name": "stdout",
          "text": [
            "Train Loss: 9633.0265\n",
            "Val Loss: 9659.3954\n",
            "Epoch 48 of 100\n"
          ]
        },
        {
          "output_type": "stream",
          "name": "stderr",
          "text": [
            "938it [00:15, 60.47it/s]                         \n",
            "157it [00:01, 98.60it/s]                          \n"
          ]
        },
        {
          "output_type": "stream",
          "name": "stdout",
          "text": [
            "Train Loss: 9628.5018\n",
            "Val Loss: 9608.7944\n",
            "Epoch 49 of 100\n"
          ]
        },
        {
          "output_type": "stream",
          "name": "stderr",
          "text": [
            "938it [00:14, 63.71it/s]\n",
            "157it [00:01, 98.68it/s]                         \n"
          ]
        },
        {
          "output_type": "stream",
          "name": "stdout",
          "text": [
            "Train Loss: 9627.6409\n",
            "Val Loss: 9671.2633\n",
            "Epoch 50 of 100\n"
          ]
        },
        {
          "output_type": "stream",
          "name": "stderr",
          "text": [
            "938it [00:15, 60.83it/s]\n",
            "157it [00:01, 97.59it/s]                         \n"
          ]
        },
        {
          "output_type": "stream",
          "name": "stdout",
          "text": [
            "Train Loss: 9624.8109\n",
            "Val Loss: 9602.2755\n",
            "Epoch 51 of 100\n"
          ]
        },
        {
          "output_type": "stream",
          "name": "stderr",
          "text": [
            "938it [00:14, 64.09it/s]\n",
            "157it [00:01, 98.61it/s]                         \n"
          ]
        },
        {
          "output_type": "stream",
          "name": "stdout",
          "text": [
            "Train Loss: 9620.3061\n",
            "Val Loss: 9639.9186\n",
            "Epoch 52 of 100\n"
          ]
        },
        {
          "output_type": "stream",
          "name": "stderr",
          "text": [
            "938it [00:15, 60.93it/s]                         \n",
            "157it [00:01, 97.31it/s]                         \n"
          ]
        },
        {
          "output_type": "stream",
          "name": "stdout",
          "text": [
            "Train Loss: 9616.0081\n",
            "Val Loss: 9617.9574\n",
            "Epoch 53 of 100\n"
          ]
        },
        {
          "output_type": "stream",
          "name": "stderr",
          "text": [
            "938it [00:14, 63.71it/s]\n",
            "157it [00:01, 97.95it/s]                         \n"
          ]
        },
        {
          "output_type": "stream",
          "name": "stdout",
          "text": [
            "Train Loss: 9614.4764\n",
            "Val Loss: 9618.6463\n",
            "Epoch 54 of 100\n"
          ]
        },
        {
          "output_type": "stream",
          "name": "stderr",
          "text": [
            "938it [00:14, 63.86it/s]\n",
            "157it [00:01, 96.69it/s]                         \n"
          ]
        },
        {
          "output_type": "stream",
          "name": "stdout",
          "text": [
            "Train Loss: 9614.1861\n",
            "Val Loss: 9640.8504\n",
            "Epoch 55 of 100\n"
          ]
        },
        {
          "output_type": "stream",
          "name": "stderr",
          "text": [
            "938it [00:15, 61.00it/s]                         \n",
            "157it [00:01, 99.65it/s]                         \n"
          ]
        },
        {
          "output_type": "stream",
          "name": "stdout",
          "text": [
            "Train Loss: 9612.5407\n",
            "Val Loss: 9607.9420\n",
            "Epoch 56 of 100\n"
          ]
        },
        {
          "output_type": "stream",
          "name": "stderr",
          "text": [
            "938it [00:14, 63.70it/s]                         \n",
            "157it [00:01, 97.65it/s]                         \n"
          ]
        },
        {
          "output_type": "stream",
          "name": "stdout",
          "text": [
            "Train Loss: 9608.4119\n",
            "Val Loss: 9586.9162\n",
            "Epoch 57 of 100\n"
          ]
        },
        {
          "output_type": "stream",
          "name": "stderr",
          "text": [
            "938it [00:15, 60.66it/s]                         \n",
            "157it [00:01, 98.58it/s]                         \n"
          ]
        },
        {
          "output_type": "stream",
          "name": "stdout",
          "text": [
            "Train Loss: 9604.8068\n",
            "Val Loss: 9602.8365\n",
            "Epoch 58 of 100\n"
          ]
        },
        {
          "output_type": "stream",
          "name": "stderr",
          "text": [
            "938it [00:16, 56.43it/s]                         \n",
            "157it [00:01, 96.93it/s]                         \n"
          ]
        },
        {
          "output_type": "stream",
          "name": "stdout",
          "text": [
            "Train Loss: 9604.0064\n",
            "Val Loss: 9610.2911\n",
            "Epoch 59 of 100\n"
          ]
        },
        {
          "output_type": "stream",
          "name": "stderr",
          "text": [
            "938it [00:15, 60.56it/s]                         \n",
            "157it [00:01, 98.48it/s]                         \n"
          ]
        },
        {
          "output_type": "stream",
          "name": "stdout",
          "text": [
            "Train Loss: 9598.3904\n",
            "Val Loss: 9608.8760\n",
            "Epoch 60 of 100\n"
          ]
        },
        {
          "output_type": "stream",
          "name": "stderr",
          "text": [
            "938it [00:14, 63.81it/s]                         \n",
            "157it [00:01, 96.07it/s]                         \n"
          ]
        },
        {
          "output_type": "stream",
          "name": "stdout",
          "text": [
            "Train Loss: 9600.0545\n",
            "Val Loss: 9597.8800\n",
            "Epoch 61 of 100\n"
          ]
        },
        {
          "output_type": "stream",
          "name": "stderr",
          "text": [
            "938it [00:14, 62.56it/s]                         \n",
            "157it [00:02, 74.96it/s]                         \n"
          ]
        },
        {
          "output_type": "stream",
          "name": "stdout",
          "text": [
            "Train Loss: 9595.4274\n",
            "Val Loss: 9592.4332\n",
            "Epoch 62 of 100\n"
          ]
        },
        {
          "output_type": "stream",
          "name": "stderr",
          "text": [
            "938it [00:14, 64.30it/s]\n",
            "157it [00:01, 98.01it/s]                         \n"
          ]
        },
        {
          "output_type": "stream",
          "name": "stdout",
          "text": [
            "Train Loss: 9595.3827\n",
            "Val Loss: 9592.9979\n",
            "Epoch 63 of 100\n"
          ]
        },
        {
          "output_type": "stream",
          "name": "stderr",
          "text": [
            "938it [00:14, 63.69it/s]\n",
            "157it [00:01, 97.21it/s]                         \n"
          ]
        },
        {
          "output_type": "stream",
          "name": "stdout",
          "text": [
            "Train Loss: 9592.1300\n",
            "Val Loss: 9603.2405\n",
            "Epoch 64 of 100\n"
          ]
        },
        {
          "output_type": "stream",
          "name": "stderr",
          "text": [
            "938it [00:15, 61.04it/s]\n",
            "157it [00:01, 97.16it/s]                         \n"
          ]
        },
        {
          "output_type": "stream",
          "name": "stdout",
          "text": [
            "Train Loss: 9593.4683\n",
            "Val Loss: 9597.6321\n",
            "Epoch 65 of 100\n"
          ]
        },
        {
          "output_type": "stream",
          "name": "stderr",
          "text": [
            "938it [00:14, 63.97it/s]\n",
            "157it [00:01, 97.21it/s]                         \n"
          ]
        },
        {
          "output_type": "stream",
          "name": "stdout",
          "text": [
            "Train Loss: 9586.6213\n",
            "Val Loss: 9598.8432\n",
            "Epoch 66 of 100\n"
          ]
        },
        {
          "output_type": "stream",
          "name": "stderr",
          "text": [
            "938it [00:15, 60.54it/s]                         \n",
            "157it [00:01, 99.71it/s]                         \n"
          ]
        },
        {
          "output_type": "stream",
          "name": "stdout",
          "text": [
            "Train Loss: 9586.5746\n",
            "Val Loss: 9612.6485\n",
            "Epoch 67 of 100\n"
          ]
        },
        {
          "output_type": "stream",
          "name": "stderr",
          "text": [
            "938it [00:14, 63.43it/s]\n",
            "157it [00:01, 98.71it/s]                         \n"
          ]
        },
        {
          "output_type": "stream",
          "name": "stdout",
          "text": [
            "Train Loss: 9586.8942\n",
            "Val Loss: 9603.1324\n",
            "Epoch 68 of 100\n"
          ]
        },
        {
          "output_type": "stream",
          "name": "stderr",
          "text": [
            "938it [00:15, 61.04it/s]                         \n",
            "157it [00:01, 97.59it/s]                         \n"
          ]
        },
        {
          "output_type": "stream",
          "name": "stdout",
          "text": [
            "Train Loss: 9581.6329\n",
            "Val Loss: 9573.6433\n",
            "Epoch 69 of 100\n"
          ]
        },
        {
          "output_type": "stream",
          "name": "stderr",
          "text": [
            "938it [00:14, 64.09it/s]                         \n",
            "157it [00:01, 98.64it/s]                         \n"
          ]
        },
        {
          "output_type": "stream",
          "name": "stdout",
          "text": [
            "Train Loss: 9578.9383\n",
            "Val Loss: 9633.0537\n",
            "Epoch 70 of 100\n"
          ]
        },
        {
          "output_type": "stream",
          "name": "stderr",
          "text": [
            "938it [00:14, 63.98it/s]                         \n",
            "157it [00:02, 71.64it/s]                         \n"
          ]
        },
        {
          "output_type": "stream",
          "name": "stdout",
          "text": [
            "Train Loss: 9579.0328\n",
            "Val Loss: 9600.3889\n",
            "Epoch 71 of 100\n"
          ]
        },
        {
          "output_type": "stream",
          "name": "stderr",
          "text": [
            "938it [00:16, 56.68it/s]\n",
            "157it [00:01, 94.24it/s]                         \n"
          ]
        },
        {
          "output_type": "stream",
          "name": "stdout",
          "text": [
            "Train Loss: 9577.0105\n",
            "Val Loss: 9596.3020\n",
            "Epoch 72 of 100\n"
          ]
        },
        {
          "output_type": "stream",
          "name": "stderr",
          "text": [
            "938it [00:14, 64.05it/s]\n",
            "157it [00:01, 98.79it/s]                         \n"
          ]
        },
        {
          "output_type": "stream",
          "name": "stdout",
          "text": [
            "Train Loss: 9575.5200\n",
            "Val Loss: 9589.8577\n",
            "Epoch 73 of 100\n"
          ]
        },
        {
          "output_type": "stream",
          "name": "stderr",
          "text": [
            "938it [00:15, 61.23it/s]                         \n",
            "157it [00:01, 97.11it/s]                         \n"
          ]
        },
        {
          "output_type": "stream",
          "name": "stdout",
          "text": [
            "Train Loss: 9574.8971\n",
            "Val Loss: 9586.8671\n",
            "Epoch 74 of 100\n"
          ]
        },
        {
          "output_type": "stream",
          "name": "stderr",
          "text": [
            "938it [00:14, 63.86it/s]\n",
            "157it [00:01, 98.13it/s]                         \n"
          ]
        },
        {
          "output_type": "stream",
          "name": "stdout",
          "text": [
            "Train Loss: 9572.6823\n",
            "Val Loss: 9622.4670\n",
            "Epoch 75 of 100\n"
          ]
        },
        {
          "output_type": "stream",
          "name": "stderr",
          "text": [
            "938it [00:15, 61.04it/s]\n",
            "157it [00:01, 98.95it/s]                         \n"
          ]
        },
        {
          "output_type": "stream",
          "name": "stdout",
          "text": [
            "Train Loss: 9572.4891\n",
            "Val Loss: 9573.6563\n",
            "Epoch 76 of 100\n"
          ]
        },
        {
          "output_type": "stream",
          "name": "stderr",
          "text": [
            "938it [00:14, 63.57it/s]\n",
            "157it [00:01, 98.30it/s]                         \n"
          ]
        },
        {
          "output_type": "stream",
          "name": "stdout",
          "text": [
            "Train Loss: 9565.6699\n",
            "Val Loss: 9574.1462\n",
            "Epoch 77 of 100\n"
          ]
        },
        {
          "output_type": "stream",
          "name": "stderr",
          "text": [
            "938it [00:15, 60.80it/s]                         \n",
            "157it [00:01, 96.24it/s]                         \n"
          ]
        },
        {
          "output_type": "stream",
          "name": "stdout",
          "text": [
            "Train Loss: 9566.3696\n",
            "Val Loss: 9560.9101\n",
            "Epoch 78 of 100\n"
          ]
        },
        {
          "output_type": "stream",
          "name": "stderr",
          "text": [
            "938it [00:14, 62.76it/s]\n",
            "157it [00:01, 96.24it/s]                         \n"
          ]
        },
        {
          "output_type": "stream",
          "name": "stdout",
          "text": [
            "Train Loss: 9567.3153\n",
            "Val Loss: 9575.2215\n",
            "Epoch 79 of 100\n"
          ]
        },
        {
          "output_type": "stream",
          "name": "stderr",
          "text": [
            "938it [00:15, 62.40it/s]\n",
            "157it [00:01, 95.49it/s]                         \n"
          ]
        },
        {
          "output_type": "stream",
          "name": "stdout",
          "text": [
            "Train Loss: 9565.0600\n",
            "Val Loss: 9601.3575\n",
            "Epoch 80 of 100\n"
          ]
        },
        {
          "output_type": "stream",
          "name": "stderr",
          "text": [
            "938it [00:15, 59.32it/s]                         \n",
            "157it [00:01, 94.48it/s]                         \n"
          ]
        },
        {
          "output_type": "stream",
          "name": "stdout",
          "text": [
            "Train Loss: 9565.2445\n",
            "Val Loss: 9592.7340\n",
            "Epoch 81 of 100\n"
          ]
        },
        {
          "output_type": "stream",
          "name": "stderr",
          "text": [
            "938it [00:15, 62.50it/s]\n",
            "157it [00:01, 95.59it/s]                         \n"
          ]
        },
        {
          "output_type": "stream",
          "name": "stdout",
          "text": [
            "Train Loss: 9559.6222\n",
            "Val Loss: 9569.9101\n",
            "Epoch 82 of 100\n"
          ]
        },
        {
          "output_type": "stream",
          "name": "stderr",
          "text": [
            "938it [00:15, 60.18it/s]                         \n",
            "157it [00:01, 97.65it/s]                         \n"
          ]
        },
        {
          "output_type": "stream",
          "name": "stdout",
          "text": [
            "Train Loss: 9562.9211\n",
            "Val Loss: 9577.6132\n",
            "Epoch 83 of 100\n"
          ]
        },
        {
          "output_type": "stream",
          "name": "stderr",
          "text": [
            "938it [00:14, 62.70it/s]\n",
            "157it [00:01, 95.53it/s]                         \n"
          ]
        },
        {
          "output_type": "stream",
          "name": "stdout",
          "text": [
            "Train Loss: 9558.4138\n",
            "Val Loss: 9556.1958\n",
            "Epoch 84 of 100\n"
          ]
        },
        {
          "output_type": "stream",
          "name": "stderr",
          "text": [
            "938it [00:17, 54.41it/s]                         \n",
            "157it [00:01, 96.39it/s]                         \n"
          ]
        },
        {
          "output_type": "stream",
          "name": "stdout",
          "text": [
            "Train Loss: 9558.4629\n",
            "Val Loss: 9585.2922\n",
            "Epoch 85 of 100\n"
          ]
        },
        {
          "output_type": "stream",
          "name": "stderr",
          "text": [
            "938it [00:14, 63.78it/s]\n",
            "157it [00:01, 99.19it/s]                         \n"
          ]
        },
        {
          "output_type": "stream",
          "name": "stdout",
          "text": [
            "Train Loss: 9553.5627\n",
            "Val Loss: 9581.1611\n",
            "Epoch 86 of 100\n"
          ]
        },
        {
          "output_type": "stream",
          "name": "stderr",
          "text": [
            "938it [00:15, 60.49it/s]                         \n",
            "157it [00:01, 97.72it/s]                         \n"
          ]
        },
        {
          "output_type": "stream",
          "name": "stdout",
          "text": [
            "Train Loss: 9556.1239\n",
            "Val Loss: 9572.2622\n",
            "Epoch 87 of 100\n"
          ]
        },
        {
          "output_type": "stream",
          "name": "stderr",
          "text": [
            "938it [00:14, 63.29it/s]                         \n",
            "157it [00:01, 97.78it/s]                         \n"
          ]
        },
        {
          "output_type": "stream",
          "name": "stdout",
          "text": [
            "Train Loss: 9554.5700\n",
            "Val Loss: 9599.5976\n",
            "Epoch 88 of 100\n"
          ]
        },
        {
          "output_type": "stream",
          "name": "stderr",
          "text": [
            "938it [00:14, 62.92it/s]                         \n",
            "157it [00:02, 71.02it/s]                         \n"
          ]
        },
        {
          "output_type": "stream",
          "name": "stdout",
          "text": [
            "Train Loss: 9548.0722\n",
            "Val Loss: 9566.1095\n",
            "Epoch 89 of 100\n"
          ]
        },
        {
          "output_type": "stream",
          "name": "stderr",
          "text": [
            "938it [00:14, 63.01it/s]                         \n",
            "157it [00:01, 98.97it/s]                         \n"
          ]
        },
        {
          "output_type": "stream",
          "name": "stdout",
          "text": [
            "Train Loss: 9549.9061\n",
            "Val Loss: 9570.7033\n",
            "Epoch 90 of 100\n"
          ]
        },
        {
          "output_type": "stream",
          "name": "stderr",
          "text": [
            "938it [00:14, 63.26it/s]                         \n",
            "157it [00:01, 98.20it/s]                         \n"
          ]
        },
        {
          "output_type": "stream",
          "name": "stdout",
          "text": [
            "Train Loss: 9549.9153\n",
            "Val Loss: 9571.3019\n",
            "Epoch 91 of 100\n"
          ]
        },
        {
          "output_type": "stream",
          "name": "stderr",
          "text": [
            "938it [00:15, 60.48it/s]                         \n",
            "157it [00:01, 96.27it/s]                         \n"
          ]
        },
        {
          "output_type": "stream",
          "name": "stdout",
          "text": [
            "Train Loss: 9546.1497\n",
            "Val Loss: 9547.0320\n",
            "Epoch 92 of 100\n"
          ]
        },
        {
          "output_type": "stream",
          "name": "stderr",
          "text": [
            "938it [00:14, 63.94it/s]\n",
            "157it [00:01, 98.05it/s]                         \n"
          ]
        },
        {
          "output_type": "stream",
          "name": "stdout",
          "text": [
            "Train Loss: 9546.6362\n",
            "Val Loss: 9567.8399\n",
            "Epoch 93 of 100\n"
          ]
        },
        {
          "output_type": "stream",
          "name": "stderr",
          "text": [
            "938it [00:15, 60.74it/s]                         \n",
            "157it [00:01, 97.64it/s]                         \n"
          ]
        },
        {
          "output_type": "stream",
          "name": "stdout",
          "text": [
            "Train Loss: 9546.9055\n",
            "Val Loss: 9574.4108\n",
            "Epoch 94 of 100\n"
          ]
        },
        {
          "output_type": "stream",
          "name": "stderr",
          "text": [
            "938it [00:14, 63.61it/s]\n",
            "157it [00:01, 96.81it/s]                         \n"
          ]
        },
        {
          "output_type": "stream",
          "name": "stdout",
          "text": [
            "Train Loss: 9542.5646\n",
            "Val Loss: 9558.7976\n",
            "Epoch 95 of 100\n"
          ]
        },
        {
          "output_type": "stream",
          "name": "stderr",
          "text": [
            "938it [00:15, 60.51it/s]                         \n",
            "157it [00:01, 96.37it/s]                         \n"
          ]
        },
        {
          "output_type": "stream",
          "name": "stdout",
          "text": [
            "Train Loss: 9543.6513\n",
            "Val Loss: 9543.7586\n",
            "Epoch 96 of 100\n"
          ]
        },
        {
          "output_type": "stream",
          "name": "stderr",
          "text": [
            "938it [00:16, 56.14it/s]                         \n",
            "157it [00:01, 97.40it/s]                         \n"
          ]
        },
        {
          "output_type": "stream",
          "name": "stdout",
          "text": [
            "Train Loss: 9544.5307\n",
            "Val Loss: 9563.7493\n",
            "Epoch 97 of 100\n"
          ]
        },
        {
          "output_type": "stream",
          "name": "stderr",
          "text": [
            "938it [00:14, 63.58it/s]\n",
            "157it [00:02, 77.52it/s]                         \n"
          ]
        },
        {
          "output_type": "stream",
          "name": "stdout",
          "text": [
            "Train Loss: 9542.3376\n",
            "Val Loss: 9550.1833\n",
            "Epoch 98 of 100\n"
          ]
        },
        {
          "output_type": "stream",
          "name": "stderr",
          "text": [
            "938it [00:15, 62.11it/s]                         \n",
            "157it [00:01, 96.26it/s]                         \n"
          ]
        },
        {
          "output_type": "stream",
          "name": "stdout",
          "text": [
            "Train Loss: 9541.0818\n",
            "Val Loss: 9561.6578\n",
            "Epoch 99 of 100\n"
          ]
        },
        {
          "output_type": "stream",
          "name": "stderr",
          "text": [
            "938it [00:14, 64.00it/s]\n",
            "157it [00:01, 99.00it/s]                         \n"
          ]
        },
        {
          "output_type": "stream",
          "name": "stdout",
          "text": [
            "Train Loss: 9540.3129\n",
            "Val Loss: 9558.2521\n",
            "Epoch 100 of 100\n"
          ]
        },
        {
          "output_type": "stream",
          "name": "stderr",
          "text": [
            "938it [00:15, 60.58it/s]                         \n",
            "157it [00:01, 97.30it/s]                         "
          ]
        },
        {
          "output_type": "stream",
          "name": "stdout",
          "text": [
            "Train Loss: 9538.7081\n",
            "Val Loss: 9561.1383\n",
            "Total time: 1695.400s\n"
          ]
        },
        {
          "output_type": "stream",
          "name": "stderr",
          "text": [
            "\n"
          ]
        }
      ]
    },
    {
      "cell_type": "code",
      "source": [
        "import time\n",
        "start_time = time.time()\n",
        "\n",
        "lr = 0.002\n",
        "batch_size = 128\n",
        "\n",
        "train_loss = []\n",
        "valid_loss = []\n",
        "for epoch in range(epochs):\n",
        "    print(f\"Epoch {epoch+1} of {epochs}\")\n",
        "    train_epoch_loss = train(\n",
        "        model, trainloader, trainset, device, optimizer, criterion\n",
        "    )\n",
        "    valid_epoch_loss = validate(\n",
        "        model, testloader, testset, device, criterion\n",
        "    )\n",
        "    train_loss.append(train_epoch_loss)\n",
        "    valid_loss.append(valid_epoch_loss)\n",
        "\n",
        "    print(f\"Train Loss: {train_epoch_loss:.4f}\")\n",
        "    print(f\"Val Loss: {valid_epoch_loss:.4f}\")\n",
        "\n",
        "print('Total time: {:.3f}s'.format(time.time() - start_time))"
      ],
      "metadata": {
        "colab": {
          "base_uri": "https://localhost:8080/"
        },
        "id": "NUTxjDyMx6nm",
        "outputId": "bfd9c039-8645-41bc-f6d6-2a4d676841f0"
      },
      "execution_count": 13,
      "outputs": [
        {
          "output_type": "stream",
          "name": "stdout",
          "text": [
            "Epoch 1 of 100\n"
          ]
        },
        {
          "output_type": "stream",
          "name": "stderr",
          "text": [
            "469it [00:12, 36.61it/s]                         \n",
            "79it [00:01, 53.96it/s]                        \n"
          ]
        },
        {
          "output_type": "stream",
          "name": "stdout",
          "text": [
            "Train Loss: 35841.1689\n",
            "Val Loss: 29091.4053\n",
            "Epoch 2 of 100\n"
          ]
        },
        {
          "output_type": "stream",
          "name": "stderr",
          "text": [
            "469it [00:12, 38.71it/s]                         \n",
            "79it [00:01, 54.04it/s]                        \n"
          ]
        },
        {
          "output_type": "stream",
          "name": "stdout",
          "text": [
            "Train Loss: 25743.0575\n",
            "Val Loss: 23160.1966\n",
            "Epoch 3 of 100\n"
          ]
        },
        {
          "output_type": "stream",
          "name": "stderr",
          "text": [
            "469it [00:12, 38.98it/s]                         \n",
            "79it [00:01, 54.26it/s]                        \n"
          ]
        },
        {
          "output_type": "stream",
          "name": "stdout",
          "text": [
            "Train Loss: 22804.9781\n",
            "Val Loss: 22091.6339\n",
            "Epoch 4 of 100\n"
          ]
        },
        {
          "output_type": "stream",
          "name": "stderr",
          "text": [
            "469it [00:12, 36.27it/s]                         \n",
            "79it [00:01, 53.18it/s]                        \n"
          ]
        },
        {
          "output_type": "stream",
          "name": "stdout",
          "text": [
            "Train Loss: 22247.8616\n",
            "Val Loss: 21873.8327\n",
            "Epoch 5 of 100\n"
          ]
        },
        {
          "output_type": "stream",
          "name": "stderr",
          "text": [
            "469it [00:12, 38.31it/s]\n",
            "79it [00:01, 53.15it/s]                        \n"
          ]
        },
        {
          "output_type": "stream",
          "name": "stdout",
          "text": [
            "Train Loss: 21956.4236\n",
            "Val Loss: 21629.2794\n",
            "Epoch 6 of 100\n"
          ]
        },
        {
          "output_type": "stream",
          "name": "stderr",
          "text": [
            "469it [00:12, 38.51it/s]                         \n",
            "79it [00:01, 53.57it/s]                        \n"
          ]
        },
        {
          "output_type": "stream",
          "name": "stdout",
          "text": [
            "Train Loss: 21778.4737\n",
            "Val Loss: 21393.8246\n",
            "Epoch 7 of 100\n"
          ]
        },
        {
          "output_type": "stream",
          "name": "stderr",
          "text": [
            "469it [00:12, 36.29it/s]                         \n",
            "79it [00:01, 54.45it/s]                        \n"
          ]
        },
        {
          "output_type": "stream",
          "name": "stdout",
          "text": [
            "Train Loss: 21635.3604\n",
            "Val Loss: 21296.5063\n",
            "Epoch 8 of 100\n"
          ]
        },
        {
          "output_type": "stream",
          "name": "stderr",
          "text": [
            "469it [00:13, 34.38it/s]                         \n",
            "79it [00:01, 54.32it/s]                        \n"
          ]
        },
        {
          "output_type": "stream",
          "name": "stdout",
          "text": [
            "Train Loss: 21532.4567\n",
            "Val Loss: 21239.5256\n",
            "Epoch 9 of 100\n"
          ]
        },
        {
          "output_type": "stream",
          "name": "stderr",
          "text": [
            "469it [00:12, 38.53it/s]                         \n",
            "79it [00:02, 39.22it/s]                        \n"
          ]
        },
        {
          "output_type": "stream",
          "name": "stdout",
          "text": [
            "Train Loss: 21457.8101\n",
            "Val Loss: 21277.8454\n",
            "Epoch 10 of 100\n"
          ]
        },
        {
          "output_type": "stream",
          "name": "stderr",
          "text": [
            "469it [00:12, 37.81it/s]                         \n",
            "79it [00:01, 53.42it/s]                        \n"
          ]
        },
        {
          "output_type": "stream",
          "name": "stdout",
          "text": [
            "Train Loss: 21369.8300\n",
            "Val Loss: 21121.1753\n",
            "Epoch 11 of 100\n"
          ]
        },
        {
          "output_type": "stream",
          "name": "stderr",
          "text": [
            "469it [00:12, 38.51it/s]                         \n",
            "79it [00:01, 54.31it/s]                        \n"
          ]
        },
        {
          "output_type": "stream",
          "name": "stdout",
          "text": [
            "Train Loss: 21291.6648\n",
            "Val Loss: 20972.1352\n",
            "Epoch 12 of 100\n"
          ]
        },
        {
          "output_type": "stream",
          "name": "stderr",
          "text": [
            "469it [00:12, 38.65it/s]                         \n",
            "79it [00:02, 37.00it/s]                        \n"
          ]
        },
        {
          "output_type": "stream",
          "name": "stdout",
          "text": [
            "Train Loss: 20976.7720\n",
            "Val Loss: 20660.4877\n",
            "Epoch 13 of 100\n"
          ]
        },
        {
          "output_type": "stream",
          "name": "stderr",
          "text": [
            "469it [00:12, 38.16it/s]                         \n",
            "79it [00:01, 54.45it/s]                        \n"
          ]
        },
        {
          "output_type": "stream",
          "name": "stdout",
          "text": [
            "Train Loss: 20813.1513\n",
            "Val Loss: 20602.1571\n",
            "Epoch 14 of 100\n"
          ]
        },
        {
          "output_type": "stream",
          "name": "stderr",
          "text": [
            "469it [00:12, 38.66it/s]\n",
            "79it [00:01, 53.28it/s]                        \n"
          ]
        },
        {
          "output_type": "stream",
          "name": "stdout",
          "text": [
            "Train Loss: 20722.2826\n",
            "Val Loss: 20456.6200\n",
            "Epoch 15 of 100\n"
          ]
        },
        {
          "output_type": "stream",
          "name": "stderr",
          "text": [
            "469it [00:12, 37.33it/s]                         \n",
            "79it [00:01, 40.65it/s]                        \n"
          ]
        },
        {
          "output_type": "stream",
          "name": "stdout",
          "text": [
            "Train Loss: 20642.5389\n",
            "Val Loss: 20446.9796\n",
            "Epoch 16 of 100\n"
          ]
        },
        {
          "output_type": "stream",
          "name": "stderr",
          "text": [
            "469it [00:12, 38.58it/s]                         \n",
            "79it [00:01, 54.06it/s]                        \n"
          ]
        },
        {
          "output_type": "stream",
          "name": "stdout",
          "text": [
            "Train Loss: 20588.5556\n",
            "Val Loss: 20321.0113\n",
            "Epoch 17 of 100\n"
          ]
        },
        {
          "output_type": "stream",
          "name": "stderr",
          "text": [
            "469it [00:12, 38.48it/s]\n",
            "79it [00:01, 53.71it/s]                        \n"
          ]
        },
        {
          "output_type": "stream",
          "name": "stdout",
          "text": [
            "Train Loss: 20422.4354\n",
            "Val Loss: 20104.5943\n",
            "Epoch 18 of 100\n"
          ]
        },
        {
          "output_type": "stream",
          "name": "stderr",
          "text": [
            "469it [00:12, 37.45it/s]                         \n",
            "79it [00:02, 38.16it/s]                        \n"
          ]
        },
        {
          "output_type": "stream",
          "name": "stdout",
          "text": [
            "Train Loss: 20214.5369\n",
            "Val Loss: 19892.2580\n",
            "Epoch 19 of 100\n"
          ]
        },
        {
          "output_type": "stream",
          "name": "stderr",
          "text": [
            "469it [00:12, 38.25it/s]                         \n",
            "79it [00:01, 53.46it/s]                        \n"
          ]
        },
        {
          "output_type": "stream",
          "name": "stdout",
          "text": [
            "Train Loss: 20105.3388\n",
            "Val Loss: 19872.5878\n",
            "Epoch 20 of 100\n"
          ]
        },
        {
          "output_type": "stream",
          "name": "stderr",
          "text": [
            "469it [00:13, 35.44it/s]                         \n",
            "79it [00:01, 39.95it/s]                        \n"
          ]
        },
        {
          "output_type": "stream",
          "name": "stdout",
          "text": [
            "Train Loss: 20053.0490\n",
            "Val Loss: 19893.0216\n",
            "Epoch 21 of 100\n"
          ]
        },
        {
          "output_type": "stream",
          "name": "stderr",
          "text": [
            "469it [00:12, 36.30it/s]\n",
            "79it [00:01, 52.99it/s]                        \n"
          ]
        },
        {
          "output_type": "stream",
          "name": "stdout",
          "text": [
            "Train Loss: 20000.6571\n",
            "Val Loss: 19761.2405\n",
            "Epoch 22 of 100\n"
          ]
        },
        {
          "output_type": "stream",
          "name": "stderr",
          "text": [
            "469it [00:12, 38.17it/s]                         \n",
            "79it [00:01, 53.24it/s]                        \n"
          ]
        },
        {
          "output_type": "stream",
          "name": "stdout",
          "text": [
            "Train Loss: 19952.6963\n",
            "Val Loss: 19751.2101\n",
            "Epoch 23 of 100\n"
          ]
        },
        {
          "output_type": "stream",
          "name": "stderr",
          "text": [
            "469it [00:12, 38.55it/s]\n",
            "79it [00:01, 54.08it/s]                        \n"
          ]
        },
        {
          "output_type": "stream",
          "name": "stdout",
          "text": [
            "Train Loss: 19926.1527\n",
            "Val Loss: 19732.4670\n",
            "Epoch 24 of 100\n"
          ]
        },
        {
          "output_type": "stream",
          "name": "stderr",
          "text": [
            "469it [00:13, 36.06it/s]                         \n",
            "79it [00:01, 53.63it/s]                        \n"
          ]
        },
        {
          "output_type": "stream",
          "name": "stdout",
          "text": [
            "Train Loss: 19896.2064\n",
            "Val Loss: 19685.2509\n",
            "Epoch 25 of 100\n"
          ]
        },
        {
          "output_type": "stream",
          "name": "stderr",
          "text": [
            "469it [00:12, 38.80it/s]\n",
            "79it [00:01, 53.82it/s]                        \n"
          ]
        },
        {
          "output_type": "stream",
          "name": "stdout",
          "text": [
            "Train Loss: 19860.0010\n",
            "Val Loss: 19674.9782\n",
            "Epoch 26 of 100\n"
          ]
        },
        {
          "output_type": "stream",
          "name": "stderr",
          "text": [
            "469it [00:12, 38.65it/s]                         \n",
            "79it [00:01, 54.21it/s]                        \n"
          ]
        },
        {
          "output_type": "stream",
          "name": "stdout",
          "text": [
            "Train Loss: 19828.8900\n",
            "Val Loss: 19646.4035\n",
            "Epoch 27 of 100\n"
          ]
        },
        {
          "output_type": "stream",
          "name": "stderr",
          "text": [
            "469it [00:12, 36.32it/s]                         \n",
            "79it [00:01, 53.81it/s]                        \n"
          ]
        },
        {
          "output_type": "stream",
          "name": "stdout",
          "text": [
            "Train Loss: 19806.5153\n",
            "Val Loss: 19608.6679\n",
            "Epoch 28 of 100\n"
          ]
        },
        {
          "output_type": "stream",
          "name": "stderr",
          "text": [
            "469it [00:12, 38.40it/s]                         \n",
            "79it [00:01, 54.47it/s]                        \n"
          ]
        },
        {
          "output_type": "stream",
          "name": "stdout",
          "text": [
            "Train Loss: 19788.0829\n",
            "Val Loss: 19590.0587\n",
            "Epoch 29 of 100\n"
          ]
        },
        {
          "output_type": "stream",
          "name": "stderr",
          "text": [
            "469it [00:11, 39.10it/s]                         \n",
            "79it [00:01, 54.08it/s]                        \n"
          ]
        },
        {
          "output_type": "stream",
          "name": "stdout",
          "text": [
            "Train Loss: 19760.8923\n",
            "Val Loss: 19577.9062\n",
            "Epoch 30 of 100\n"
          ]
        },
        {
          "output_type": "stream",
          "name": "stderr",
          "text": [
            "469it [00:12, 37.09it/s]\n",
            "79it [00:01, 48.11it/s]                        \n"
          ]
        },
        {
          "output_type": "stream",
          "name": "stdout",
          "text": [
            "Train Loss: 19732.2592\n",
            "Val Loss: 19575.8912\n",
            "Epoch 31 of 100\n"
          ]
        },
        {
          "output_type": "stream",
          "name": "stderr",
          "text": [
            "469it [00:12, 38.96it/s]                         \n",
            "79it [00:01, 53.49it/s]                        \n"
          ]
        },
        {
          "output_type": "stream",
          "name": "stdout",
          "text": [
            "Train Loss: 19726.0429\n",
            "Val Loss: 19573.0783\n",
            "Epoch 32 of 100\n"
          ]
        },
        {
          "output_type": "stream",
          "name": "stderr",
          "text": [
            "469it [00:12, 36.67it/s]                         \n",
            "79it [00:01, 54.74it/s]                        \n"
          ]
        },
        {
          "output_type": "stream",
          "name": "stdout",
          "text": [
            "Train Loss: 19707.3625\n",
            "Val Loss: 19599.6493\n",
            "Epoch 33 of 100\n"
          ]
        },
        {
          "output_type": "stream",
          "name": "stderr",
          "text": [
            "469it [00:13, 34.84it/s]\n",
            "79it [00:01, 54.92it/s]                        \n"
          ]
        },
        {
          "output_type": "stream",
          "name": "stdout",
          "text": [
            "Train Loss: 19693.8770\n",
            "Val Loss: 19508.1277\n",
            "Epoch 34 of 100\n"
          ]
        },
        {
          "output_type": "stream",
          "name": "stderr",
          "text": [
            "469it [00:12, 38.80it/s]                         \n",
            "79it [00:01, 54.16it/s]                        \n"
          ]
        },
        {
          "output_type": "stream",
          "name": "stdout",
          "text": [
            "Train Loss: 19679.7104\n",
            "Val Loss: 19535.7827\n",
            "Epoch 35 of 100\n"
          ]
        },
        {
          "output_type": "stream",
          "name": "stderr",
          "text": [
            "469it [00:11, 39.44it/s]\n",
            "79it [00:01, 55.04it/s]                        \n"
          ]
        },
        {
          "output_type": "stream",
          "name": "stdout",
          "text": [
            "Train Loss: 19661.2945\n",
            "Val Loss: 19523.6859\n",
            "Epoch 36 of 100\n"
          ]
        },
        {
          "output_type": "stream",
          "name": "stderr",
          "text": [
            "469it [00:11, 39.19it/s]                         \n",
            "79it [00:02, 38.03it/s]                        \n"
          ]
        },
        {
          "output_type": "stream",
          "name": "stdout",
          "text": [
            "Train Loss: 19657.3510\n",
            "Val Loss: 19547.9231\n",
            "Epoch 37 of 100\n"
          ]
        },
        {
          "output_type": "stream",
          "name": "stderr",
          "text": [
            "469it [00:12, 38.58it/s]\n",
            "79it [00:01, 53.63it/s]                        \n"
          ]
        },
        {
          "output_type": "stream",
          "name": "stdout",
          "text": [
            "Train Loss: 19637.6137\n",
            "Val Loss: 19461.5974\n",
            "Epoch 38 of 100\n"
          ]
        },
        {
          "output_type": "stream",
          "name": "stderr",
          "text": [
            "469it [00:11, 39.33it/s]                         \n",
            "79it [00:01, 54.98it/s]                        \n"
          ]
        },
        {
          "output_type": "stream",
          "name": "stdout",
          "text": [
            "Train Loss: 19628.5751\n",
            "Val Loss: 19456.0048\n",
            "Epoch 39 of 100\n"
          ]
        },
        {
          "output_type": "stream",
          "name": "stderr",
          "text": [
            "469it [00:12, 38.53it/s]\n",
            "79it [00:01, 54.01it/s]                        \n"
          ]
        },
        {
          "output_type": "stream",
          "name": "stdout",
          "text": [
            "Train Loss: 19621.4350\n",
            "Val Loss: 19545.8433\n",
            "Epoch 40 of 100\n"
          ]
        },
        {
          "output_type": "stream",
          "name": "stderr",
          "text": [
            "469it [00:12, 36.52it/s]\n",
            "79it [00:01, 53.90it/s]                        \n"
          ]
        },
        {
          "output_type": "stream",
          "name": "stdout",
          "text": [
            "Train Loss: 19611.0883\n",
            "Val Loss: 19515.7313\n",
            "Epoch 41 of 100\n"
          ]
        },
        {
          "output_type": "stream",
          "name": "stderr",
          "text": [
            "469it [00:12, 38.78it/s]                         \n",
            "79it [00:01, 54.29it/s]                        \n"
          ]
        },
        {
          "output_type": "stream",
          "name": "stdout",
          "text": [
            "Train Loss: 19599.4798\n",
            "Val Loss: 19491.1752\n",
            "Epoch 42 of 100\n"
          ]
        },
        {
          "output_type": "stream",
          "name": "stderr",
          "text": [
            "469it [00:12, 38.76it/s]\n",
            "79it [00:01, 53.84it/s]                        \n"
          ]
        },
        {
          "output_type": "stream",
          "name": "stdout",
          "text": [
            "Train Loss: 19597.5958\n",
            "Val Loss: 19489.2373\n",
            "Epoch 43 of 100\n"
          ]
        },
        {
          "output_type": "stream",
          "name": "stderr",
          "text": [
            "469it [00:12, 36.83it/s]\n",
            "79it [00:01, 54.88it/s]                        \n"
          ]
        },
        {
          "output_type": "stream",
          "name": "stdout",
          "text": [
            "Train Loss: 19586.1933\n",
            "Val Loss: 19432.0772\n",
            "Epoch 44 of 100\n"
          ]
        },
        {
          "output_type": "stream",
          "name": "stderr",
          "text": [
            "469it [00:11, 39.11it/s]\n",
            "79it [00:01, 54.21it/s]                        \n"
          ]
        },
        {
          "output_type": "stream",
          "name": "stdout",
          "text": [
            "Train Loss: 19569.1653\n",
            "Val Loss: 19442.5974\n",
            "Epoch 45 of 100\n"
          ]
        },
        {
          "output_type": "stream",
          "name": "stderr",
          "text": [
            "469it [00:13, 35.17it/s]                         \n",
            "79it [00:01, 50.05it/s]                        \n"
          ]
        },
        {
          "output_type": "stream",
          "name": "stdout",
          "text": [
            "Train Loss: 19559.4812\n",
            "Val Loss: 19430.1082\n",
            "Epoch 46 of 100\n"
          ]
        },
        {
          "output_type": "stream",
          "name": "stderr",
          "text": [
            "469it [00:12, 36.78it/s]                         \n",
            "79it [00:01, 55.42it/s]                        \n"
          ]
        },
        {
          "output_type": "stream",
          "name": "stdout",
          "text": [
            "Train Loss: 19544.1884\n",
            "Val Loss: 19463.0454\n",
            "Epoch 47 of 100\n"
          ]
        },
        {
          "output_type": "stream",
          "name": "stderr",
          "text": [
            "469it [00:11, 39.11it/s]                         \n",
            "79it [00:01, 54.45it/s]                        \n"
          ]
        },
        {
          "output_type": "stream",
          "name": "stdout",
          "text": [
            "Train Loss: 19559.1361\n",
            "Val Loss: 19476.3701\n",
            "Epoch 48 of 100\n"
          ]
        },
        {
          "output_type": "stream",
          "name": "stderr",
          "text": [
            "469it [00:11, 39.20it/s]                         \n",
            "79it [00:01, 54.64it/s]                        \n"
          ]
        },
        {
          "output_type": "stream",
          "name": "stdout",
          "text": [
            "Train Loss: 19542.3786\n",
            "Val Loss: 19407.9743\n",
            "Epoch 49 of 100\n"
          ]
        },
        {
          "output_type": "stream",
          "name": "stderr",
          "text": [
            "469it [00:12, 36.90it/s]                         \n",
            "79it [00:01, 54.33it/s]                        \n"
          ]
        },
        {
          "output_type": "stream",
          "name": "stdout",
          "text": [
            "Train Loss: 19532.8662\n",
            "Val Loss: 19454.4708\n",
            "Epoch 50 of 100\n"
          ]
        },
        {
          "output_type": "stream",
          "name": "stderr",
          "text": [
            "469it [00:12, 38.90it/s]                         \n",
            "79it [00:01, 53.58it/s]                        \n"
          ]
        },
        {
          "output_type": "stream",
          "name": "stdout",
          "text": [
            "Train Loss: 19522.2639\n",
            "Val Loss: 19395.5540\n",
            "Epoch 51 of 100\n"
          ]
        },
        {
          "output_type": "stream",
          "name": "stderr",
          "text": [
            "469it [00:12, 39.04it/s]                         \n",
            "79it [00:01, 54.72it/s]                        \n"
          ]
        },
        {
          "output_type": "stream",
          "name": "stdout",
          "text": [
            "Train Loss: 19518.4292\n",
            "Val Loss: 19398.0912\n",
            "Epoch 52 of 100\n"
          ]
        },
        {
          "output_type": "stream",
          "name": "stderr",
          "text": [
            "469it [00:12, 36.77it/s]\n",
            "79it [00:01, 54.33it/s]                        \n"
          ]
        },
        {
          "output_type": "stream",
          "name": "stdout",
          "text": [
            "Train Loss: 19517.7209\n",
            "Val Loss: 19419.1993\n",
            "Epoch 53 of 100\n"
          ]
        },
        {
          "output_type": "stream",
          "name": "stderr",
          "text": [
            "469it [00:12, 38.88it/s]                         \n",
            "79it [00:01, 54.61it/s]                        \n"
          ]
        },
        {
          "output_type": "stream",
          "name": "stdout",
          "text": [
            "Train Loss: 19509.8003\n",
            "Val Loss: 19406.4237\n",
            "Epoch 54 of 100\n"
          ]
        },
        {
          "output_type": "stream",
          "name": "stderr",
          "text": [
            "469it [00:11, 39.12it/s]                         \n",
            "79it [00:01, 55.27it/s]                        \n"
          ]
        },
        {
          "output_type": "stream",
          "name": "stdout",
          "text": [
            "Train Loss: 19507.4165\n",
            "Val Loss: 19408.3605\n",
            "Epoch 55 of 100\n"
          ]
        },
        {
          "output_type": "stream",
          "name": "stderr",
          "text": [
            "469it [00:12, 36.28it/s]                         \n",
            "79it [00:01, 54.60it/s]                        \n"
          ]
        },
        {
          "output_type": "stream",
          "name": "stdout",
          "text": [
            "Train Loss: 19493.5279\n",
            "Val Loss: 19490.4599\n",
            "Epoch 56 of 100\n"
          ]
        },
        {
          "output_type": "stream",
          "name": "stderr",
          "text": [
            "469it [00:12, 38.85it/s]\n",
            "79it [00:01, 54.34it/s]                        \n"
          ]
        },
        {
          "output_type": "stream",
          "name": "stdout",
          "text": [
            "Train Loss: 19493.1548\n",
            "Val Loss: 19444.7198\n",
            "Epoch 57 of 100\n"
          ]
        },
        {
          "output_type": "stream",
          "name": "stderr",
          "text": [
            "469it [00:12, 37.82it/s]                         \n",
            "79it [00:01, 43.33it/s]                        \n"
          ]
        },
        {
          "output_type": "stream",
          "name": "stdout",
          "text": [
            "Train Loss: 19483.3098\n",
            "Val Loss: 19335.2504\n",
            "Epoch 58 of 100\n"
          ]
        },
        {
          "output_type": "stream",
          "name": "stderr",
          "text": [
            "469it [00:13, 33.91it/s]                         \n",
            "79it [00:01, 54.38it/s]                        \n"
          ]
        },
        {
          "output_type": "stream",
          "name": "stdout",
          "text": [
            "Train Loss: 19471.2582\n",
            "Val Loss: 19394.2699\n",
            "Epoch 59 of 100\n"
          ]
        },
        {
          "output_type": "stream",
          "name": "stderr",
          "text": [
            "469it [00:12, 39.06it/s]                         \n",
            "79it [00:01, 53.30it/s]                        \n"
          ]
        },
        {
          "output_type": "stream",
          "name": "stdout",
          "text": [
            "Train Loss: 19474.2847\n",
            "Val Loss: 19380.7274\n",
            "Epoch 60 of 100\n"
          ]
        },
        {
          "output_type": "stream",
          "name": "stderr",
          "text": [
            "469it [00:12, 38.61it/s]                         \n",
            "79it [00:01, 54.83it/s]                        \n"
          ]
        },
        {
          "output_type": "stream",
          "name": "stdout",
          "text": [
            "Train Loss: 19467.1177\n",
            "Val Loss: 19397.5138\n",
            "Epoch 61 of 100\n"
          ]
        },
        {
          "output_type": "stream",
          "name": "stderr",
          "text": [
            "469it [00:12, 36.23it/s]\n",
            "79it [00:01, 54.40it/s]                        \n"
          ]
        },
        {
          "output_type": "stream",
          "name": "stdout",
          "text": [
            "Train Loss: 19464.4947\n",
            "Val Loss: 19383.9655\n",
            "Epoch 62 of 100\n"
          ]
        },
        {
          "output_type": "stream",
          "name": "stderr",
          "text": [
            "469it [00:12, 38.57it/s]                         \n",
            "79it [00:01, 54.65it/s]                        \n"
          ]
        },
        {
          "output_type": "stream",
          "name": "stdout",
          "text": [
            "Train Loss: 19455.0468\n",
            "Val Loss: 19344.2695\n",
            "Epoch 63 of 100\n"
          ]
        },
        {
          "output_type": "stream",
          "name": "stderr",
          "text": [
            "469it [00:12, 38.71it/s]                         \n",
            "79it [00:01, 54.22it/s]                        \n"
          ]
        },
        {
          "output_type": "stream",
          "name": "stdout",
          "text": [
            "Train Loss: 19457.9911\n",
            "Val Loss: 19323.0031\n",
            "Epoch 64 of 100\n"
          ]
        },
        {
          "output_type": "stream",
          "name": "stderr",
          "text": [
            "469it [00:12, 36.77it/s]                         \n",
            "79it [00:01, 54.42it/s]                        \n"
          ]
        },
        {
          "output_type": "stream",
          "name": "stdout",
          "text": [
            "Train Loss: 19452.0481\n",
            "Val Loss: 19376.9677\n",
            "Epoch 65 of 100\n"
          ]
        },
        {
          "output_type": "stream",
          "name": "stderr",
          "text": [
            "469it [00:12, 38.87it/s]\n",
            "79it [00:01, 53.62it/s]                        \n"
          ]
        },
        {
          "output_type": "stream",
          "name": "stdout",
          "text": [
            "Train Loss: 19447.1223\n",
            "Val Loss: 19345.5035\n",
            "Epoch 66 of 100\n"
          ]
        },
        {
          "output_type": "stream",
          "name": "stderr",
          "text": [
            "469it [00:11, 39.13it/s]                         \n",
            "79it [00:01, 54.89it/s]                        \n"
          ]
        },
        {
          "output_type": "stream",
          "name": "stdout",
          "text": [
            "Train Loss: 19440.8686\n",
            "Val Loss: 19370.5231\n",
            "Epoch 67 of 100\n"
          ]
        },
        {
          "output_type": "stream",
          "name": "stderr",
          "text": [
            "469it [00:12, 36.62it/s]                         \n",
            "79it [00:01, 54.68it/s]                        \n"
          ]
        },
        {
          "output_type": "stream",
          "name": "stdout",
          "text": [
            "Train Loss: 19439.0248\n",
            "Val Loss: 19346.5277\n",
            "Epoch 68 of 100\n"
          ]
        },
        {
          "output_type": "stream",
          "name": "stderr",
          "text": [
            "469it [00:12, 38.64it/s]                         \n",
            "79it [00:01, 55.11it/s]                        \n"
          ]
        },
        {
          "output_type": "stream",
          "name": "stdout",
          "text": [
            "Train Loss: 19431.9474\n",
            "Val Loss: 19378.9752\n",
            "Epoch 69 of 100\n"
          ]
        },
        {
          "output_type": "stream",
          "name": "stderr",
          "text": [
            "469it [00:12, 38.87it/s]                         \n",
            "79it [00:01, 53.37it/s]                        \n"
          ]
        },
        {
          "output_type": "stream",
          "name": "stdout",
          "text": [
            "Train Loss: 19424.9266\n",
            "Val Loss: 19376.2017\n",
            "Epoch 70 of 100\n"
          ]
        },
        {
          "output_type": "stream",
          "name": "stderr",
          "text": [
            "469it [00:13, 34.61it/s]                         \n",
            "79it [00:01, 54.21it/s]                        \n"
          ]
        },
        {
          "output_type": "stream",
          "name": "stdout",
          "text": [
            "Train Loss: 19429.3664\n",
            "Val Loss: 19359.2140\n",
            "Epoch 71 of 100\n"
          ]
        },
        {
          "output_type": "stream",
          "name": "stderr",
          "text": [
            "469it [00:12, 36.79it/s]                         \n",
            "79it [00:01, 53.57it/s]                        \n"
          ]
        },
        {
          "output_type": "stream",
          "name": "stdout",
          "text": [
            "Train Loss: 19420.2224\n",
            "Val Loss: 19375.3982\n",
            "Epoch 72 of 100\n"
          ]
        },
        {
          "output_type": "stream",
          "name": "stderr",
          "text": [
            "469it [00:11, 39.10it/s]                         \n",
            "79it [00:01, 54.33it/s]                        \n"
          ]
        },
        {
          "output_type": "stream",
          "name": "stdout",
          "text": [
            "Train Loss: 19413.5083\n",
            "Val Loss: 19341.3671\n",
            "Epoch 73 of 100\n"
          ]
        },
        {
          "output_type": "stream",
          "name": "stderr",
          "text": [
            "469it [00:12, 39.04it/s]                         \n",
            "79it [00:02, 36.45it/s]                        \n"
          ]
        },
        {
          "output_type": "stream",
          "name": "stdout",
          "text": [
            "Train Loss: 19417.4012\n",
            "Val Loss: 19325.0572\n",
            "Epoch 74 of 100\n"
          ]
        },
        {
          "output_type": "stream",
          "name": "stderr",
          "text": [
            "469it [00:12, 38.89it/s]                         \n",
            "79it [00:01, 55.37it/s]                        \n"
          ]
        },
        {
          "output_type": "stream",
          "name": "stdout",
          "text": [
            "Train Loss: 19413.6181\n",
            "Val Loss: 19395.7274\n",
            "Epoch 75 of 100\n"
          ]
        },
        {
          "output_type": "stream",
          "name": "stderr",
          "text": [
            "469it [00:11, 39.10it/s]                         \n",
            "79it [00:01, 53.82it/s]                        \n"
          ]
        },
        {
          "output_type": "stream",
          "name": "stdout",
          "text": [
            "Train Loss: 19410.5571\n",
            "Val Loss: 19321.6133\n",
            "Epoch 76 of 100\n"
          ]
        },
        {
          "output_type": "stream",
          "name": "stderr",
          "text": [
            "469it [00:11, 39.26it/s]\n",
            "79it [00:01, 49.32it/s]                        \n"
          ]
        },
        {
          "output_type": "stream",
          "name": "stdout",
          "text": [
            "Train Loss: 19409.5425\n",
            "Val Loss: 19370.3437\n",
            "Epoch 77 of 100\n"
          ]
        },
        {
          "output_type": "stream",
          "name": "stderr",
          "text": [
            "469it [00:12, 37.37it/s]\n",
            "79it [00:01, 54.67it/s]                        \n"
          ]
        },
        {
          "output_type": "stream",
          "name": "stdout",
          "text": [
            "Train Loss: 19404.7956\n",
            "Val Loss: 19320.3871\n",
            "Epoch 78 of 100\n"
          ]
        },
        {
          "output_type": "stream",
          "name": "stderr",
          "text": [
            "469it [00:11, 39.28it/s]                         \n",
            "79it [00:01, 54.20it/s]                        \n"
          ]
        },
        {
          "output_type": "stream",
          "name": "stdout",
          "text": [
            "Train Loss: 19401.4866\n",
            "Val Loss: 19306.7801\n",
            "Epoch 79 of 100\n"
          ]
        },
        {
          "output_type": "stream",
          "name": "stderr",
          "text": [
            "469it [00:11, 39.17it/s]                         \n",
            "79it [00:01, 54.25it/s]                        \n"
          ]
        },
        {
          "output_type": "stream",
          "name": "stdout",
          "text": [
            "Train Loss: 19396.7417\n",
            "Val Loss: 19340.1026\n",
            "Epoch 80 of 100\n"
          ]
        },
        {
          "output_type": "stream",
          "name": "stderr",
          "text": [
            "469it [00:12, 36.75it/s]                         \n",
            "79it [00:01, 53.79it/s]                        \n"
          ]
        },
        {
          "output_type": "stream",
          "name": "stdout",
          "text": [
            "Train Loss: 19390.7390\n",
            "Val Loss: 19410.0881\n",
            "Epoch 81 of 100\n"
          ]
        },
        {
          "output_type": "stream",
          "name": "stderr",
          "text": [
            "469it [00:12, 39.08it/s]                         \n",
            "79it [00:01, 55.49it/s]                        \n"
          ]
        },
        {
          "output_type": "stream",
          "name": "stdout",
          "text": [
            "Train Loss: 19392.3240\n",
            "Val Loss: 19322.0268\n",
            "Epoch 82 of 100\n"
          ]
        },
        {
          "output_type": "stream",
          "name": "stderr",
          "text": [
            "469it [00:11, 39.22it/s]                         \n",
            "79it [00:01, 54.01it/s]                        \n"
          ]
        },
        {
          "output_type": "stream",
          "name": "stdout",
          "text": [
            "Train Loss: 19389.3268\n",
            "Val Loss: 19299.4255\n",
            "Epoch 83 of 100\n"
          ]
        },
        {
          "output_type": "stream",
          "name": "stderr",
          "text": [
            "469it [00:12, 38.82it/s]                         \n",
            "79it [00:01, 54.88it/s]                        \n"
          ]
        },
        {
          "output_type": "stream",
          "name": "stdout",
          "text": [
            "Train Loss: 19381.8490\n",
            "Val Loss: 19323.1412\n",
            "Epoch 84 of 100\n"
          ]
        },
        {
          "output_type": "stream",
          "name": "stderr",
          "text": [
            "469it [00:12, 38.96it/s]\n",
            "79it [00:01, 53.25it/s]                        \n"
          ]
        },
        {
          "output_type": "stream",
          "name": "stdout",
          "text": [
            "Train Loss: 19380.9240\n",
            "Val Loss: 19350.1216\n",
            "Epoch 85 of 100\n"
          ]
        },
        {
          "output_type": "stream",
          "name": "stderr",
          "text": [
            "469it [00:12, 36.95it/s]\n",
            "79it [00:01, 52.64it/s]                        \n"
          ]
        },
        {
          "output_type": "stream",
          "name": "stdout",
          "text": [
            "Train Loss: 19369.8912\n",
            "Val Loss: 19300.5079\n",
            "Epoch 86 of 100\n"
          ]
        },
        {
          "output_type": "stream",
          "name": "stderr",
          "text": [
            "469it [00:12, 36.61it/s]                         \n",
            "79it [00:02, 39.03it/s]                        \n"
          ]
        },
        {
          "output_type": "stream",
          "name": "stdout",
          "text": [
            "Train Loss: 19376.1364\n",
            "Val Loss: 19340.9285\n",
            "Epoch 87 of 100\n"
          ]
        },
        {
          "output_type": "stream",
          "name": "stderr",
          "text": [
            "469it [00:12, 37.65it/s]                         \n",
            "79it [00:01, 53.42it/s]                        \n"
          ]
        },
        {
          "output_type": "stream",
          "name": "stdout",
          "text": [
            "Train Loss: 19370.5008\n",
            "Val Loss: 19322.9824\n",
            "Epoch 88 of 100\n"
          ]
        },
        {
          "output_type": "stream",
          "name": "stderr",
          "text": [
            "469it [00:12, 36.47it/s]                         \n",
            "79it [00:01, 53.87it/s]                        \n"
          ]
        },
        {
          "output_type": "stream",
          "name": "stdout",
          "text": [
            "Train Loss: 19372.3292\n",
            "Val Loss: 19336.7089\n",
            "Epoch 89 of 100\n"
          ]
        },
        {
          "output_type": "stream",
          "name": "stderr",
          "text": [
            "469it [00:11, 39.11it/s]                         \n",
            "79it [00:01, 54.07it/s]                        \n"
          ]
        },
        {
          "output_type": "stream",
          "name": "stdout",
          "text": [
            "Train Loss: 19370.8300\n",
            "Val Loss: 19307.0874\n",
            "Epoch 90 of 100\n"
          ]
        },
        {
          "output_type": "stream",
          "name": "stderr",
          "text": [
            "469it [00:12, 38.97it/s]                         \n",
            "79it [00:01, 54.31it/s]                        \n"
          ]
        },
        {
          "output_type": "stream",
          "name": "stdout",
          "text": [
            "Train Loss: 19362.4068\n",
            "Val Loss: 19270.5263\n",
            "Epoch 91 of 100\n"
          ]
        },
        {
          "output_type": "stream",
          "name": "stderr",
          "text": [
            "469it [00:12, 36.57it/s]\n",
            "79it [00:01, 55.56it/s]                        \n"
          ]
        },
        {
          "output_type": "stream",
          "name": "stdout",
          "text": [
            "Train Loss: 19350.5932\n",
            "Val Loss: 19252.1214\n",
            "Epoch 92 of 100\n"
          ]
        },
        {
          "output_type": "stream",
          "name": "stderr",
          "text": [
            "469it [00:12, 38.45it/s]                         \n",
            "79it [00:01, 54.02it/s]                        \n"
          ]
        },
        {
          "output_type": "stream",
          "name": "stdout",
          "text": [
            "Train Loss: 19375.2049\n",
            "Val Loss: 19287.2660\n",
            "Epoch 93 of 100\n"
          ]
        },
        {
          "output_type": "stream",
          "name": "stderr",
          "text": [
            "469it [00:12, 38.46it/s]                         \n",
            "79it [00:01, 53.83it/s]                        \n"
          ]
        },
        {
          "output_type": "stream",
          "name": "stdout",
          "text": [
            "Train Loss: 19356.7663\n",
            "Val Loss: 19302.1971\n",
            "Epoch 94 of 100\n"
          ]
        },
        {
          "output_type": "stream",
          "name": "stderr",
          "text": [
            "469it [00:12, 36.28it/s]                         \n",
            "79it [00:01, 53.57it/s]                        \n"
          ]
        },
        {
          "output_type": "stream",
          "name": "stdout",
          "text": [
            "Train Loss: 19355.8860\n",
            "Val Loss: 19296.6803\n",
            "Epoch 95 of 100\n"
          ]
        },
        {
          "output_type": "stream",
          "name": "stderr",
          "text": [
            "469it [00:12, 38.80it/s]                         \n",
            "79it [00:01, 54.48it/s]                        \n"
          ]
        },
        {
          "output_type": "stream",
          "name": "stdout",
          "text": [
            "Train Loss: 19353.2202\n",
            "Val Loss: 19259.8320\n",
            "Epoch 96 of 100\n"
          ]
        },
        {
          "output_type": "stream",
          "name": "stderr",
          "text": [
            "469it [00:11, 39.28it/s]                         \n",
            "79it [00:01, 54.06it/s]                        \n"
          ]
        },
        {
          "output_type": "stream",
          "name": "stdout",
          "text": [
            "Train Loss: 19345.8354\n",
            "Val Loss: 19259.1848\n",
            "Epoch 97 of 100\n"
          ]
        },
        {
          "output_type": "stream",
          "name": "stderr",
          "text": [
            "469it [00:12, 36.56it/s]\n",
            "79it [00:01, 54.59it/s]                        \n"
          ]
        },
        {
          "output_type": "stream",
          "name": "stdout",
          "text": [
            "Train Loss: 19342.5568\n",
            "Val Loss: 19333.7870\n",
            "Epoch 98 of 100\n"
          ]
        },
        {
          "output_type": "stream",
          "name": "stderr",
          "text": [
            "469it [00:12, 38.75it/s]                         \n",
            "79it [00:01, 52.63it/s]                        \n"
          ]
        },
        {
          "output_type": "stream",
          "name": "stdout",
          "text": [
            "Train Loss: 19349.2145\n",
            "Val Loss: 19332.1876\n",
            "Epoch 99 of 100\n"
          ]
        },
        {
          "output_type": "stream",
          "name": "stderr",
          "text": [
            "469it [00:12, 38.99it/s]\n",
            "79it [00:01, 55.08it/s]                        \n"
          ]
        },
        {
          "output_type": "stream",
          "name": "stdout",
          "text": [
            "Train Loss: 19347.4693\n",
            "Val Loss: 19290.4000\n",
            "Epoch 100 of 100\n"
          ]
        },
        {
          "output_type": "stream",
          "name": "stderr",
          "text": [
            "469it [00:14, 32.95it/s]                         \n",
            "79it [00:01, 54.49it/s]                        "
          ]
        },
        {
          "output_type": "stream",
          "name": "stdout",
          "text": [
            "Train Loss: 19338.7127\n",
            "Val Loss: 19289.9023\n",
            "Total time: 1393.210s\n"
          ]
        },
        {
          "output_type": "stream",
          "name": "stderr",
          "text": [
            "\n"
          ]
        }
      ]
    },
    {
      "cell_type": "code",
      "source": [
        "import time\n",
        "start_time = time.time()\n",
        "\n",
        "lr = 0.001\n",
        "batch_size = 128\n",
        "\n",
        "train_loss = []\n",
        "valid_loss = []\n",
        "for epoch in range(epochs):\n",
        "    print(f\"Epoch {epoch+1} of {epochs}\")\n",
        "    train_epoch_loss = train(\n",
        "        model, trainloader, trainset, device, optimizer, criterion\n",
        "    )\n",
        "    valid_epoch_loss = validate(\n",
        "        model, testloader, testset, device, criterion\n",
        "    )\n",
        "    train_loss.append(train_epoch_loss)\n",
        "    valid_loss.append(valid_epoch_loss)\n",
        "\n",
        "    print(f\"Train Loss: {train_epoch_loss:.4f}\")\n",
        "    print(f\"Val Loss: {valid_epoch_loss:.4f}\")\n",
        "\n",
        "print('Total time: {:.3f}s'.format(time.time() - start_time))"
      ],
      "metadata": {
        "colab": {
          "base_uri": "https://localhost:8080/"
        },
        "id": "nkwi3O6T4n5X",
        "outputId": "e4ee9056-cc0c-4468-9116-3109882abd77"
      },
      "execution_count": 11,
      "outputs": [
        {
          "output_type": "stream",
          "name": "stdout",
          "text": [
            "Epoch 1 of 100\n"
          ]
        },
        {
          "output_type": "stream",
          "name": "stderr",
          "text": [
            "469it [00:12, 36.51it/s]                         \n",
            "79it [00:01, 54.91it/s]                        \n"
          ]
        },
        {
          "output_type": "stream",
          "name": "stdout",
          "text": [
            "Train Loss: 34868.7858\n",
            "Val Loss: 25262.6178\n",
            "Epoch 2 of 100\n"
          ]
        },
        {
          "output_type": "stream",
          "name": "stderr",
          "text": [
            "469it [00:12, 39.06it/s]                         \n",
            "79it [00:01, 54.03it/s]                        \n"
          ]
        },
        {
          "output_type": "stream",
          "name": "stdout",
          "text": [
            "Train Loss: 24114.3682\n",
            "Val Loss: 22973.7758\n",
            "Epoch 3 of 100\n"
          ]
        },
        {
          "output_type": "stream",
          "name": "stderr",
          "text": [
            "469it [00:11, 39.19it/s]                         \n",
            "79it [00:01, 54.13it/s]                        \n"
          ]
        },
        {
          "output_type": "stream",
          "name": "stdout",
          "text": [
            "Train Loss: 22681.0577\n",
            "Val Loss: 21736.7458\n",
            "Epoch 4 of 100\n"
          ]
        },
        {
          "output_type": "stream",
          "name": "stderr",
          "text": [
            "469it [00:13, 33.93it/s]                         \n",
            "79it [00:01, 43.87it/s]                        \n"
          ]
        },
        {
          "output_type": "stream",
          "name": "stdout",
          "text": [
            "Train Loss: 21869.5530\n",
            "Val Loss: 21364.3093\n",
            "Epoch 5 of 100\n"
          ]
        },
        {
          "output_type": "stream",
          "name": "stderr",
          "text": [
            "469it [00:12, 39.05it/s]                         \n",
            "79it [00:01, 53.61it/s]                        \n"
          ]
        },
        {
          "output_type": "stream",
          "name": "stdout",
          "text": [
            "Train Loss: 21571.3392\n",
            "Val Loss: 21149.4506\n",
            "Epoch 6 of 100\n"
          ]
        },
        {
          "output_type": "stream",
          "name": "stderr",
          "text": [
            "469it [00:12, 38.54it/s]                         \n",
            "79it [00:02, 38.26it/s]                        \n"
          ]
        },
        {
          "output_type": "stream",
          "name": "stdout",
          "text": [
            "Train Loss: 21368.1332\n",
            "Val Loss: 20961.2054\n",
            "Epoch 7 of 100\n"
          ]
        },
        {
          "output_type": "stream",
          "name": "stderr",
          "text": [
            "469it [00:11, 39.19it/s]\n",
            "79it [00:01, 55.08it/s]                        \n"
          ]
        },
        {
          "output_type": "stream",
          "name": "stdout",
          "text": [
            "Train Loss: 21074.4935\n",
            "Val Loss: 20531.8732\n",
            "Epoch 8 of 100\n"
          ]
        },
        {
          "output_type": "stream",
          "name": "stderr",
          "text": [
            "469it [00:11, 39.09it/s]                         \n",
            "79it [00:01, 54.31it/s]                        \n"
          ]
        },
        {
          "output_type": "stream",
          "name": "stdout",
          "text": [
            "Train Loss: 20585.8444\n",
            "Val Loss: 20138.7117\n",
            "Epoch 9 of 100\n"
          ]
        },
        {
          "output_type": "stream",
          "name": "stderr",
          "text": [
            "469it [00:12, 38.89it/s]                         \n",
            "79it [00:02, 38.23it/s]                        \n"
          ]
        },
        {
          "output_type": "stream",
          "name": "stdout",
          "text": [
            "Train Loss: 20275.4665\n",
            "Val Loss: 19882.1759\n",
            "Epoch 10 of 100\n"
          ]
        },
        {
          "output_type": "stream",
          "name": "stderr",
          "text": [
            "469it [00:11, 39.24it/s]\n",
            "79it [00:01, 55.36it/s]                        \n"
          ]
        },
        {
          "output_type": "stream",
          "name": "stdout",
          "text": [
            "Train Loss: 20108.2367\n",
            "Val Loss: 19784.5380\n",
            "Epoch 11 of 100\n"
          ]
        },
        {
          "output_type": "stream",
          "name": "stderr",
          "text": [
            "469it [00:11, 39.24it/s]                         \n",
            "79it [00:01, 56.22it/s]                        \n"
          ]
        },
        {
          "output_type": "stream",
          "name": "stdout",
          "text": [
            "Train Loss: 20003.2607\n",
            "Val Loss: 19739.2067\n",
            "Epoch 12 of 100\n"
          ]
        },
        {
          "output_type": "stream",
          "name": "stderr",
          "text": [
            "469it [00:11, 39.56it/s]\n",
            "79it [00:02, 35.53it/s]                        \n"
          ]
        },
        {
          "output_type": "stream",
          "name": "stdout",
          "text": [
            "Train Loss: 19916.1726\n",
            "Val Loss: 19605.1808\n",
            "Epoch 13 of 100\n"
          ]
        },
        {
          "output_type": "stream",
          "name": "stderr",
          "text": [
            "469it [00:12, 38.94it/s]\n",
            "79it [00:01, 54.32it/s]                        \n"
          ]
        },
        {
          "output_type": "stream",
          "name": "stdout",
          "text": [
            "Train Loss: 19854.6349\n",
            "Val Loss: 19585.7980\n",
            "Epoch 14 of 100\n"
          ]
        },
        {
          "output_type": "stream",
          "name": "stderr",
          "text": [
            "469it [00:12, 39.05it/s]                         \n",
            "79it [00:01, 54.27it/s]                        \n"
          ]
        },
        {
          "output_type": "stream",
          "name": "stdout",
          "text": [
            "Train Loss: 19808.3080\n",
            "Val Loss: 19562.9850\n",
            "Epoch 15 of 100\n"
          ]
        },
        {
          "output_type": "stream",
          "name": "stderr",
          "text": [
            "469it [00:12, 38.24it/s]                         \n",
            "79it [00:01, 39.99it/s]                        \n"
          ]
        },
        {
          "output_type": "stream",
          "name": "stdout",
          "text": [
            "Train Loss: 19751.6057\n",
            "Val Loss: 19509.7099\n",
            "Epoch 16 of 100\n"
          ]
        },
        {
          "output_type": "stream",
          "name": "stderr",
          "text": [
            "469it [00:12, 38.77it/s]                         \n",
            "79it [00:01, 53.99it/s]                        \n"
          ]
        },
        {
          "output_type": "stream",
          "name": "stdout",
          "text": [
            "Train Loss: 19712.4355\n",
            "Val Loss: 19532.1135\n",
            "Epoch 17 of 100\n"
          ]
        },
        {
          "output_type": "stream",
          "name": "stderr",
          "text": [
            "469it [00:12, 39.00it/s]                         \n",
            "79it [00:01, 54.11it/s]                        \n"
          ]
        },
        {
          "output_type": "stream",
          "name": "stdout",
          "text": [
            "Train Loss: 19678.3634\n",
            "Val Loss: 19575.6730\n",
            "Epoch 18 of 100\n"
          ]
        },
        {
          "output_type": "stream",
          "name": "stderr",
          "text": [
            "469it [00:12, 36.50it/s]                         \n",
            "79it [00:01, 54.72it/s]                        \n"
          ]
        },
        {
          "output_type": "stream",
          "name": "stdout",
          "text": [
            "Train Loss: 19638.5582\n",
            "Val Loss: 19384.2553\n",
            "Epoch 19 of 100\n"
          ]
        },
        {
          "output_type": "stream",
          "name": "stderr",
          "text": [
            "469it [00:12, 38.93it/s]                         \n",
            "79it [00:01, 53.59it/s]                        \n"
          ]
        },
        {
          "output_type": "stream",
          "name": "stdout",
          "text": [
            "Train Loss: 19606.3269\n",
            "Val Loss: 19342.3717\n",
            "Epoch 20 of 100\n"
          ]
        },
        {
          "output_type": "stream",
          "name": "stderr",
          "text": [
            "469it [00:13, 34.36it/s]\n",
            "79it [00:01, 54.15it/s]                        \n"
          ]
        },
        {
          "output_type": "stream",
          "name": "stdout",
          "text": [
            "Train Loss: 19579.7974\n",
            "Val Loss: 19399.6520\n",
            "Epoch 21 of 100\n"
          ]
        },
        {
          "output_type": "stream",
          "name": "stderr",
          "text": [
            "469it [00:12, 36.42it/s]\n",
            "79it [00:01, 53.92it/s]                        \n"
          ]
        },
        {
          "output_type": "stream",
          "name": "stdout",
          "text": [
            "Train Loss: 19549.7408\n",
            "Val Loss: 19322.9278\n",
            "Epoch 22 of 100\n"
          ]
        },
        {
          "output_type": "stream",
          "name": "stderr",
          "text": [
            "469it [00:12, 38.29it/s]                         \n",
            "79it [00:01, 54.25it/s]                        \n"
          ]
        },
        {
          "output_type": "stream",
          "name": "stdout",
          "text": [
            "Train Loss: 19529.2076\n",
            "Val Loss: 19330.6713\n",
            "Epoch 23 of 100\n"
          ]
        },
        {
          "output_type": "stream",
          "name": "stderr",
          "text": [
            "469it [00:12, 38.51it/s]\n",
            "79it [00:01, 53.32it/s]                        \n"
          ]
        },
        {
          "output_type": "stream",
          "name": "stdout",
          "text": [
            "Train Loss: 19501.8502\n",
            "Val Loss: 19383.2184\n",
            "Epoch 24 of 100\n"
          ]
        },
        {
          "output_type": "stream",
          "name": "stderr",
          "text": [
            "469it [00:13, 36.01it/s]\n",
            "79it [00:01, 54.02it/s]                        \n"
          ]
        },
        {
          "output_type": "stream",
          "name": "stdout",
          "text": [
            "Train Loss: 19483.4647\n",
            "Val Loss: 19285.4866\n",
            "Epoch 25 of 100\n"
          ]
        },
        {
          "output_type": "stream",
          "name": "stderr",
          "text": [
            "469it [00:12, 38.40it/s]                         \n",
            "79it [00:01, 54.23it/s]                        \n"
          ]
        },
        {
          "output_type": "stream",
          "name": "stdout",
          "text": [
            "Train Loss: 19467.1539\n",
            "Val Loss: 19251.3082\n",
            "Epoch 26 of 100\n"
          ]
        },
        {
          "output_type": "stream",
          "name": "stderr",
          "text": [
            "469it [00:12, 38.53it/s]\n",
            "79it [00:01, 53.93it/s]                        \n"
          ]
        },
        {
          "output_type": "stream",
          "name": "stdout",
          "text": [
            "Train Loss: 19447.4437\n",
            "Val Loss: 19275.5115\n",
            "Epoch 27 of 100\n"
          ]
        },
        {
          "output_type": "stream",
          "name": "stderr",
          "text": [
            "469it [00:12, 36.12it/s]                         \n",
            "79it [00:01, 53.14it/s]                        \n"
          ]
        },
        {
          "output_type": "stream",
          "name": "stdout",
          "text": [
            "Train Loss: 19429.0180\n",
            "Val Loss: 19189.5457\n",
            "Epoch 28 of 100\n"
          ]
        },
        {
          "output_type": "stream",
          "name": "stderr",
          "text": [
            "469it [00:12, 38.64it/s]                         \n",
            "79it [00:01, 54.07it/s]                        \n"
          ]
        },
        {
          "output_type": "stream",
          "name": "stdout",
          "text": [
            "Train Loss: 19408.9071\n",
            "Val Loss: 19251.0464\n",
            "Epoch 29 of 100\n"
          ]
        },
        {
          "output_type": "stream",
          "name": "stderr",
          "text": [
            "469it [00:12, 38.58it/s]                         \n",
            "79it [00:01, 53.20it/s]                        \n"
          ]
        },
        {
          "output_type": "stream",
          "name": "stdout",
          "text": [
            "Train Loss: 19397.5603\n",
            "Val Loss: 19174.8158\n",
            "Epoch 30 of 100\n"
          ]
        },
        {
          "output_type": "stream",
          "name": "stderr",
          "text": [
            "469it [00:12, 38.51it/s]\n",
            "79it [00:01, 54.24it/s]                        \n"
          ]
        },
        {
          "output_type": "stream",
          "name": "stdout",
          "text": [
            "Train Loss: 19391.3394\n",
            "Val Loss: 19215.5221\n",
            "Epoch 31 of 100\n"
          ]
        },
        {
          "output_type": "stream",
          "name": "stderr",
          "text": [
            "469it [00:12, 38.72it/s]                         \n",
            "79it [00:01, 53.84it/s]                        \n"
          ]
        },
        {
          "output_type": "stream",
          "name": "stdout",
          "text": [
            "Train Loss: 19368.4955\n",
            "Val Loss: 19159.4216\n",
            "Epoch 32 of 100\n"
          ]
        },
        {
          "output_type": "stream",
          "name": "stderr",
          "text": [
            "469it [00:12, 38.61it/s]                         \n",
            "79it [00:01, 53.96it/s]                        \n"
          ]
        },
        {
          "output_type": "stream",
          "name": "stdout",
          "text": [
            "Train Loss: 19357.6930\n",
            "Val Loss: 19143.7917\n",
            "Epoch 33 of 100\n"
          ]
        },
        {
          "output_type": "stream",
          "name": "stderr",
          "text": [
            "469it [00:12, 37.12it/s]                         \n",
            "79it [00:01, 43.02it/s]                        \n"
          ]
        },
        {
          "output_type": "stream",
          "name": "stdout",
          "text": [
            "Train Loss: 19348.0990\n",
            "Val Loss: 19141.5569\n",
            "Epoch 34 of 100\n"
          ]
        },
        {
          "output_type": "stream",
          "name": "stderr",
          "text": [
            "469it [00:12, 36.53it/s]                         \n",
            "79it [00:01, 46.66it/s]                        \n"
          ]
        },
        {
          "output_type": "stream",
          "name": "stdout",
          "text": [
            "Train Loss: 19332.0670\n",
            "Val Loss: 19181.1064\n",
            "Epoch 35 of 100\n"
          ]
        },
        {
          "output_type": "stream",
          "name": "stderr",
          "text": [
            "469it [00:12, 36.90it/s]                         \n",
            "79it [00:01, 53.91it/s]                        \n"
          ]
        },
        {
          "output_type": "stream",
          "name": "stdout",
          "text": [
            "Train Loss: 19318.7504\n",
            "Val Loss: 19134.7881\n",
            "Epoch 36 of 100\n"
          ]
        },
        {
          "output_type": "stream",
          "name": "stderr",
          "text": [
            "469it [00:12, 36.23it/s]                         \n",
            "79it [00:01, 54.28it/s]                        \n"
          ]
        },
        {
          "output_type": "stream",
          "name": "stdout",
          "text": [
            "Train Loss: 19311.6705\n",
            "Val Loss: 19126.8085\n",
            "Epoch 37 of 100\n"
          ]
        },
        {
          "output_type": "stream",
          "name": "stderr",
          "text": [
            "469it [00:12, 38.69it/s]\n",
            "79it [00:01, 53.28it/s]                        \n"
          ]
        },
        {
          "output_type": "stream",
          "name": "stdout",
          "text": [
            "Train Loss: 19296.1004\n",
            "Val Loss: 19129.9441\n",
            "Epoch 38 of 100\n"
          ]
        },
        {
          "output_type": "stream",
          "name": "stderr",
          "text": [
            "469it [00:12, 38.52it/s]                         \n",
            "79it [00:01, 54.10it/s]                        \n"
          ]
        },
        {
          "output_type": "stream",
          "name": "stdout",
          "text": [
            "Train Loss: 19283.0454\n",
            "Val Loss: 19129.1792\n",
            "Epoch 39 of 100\n"
          ]
        },
        {
          "output_type": "stream",
          "name": "stderr",
          "text": [
            "469it [00:12, 36.14it/s]                         \n",
            "79it [00:01, 53.61it/s]                        \n"
          ]
        },
        {
          "output_type": "stream",
          "name": "stdout",
          "text": [
            "Train Loss: 19283.8572\n",
            "Val Loss: 19165.5770\n",
            "Epoch 40 of 100\n"
          ]
        },
        {
          "output_type": "stream",
          "name": "stderr",
          "text": [
            "469it [00:12, 38.66it/s]                         \n",
            "79it [00:01, 53.53it/s]                        \n"
          ]
        },
        {
          "output_type": "stream",
          "name": "stdout",
          "text": [
            "Train Loss: 19271.5864\n",
            "Val Loss: 19129.7434\n",
            "Epoch 41 of 100\n"
          ]
        },
        {
          "output_type": "stream",
          "name": "stderr",
          "text": [
            "469it [00:12, 38.72it/s]                         \n",
            "79it [00:01, 53.59it/s]                        \n"
          ]
        },
        {
          "output_type": "stream",
          "name": "stdout",
          "text": [
            "Train Loss: 19261.9407\n",
            "Val Loss: 19116.0366\n",
            "Epoch 42 of 100\n"
          ]
        },
        {
          "output_type": "stream",
          "name": "stderr",
          "text": [
            "469it [00:12, 36.15it/s]                         \n",
            "79it [00:01, 53.88it/s]                        \n"
          ]
        },
        {
          "output_type": "stream",
          "name": "stdout",
          "text": [
            "Train Loss: 19255.9254\n",
            "Val Loss: 19107.1444\n",
            "Epoch 43 of 100\n"
          ]
        },
        {
          "output_type": "stream",
          "name": "stderr",
          "text": [
            "469it [00:12, 38.63it/s]\n",
            "79it [00:01, 52.36it/s]                        \n"
          ]
        },
        {
          "output_type": "stream",
          "name": "stdout",
          "text": [
            "Train Loss: 19245.4121\n",
            "Val Loss: 19084.8667\n",
            "Epoch 44 of 100\n"
          ]
        },
        {
          "output_type": "stream",
          "name": "stderr",
          "text": [
            "469it [00:12, 38.31it/s]                         \n",
            "79it [00:01, 53.07it/s]                        \n"
          ]
        },
        {
          "output_type": "stream",
          "name": "stdout",
          "text": [
            "Train Loss: 19244.7953\n",
            "Val Loss: 19074.3781\n",
            "Epoch 45 of 100\n"
          ]
        },
        {
          "output_type": "stream",
          "name": "stderr",
          "text": [
            "469it [00:12, 36.23it/s]                         \n",
            "79it [00:01, 53.59it/s]                        \n"
          ]
        },
        {
          "output_type": "stream",
          "name": "stdout",
          "text": [
            "Train Loss: 19232.1340\n",
            "Val Loss: 19093.5556\n",
            "Epoch 46 of 100\n"
          ]
        },
        {
          "output_type": "stream",
          "name": "stderr",
          "text": [
            "469it [00:12, 36.25it/s]                         \n",
            "79it [00:01, 41.88it/s]                        \n"
          ]
        },
        {
          "output_type": "stream",
          "name": "stdout",
          "text": [
            "Train Loss: 19229.5935\n",
            "Val Loss: 19096.7382\n",
            "Epoch 47 of 100\n"
          ]
        },
        {
          "output_type": "stream",
          "name": "stderr",
          "text": [
            "469it [00:12, 37.21it/s]                         \n",
            "79it [00:01, 53.39it/s]                        \n"
          ]
        },
        {
          "output_type": "stream",
          "name": "stdout",
          "text": [
            "Train Loss: 19215.1130\n",
            "Val Loss: 19067.5754\n",
            "Epoch 48 of 100\n"
          ]
        },
        {
          "output_type": "stream",
          "name": "stderr",
          "text": [
            "469it [00:12, 36.38it/s]                         \n",
            "79it [00:01, 53.23it/s]                        \n"
          ]
        },
        {
          "output_type": "stream",
          "name": "stdout",
          "text": [
            "Train Loss: 19209.1270\n",
            "Val Loss: 19082.7517\n",
            "Epoch 49 of 100\n"
          ]
        },
        {
          "output_type": "stream",
          "name": "stderr",
          "text": [
            "469it [00:12, 38.46it/s]                         \n",
            "79it [00:01, 54.68it/s]                        \n"
          ]
        },
        {
          "output_type": "stream",
          "name": "stdout",
          "text": [
            "Train Loss: 19204.2068\n",
            "Val Loss: 19120.0912\n",
            "Epoch 50 of 100\n"
          ]
        },
        {
          "output_type": "stream",
          "name": "stderr",
          "text": [
            "469it [00:12, 38.66it/s]\n",
            "79it [00:01, 53.45it/s]                        \n"
          ]
        },
        {
          "output_type": "stream",
          "name": "stdout",
          "text": [
            "Train Loss: 19199.5827\n",
            "Val Loss: 19113.9054\n",
            "Epoch 51 of 100\n"
          ]
        },
        {
          "output_type": "stream",
          "name": "stderr",
          "text": [
            "469it [00:12, 36.31it/s]                         \n",
            "79it [00:01, 54.44it/s]                        \n"
          ]
        },
        {
          "output_type": "stream",
          "name": "stdout",
          "text": [
            "Train Loss: 19184.1024\n",
            "Val Loss: 19039.0599\n",
            "Epoch 52 of 100\n"
          ]
        },
        {
          "output_type": "stream",
          "name": "stderr",
          "text": [
            "469it [00:12, 38.42it/s]\n",
            "79it [00:01, 53.23it/s]                        \n"
          ]
        },
        {
          "output_type": "stream",
          "name": "stdout",
          "text": [
            "Train Loss: 19186.7305\n",
            "Val Loss: 19020.7964\n",
            "Epoch 53 of 100\n"
          ]
        },
        {
          "output_type": "stream",
          "name": "stderr",
          "text": [
            "469it [00:12, 38.34it/s]                         \n",
            "79it [00:01, 52.88it/s]                        \n"
          ]
        },
        {
          "output_type": "stream",
          "name": "stdout",
          "text": [
            "Train Loss: 19176.0180\n",
            "Val Loss: 19057.2478\n",
            "Epoch 54 of 100\n"
          ]
        },
        {
          "output_type": "stream",
          "name": "stderr",
          "text": [
            "469it [00:12, 36.27it/s]\n",
            "79it [00:01, 54.05it/s]                        \n"
          ]
        },
        {
          "output_type": "stream",
          "name": "stdout",
          "text": [
            "Train Loss: 19169.0435\n",
            "Val Loss: 18986.6690\n",
            "Epoch 55 of 100\n"
          ]
        },
        {
          "output_type": "stream",
          "name": "stderr",
          "text": [
            "469it [00:12, 38.25it/s]                         \n",
            "79it [00:01, 53.76it/s]                        \n"
          ]
        },
        {
          "output_type": "stream",
          "name": "stdout",
          "text": [
            "Train Loss: 19165.5828\n",
            "Val Loss: 19078.6854\n",
            "Epoch 56 of 100\n"
          ]
        },
        {
          "output_type": "stream",
          "name": "stderr",
          "text": [
            "469it [00:12, 38.52it/s]                         \n",
            "79it [00:01, 53.25it/s]                        \n"
          ]
        },
        {
          "output_type": "stream",
          "name": "stdout",
          "text": [
            "Train Loss: 19158.8517\n",
            "Val Loss: 18997.8653\n",
            "Epoch 57 of 100\n"
          ]
        },
        {
          "output_type": "stream",
          "name": "stderr",
          "text": [
            "469it [00:12, 36.32it/s]                         \n",
            "79it [00:01, 54.32it/s]                        \n"
          ]
        },
        {
          "output_type": "stream",
          "name": "stdout",
          "text": [
            "Train Loss: 19157.9714\n",
            "Val Loss: 19003.7304\n",
            "Epoch 58 of 100\n"
          ]
        },
        {
          "output_type": "stream",
          "name": "stderr",
          "text": [
            "469it [00:12, 38.30it/s]                         \n",
            "79it [00:01, 52.84it/s]                        \n"
          ]
        },
        {
          "output_type": "stream",
          "name": "stdout",
          "text": [
            "Train Loss: 19151.9489\n",
            "Val Loss: 19062.8100\n",
            "Epoch 59 of 100\n"
          ]
        },
        {
          "output_type": "stream",
          "name": "stderr",
          "text": [
            "469it [00:14, 33.29it/s]                         \n",
            "79it [00:01, 42.71it/s]                        \n"
          ]
        },
        {
          "output_type": "stream",
          "name": "stdout",
          "text": [
            "Train Loss: 19147.3852\n",
            "Val Loss: 19014.7412\n",
            "Epoch 60 of 100\n"
          ]
        },
        {
          "output_type": "stream",
          "name": "stderr",
          "text": [
            "469it [00:12, 38.40it/s]\n",
            "79it [00:01, 52.77it/s]                        \n"
          ]
        },
        {
          "output_type": "stream",
          "name": "stdout",
          "text": [
            "Train Loss: 19134.8721\n",
            "Val Loss: 19001.8222\n",
            "Epoch 61 of 100\n"
          ]
        },
        {
          "output_type": "stream",
          "name": "stderr",
          "text": [
            "469it [00:12, 38.61it/s]                         \n",
            "79it [00:01, 53.01it/s]                        \n"
          ]
        },
        {
          "output_type": "stream",
          "name": "stdout",
          "text": [
            "Train Loss: 19136.0677\n",
            "Val Loss: 19003.9333\n",
            "Epoch 62 of 100\n"
          ]
        },
        {
          "output_type": "stream",
          "name": "stderr",
          "text": [
            "469it [00:12, 36.47it/s]                         \n",
            "79it [00:01, 54.09it/s]                        \n"
          ]
        },
        {
          "output_type": "stream",
          "name": "stdout",
          "text": [
            "Train Loss: 19123.2393\n",
            "Val Loss: 18984.4021\n",
            "Epoch 63 of 100\n"
          ]
        },
        {
          "output_type": "stream",
          "name": "stderr",
          "text": [
            "469it [00:12, 38.27it/s]                         \n",
            "79it [00:01, 53.59it/s]                        \n"
          ]
        },
        {
          "output_type": "stream",
          "name": "stdout",
          "text": [
            "Train Loss: 19122.9577\n",
            "Val Loss: 18970.8410\n",
            "Epoch 64 of 100\n"
          ]
        },
        {
          "output_type": "stream",
          "name": "stderr",
          "text": [
            "469it [00:12, 38.39it/s]                         \n",
            "79it [00:01, 53.29it/s]                        \n"
          ]
        },
        {
          "output_type": "stream",
          "name": "stdout",
          "text": [
            "Train Loss: 19118.2099\n",
            "Val Loss: 18980.8534\n",
            "Epoch 65 of 100\n"
          ]
        },
        {
          "output_type": "stream",
          "name": "stderr",
          "text": [
            "469it [00:12, 36.42it/s]                         \n",
            "79it [00:01, 54.03it/s]                        \n"
          ]
        },
        {
          "output_type": "stream",
          "name": "stdout",
          "text": [
            "Train Loss: 19116.7019\n",
            "Val Loss: 18958.2654\n",
            "Epoch 66 of 100\n"
          ]
        },
        {
          "output_type": "stream",
          "name": "stderr",
          "text": [
            "469it [00:12, 38.41it/s]\n",
            "79it [00:01, 53.14it/s]                        \n"
          ]
        },
        {
          "output_type": "stream",
          "name": "stdout",
          "text": [
            "Train Loss: 19110.2078\n",
            "Val Loss: 18975.3355\n",
            "Epoch 67 of 100\n"
          ]
        },
        {
          "output_type": "stream",
          "name": "stderr",
          "text": [
            "469it [00:12, 38.20it/s]\n",
            "79it [00:01, 54.18it/s]                        \n"
          ]
        },
        {
          "output_type": "stream",
          "name": "stdout",
          "text": [
            "Train Loss: 19105.8816\n",
            "Val Loss: 18956.1581\n",
            "Epoch 68 of 100\n"
          ]
        },
        {
          "output_type": "stream",
          "name": "stderr",
          "text": [
            "469it [00:12, 36.12it/s]                         \n",
            "79it [00:01, 54.91it/s]                        \n"
          ]
        },
        {
          "output_type": "stream",
          "name": "stdout",
          "text": [
            "Train Loss: 19100.7613\n",
            "Val Loss: 18957.0499\n",
            "Epoch 69 of 100\n"
          ]
        },
        {
          "output_type": "stream",
          "name": "stderr",
          "text": [
            "469it [00:12, 38.67it/s]                         \n",
            "79it [00:01, 53.50it/s]                        \n"
          ]
        },
        {
          "output_type": "stream",
          "name": "stdout",
          "text": [
            "Train Loss: 19090.4080\n",
            "Val Loss: 18947.8246\n",
            "Epoch 70 of 100\n"
          ]
        },
        {
          "output_type": "stream",
          "name": "stderr",
          "text": [
            "469it [00:12, 38.16it/s]                         \n",
            "79it [00:01, 53.09it/s]                        \n"
          ]
        },
        {
          "output_type": "stream",
          "name": "stdout",
          "text": [
            "Train Loss: 19088.5742\n",
            "Val Loss: 18991.6673\n",
            "Epoch 71 of 100\n"
          ]
        },
        {
          "output_type": "stream",
          "name": "stderr",
          "text": [
            "469it [00:12, 36.14it/s]\n",
            "79it [00:01, 54.39it/s]                        \n"
          ]
        },
        {
          "output_type": "stream",
          "name": "stdout",
          "text": [
            "Train Loss: 19084.0615\n",
            "Val Loss: 18964.2603\n",
            "Epoch 72 of 100\n"
          ]
        },
        {
          "output_type": "stream",
          "name": "stderr",
          "text": [
            "469it [00:12, 38.58it/s]                         \n",
            "79it [00:01, 53.61it/s]                        \n"
          ]
        },
        {
          "output_type": "stream",
          "name": "stdout",
          "text": [
            "Train Loss: 19088.7135\n",
            "Val Loss: 19014.5107\n",
            "Epoch 73 of 100\n"
          ]
        },
        {
          "output_type": "stream",
          "name": "stderr",
          "text": [
            "469it [00:12, 38.68it/s]\n",
            "79it [00:01, 52.92it/s]                        \n"
          ]
        },
        {
          "output_type": "stream",
          "name": "stdout",
          "text": [
            "Train Loss: 19076.6634\n",
            "Val Loss: 18972.7552\n",
            "Epoch 74 of 100\n"
          ]
        },
        {
          "output_type": "stream",
          "name": "stderr",
          "text": [
            "469it [00:14, 31.54it/s]                         \n",
            "79it [00:01, 53.02it/s]                        \n"
          ]
        },
        {
          "output_type": "stream",
          "name": "stdout",
          "text": [
            "Train Loss: 19086.6490\n",
            "Val Loss: 18953.6545\n",
            "Epoch 75 of 100\n"
          ]
        },
        {
          "output_type": "stream",
          "name": "stderr",
          "text": [
            "469it [00:12, 38.29it/s]                         \n",
            "79it [00:01, 54.40it/s]                        \n"
          ]
        },
        {
          "output_type": "stream",
          "name": "stdout",
          "text": [
            "Train Loss: 19065.5209\n",
            "Val Loss: 18973.0126\n",
            "Epoch 76 of 100\n"
          ]
        },
        {
          "output_type": "stream",
          "name": "stderr",
          "text": [
            "469it [00:12, 38.39it/s]                         \n",
            "79it [00:01, 53.46it/s]                        \n"
          ]
        },
        {
          "output_type": "stream",
          "name": "stdout",
          "text": [
            "Train Loss: 19063.9768\n",
            "Val Loss: 18915.3270\n",
            "Epoch 77 of 100\n"
          ]
        },
        {
          "output_type": "stream",
          "name": "stderr",
          "text": [
            "469it [00:12, 36.26it/s]                         \n",
            "79it [00:01, 53.58it/s]                        \n"
          ]
        },
        {
          "output_type": "stream",
          "name": "stdout",
          "text": [
            "Train Loss: 19063.2726\n",
            "Val Loss: 18939.9991\n",
            "Epoch 78 of 100\n"
          ]
        },
        {
          "output_type": "stream",
          "name": "stderr",
          "text": [
            "469it [00:12, 38.53it/s]                         \n",
            "79it [00:01, 53.82it/s]                        \n"
          ]
        },
        {
          "output_type": "stream",
          "name": "stdout",
          "text": [
            "Train Loss: 19065.4998\n",
            "Val Loss: 18941.6862\n",
            "Epoch 79 of 100\n"
          ]
        },
        {
          "output_type": "stream",
          "name": "stderr",
          "text": [
            "469it [00:12, 38.44it/s]                         \n",
            "79it [00:01, 53.11it/s]                        \n"
          ]
        },
        {
          "output_type": "stream",
          "name": "stdout",
          "text": [
            "Train Loss: 19056.5089\n",
            "Val Loss: 18954.0128\n",
            "Epoch 80 of 100\n"
          ]
        },
        {
          "output_type": "stream",
          "name": "stderr",
          "text": [
            "469it [00:12, 38.41it/s]                         \n",
            "79it [00:01, 53.34it/s]                        \n"
          ]
        },
        {
          "output_type": "stream",
          "name": "stdout",
          "text": [
            "Train Loss: 19057.3144\n",
            "Val Loss: 18940.5277\n",
            "Epoch 81 of 100\n"
          ]
        },
        {
          "output_type": "stream",
          "name": "stderr",
          "text": [
            "469it [00:12, 38.08it/s]                         \n",
            "79it [00:01, 53.85it/s]                        \n"
          ]
        },
        {
          "output_type": "stream",
          "name": "stdout",
          "text": [
            "Train Loss: 19050.9747\n",
            "Val Loss: 18914.8690\n",
            "Epoch 82 of 100\n"
          ]
        },
        {
          "output_type": "stream",
          "name": "stderr",
          "text": [
            "469it [00:13, 35.96it/s]                         \n",
            "79it [00:01, 53.29it/s]                        \n"
          ]
        },
        {
          "output_type": "stream",
          "name": "stdout",
          "text": [
            "Train Loss: 19043.5041\n",
            "Val Loss: 19011.3991\n",
            "Epoch 83 of 100\n"
          ]
        },
        {
          "output_type": "stream",
          "name": "stderr",
          "text": [
            "469it [00:12, 38.27it/s]                         \n",
            "79it [00:01, 53.16it/s]                        \n"
          ]
        },
        {
          "output_type": "stream",
          "name": "stdout",
          "text": [
            "Train Loss: 19045.2611\n",
            "Val Loss: 18939.1696\n",
            "Epoch 84 of 100\n"
          ]
        },
        {
          "output_type": "stream",
          "name": "stderr",
          "text": [
            "469it [00:12, 38.19it/s]\n",
            "79it [00:01, 53.27it/s]                        \n"
          ]
        },
        {
          "output_type": "stream",
          "name": "stdout",
          "text": [
            "Train Loss: 19039.8484\n",
            "Val Loss: 18925.1168\n",
            "Epoch 85 of 100\n"
          ]
        },
        {
          "output_type": "stream",
          "name": "stderr",
          "text": [
            "469it [00:12, 36.30it/s]                         \n",
            "79it [00:01, 53.17it/s]                        \n"
          ]
        },
        {
          "output_type": "stream",
          "name": "stdout",
          "text": [
            "Train Loss: 19036.7086\n",
            "Val Loss: 18944.7779\n",
            "Epoch 86 of 100\n"
          ]
        },
        {
          "output_type": "stream",
          "name": "stderr",
          "text": [
            "469it [00:12, 38.20it/s]\n",
            "79it [00:01, 52.65it/s]                        \n"
          ]
        },
        {
          "output_type": "stream",
          "name": "stdout",
          "text": [
            "Train Loss: 19033.4863\n",
            "Val Loss: 18898.3058\n",
            "Epoch 87 of 100\n"
          ]
        },
        {
          "output_type": "stream",
          "name": "stderr",
          "text": [
            "469it [00:12, 38.38it/s]                         \n",
            "79it [00:01, 53.38it/s]                        \n"
          ]
        },
        {
          "output_type": "stream",
          "name": "stdout",
          "text": [
            "Train Loss: 19031.1401\n",
            "Val Loss: 18910.8216\n",
            "Epoch 88 of 100\n"
          ]
        },
        {
          "output_type": "stream",
          "name": "stderr",
          "text": [
            "469it [00:13, 34.19it/s]                         \n",
            "79it [00:01, 48.89it/s]                        \n"
          ]
        },
        {
          "output_type": "stream",
          "name": "stdout",
          "text": [
            "Train Loss: 19026.6452\n",
            "Val Loss: 18901.2271\n",
            "Epoch 89 of 100\n"
          ]
        },
        {
          "output_type": "stream",
          "name": "stderr",
          "text": [
            "469it [00:12, 36.39it/s]                         \n",
            "79it [00:01, 53.72it/s]                        \n"
          ]
        },
        {
          "output_type": "stream",
          "name": "stdout",
          "text": [
            "Train Loss: 19026.7023\n",
            "Val Loss: 18918.1823\n",
            "Epoch 90 of 100\n"
          ]
        },
        {
          "output_type": "stream",
          "name": "stderr",
          "text": [
            "469it [00:12, 38.09it/s]\n",
            "79it [00:01, 53.30it/s]                        \n"
          ]
        },
        {
          "output_type": "stream",
          "name": "stdout",
          "text": [
            "Train Loss: 19015.1046\n",
            "Val Loss: 18910.3300\n",
            "Epoch 91 of 100\n"
          ]
        },
        {
          "output_type": "stream",
          "name": "stderr",
          "text": [
            "469it [00:12, 36.39it/s]                         \n",
            "79it [00:01, 53.83it/s]                        \n"
          ]
        },
        {
          "output_type": "stream",
          "name": "stdout",
          "text": [
            "Train Loss: 19015.0917\n",
            "Val Loss: 18864.7953\n",
            "Epoch 92 of 100\n"
          ]
        },
        {
          "output_type": "stream",
          "name": "stderr",
          "text": [
            "469it [00:12, 38.13it/s]                         \n",
            "79it [00:01, 53.13it/s]                        \n"
          ]
        },
        {
          "output_type": "stream",
          "name": "stdout",
          "text": [
            "Train Loss: 19016.9803\n",
            "Val Loss: 18928.0968\n",
            "Epoch 93 of 100\n"
          ]
        },
        {
          "output_type": "stream",
          "name": "stderr",
          "text": [
            "469it [00:12, 38.36it/s]                         \n",
            "79it [00:01, 54.10it/s]                        \n"
          ]
        },
        {
          "output_type": "stream",
          "name": "stdout",
          "text": [
            "Train Loss: 19019.6105\n",
            "Val Loss: 18961.3275\n",
            "Epoch 94 of 100\n"
          ]
        },
        {
          "output_type": "stream",
          "name": "stderr",
          "text": [
            "469it [00:13, 36.04it/s]                         \n",
            "79it [00:01, 53.34it/s]                        \n"
          ]
        },
        {
          "output_type": "stream",
          "name": "stdout",
          "text": [
            "Train Loss: 19009.4326\n",
            "Val Loss: 18896.7140\n",
            "Epoch 95 of 100\n"
          ]
        },
        {
          "output_type": "stream",
          "name": "stderr",
          "text": [
            "469it [00:12, 38.59it/s]                         \n",
            "79it [00:01, 52.67it/s]                        \n"
          ]
        },
        {
          "output_type": "stream",
          "name": "stdout",
          "text": [
            "Train Loss: 19016.1511\n",
            "Val Loss: 18923.1444\n",
            "Epoch 96 of 100\n"
          ]
        },
        {
          "output_type": "stream",
          "name": "stderr",
          "text": [
            "469it [00:12, 38.10it/s]                         \n",
            "79it [00:01, 53.51it/s]                        \n"
          ]
        },
        {
          "output_type": "stream",
          "name": "stdout",
          "text": [
            "Train Loss: 19001.5731\n",
            "Val Loss: 18909.8181\n",
            "Epoch 97 of 100\n"
          ]
        },
        {
          "output_type": "stream",
          "name": "stderr",
          "text": [
            "469it [00:13, 35.97it/s]                         \n",
            "79it [00:01, 52.46it/s]                        \n"
          ]
        },
        {
          "output_type": "stream",
          "name": "stdout",
          "text": [
            "Train Loss: 19004.9522\n",
            "Val Loss: 18897.7692\n",
            "Epoch 98 of 100\n"
          ]
        },
        {
          "output_type": "stream",
          "name": "stderr",
          "text": [
            "469it [00:12, 38.04it/s]                         \n",
            "79it [00:01, 53.43it/s]                        \n"
          ]
        },
        {
          "output_type": "stream",
          "name": "stdout",
          "text": [
            "Train Loss: 18998.6614\n",
            "Val Loss: 18902.6390\n",
            "Epoch 99 of 100\n"
          ]
        },
        {
          "output_type": "stream",
          "name": "stderr",
          "text": [
            "469it [00:12, 37.80it/s]                         \n",
            "79it [00:01, 52.52it/s]                        \n"
          ]
        },
        {
          "output_type": "stream",
          "name": "stdout",
          "text": [
            "Train Loss: 18998.5363\n",
            "Val Loss: 18922.8651\n",
            "Epoch 100 of 100\n"
          ]
        },
        {
          "output_type": "stream",
          "name": "stderr",
          "text": [
            "469it [00:13, 34.07it/s]                         \n",
            "79it [00:01, 52.76it/s]                        "
          ]
        },
        {
          "output_type": "stream",
          "name": "stdout",
          "text": [
            "Train Loss: 18992.0451\n",
            "Val Loss: 18878.4290\n",
            "Total time: 1402.628s\n"
          ]
        },
        {
          "output_type": "stream",
          "name": "stderr",
          "text": [
            "\n"
          ]
        }
      ]
    },
    {
      "cell_type": "markdown",
      "source": [
        "# 3.Use Automatic Mixed Precision (AMP)\n",
        "\n",
        "The model will decide on which is optimum.\n",
        "\n",
        "recommended resource: https://pytorch.org/blog/accelerating-training-on-nvidia-gpus-with-pytorch-automatic-mixed-precision/"
      ],
      "metadata": {
        "id": "tWglKTP6IZlT"
      }
    },
    {
      "cell_type": "code",
      "source": [
        "import torch\n",
        "# Creates once at the beginning of training\n",
        "scaler = torch.cuda.amp.GradScaler()\n",
        "\n",
        "for data, label in data_iter:\n",
        "   optimizer.zero_grad()\n",
        "   # Casts operations to mixed precision\n",
        "   with torch.cuda.amp.autocast():\n",
        "      loss = model(data)\n",
        "\n",
        "   # Scales the loss, and calls backward()\n",
        "   # to create scaled gradients\n",
        "   scaler.scale(loss).backward()\n",
        "\n",
        "   # Unscales gradients and calls\n",
        "   # or skips optimizer.step()\n",
        "   scaler.step(optimizer)\n",
        "\n",
        "   # Updates the scale for next iteration\n",
        "   scaler.update()"
      ],
      "metadata": {
        "id": "CsRsWrdJIgH1"
      },
      "execution_count": null,
      "outputs": []
    },
    {
      "cell_type": "markdown",
      "source": [
        "# 4.Try Different Optimizer\n",
        "\n",
        "NVIDA's APEX implements fused version of Pytorch's optimizers, by which some operations are skipped, which increases the speed.\n",
        "\n"
      ],
      "metadata": {
        "id": "Eh15-9h0IygZ"
      }
    },
    {
      "cell_type": "code",
      "source": [],
      "metadata": {
        "id": "fkUdZPljJTy2"
      },
      "execution_count": null,
      "outputs": []
    },
    {
      "cell_type": "markdown",
      "source": [
        "# 5.Turn on cudNN Benchmarking\n",
        "\n",
        "set `torch.backends.cudnn.benchmark = True`\n",
        "\n",
        "![Screen Shot 2022-10-02 at 8.27.21 PM.png](data:image/png;base64,iVBORw0KGgoAAAANSUhEUgAACc4AAAI/CAYAAABEA9jUAAAMQWlDQ1BJQ0MgUHJvZmlsZQAASImVVwdYU8kWnluSkJCEEkBASuhNEJASQEoILYD0IohKSAKEEmMgqNjRRQXXLhawoasiih0QC4rYWRR7XyyoKOtiwa68SQFd95XvzffNnf/+c+Y/Z86dufcOABrHeRJJHqoJQL64UBoXGsgcnZLKJD0BZEAHVOACrHn8Agk7JiYSwDLQ/r28uw4QeXvFUa71z/7/WrQEwgI+AEgMxBmCAn4+xAcAwKv4EmkhAEQ5bzGpUCLHsAIdKQwQ4vlynKXEVXKcocR7FDYJcRyIWwFQo/J40iwA6JcgzyziZ0ENei/EzmKBSAyABhNiv/z8CQKI0yG2hTYSiOX6rIwfdLL+ppkxqMnjZQ1i5VwURS1IVCDJ4035P9Pxv0t+nmzAhzWs1GxpWJx8zjBvN3MnRMgxFeIecUZUNMTaEH8QCRT2EKOUbFlYotIeNeIXcGDOgB7EzgJeUATERhCHiPOiIlV8RqYohAsxXCHoZFEhNwFifYjnCwuC41U2G6UT4lS+0PpMKYet4s/ypAq/cl/3ZbmJbJX+62whV6WP0YuzE5IhpkBsWSRKioKYDrFTQW58hMpmZHE2J2rARiqLk8dvCXGcUBwaqNTHijKlIXEq+7L8goH5YhuzRdwoFd5XmJ0QpswP1srnKeKHc8EuCcXsxAEdYcHoyIG5CIRBwcq5Y8+E4sR4lc4HSWFgnHIsTpHkxajscXNhXqicN4fYraAoXjUWTyqEC1Kpj2dKCmMSlHHixTm88BhlPPgSEAk4IAgwgQzWDDAB5ABRe09DD7xT9oQAHpCCLCAEjipmYESyokcMr/GgGPwJkRAUDI4LVPQKQRHkvw6yyqsjyFT0FilG5IInEOeDCJAH72WKUeJBb0ngMWRE//DOg5UP482DVd7/7/kB9jvDhkykipENeGRqDFgSg4lBxDBiCNEON8T9cB88El4DYHXFWbjXwDy+2xOeEDoIDwnXCJ2EW+NFJdKfohwFOqF+iCoXGT/mAreGmu54IO4L1aEyrocbAkfcDfph4/7QsztkOaq45Vlh/qT9txn88DRUdmRnMkoeQg4g2/48km5Pdx9Ukef6x/woY80YzDdnsOdn/5wfsi+AbcTPlth8bD92BjuBncOOYA2AiTVjjVgbdlSOB1fXY8XqGvAWp4gnF+qI/uFv4MnKM1ngXOvc7fxF2VconCx/RwPOBMkUqSgru5DJhl8EIZMr5jsNY7o6u7oCIP++KF9fb2IV3w1Er+07N+cPAHyb+/v7D3/nwpsB2OsJt/+h75wtC3461AE4e4gvkxYpOVx+IcC3hAbcaQbABFgAWzgfV+ABfEAACAbhIBokgBQwDkafDde5FEwC08BsUArKwRKwEqwFG8BmsB3sAvtAAzgCToDT4AK4BK6BO3D1dIEXoBe8A58RBCEhNISBGCCmiBXigLgiLMQPCUYikTgkBUlHshAxIkOmIXOQcmQZshbZhNQge5FDyAnkHNKB3EIeIN3Ia+QTiqFUVAc1Rq3R4SgLZaMRaAI6Fs1CJ6LF6Fx0EboarUZ3ovXoCfQCeg3tRF+gfRjA1DE9zAxzxFgYB4vGUrFMTIrNwMqwCqwaq8Oa4HO+gnViPdhHnIgzcCbuCFdwGJ6I8/GJ+Ax8Ib4W347X4634FfwB3ot/I9AIRgQHgjeBSxhNyCJMIpQSKghbCQcJp+Be6iK8IxKJekQboifciynEHOJU4kLiOuJu4nFiB/ERsY9EIhmQHEi+pGgSj1RIKiWtIe0kNZMuk7pIH9TU1UzVXNVC1FLVxGolahVqO9SOqV1We6r2maxJtiJ7k6PJAvIU8mLyFnIT+SK5i/yZokWxofhSEig5lNmU1ZQ6yinKXcobdXV1c3Uv9Vh1kfos9dXqe9TPqj9Q/0jVptpTOdQ0qoy6iLqNepx6i/qGRqNZ0wJoqbRC2iJaDe0k7T7tA51Bd6Jz6QL6THolvZ5+mf5Sg6xhpcHWGKdRrFGhsV/jokaPJlnTWpOjydOcoVmpeUjzhmafFkPLRStaK19rodYOrXNaz7RJ2tbawdoC7bnam7VPaj9iYAwLBofBZ8xhbGGcYnTpEHVsdLg6OTrlOrt02nV6dbV13XSTdCfrVuoe1e3Uw/Ss9bh6eXqL9fbpXdf7NMR4CHuIcMiCIXVDLg95rz9UP0BfqF+mv1v/mv4nA6ZBsEGuwVKDBoN7hrihvWGs4STD9YanDHuG6gz1GcofWjZ039DbRqiRvVGc0VSjzUZtRn3GJsahxhLjNcYnjXtM9EwCTHJMVpgcM+k2ZZj6mYpMV5g2mz5n6jLZzDzmamYrs9fMyCzMTGa2yazd7LO5jXmieYn5bvN7FhQLlkWmxQqLFoteS1PLUZbTLGstb1uRrVhW2VarrM5Yvbe2sU62nmfdYP3MRt+Ga1NsU2tz15Zm62870bba9qod0Y5ll2u3zu6SPWrvbp9tX2l/0QF18HAQOaxz6BhGGOY1TDysetgNR6oj27HIsdbxgZOeU6RTiVOD08vhlsNThy8dfmb4N2d35zznLc53XLRdwl1KXJpcXrvau/JdK12vjqCNCBkxc0TjiFduDm5Ct/VuN90Z7qPc57m3uH/18PSQetR5dHtaeqZ7VnneYOmwYlgLWWe9CF6BXjO9jnh99PbwLvTe5/2Xj6NPrs8On2cjbUYKR24Z+cjX3Jfnu8m304/pl+630a/T38yf51/t/zDAIkAQsDXgKduOncPeyX4Z6BwoDTwY+J7jzZnOOR6EBYUGlQW1B2sHJwavDb4fYh6SFVIb0hvqHjo19HgYISwibGnYDa4xl8+t4faGe4ZPD2+NoEbER6yNeBhpHymNbBqFjgoftXzU3SirKHFUQzSI5kYvj74XYxMzMeZwLDE2JrYy9kmcS9y0uDPxjPjx8Tvi3yUEJixOuJNomyhLbEnSSEpLqkl6nxyUvCy5c/Tw0dNHX0gxTBGlNKaSUpNSt6b2jQkes3JMV5p7Wmna9bE2YyePPTfOcFzeuKPjNcbzxu9PJ6Qnp+9I/8KL5lXz+jK4GVUZvXwOfxX/hSBAsELQLfQVLhM+zfTNXJb5LMs3a3lWd7Z/dkV2j4gjWit6lROWsyHnfW507rbc/rzkvN35avnp+YfE2uJccesEkwmTJ3RIHCSlks6J3hNXTuyVRki3FiAFYwsaC3Xgj3ybzFb2i+xBkV9RZdGHSUmT9k/Wmiye3DbFfsqCKU+LQ4p/m4pP5U9tmWY2bfa0B9PZ0zfNQGZkzGiZaTFz7syuWaGzts+mzM6d/XuJc8mykrdzkuc0zTWeO2vuo19Cf6ktpZdKS2/M85m3YT4+XzS/fcGIBWsWfCsTlJ0vdy6vKP+ykL/w/K8uv67+tX9R5qL2xR6L1y8hLhEvub7Uf+n2ZVrLipc9Wj5qef0K5oqyFW9Xjl95rsKtYsMqyirZqs7Vkasb11iuWbLmy9rstdcqAyt3VxlVLah6v06w7vL6gPV1G4w3lG/4tFG08eam0E311dbVFZuJm4s2P9mStOXMb6zfarYabi3f+nWbeFvn9rjtrTWeNTU7jHYsrkVrZbXdO9N2XtoVtKuxzrFu02693eV7wB7Znud70/de3xexr2U/a3/dAasDVQcZB8vqkfop9b0N2Q2djSmNHYfCD7U0+TQdPOx0eNsRsyOVR3WPLj5GOTb3WH9zcXPfccnxnhNZJx61jG+5c3L0yautsa3tpyJOnT0dcvrkGfaZ5rO+Z4+c8z536DzrfMMFjwv1be5tB393//1gu0d7/UXPi42XvC41dYzsOHbZ//KJK0FXTl/lXr1wLepax/XE6zdvpN3ovCm4+exW3q1Xt4tuf74z6y7hbtk9zXsV943uV/9h98fuTo/Oow+CHrQ9jH945xH/0YvHBY+/dM19QntS8dT0ac0z12dHukO6Lz0f87zrheTF557SP7X+rHpp+/LAXwF/tfWO7u16JX3V/3rhG4M32966vW3pi+m7/y7/3ef3ZR8MPmz/yPp45lPyp6efJ30hfVn91e5r07eIb3f78/v7JTwpT/ErgMGKZmYC8HobALQUABjwfEYZozz/KQqiPLMqEPhPWHlGVBQPAOrg/3tsD/y7uQHAni3w+AX1NdIAiKEBkOAF0BEjBuvAWU1xrpQXIjwHbOR+zcjPAP+mKM+cP8T9cwvkqm7g5/Zfyup8exj5+SsAAACWZVhJZk1NACoAAAAIAAUBEgADAAAAAQABAAABGgAFAAAAAQAAAEoBGwAFAAAAAQAAAFIBKAADAAAAAQACAACHaQAEAAAAAQAAAFoAAAAAAAAAkAAAAAEAAACQAAAAAQADkoYABwAAABIAAACEoAIABAAAAAEAAAnOoAMABAAAAAEAAAI/AAAAAEFTQ0lJAAAAU2NyZWVuc2hvdNJuHJoAAAAJcEhZcwAAFiUAABYlAUlSJPAAAALdaVRYdFhNTDpjb20uYWRvYmUueG1wAAAAAAA8eDp4bXBtZXRhIHhtbG5zOng9ImFkb2JlOm5zOm1ldGEvIiB4OnhtcHRrPSJYTVAgQ29yZSA2LjAuMCI+CiAgIDxyZGY6UkRGIHhtbG5zOnJkZj0iaHR0cDovL3d3dy53My5vcmcvMTk5OS8wMi8yMi1yZGYtc3ludGF4LW5zIyI+CiAgICAgIDxyZGY6RGVzY3JpcHRpb24gcmRmOmFib3V0PSIiCiAgICAgICAgICAgIHhtbG5zOmV4aWY9Imh0dHA6Ly9ucy5hZG9iZS5jb20vZXhpZi8xLjAvIgogICAgICAgICAgICB4bWxuczp0aWZmPSJodHRwOi8vbnMuYWRvYmUuY29tL3RpZmYvMS4wLyI+CiAgICAgICAgIDxleGlmOlVzZXJDb21tZW50PlNjcmVlbnNob3Q8L2V4aWY6VXNlckNvbW1lbnQ+CiAgICAgICAgIDxleGlmOlBpeGVsWERpbWVuc2lvbj4yODgwPC9leGlmOlBpeGVsWERpbWVuc2lvbj4KICAgICAgICAgPGV4aWY6UGl4ZWxZRGltZW5zaW9uPjE4MDA8L2V4aWY6UGl4ZWxZRGltZW5zaW9uPgogICAgICAgICA8dGlmZjpSZXNvbHV0aW9uVW5pdD4yPC90aWZmOlJlc29sdXRpb25Vbml0PgogICAgICAgICA8dGlmZjpYUmVzb2x1dGlvbj4xNDQvMTwvdGlmZjpYUmVzb2x1dGlvbj4KICAgICAgICAgPHRpZmY6WVJlc29sdXRpb24+MTQ0LzE8L3RpZmY6WVJlc29sdXRpb24+CiAgICAgICAgIDx0aWZmOk9yaWVudGF0aW9uPjE8L3RpZmY6T3JpZW50YXRpb24+CiAgICAgIDwvcmRmOkRlc2NyaXB0aW9uPgogICA8L3JkZjpSREY+CjwveDp4bXBtZXRhPgqLxgFpAABAAElEQVR4AezdBdwc1dn38SvunpCEEAUSIMEiFNeixaEUSnmBFmuh8ODSFisEKwUKFArFoU+RAsGdIiE4CYRAEpJAiLu7vPsfnr2ZHdmdtdnZ+/4dPmFnztiZ78g9cs059dankpEQQAABBBBAAAEEEEAAAQQQQAABBBBAAAEEEEAAAQQQQAABBBBAAAEEEEAAAQQQqCMC9evIerKaCCCAAAIIIIAAAggggAACCCCAAAIIIIAAAggggAACCCCAAAIIIIAAAggggAACCDgCBM6xIyCAAAIIIIAAAggggAACCCCAAAIIIIAAAggggAACCCCAAAIIIIAAAggggAACCNQpAQLn6tTmZmURQAABBBBAAAEEEEAAAQQQQAABBBBAAAEEEEAAAQQQQAABBBBAAAEEEEAAAQQInGMfQAABBBBAAAEEEEAAAQQQQAABBBBAAAEEEEAAAQQQQAABBBBAAAEEEEAAAQQQqFMCBM7Vqc3NyiKAAAIIIIAAAggggAACCCCAAAIIIIAAAggggAACCCCAAAIIIIAAAggggAACCBA4xz6AAAIIIIAAAggggAACCCCAAAIIIIAAAggggAACCCCAAAIIIIAAAggggAACCCBQpwQInKtTm5uVRQABBBBAAAEEEEAAAQQQQAABBBBAAAEEEEAAAQQQQAABBBBAAAEEEEAAAQQQIHCOfQABBBBAAAEEEEAAAQQQQAABBBBAAAEEEEAAAQQQQAABBBBAAAEEEEAAAQQQQKBOCRA4V6c2NyuLAAIIIIAAAggggAACCCCAAAIIIIAAAggggAACCCCAAAIIIIAAAggggAACCCBA4Bz7AAIIIIAAAggggAACCCCAAAIIIIAAAggggAACCCCAAAIIIIAAAggggAACCCCAQJ0SIHCuTm1uVhYBBBBAAAEEEEAAAQQQQAABBBBAAAEEEEAAAQQQQAABBBBAAAEEEEAAAQQQQIDAOfYBBBBAAAEEEEAAAQQQQAABBBBAAAEEEEAAAQQQQAABBBBAAAEEEEAAAQQQQACBOiVA4Fyd2tysLAIIIIAAAggggAACCCCAAAIIIIAAAggggAACCCCAAAIIIIAAAggggAACCCCAAIFz7AMIIIAAAggggAACCCCAAAIIIIAAAggggAACCCCAAAIIIIAAAggggAACCCCAAAJ1SoDAuTq1uVlZBBBAAAEEEEAAAQQQQAABBBBAAAEEEEAAAQQQQAABBBBAAAEEEEAAAQQQQAABAufYBxBAAAEEEEAAAQQQQAABBBBAAAEEEEAAAQQQQAABBBBAAAEEEEAAAQQQQAABBOqUAIFzdWpzs7IIIIAAAggggAACCCCAAAIIIIAAAggggAACCCCAAAIIIIAAAggggAACCCCAAAIEzrEPIIAAAggggAACCCCAAAIIIIAAAggggAACCCCAAAIIIIAAAggggAACCCCAAAII1CkBAufq1OZmZRFAAAEEEEAAAQQQQAABBBBAAAEEEEAAAQQQQAABBBBAAAEEEEAAAQQQQAABBAicYx9AAAEEEEAAAQQQQAABBBBAAAEEEEAAAQQQQAABBBBAAAEEEEAAAQQQQAABBBCoUwIEztWpzc3KIoAAAggggAACCCCAAAIIIIAAAggggAACCCCAAAIIIIAAAggggAACCCCAAAIIEDjHPoAAAggggAACCCCAAAIIIIAAAggggAACCCCAAAIIIIAAAggggAACCCCAAAIIIFCnBAicq1Obm5VFAAEEEEAAAQQQQAABBBBAAAEEEEAAAQQQQAABBBBAAAEEEEAAAQQQQAABBBAgcI59AAEEEEAAAQQQQAABBBBAAAEEEEAAAQQQQAABBBBAAAEEEEAAAQQQQAABBBBAoE4JEDhXpzY3K4sAAggggAACCCCAAAIIIIAAAggggAACCCCAAAIIIIAAAggggAACCCCAAAIIIEDgHPsAAggggAACCCCAAAIIIIAAAggggAACCCCAAAIIIIAAAggggAACCCCAAAIIIIBAnRIgcK5ObW5WNi2wevXqdCe/CCCAAAIIIIAAAggggAACCCCAAAIIIIAAAggggAACCCCAAAIIIIAAAgggUMcEGtax9WV166DA+vXr7fvvv7fRo0fbl19+6fw2a9bM7rzzzjqowSojgAACCCCAAAIIIIAAAggggAACCCCAAAIIIIAAAggggAACCCCAAAIIIIBAVQTO3X333bZo0aKSbq0hQ4bYrrvuWtJ5MrPkCUyYMMH++Mc/+vafli1bJq+wlAgBBBBAAAEEEEAAAQQQQAABBBBAAAEEEEAAAQQQQAABBBBAAAEEEEAAAQRiEaiKwLnhw4fb7NmzSwoyffp0AudKKprMmS1btswXNJfMklIqBBBAAAEEEEAAAQQQQAABBBBAAAEEEEAAAQQQQAABBBBAAAEEEEAAAQQQiEugflwLYjkIIIAAAggggAACCCCAAAIIIIAAAggggAACCCCAAAIIIIAAAggggAACCCCAAAIIJEGAwLkkbAXKgAACCCCAAAIIIIAAAggggAACCCCAAAIIIIAAAggggAACCCCAAAIIIIAAAgggEJsAgXOxUbMgBBBAAAEEEEAAAQQQQAABBBBAAAEEEEAAAQQQQAABBBBAAAEEEEAAAQQQQACBJAgQOJeErUAZEEAAAQQQQAABBBBAAAEEEEAAAQQQQAABBBBAAAEEEEAAAQQQQAABBBBAAAEEYhNoGNuSyrCgvffe24455piC5tyoUaOCpmMiBBBAAAEEEEAAAQQQQAABBBBAAAEEEEAAAQQQQAABBBBAAAEEEEAAAQQQQACB6hao6sC5tm3bWufOnat7C1B6BBBAAAEEEEAAAQQQQAABBBBAAAEEEEAAAQQQQAABBBBAAAEEEEAAAQQQQACBWAWqOnAuVqkyL2z9+vW2ePFiW7Bggam7SZMm1qlTJ2vQoEFZlzxnzhxbvny5denSxfKphU/TrVixwglczGe6qCuzdOlSmz17tmPQokWLqJPFNt7q1audbaVyajuVooza7t9//72zDt27d7d69erFtj4sCAEEEEAAAQQQQAABBBBAAAEEEEAAAQQQQAABBBBAAAEEEEAAAQQQQACBuiRQ5wPnpk6danfeeaetW7fOt907duxoZ511ltWvX983zJ3x/vvv27PPPuvOqunu2rWrnXHGGTX96Y4lS5aYpnv33Xdt4sSJThDW2rVr04OdXwXP9enTxzbddFMbMGCA7bjjjpGCqRSAd8sttzgBcekZHnrooTZkyBBbs2aNPfXUUzZy5EhnuYsWLXJG0TpusMEGpoAtLfOwww6zVq1apSe3SZMm2RtvvOFMo/K6p1PQXY8ePWzfffe17bbbrmaaoI633nrLXnnlFd+gPfbYwzbffHN78MEHbdy4cTZr1qyacdq1a+eUa6ONNrKePXvaT3/6U2vatGnN8Lg6xo4dayr/hx9+aNOnT89YbIcOHZwyqnxaj5133jnStkrP5KOPPrK//e1vNm/ePCdL8zvzzDNt8ODB6VH4RQABBBBAAAEEEEAAAQQQQAABBBBAAAEEEEAAAQQQQAABBBBAAAEEEEAAgRIJ1PnAOQVlKQjKGwiV9lUg2ZFHHpnu9f1OmzbNbrzxRlu2bJlvmDIOOeQQX/6XX35pF198sXkD5bwjrly50r766ivn3zPPPGP9+/d3gvAUpJYtKRhwxIgRGaMoEE3N2qqs33zzTcYw9ShwcMaMGc4/BXEpuO23v/2tDRw40Anoevvtt33TpKeTgf4pEHC33XazU0891dq0aRM4/vDhw52gPe9AradqXFu1apV3kM2fP9/59/nnnzvDnnzySSegceutt/aNW44Mrds999zjrF/Y/OfOnWv6p4DEYcOGOYGOCnzr1q1b2CQ1+ZMnT7arrrrKCWpMZ2peyrvttttMAYMkBBBAAAEEEEAAAQQQQAABBBBAAAEEEEAAAQQQQAABBBBAAAEEEEAAAQQQKJ1A9qrUSrecxM6pefPmdsEFF4Q2ifrQQw/Zt99+G1h+BbZdffXVoUFzxxxzTGANbBtuuGHOoLmgBSrgTrXXvfbaa0GDs+Yp+EuBcEFBc0ETKlht6NChdvTRR1tY0FzQdKqRTbX0qfnXfJIsg4LmguYxc+ZMu+SSS5ygsrCAxaDpCsn7+OOPnZrfFBSYTxo9erT97ne/s3//+98ZAXFB81BNfqoJ0JvUHOybb77pzaYfAQQQQAABBBBAAAEEEEAAAQQQQAABBBBAAAEEEEAAAQQQQAABBBBAAAEEihSo84Fz8uvbt6/9v//3/wIpFdD0l7/8xRTE5E1///vfQ4PqBg0aZL/85S+9kzj9quVOzaEWklRL3e23326qpSyOFBTQlWu5s2fPtocffjjXaEUPf/HFF50maYueUcgMFNB2xRVX5B0EmJ6d7BR4ed9996WzAn/dzdJ6R1CQIAkBBBBAAAEEEEAAAQQQQAABBBBAAAEEEEAAAQQQQAABBBBAAAEEEEAAAQRKK1DVTbWqOVI1Lxol7bHHHvaTn/wkdNQjjjjCPv30Uxs1apRvnEmTJtkjjzxiJ5xwQs2wl156KbTmty5dutj5559v9euHxyUqsG7ixIk188unQzWzqSYz1ZSX1KSmZffee2/r1atXWYv47rvv2tdff22bbbZZSZejed5yyy1OE7bFzlhNt+64445OU7tB89L+EpayDQubhnwEEEAAAQQQQAABBBBAAAEEEEAAAQQQQAABBBBAAAEEEEAAAQQQQAABBBDILlDVgXNTpkwx/YuSNt1006yBc/Xq1bPzzjvPTj/9dFu0aJFvlk888YTT7OoWW2zhNHd65513+sZRRuPGje0Pf/iDtWrVKnB4OnPgwIH2+OOP2yabbGI777yz9e7d21QTnZqOXbhwoU2fPt1eeOEFGzNmTHqSjN/33nvPlixZYi1btszIj9LTpEkT22WXXWynnXay1q1bm5oVfeyxx2zp0qVZJ+/QoYPtuuuuNnjwYGc9FWT46KOPBtbGt27dOhs+fHhegXNal0MPPdS0rRo2bGiqbU0Oav41W61sqtHtuuuuy1r2fAYqMPGaa64JbD5V85HfIYccYgMGDHD8VqxY4dQA+OSTTwYGcq5fv95uuukmp2nZpk2b+oqy11572dNPP21qrtadtBwNIyGAAAIIIIAAAggggAACCCCAAAIIIIAAAggggAACCCCAAAIIIIAAAggggEBpBao6cK60FGbt27e3s88+22me0ztvBT/deOONdu2119rQoUMDg8U0zRlnnBGpGdb+/fs7zZkqWM6bunbt6tSgplrynnrqKfvnP//pHcVZvgLett9+e9+wbBkKlPvzn//sBOylx1NtbQqi+/3vfx/aLKnKdP311ztG6ekURKggOpnJx5umTp3qzQrt79evnxNwqOA8b1KTtwpcVHBfUJO5cvjggw+yBkZ655mtX03AzpkzJ3AUBThefvnl1rFjx4zhW265pe2zzz5299132/PPP58xTD0KAFSg5HHHHecb1q1bN7vsssvs5ptvrgkQVE1zZ511lsmdhAACCCCAAAIIIIAAAggggAACCCCAAAIIIIAAAggggAACCCCAAAIIIIAAAqUVCG9LtLTLqZq5bbfddnbggQcGllfNwqq5VtWEFpR+9rOfRa4hrEGDBk4Nc0HzcecddthhpqCsoKQmZPNJajpWgX+q5c6bFKCl2t6CkqZTsKACC71JtcPtvvvu3myn//vvvw/MD8rcdtttLShoTuOqFj8Fz/3iF78ImtTJU5OtpUiqKU9BekFJtQGqNkFv0Fx63EaNGtkpp5zi1JiXznP/KsAvLG299dammvMefPBB598999xjW221Vdjo5COAAAIIIIAAAggggAACCCCAAAIIIIAAAggggAACCCCAAAIIIIAAAggggEARAgTOBeD95je/sZ49ewYMCc/afPPNnaCp8DGyD1GNbfPnz7fx48c7TZwOGzbMHnjgAdOvmgINSt99911Qdmiemj/Ntl59+/YNnFbTbbDBBoHDlBkW2Kda1kqZFNjXpk2bwFkqqLEUacKECTZv3rzAWSmIMVcNcLI65phjAqePEuio4MGwAMLAmZKJAAIIIIAAAggggAACCCCAAAIIIIAAAggggAACCCCAAAIIIIAAAggggAACeQtUdVOtLVq0sFatWkVa6ZYtW0YaTyOphrOLLrrIaSpz1apVOadTc6sXX3yxKWgq3zR58mSnhrO33347sBnSbPNbtGhRtsF5D1MzroWksKC6tWvXFjK70GmaNWtme++9d2CNcGG1AIbOLGTAZ599FjLEnJr6ojQ/27Zt28B5LF261GbPnm2dOnUKHE4mAggggAACCCCAAAIIIIAAAggggAACCCCAAAIIIIAAAggggAACCCCAAAIIxCOQf6RXPOWKtJQDDjjAaTo10sh5jtSjRw87+eST7fbbb886pZoxVZBdvrWEjR071h599FH74IMPss4/28Dly5dnGxzbMAW0xZW6dOkSuKi5c+c6gYdqLrWYNGXKlNDJr7jiitBhUQeo1jkC56JqMR4CCCCAAAIIIIAAAggggAACCCCAAAIIIIAAAggggAACCCCAAAIIIIAAAuURoKnWLK4KzNthhx2yjGF20kkn2YABA7KO4x340Ucf2fnnn19U0JzmmZTAOe/6lbM/W9DZrFmzil70woULi55HthksXrw422CGIYAAAggggAACCCCAAAIIIIAAAggggAACCCCAAAIIIIAAAggggAACCCCAQAwCBM7lQN5vv/2yjqGmQ/NJX3zxhQ0dOtRK0YzpmjVr8ll0rRhXzeKGpVIEzpU7sK1NmzZhxScfAQQQQAABBBBAAAEEEEAAAQQQQAABBBBAAAEEEEAAAQQQQAABBBBAAAEEYhKo6qZay220ZMmSnE21Xn/99XbppZeammyNku644w5btWpV6KjdunWzQYMGWfv27a1169amMowePdo+/PDD0Gnq0gB5hKWmTZuGDYqcX69evcjjFjJi9+7dC5mMaRBAAAEEEEAAAQQQQAABBBBAAAEEEEAAAQQQQAABBBBAAAEEEEAAAQQQQKCEAgTOZcG86aabLFctZmp29YEHHrATTzwxy5x+GPTVV1/Zd999FzjeBhtsYOeee25gs68bbbQRgXP/p5ZteyjosNjUqlWr0FnsueeeocOiDFBteZ07d44yKuMggAACCCCAAAIIIIAAAggggAACCCCAAAIIIIAAAggggAACCCCAAAIIIIBAGQUInAvBHTZsmL3//vshQzOzn3jiCevdu7ftvvvumQM8fW+++aYn54feli1b2lVXXWVhgV/ZaqgLnGEtzgwLnFPAm2roKzaFzaNFixZ2zjnnWLlrpCu2/EyPAAIIIIAAAggggAACCCCAAAIIIIAAAggggAACCCCAAAIIIIAAAggggAACuQWitS+aez61aoxx48bZvffem9c63XzzzTZ+/Pis08yYMSNw+ODBg0OD5jTB9OnTA6era5lr1661sOBD1cpXitSrV6/A2SxdutQmTJgQOIxMBBBAAAEEEEAAAQQQQAABBBBAAAEEEEAAAQQQQAABBBBAAAEEEEAAAQQQqC4BAuc822vJkiV27bXX2po1azxDfujt0KFDYP7q1avtz3/+s82bNy9wuDIXLVoUOCysprn0yBMnTkx3ZvyGlTFjpFrU8/LLL4cGEeYy9DKsXLnSm+X0b7nlloH5yrz11ltD94vQiRiAAAIIIIAAAggggAACCCCAAAIIIIAAAggggAACCCCAAAIIIIAAAggggAACiRMgcM6zSVRz3MyZMz25P/Tusssuds8991i/fv0Ch8+dO9dpclVBdEGpbdu2Qdk2ZcqUwHxlfvPNN/buu+8GDl+2bFlgfjVmrl+/PmuxP/zwQ3vooYdCx9lqq61ChwUN0DZavny5b1CfPn0sLDhS2+Lvf/+75Wo6V8GXGu/hhx/2zT8sY8GCBfa3v/3NTjvtNOefgvQWLlwYNjr5CCCAAAIIIIAAAggggAACCCCAAAIIIIAAAggggAACCCCAAAIIIIAAAgggUIRAwyKmrfikarbzq6++Kqgce+65p+27774Z0w4bNsxGjBiRkZfuUTDV6aefbo0aNbJLLrnEzjrrLFOwkzeNHTvWqZnsnHPO8Q4yNQP60Ucf+fLfeust22677Wz33XfPGKZgsTvuuMPCgsoUOLdixQpr2rRpxnTV2POf//zHqc3toIMOsk6dOtm6detszpw5Tg1zzz33nL333nuhq7XZZpuZtme+6dtvv7XNN988Y7IGDRrYEUccYXfddVdGfrpHtd59+umndtxxx9m2225r7du3dwYpmG7atGk2ZswYJ2BOQW8NGza0/fbbzzp27JiePPBX2/Hss8+2WbNm1Qz//vvvbeTIkXbbbbdZs2bNavLpQAABBBBAAAEEEEAAAQQQQAABBBBAAAEEEEAAAQQQQAABBBBAAAEEEEAAgeIFqjpwToFV+ldI2mKLLTImGzdunN17770Zee6ec88911q1auVkKRDqoosucgLoFODlTa+//rr17t3bDjvssIxBCpwLSzfccIM9+uij1r17d1MzolOnTg1tljQ9DwXUqRa0AQMGpLOq9lfNzip4Tv+aNGlia9eujdQsav369e2MM86wevXqBa675hWW3n77bV/gnMZVQOUzzzxjM2bMCJx09uzZ9te//tUZpvk3b97c5s+f7xtX66RtqoDLbOmFF17ICJpLj6vlv/TSS779KD2cXwQQQAABBBBAAAEEEEAAAQQQQAABBBBAAAEEEEAAAQQQQAABBBBAAAEEEChMgKZaU25qWvPaa68NDdRSDWRbb711hvCWW25pv/nNbzLy3D0Kwvvkk0/cWTZw4EBr165dRp67Z/LkyTZ8+HD7+OOPcwbNpadT8FdtSwocVNBZlHTwwQc7QYph46ZrhAsarprsPvvsM98g1eD3hz/8wQng8w30ZKisQUFz6dFeeeWVwKC49HD9fpuq+S4sZRsWNg35CCCAAAIIIIAAAggggAACCCCAAAIIIIAAAggggAACCCCAAAIIIIAAAgggkF2AwLmUz80332wzZ84MlOrTp4/TLGfQwEMPPdR22223oEFOU6PXXXedU3NceoTWrVs7TXKm+0vxq8Csr7/+uhSzqrp5DBo0KHTbpFdGgYqqES4oqbbAP/7xj/b000/7Bmu7K3iuRYsWvmH5ZCgAUAF62VLLli1DBxe7/NAZMwABBBBAAAEEEEAAAQQQQAABBBBAAAEEEEAAAQQQQAABBBBAAAEEEEAAgTosUOcD54YNG2YjRowI3AUaN25s559/vjVq1ChwuDLPPPNM69mzZ+DwpUuX2pVXXmn6TScFe5144olZ55keN/2r2u0uv/xya9jQ37Lu6tWr7f7770+PWid+tT2OOeYYx0S1w2VLDRo0sH322Sd0FDW/u+222wYO17a66aabrG/fvoHDc2WqnAcddJCpVrxsaciQIaGDsw0LnYgBCCCAAAIIIIAAAggggAACCCCAAAIIIIAAAggggAACCCCAAAIIIIAAAgggkFWgzgbOqfa3FStWZA06U1OsPXr0yAqowC3VWhZWM9iUKVPssccey5jHkUceaXfddZftscceVq9evYxh7p7u3bs7gXnXXHONKYDq5JNPtvr1MzeZAr9OOukk92Sh3Ro3W8o1PGzasOnC8oPm06RJk6zN2GqaLl262OGHH25qBvdXv/qVzyJovso7+uijbcCAAb7BHTp0sKuuuio08FETdOvWzQmeu+KKK2zw4ME5m2/V9tR8DzvsMKecp512mnXs2NG3bHeGAvSOOuood5bTrXKHBfX5RiYDAQQQQAABBBBAAAEEEEAAAQQQQAABBBBAAAEEEEAAAQQQQAABBBBAAAEEIgvUW59KkcdmxJILqMa46dOnO//UXKxqSGvfvr0TzLXhhhv6ljd16lT7/PPPbe3atabhm266qeUToOabYcwZQ4cOteHDh/uWqiCxY4891iZMmGBz5syxBQsWWNu2bW3ZsmXWpk0bJ4Bxgw028E0XNUNNpo4dO9YmTZpkzZo1sy222MK6du0adfKa8TSfb775xubOnWuLFi1ygv2WL1/uBMepfAqaC6oZsGYGWTq+/fZbmzhxoqnp1s6dO2cN6MsyGwYhgAACCCCAAAIIIIAAAggggAACCCCAAAIIIIAAAggggAACCCCAAAIIIIBADgEC53IAMbi0AtkC54477rjSLoy5IYAAAggggAACCCCAAAIIIIAAAggggAACCCCAAAIIIIAAAggggAACCCCAAAIBApntfgaMQBYCCCCAAAIIIIAAAggggAACCCCAAAIIIIAAAggggAACCCCAAAIIIIAAAggggAACtUmAwLnatDVZFwQQQAABBBBAAAEEEEAAAQQQQAABBBBAAAEEEEAAAQQQQAABBBBAAAEEEEAAgZwCBM7lJGIEBBBAAAEEEEAAAQQQQAABBBBAAAEEEEAAAQQQQAABBBBAAAEEEEAAAQQQQACB2iRA4Fxt2pqsCwIIIIAAAggggAACCCCAAAIIIIAAAggggAACCCCAAAIIIIAAAggggAACCCCAQE4BAudyEjECAggggAACCCCAAAIIIIAAAggggAACCCCAAAIIIIAAAggggAACCCCAAAIIIIBAbRIgcK42bU3WBQEEEEAAAQQQQAABBBBAAAEEEEAAAQQQQAABBBBAAAEEEEAAAQQQQAABBBBAIKcAgXM5iRgBAQQQQAABBBBAAAEEEEAAAQQQQAABBBBAAAEEEEAAAQQQQAABBBBAAAEEEECgNgk0rE0rw7okX2C33Xaz3r17+wo6YMAAXx4ZCCCAAAIIIIAAAggggAACCCCAAAIIIIAAAggggAACCCCAAAIIIIAAAggggEA5BOqtT6VyzJh5IoAAAggggAACCCCAAAIIIIAAAggggAACCCCAAAIIIIAAAggggAACCCCAAAIIIJBEAZpqTeJWoUwIIIAAAggggAACCCCAAAIIIIAAAggggAACCCCAAAIIIIAAAggggAACCCCAAAJlEyBwrmy0zBgBBBBAAAEEEEAAAQQQQAABBBBAAAEEEEAAAQQQQAABBBBAAAEEEEAAAQQQQCCJAgTOJXGrUCYEEEAAAQQQQAABBBBAAAEEEEAAAQQQQAABBBBAAAEEEEAAAQQQQAABBBBAAIGyCRA4VzZaZowAAggggAACCCCAAAIIIIAAAggggAACCCCAAAIIIIAAAggggAACCCCAAAIIIJBEAQLnkrhVKBMCCCCAAAIIIIAAAggggAACCCCAAAIIIIAAAggggAACCCCAAAIIIIAAAggggEDZBAicKxstM0YAAQQQQAABBBBAAAEEEEAAAQQQQAABBBBAAAEEEEAAAQQQQAABBBBAAAEEEEiiAIFzSdwqlAkBBBBAAAEEEEAAAQQQQAABBBBAAAEEEEAAAQQQQAABBBBAAAEEEEAAAQQQQKBsAgTOlY2WGSOAAAIIIIAAAggggAACCCCAAAIIIIAAAggggAACCCCAAAIIIIAAAggggAACCCRRoGESC0WZihdYs3alLVk5N/Vvjq1dv8YaNWia+tfM2jbr6nQXvwTmECawYvUSW7Ripi1N+TvmzTe0Fo3bW7169cImKVv+0yP/ZCvXLK2Zf/36DeznA2+o6aejeIFp06bZww8/nDGjrbfe2vbdd9+MvGroWbRokTVs2NCaN29eDcUtqIzr16+3WbNmmda1U6dO1rZt24LmU6mJklz+devW2fTp0+2bb76xCRMm2Pz5823DDTe0Hj16WM+ePa1r167WoEGDgun+8Y9/2MKFC2um7927t/385z+v6acDgWoWYP/+cevdeeedzjk6ndOkSRM766yz0r38IoAAAgikBJJ+D5L08tWWnQjn2rIl6+56lPP+VvenuiedN2+eNW3a1Dp37myNGzeuu9gBa845JACljmRx/1lHNnQMqxn3/Tvnrfw3Kmb5m0WdAtuoUskYry68+0qGNKVAAAEEqleAwLnq3Xa+ks9cNM7GTH/Nvprxui1YPtU3PJ3Rtlk326DVxtarwxDbstsB1qRhi/QgfgsUmLvkOxs5ZZh9Me1FW7Zqvm8uDes3sTapoMVubQfYjn2Ot/YtuvvGKUfGpLkf2vLVPwaaNKjXqByLSdQ8v/vuO3vuueecwJ1+/frZgQceaN26dStbGXXB/dZbb2XMXy/5qylwbsyYMfbMM8/YiBEjnAfKN9xwgxPslLFSZehRcJUesLRo0cLOP/9857cMi7FPP/3U3njjDfv++++dfytXrqxZjIIEtX/06dPHCcJScFfSUjWUf/LkyTZ06FDHN8zvsMMOs5NOOiljcD7Hq/bP2bNn10z/4YcfEjhXo0FHtQsUs3/ncxxVg9N7771nc+fOrSmqztMEztVw0JGHQG07NvJYdUatgEDc+1vS70GSXr4K7CJlWWRddI77WCvLhqvjMy3n/a2C5F577TXn/n/q1Kmm4Dl3ateunXXp0sU233xzO+KII6ruQzr3upSiuy6eQ0rhVhvmUcz9Z21Y/7qwDnH9vYz7/p3zVv57b201i2sfzyZeW22zrXM1DqvEu6+43ntV4/agzAgggECSBQicS/LWiVi2RStm2ctjbrDxs96JNIWC6vRv3Ky37c1xt9vufX9nQ3oeFWlaRsoUWL9+nf13/J02YuKDmQM8fWvWrbS5S791/im4bqtuP7NdNv6NtW7W2TMmvcUIrF271v7whz84XxVrPmPHjrUPPvjA/vnPf1r9+rRM7bVVANl9991nzz77bM2gJUuW2J/+9Ce78cYbrWPHjjX5pe7Ql99XXnmlzZkzx5n1zJkzneC1Ui5nzZo19sADD9iTTz4ZOttly5bZ+PHjnX+vv/66E2h59NFHW6tWrUKniWtAtZT/1VdftTvuuMPcAYlBRjvssENGNsdrBgc9CBQkwHFUEBsT1QEBjo06sJETtIrsbwnaGBSlVgtwrFX35i33/e2wYcPsnnvuMe0nYUnPIfTvq6++sueff94OPvhgJ4AuCff/YWUmHwEEEMhXgL+X+YoxfrUJsI9X2xarTHkr9e4rjvdelRFlqQgggEDtFyCSpMq38RdTX7S73jk6ctCcd3VXr11h0xZ86c2mP4KAmpT4z2cX5Qya885q/fq1NmrKM/bA+yelaqdb4B1MfxECCpLThak7KSBLXzRHSQqi+uijj6KMWvXjKGBNNfi4g+bSK6VhTz31VLq35L+rV6+2q6++uiZoruQL+L8ZXnTRRVmD5rzL1YP8p59+2k4//XTffuQdN47+aij/Z599ZjfffHPOoDk12dq/f/8MtmKP14yZ5dFTl47zPFgYtUoFKnUcVSlXaLE5L4TSVO0Ajo14N11dP4aK3d/qul+8e2txS2NbFedX7NTFHmvFLp/pixMo5/3tbbfdZnfddVfWoDlv6fUy9fHHH7fzzjvPli9f7h1MPwIIIFC1AtXy95LrqqrdxSpe8GrZx8sFxbGTW7ZS777ieu+VW4AxEEAAAQQKEaDGuULUEjLNyFTw1QujhxZdmq02OrDoedTFGYye9pJTa1+h67545Wwb9vlldvSgm61evXqFzobpXAJhXxYrICosKQBy9OjR9sorr9jw4cOdACDVUJfEJjvD1iHffDV3qYfWM2bM8E3aoEEDO+WUU+yAAw7wDStVxu233+584V2q+YXNp1OnTgUtR00EXnvttU7To/KoVEp6+XXs3HvvvT6eRo0a2d577229e/e2xYsX26RJk2zgwIG+8Qo5Xn0ziZhRF4/ziDSMVuUCcR5HVU7lKz7nBR9Jrcrg2Cj/5uQY+tG4kP0Nvx/9kt7FtkrOFirkWEtO6SlJue5vP/zwQ3vxxRcLBp4yZYrdeuutdsEFFxQ8DyZEAAEEkiSQ5L+XXFclaU+p3rIkeR8vlyrHTnTZSr77iuu9V3QNxkQAAQQQyEeAwLl8tBI0rmqayxY017hBc9tkg52sbbNu1qhBE1u6ar4tWTnHlqyYa9MXjrG161c7a9O22YbWq/3gBK1Z9RTlrVQTrUGpQ4uets1Gh1inVhtbvdR/C1fMsDHTX7Vv5/prMps05wP76LtHbbteRwfNirw8Bbbffntr3bq1LVq0qGbK9u3b25AhQ2r6vR033XSTqYlOd9KNSG1NCxYssAsvvNBUE583NWvWzC677DLbcsstvYNK1q/mU9S0ZxzptNNOs5EjR9bsD5tttpkNHjzYevXqZU2aNHECBxUsqXG8ScGUDz/8sB1//PHeQbH1J738b775pk2cODHDQ837Xnrppbbxxhtn5Af1FHK8Bs0nSl5dO86jmDBO7RCI8ziqHWI/rgXnhR8tamMXx0b5tyrH0I/Ghexv+P3ol/QutlVytlAhx1pySk9JynV/e//99wfi9ujRw/bbbz/Tb/369W3WrFn2zjvv2CeffOIb/6233rJBgwbZXnvt5RtGBgIIIFBtAkn+e8l1VbXtTcksb5L38XKJcexEk63ku68433tF02AsBBBAAIF8BQicy1csAePPXzbVXhpzXWBJGjVoZnv2O8O26vazVMBc08Bxlq6cZyOnDLNPJz/pBHhR21kgU87MLbruY+9PeqhmvPr1Gtrem59tA7sf7qtBbpuNDrYvp79iw0ZdWjN+umPinPcJnEtjFPmrmq4U+PXkk086zbMqYO7www+3bLWGLV26tMilVs/k69ats+uvvz4waK5p06Z25ZVX2hZbbFG2FVKTuarNL67Upk0bO/XUU+3GG2+04447zo488kjngbl7+apZ7+2333ZcvAGTb7zxRkUD55Je/pdfftlN6XSrmdsoQXMauZDj1bfAiBl16TiPSMJotUQgzuOolpDVrAbnhRqKWtnBsVH+zcox9KNxIfsbfj/6Jb2LbZWcLVTIsZac0lOSct3f7rTTTvbdd9/VADds2NB+97vf2b777luTl+5QzejvvfeeXX311emsmt/333+fwLkaDToQQKCaBZL895Lrqmres5JT9iTv4+VS4tjJLVvJd19xv/fKrcEYCCCAAAKFCBA4V4haBadRYMfzX1xlq9eu8JWiffPu9ovBN1m75hv5hrkzWjRpbzttfKLzz51Pd34Ce/Y7PVWrXJ9UzX/X2Np1q+yIba+1TTfYOXQm/VOBdhNnv29fTHshY5yZi8Zl9NNTnIBqFbvkkkuKm0ktnfqRRx6xUaNG+dZOX1//8Y9/LGvQ3NSpU+26664z3cDEmXbffXfbdtttTQ/pw9Kuu+5qn3/+ua95lzlz5tj8+fOtXbt2YZOWPT/J5Z82bVrG+m+66aa23XbbZeTl6uF4zSXEcARyC3Ac5TZijLopwLFRN7d7pdaa/a1S8iy3rglwrFX3Fi/H/e2xxx5r3bt3t5tvvtlWrlxpl19+ufMMIExqxx13tP333993/++tTT1sevIRQACBahDg72U1bCXKWIwA+3gxerVz2kq9+6rUe6/auRVZKwQQQKCyAvUru3iWnq/Al9NftsnzP/NN1rxR21TQ3M05g+Z8E5JRlMCWG+5vx213h+23xYVZg+bSCwkKrFu6al6qGd256VH4RaAsAmp69N///nfgvM8444ysD5YDJ8ojU19EqTa7JUuW5DFV6UbNFjSXXsohhxyS7sz4HT9+fEZ/JXqSWH69kJg3b14GxyabbJLRTw8CCCCAAAIIIIAAAggggAACboFy3N/qYzjVrn/mmWdGerYR9MHXjBkzbNmyZe6i0o0AAggggAACdVxA7wZWrVpVxxWSv/qVevdV6fdeyd8ylBABBBCoLoFaUePc+vXrTM2PLlk5x9akav5q16K7tWhc2hqC4lhGlF3no28fDRxtv/4XpILmugUOK0em47Fqfsp9rq1cs8yaNGqRMm/vuNerV9p4zKTYhzlu2La/6V+U1Lpp58DRFi2fYS2bdAgcli1TNQ8uXjHLFHynZnpV22CThi2yTcKwCgmsWLHC5s6d6zQV2rlzZ1+ToeUs1tq1a+2OO+4IXMShhx4a2IRJ4MgFZKaryJ4yZUoBU8c3SdeuXZ1t4q0RzxscFl+J8ltS3OXXSwVvqmTNfN6yxN2v2mAXLVpkCxYssObNm1vHjh19TXaXskyLFy92zidNmjRxalPUMqMk1aC4cOFCa9++vbVu3TrKJCUfZ/ny5U5z0WpCSeVWWcqZtM7aNq1atXLWWcstdYpjGaUuc9j84tqXtR/qeFEz4Z06dYr1b2LYupc6Xw9WtW9on2/RooW1bdvWaaK61MvJd35xHoMy0N9R/ervlJpTqeYU1/rUpnNKNW/v2lL2St6D5DLU3xxdU+peRefIli1b5pok8vA4z3WRC5VjRDnoQyP9jWzcuLHpnrFevXo5poo2OGn7gc5zlb4mjSaX/1hxXUvlX7LqmqKQ+1t9yBX1Y64NNtggEGTWrFnWq1evwGFJz6zWc0ic5+s4ruXKuYwknl9q8/k86cd8nOWrxvv3pF37xLm9Cl1WOc2SeP6Sk94DzJw50/nVs1w9Z3UntVCTbqXn0ksvdZ5juodH7S6nbdQy1ObxKvXuq1ree9Xmbc+6IYAAAqUWKP3bwxKXcNmqBfb0qD/ZitWLnTkP6fULUy1fSnOXTraPvv23fTXjdVu+eqGTl/5f81Tg3AYtN7ZBPX9u/Trvls4O/I1jGYELzjNz2oIvbfqir3xTtUs10dqv8+6+/HJkTJzzgY2e+qJ9M+e91DZZ5FtE04atrHfHn5iaJe3beVffcG9GuezXrVtj/3j3GFPQnTvtvMmvbatuP3NnZe1+e/zdNnraSxnj7Ljx8bbNRgdn5EXtWbEmuMYt7a9Rk9bti2kvpsr1on03T7UPrs+YVAGMG7Xbynbb9LSM/FL2/OEPf/DVHvbrX//att5665yL0Y3SZZdd5gQyXHHFFVmb0HTP7KmnnrL//ve/NVkNGjSw888/3/RVx3333VeT7+3YYostTE13uNPYsWPtwQcfdLJGjhzpHuR0//Wvf/XdKGmAmv847bTormrq84UXXrC3337bpk+fXrMc3YTpYayatjzmmGOcF0U1A8vQ8fzzz9u3337rm3P//v1N262c6f7777ePP/64nIsoyby1P6nJWm/gnF5YeZMeGKkZGD0Qdaejjz7attxyS3dWYPfkyZPtH//4h2+Y9lPtr4WkfMpfyPw1zd///ndT1eNKQbUHvvbaazZmzBhnePp/++yzj+22249/g7/55pu8j9f0vPL9Lfdxvnr1anvjjTds+PDhTlO/6k8nBQNttNFGzr/evXvbAQccEOnhiqqUdxtqPn/605+c2eoYHjZsmL377ru+mhA6dOhgOp9qWe6k8+PTTz/tlFEvplVTYDopkKdbt242ePBgZxupvOVI2t/ffPNN5xykddDLKHdSwGW/fv2cf3vttZdpXaIkBQ/ecsstTlBSenyty2GHHWavvvqqvfPOOzZx4kQncCk9XL89e/Z01vmnP/2p9ejRwz3I1x3HMnwLjZBR6uOoHPty0Gp88MEH9vrrrzt/E9z7ooIZ9XJUf5N++ctfBk1asrxynxe0bbSOWlc9fPUm/U3Rfqpmygo933vnmau/HMeg99hQra3pmlv0kYCufd56662Max/9jd1www2d65+DDjrIBgwYkKvoeQ8v9NiIa328y9EKlvq8pQf7jz6a+aHV4YcfboMGDcrpuWbNGue86v5oYOONN864Viz3MZSrkNyD5BL6YXhS7kGCSqvj4LnnnnOud8aNG5dxTanrnm222cZ22GEH5zyZT7B7qc91ce3rn332mX344Yem3++//z6DTB8Y6BjUP50zdZ7VNX/UlKT9oJhr0nzP7brG0DWi7tlKlX7/+99bly5dQmcX17VUaAFq4YBy399qnwxKlfq4KKgsUfKq8RxS6vO1nLzXWOW4No1jGUHbPGnnl2LO50HrV815Sbou1f10vn8vc9mX8v49ruuqJF375PJNyvBympX6/FWqffy7775znpVOmjTJ9DfJ/XxK1wF6bnjwwQc7v0OHDnU+8vniiy9Mx7xa1NGHuVFSKWzjOnairE+Sx6nUu69qee+V5G1H2RBAAIGkCSQ+cG724gn27dyPatzem3C/Dei6n42a+qy9MubGVA1zP74Erhkp1bEsVRvat/M+dv4N6nGE7dXvTGvYoIl7lJruOJZRs7AiOrwBXOlZbd/72NSXyKWt5S097/TvwlSNaC+Nud4mzH4vnRX4u2LN4lQg42vOv25tt7QD+l9snVr1CRxXmeWyr1+/obVPBRROSAX4udOnk5+MHDi3dt1q+2TyE76gzEb1m7pnmVe3gh+9qZ7Vt1ZNO3mzA/tnLBprz39xtc1cPC5wuDJV+9zYmf+1cbPeSQUOrg0dr5gBukHwBpwpMCJK4Jym++STT5zFv/zyy3bUUUdFKsqzzz6b8RJaL2CbNWvmBIR4y+KeoV7AeNOnn37qK797nK++8geoari+hI2a3n//fbvpppsyXgalp9UNmW589E9BN+eee26k5kTS0+fzq4daDz/8sG8S1ehw4YUX5vXyxTeTHBkKHvjPf/7jG0vbRF9aJSkpmEcvjL1JL/m9SXaqKUkv+9xJQRK33357YNBlejwF21133XVOEFE6T78Kouzbt687K6/ufMqf14xdI2t/1UOKsKQyeIOivOcEHav5Hq9hy8uVX87jfMSIEfbPf/7TqSUlqBzav2Wlfwr4feaZZ5yg2x133DFo9Jo8BXzNnj27pl/nOCUFoajWSG9gZ3pE5Suw1530UloBwmEvhZSvfVj//vWvfzlBd6effrptvvnm7tkU3K0AQAVv5Aqc1RfqOl/q32OPPWYnnniiE2iYq4YVBXFqO7iTXrDr5VH6b4x7WLpbD8j0T8HYCtQ7+eSTndrA0sPdv3Esw728qN2lPI7KtS+710WB47feequNGjXKnV3TrXOvggX0T9cS7oeWNSOVqKNc5wW9nL/33ntNAcTZkv5O6IGe/m2//fZ26qmnWliNJ9nmE2VYOY9B77GhZs0U0KH9ScEKerHoTTpPqfZZ/XvvvfecDwcUcK7ruVKlQo+NuNbHuxytd6nPWxMmTPD9nd09FagZJWm7KSDcnfTBizuV6xhyLyNbN/cg2XR+GJaUe5Cgkuocr+M/6AMMja/rp/Q1ga4hdI5UcGm2VK5zXbn3df1NfOCBB5z7wbD107lVL+n0Tx9CqBaMn//85851Uq5zZ5L2g2KvSfM9tyv4V8HbpUzZ7l3juJYq5bpUy7zKfX8bdF+rv8mq/bIaUjWeQ8p1vtb28l5jlePaNI5lePe9pJ1fij2fe9ev2vuTdF0qy3z/Xob5l+P+vdzXVVqXJF37hNkmLb+cZuU4fxW7jyuQT88d9S/oHYC2j1qsSF9/e7eXnp/qQ/r0B87e4e7+UtnGcey4y12N3ZV691VN772qcbtSZgQQQKBSAqV7UxHTGsxd+l0qgOs6e2H00NCgOW9RPpn8n1StdZd6s0P741hG6MKzDPh+vv+Fo2oqS9fAl2XSogbNXjzRHnj/pJxBc96FTF3whT34wSkWVG7vuOn+UtoP7nlkerY1v9MWfmlzlkyq6c/WMT4VeOatybBFqjnVzbrsmW2yrMPGz37XN1wBhg3q5266SrX9Pfj+KVmD5twzL1fQnJbhrkEqvUzdEKha5FzpxRdfrBlF3WGBIDUjpTq+/vrrjKA5DVNATlIfar7yyiv25z//OfSlkHvdFDSiKr9zvWx3T5NPt8oSFDhzyimnRK7ZKZ/lpcfVNvvb3/6W7q35Pf74451ggZqMhHR4XxSrWAqaCwpo0NfvCnZUE0rupIdLDz30kDvL161gK9W65U6qTeKiiy5yXp678/Ppzqf8+cyXcTMFFECgQNSrrroqNGguc4of+lQD09VXX+18mZhv7Rd6UaqAzGznyv333z9j/3nppZecQLugYz+ofMrTl5ZhD47CpgnL10sF1QiaK2jOO72Ck1WzoR5EFZK0vGxBc+55ylOBiiqnvgKNmuJYRtSyFDNeXPvy+PHj7ayzzgoNmvOuQzmD5rzLKlW/gl21H+X7d1zXTeedd54TyFmqsqTnE/cxqAfIjz/+uOlr7KCguXS50r86/lTDpgIqk5jiXJ/ack6JaztyD5JdOkn3IEEl1cuqsKA57/jTpk1zailXbbthKe5zXVg58s3Xy7pLLrkka9Bc0Dx1vaIPKRS4kC0laT+o9DVpNqeow1RTvGpp9qa4rqW8y60r/eW+v1VNSt6kmh1zBaV6p6lEfzWeQ+I+X8dxLVfOZSTx/FIbzuelPl5r43Vptd6/J+nap9T7WbnmVy6zJJ6/ZKiA6v/5n/9xPhwu9NmnWvmI0nJPuWzLtS9U+3zlHfT8u5zvvqrtvVe1b2PKjwACCMQpUHWBc8L57Pun8zYaN+stm7kos3agbDOJYxnZlu8dtmrNMpu12F/Tz1bdDgytSc87j0L61UTuIx+dbktWZnupXC901itTTZM+9sk5qRoAozeTUSr7Ph23t7bN/A84P5/6fGh53QNGTnnW3et0D+p+eCrIrbCKGmelak+cvjCzGUPNdNMNdvYtx5vx7dxP7PFPz48cLOqdvtT9+vJfzfy5k16U6oucbElff+tFcTrpK2I1TZMruZtoTY8btfaM9Pil+FWAU7mSaqrJp0a7KOXQi+mgFytqHk41LelmVi/8R48e7Xyhmy0wJ8ry0uPopY4Ci7w3otpmUWsYTM8rjl+t///+7//6FqUmA8NqvVKzlieccIJvGr3cU81sQUlf26mWIW/SjXu2pn+843v7Cym/dx70/yiQ7ThXFexB+8qPU2fv0guafAJFdE7I1hS1lqZATgXOpZMeFgQ1BZweHvarr6VL1XSkgk7VtEGhSQFIYTV/FjrPsOlU+9y1114bNrgk+XEsI9+CxrEvqyYPBQYEPcDKt7yVHj/svKBAPwU+62VgWMrWrJ6CatXcR7aabMLmmy2/Eseg9ql8ryN0rLubss+2TnEPS/L6JPGckmv7hB1DuabzDucexCtSfH857kGKL9WPc7jrrrtMtZQHpUqc64LK4c7Lta/rGk01zRWadA+upmxLncqxHyThmrRYJ9VApiD3Ro38HzrGcS1VbPmrdfpy39+qBuCgZ1fpZueT7Fat55BKnK/juJYr1zKSdn6pDefzchzXte26NIn377muq4rZruW49immPNUwbRSzpJ2/0q76SNf7IXt6WJSg+a222sr++te/Bn5MkZ5PMb9RbPOZfzmPnXzKUe5xK/Huq9ree5V7GzB/BBBAoLYJFBYBlCCFvhvsagNTTbF2bb2ZrVq7zGYvmWjDJ9xnUxeM9pXynW/usSMHXufLz5URxzJylWFGKuhvva3zjdaxReEvpn0zC8h4N2WmZm+9qU2zrrbrpqfYRm23snbNu9n8ZVNtxqKv7e3xd5lqjXOnlWuWprbJvbb35me7syN1F2Ov5msH9jjc3hibWZvFF9NetN37/tbq12sQWoZFK2bZpFQNb+5Uv15D27b7Ye6svLo/mPSIb3zNc8CG+/ny3RnLVi2wYaP+ZGvXrXJnO92NGzR31nHDNltYl9QxsHLtUvt+3iinidm5S7/1jV+qDD043mmnnUxfdLjTu+++a9tss407K6Nb43trpVNgl5orC0sa/5133skYrOWnmzzcdtttLd0cq2pyUpODudK+++7rNCmm8VQD2Oeff54xiWqAC6ppLCgvY8KAHjn97Gc/sz59+jjBA3oQoZtI74tilV3Nmv7qV78KmEthWarOe8aMGb6JtY30AmDixIkZTeKpBrUePXo4TTYefvjhTrdv4hwZaopUQXOqSc+d+vXr59Q65M6rVLfKKH89MNeX7N79S+VSeXfdddesRTz44IOdZuncD911w6Zm6vTP/YJFoS/ZwAAAQABJREFUN1VBtWhp39A+kk8qVfnzWabGPeKII5wq69U9efJkXxCgHiJ412WzzTbT6DWpkOO1ZuI8O0p9nCuA94knnvCVQkExBx10kNPcsmqkULClfPTCR8e0aldxJwVQap/bZZdd3Nmh3e4AVO1zOvcpKE2BE6ptoH379s6/9Aw0b+0j3rTllls6tYXq+FeZdC5StfJq6kBpyJAhJWu6WQYKPL3mmmtqitGpUyfTPqKg0w4dOjhOChqSa9DDK70UUnPXYcGrNTMO6NByfvrTnzp/j2ShoCb904t3uXmTgvTUdFz674p3eFB/HMsIWq7yij2O4tiXFfSpgER91etNau5awZ5qolr/NM6XX37pnFOCto93+mL6S31eePLJJwP/znbt2tX5e66mjzt37uz8vdExp1rWvOuov5c6Vxx77LHFrFrGtJU+BvW34IADDrCNN97Y+ShA50TVSKfzojvpb+a///1vO/vs/O8R3PNJdxd7bKTn4/2NY30qeU7xrm+2/lIfQ9mWFTSMe5AgleA87beVugcJLtEPuTo/6Rpo5513tv79+zsf8eg6QH8HFEyrD3u8SR8R6G+0gvzdqZznunLs67rveOaZZ9yrUNOtjxdksskmmzj3YLp3UG3A+tuhJm7VbJTS7373O9M1VdRUyf2gVNek+Z7b9WwgqBagbGYKhHd/4Jce97jjjnPujdP96d84rqXSy8r3V39zv//++3wnCxxf9znZntUETlRAZtz3t6rR2xvsr78vlfg4Mx+uaj6HlPN8HcUwjmu5Ui0jieeXUp3Po2yrbOMk7fyWpOtSueX799JtXe7793JcV7nL7+6u5LVP0vZRt0u27lKZlfv8Veg+/tZbbznX014Dvef5/e9/b3pequNZ7wl036FznjfpGPG2POMdJ6i/WNs4j52g8isvyft13O++dM2a9PdeYduRfAQQQACBaAJVGzhXLxX0dED/i2zrjQ6qWdNm1sYU0NWnw0/s2S+utC+nZwb1qNY5BXE1aZhZU1bNDDwdcSzDs8jQ3qDgNY3cOrW+5Urzlk62jyc/7pu9ArSOGnSjtUw1W5pOCp7Tv94p+6dGXmKT5mbWIqbmcof0/IW1bb5hepKsv6Wy3zpVI5+C+dasW1mzvKUr59rEOe/bJp3Cg1W+SNVK5w1U3KLr3taiSfua+eTTMTdl+eV0/5fy/bvuY62aZn/w/dKX19nSVfN8i+vYsrcdue111r5Fj4xhnVttairrvz8+ywlmzBhYwh49jPYGzulhsx7mB32poweTQbUFfPbZZ05AQ1DzJyqugtoWLFiQUXJ9CZz+ckYvZfVPSU36RAmccweapOfjXoCCUvRFbDFJX6efc845GQ/t9bJHNYsNGjTIuchOB6ykl/PUU085wSZBfulx8vkNa7IwzEgX/3o5o3+62VWzqoccckjg9gwrh4LDVLW/OylIRsGIhdxguudTqu4bbrjBCZIJm5+2/xVXXJEziEgPf/Wy//TTT8+oLTAd0JQOglDwp5bpbZpKwZQnn3xyWDFC80tV/tAFhAxwBxJq3/LWnqfj8MADDwyZ+ofsQo7XrDPMMrCUx7m2nZpL9Satj/YBVdfvTtrn9UBH58kbb7zROabcw9XMlpqbbt26tTs7tFvnEy3H/TJHD3b0z5smTJjgzTI1O6SmYt01XylIds8997Thw4fb3XffXfKXYno41CsVSKgXdwrEPeaYY6xJkya+sh122GFOMLHOf+6k84jOkXLMJ+lvkAIF3ElBTPoaXPkK3lGgjjsgUePenwpo/slPfpJh5J6HuzuOZbiX5+0u5jiKa1++5557fAHiWg+d91QLnbaJO2lf0fFy6aWXhtba6R6/0O5SnhcU+Kn9yZsUeH3ZZZdZmzZtagYpeE7/tD9ff/319tFHH9UMU4cC8BRo1q5du4z8YnoqcQwGnat07aMH0lp3NeHubdJWL4HPOOOMjGDzQte7mGMjaJlxrU+lzylB6x6WV8pjKGwZufK5B8kulIR7kLAS6jpA17E6VtOpbdu2ThD13nvvbfqnewnd07mTajZXLW06V3hTuc51pd7XdT972223eYvv9B999NHOPaD7Ok3nTl1f6lrtxBNPdK5d9DfcfS0YOLP/y0zCflCqa9J8z+36W3rBBRdk4/EN00dP3qTrZ13DelNc11Le5Ubt18thXeuWIjVr1izww6FSzNs9jzjvb3X9FvRcSh/duK/d3OVLQndtOIeU63ydbfvEcS1XymUk9fxSqvN5tm0VZVgSz29JuS6VX75/L93m5b5/L/V1lbvs6e4kXPskcR9N+wT9ltIsjvNXoft4UMshegZ13XXXmT7sTCc9s1GLAnp3433Wo2eUH3/8sfNsMT1+tt9S2cZx7GRbDw1L8n4d97uvanjvlWt7MhwBBBBAILtAVTbV2qhBM/vFwBszgubcq1k/1ZSmakMLSguXTw/K9uXFsQzfQrNkrFj9wxfG3lHaNOvizSpZ/+upmtrWrV+bMb+WTTrar7a7IyNozj1C00YtU0F1f00Fg23gzk7NZ439d/wdGXlhPaW0b9a4jSk4zZuyNdeqr9xHTXnOO0kq8O8oX17UjFe/+qvPsp7Vt+17Z69dTM3zfj3zTd9ienUYYidsf68vaC49YvPUeh+73e0my3Il1YzhfcGrWlPGjBkTuEhdyKpp1qDkDcBxj6MALm/Sg4kkJwXj/fnPf84ImnOXVw+gFWzlfjmi4WqqTU2nliqNGjWq4FmpRirVxnfxxRdHbkJON5W6mXInBcspEEI3eklJQbXwpcumB+ZDhw711WiRHu791U11UPDbo48+aqo9Q0kvLry17Ggf0M24vmjLN5Wy/Pkuu66Or6Aub81ZCo7TV2beoDm3kYLTrrzyyowHMRquGiYVsBY1aR+L+qI0qMlHBQJ7zzfpZesFhoLG9FvKpMDS888/3wk4VLPGQUFzWp4eJv361782PbTypilTpnizsvbvs88+vqA59wRalgL41DyyN6VrpPPme/vjWIZ3maXsj2Nf1le6QS8kFbz4l7/8xRc0l14/PbBUgKf7wWV6WBJ/H3zwwYxaW1VGBYippsWwF6+6PvjTn/7ka55bx23Qw9xi1jvuY1DrpvNd2LlK5yDV3OP9OEAfVqhmpaSluNan2s8pldhu3IOEqyflHiSshLqHcwfNecdTDXQKLuvbt693kL300ku+j3M0UtznOl/BImbo769qNfMm3Q/o3Bh2nabxdb+gcX772996Jw/sT8p+kJRr0kAkV6auyb0fBOpeTR/Bef9mabI4rqVcxasTnXHe3yo4xHss6vjTxzxJTrXhHBL3+TqOa7lSLyOp55dqOZ9X4hiuDdelteH+PSnXPpXYBwtdZqnNknr+UkBfUE28+iAn7NmTPoQPqlDB+2w/zL7UtmHLId8szndf1fLei/0CAQQQQKA4gaoMnOu3wW7Wp1N4044iadd8I+vZfpBPZ9Hymb68oIw4lhG03LC85YGBc/WsddPOYZMUlb9w+QwbP8tfLfF2PY+2xg2zB2M1SAUuDup+hG/5X814I9Ucwhpfvjej1PaDeh7pXYSNn/mOLV+10JevjMnzPrUFy6dmDOvWdoB1bbN5Rl7UnrEz33JquPOOv033Q6xTqz7e7Iz+9wObd21g+21xQc7toJoVG9ZvnDG/UvboIXJQU4NhwSAvvPBC6OJV+0jQgxgFb6n5PHfSzYdqnEtyUjM7eniSLekGLKhZQG8TrtnmkW2YmvPxNgeXbfywYbopjPLF+ocffujUBOGdj2rJUpND1ZL0EN1bw2GusqvadDVz6U6qZU7NTOoGLshPN+hhtSy655NvdyHlz3cZdW18bctnn33Wt9oKCotSY5wCaFRTiDepqvsoSU2bqlnLqElfRnqTApeDmj7zjlfqfgXDde/ePeds9ffkF7/4hW+8bC/RfCPnkaEX96pZ0pvU3HipUhzLyLesce3LQc1fKWhRAeNhAZTpddGL6lzjpMet5K+CX701p6k8eumaq/x6ORtUO2fQ/IpdxziPQV37qCbNbKljx442cOBA3yhhH1b4RowxI2nrk8RzSoybI2NR3INkcGT0JOEeJKNABfToHKq/FwqwcCddxzz3nP/jNo0T57nOXaao3bqnDfpQbJtttgm8n44637DxkrIfJOmaNMxKgduqDdWbTj31VKemWG9+XNdS3uXm0+89dvKZNonjlvL+9osvvvB96Kd11nVZOe7NS+VZm84hcZ6v47iWK+Uyknx+Scr5PInnt9pwXVob7t+Tcu2TxH007G9RKc2SfP7ytoojj80228w23zz8PZ8+WvG2ZKHpFGQaJZXSNsryyj1OUvfrON991Zb3XuXeV5g/AgggUBsEqrap1ij4HVr0su/mfZIx6sIVMzL6i+2JYxkq49p1q31FbdqwpSlIrRxp7tLvfLNVINa2PaJ9hamgsHcm3JMq96qa+axP1V63cMVMp0nXmswiOqLad2ndz7q13dKmLviiZmlr169ONZ36qg0OCKobNcUfIDG4wNrmVqxeYi+P+UvNctMdTVLbbrdNT033Bv6qtr9xqaA7bxrY/fBUTXO5AxG805WjX7WKPPPMMxmzVuDcKaeckvGyQ7WoqTrrsLR06VJTzXL77bdfxihqysxby5OCzQqppStjxgnpUW1U3qSmifQSpdiUq+Y61QCnB8Qqg76wmjhxoqm5NDXT6k36akxNJ4U9TFYAkJqe8wbmqGYnd/Oe3vkmsf+dd94xBc+ceeaZplpgoiaNr1og9CVbOslSTRJ6k+arY6ccqdDyl6MstWWe48aNM52j3ElBV0HNpLrHcXerNrdbb73VnVVTI2FGZkDPEUcckbUWEu8kehnhTWqSSE0gKWBTwcdJSXq4piZT9ZI8qNzlCpzTw219QaraJd2plMuLYxnuskfpjmtf1nnIm9Tst2pjqy1JNRR6k5rVi/p3Q+M99NBDGTWe6MXwvHnzYq2htRLHoIKBvdeEua5ZvNZJ6o9rfZJ4TqnkduAepDj9ct6DFFeyH6bWRzdqvtobbBb1owNvGSpxrnOX4euvv7bly5e7s5zu448/3pcXZ0a594Oga7skXZOqxtMbb7wx4/5N/ttvv71z7xu0LeK6lgpadtQ8XXMpUL0UKVtNiKWYf5R5lOr+dtWqVYFBkvoQ6pe//GWUolRsnLp0DqnE+TqOa7koy0jy+SUp5/Oknt+q/bq0Lty/p0/g5b72Seo+ml7/Qn6jmCX5/JVuDca97kHr5B6u7qBxSvnMMGwZpXov5F2fYvqTul/neo5Uqndftem9VzH7AdMigAACdUWgPFFXCdFr0aSdryRLVs715RWTEccyVD4FrXnTijVLnIC6BvUbeQcV3T9vqb8mHDUPGlSOoIU1b9zWOrToabMWj88YPH/ZlJIFzuVjP6jHkRmBcyrU51Of8wXOKdDN2zSqmqfdrPOeGesRtef1sX+zJSv9TW8qaE5G2dKMRWNt1dplvlF22vhEX16lMvr16+c0N+a+cdDD8LFjxzpf76TLpSbb9GA6W9KLEW/gXFAzreUKOMpWtnINC/pqUy/NS5FUG05YUvChAr30kj+dFASkF1T64l4BdO6kwJZ//OMfThNs7nx1L1682K644grfyyAFCikwJYlJTSKpNj5V1f7pp5/6mlFVAOAtt9xiergeVCtQ0DrpZky1Y1x33XVBg2vyFHB12mmn1fQX0lGO8hdSjroyzciRI32rqpefQQ8XfSO6MlTjlo6ldIr68rdPnz7pSSL9qkZO1Wiphy3upGaU9aWlatBQk5lxJ9Uq+uabbzrHnsqm2jX1taZejuhcGBSY6/7bUuryBtWMpYcuKk+pXhLGsYx8XOLYl3VeVbPt7qSAn6OOOsqdVfXdQYFzgwYNsqZNm0ZatxYtWjjNPOtFqDtpny9X0+ZJOQbbtvVf/5bq2sdtGVd3nOuTtHNKXMZBy+EeJEglel4570GilyL7mAow9gbOBTWz5J1LUs517nJ9/vnn7l6ne4sttghsktY3Yhkzyr0fJPWaNE36xBNPmHfb6Jyu++SwFMe1VNiyo+brHt/7XCXqtJUaL47720ceecR3f6T1PeGEE0KbaquUh3e53v1Uw2vDOSQp5+s4ruWiLCPJ55eknM+Ten6r5uvSunL/nj6vlvvaJ6n7aHr9C/mNYpbk85eexXqTnlHlSkHPBd3PdHNNH2V4FNso8yn3OEndr+N491WN773KvT8wfwQQQKC2C/ivHGrRGrdo3N63Nqr1rJQpjmWovE0b/Rjg8mP516eaFJ2eClDz11r14ziFdQUFzrVp6m/+LdvcWzXp5AucW7DMX0NHtnlkG5aP/eZd9rTXv77Flq76MShpxqKvU+WbYBu02rhmMWOmv2Jr1q2s6VeHangrpGa/SXM/slFTMmtj0/w2bNPfBvU4Qp1Z0/SFY3zDW6ZMWzTx79e+EWPMUCCbtylK1Tqnaq+VFISgwDl3Ui0Ce+65p91111012arxbMyYMc4DQGWqpjlVg+xO7dq1y9kEqnv8pHcHvWD31tpW6DqE3Tzogd25554b+HJfNflpmAJ6vDXPqalHPdh0l1nb9pprrjFvcIsCfc4555yMWgcLXY9yTKcAnXSQjpqHVICm9kWvmYIFVfufvg6OklS7npoWDguoUq1aeimQqxm/XMsqV/lzLbeuDg9qPlnNCl577bVFkahJ4ChBWul9NerCdByr9sNLL73UVwukAtYuu+wyp5lSNSm5xx57WNBDpKjLijKemhZ66aWX7NFHH/UFVKWn1znEex7RMJ1zypVU06aaBXXXAKMAbwXPBT28KqQccSwjn3LFsS8rcN6bVNOcLGpTmjJlim91OnXq5MvLlhEUIKdtpBehpUxJOwaDXhzqXFitKc71Sdo5pdLbjHuQwreA+3o+PZdS3YOk51fsb9D1j/5mq2nNoNq0knauc69/0N/fqPcX7vmUurvc+0HSrkndfvqY5OGHH3ZnOd1nnXWWtWnTxpefzgjalnHeF6TLUdt+y31/q+395JNP+tgGDBgQubZg38QxZgTtd9V8Dkna+TqOa7koywjazkk5vyT5fB7joZh1UdV6XVpX7t/TG6/c1z7p5dSm3yhmST5/Bd03eD80DtpeQc8og+5PgqaNmhfFNuq86uJ43vc4aQP9zS3Fu69qfe+VduAXAQQQQKAwgdzh9YXNNxFTNWoQrdaHYgobxzJUPjXtGZQWLsusUSZonELy5i6b7JusdbM8A+ea+l8gqsa5UqV87FUr39YbHexbtGqdcydvM60N6jWK3Dytez6r1iy3F0ZnNgGn4fXqNbD9B1yU+s196C1btcA9S6e7Q0KaaHUXbLfddnP3Ot0KHkqnDz74wGl6LN2v34MOOshp/kRBC+703HM/bo8RI0aYHqi50y677FKymoDc862N3fXq1QtcLdX6E3Rj5h75V7/6lbu3ptt7Y3n33XfbqFGjaoarQy91L774Ymc7afsF/Qv6Qkt56XHjfoGuB1yXX365eb84UxCNvkzPJ/3ud78zBXgGJQUzBVX1HjRuPnmlLH8+y60r44bdiBe7/moWKOgLRvd8dY70nifdw8O6Bw4c6DQTrAfcQUk1Lt58881OgJ3OteVK+upUTXffeeedoUFz5Vp2lPkGNR0a9HAsyrzCxoljGWHL9ubHsS8rINSbSv1w0Tv/SvQH1TgXtK2zla1Dhw6+wUEPnH0j5ZGRxGOw2ODxPFY/llHjXp+g/azU561Y4EqwEO5BSoCY4Fno+ifoPBlU61wSz3Vu2kWLFrl7ne6uXbv68mpjRlKuSd22+jDj+uuvdz5gcefvu+++plqVsqU4rqWyLb+uDCvl/a2eM+i+x9sCgj4eOuOMMxL7sZ97W9emc0gSz9dxXMtFWUbSzy9JPJ+7j5NKd1frdWlduX+v9P5R25ef5PNX0P2zKm5QYHK2pPdZ3qRWZEjJESj3u6/a8t4rOVuMkiCAAALVIdCwOopJKVs36xyIMH956Wpwcy9g/Tp/zQ/rbb17lJzdQbXklbqp3JyFcI0wsPthNmLig6m1+LHJ0C+nvWx79j09FTDTMFX73Dc2fdFXrilSzR903dtaNA4OgskY0dPz1vg7bWGqNkBv+kmvX1rnVpt6swP7gwLn2jTbMHDcSmYqEKh37942adKkmmLoBd6ECRNs4403thdffLEmXx36glsPFBTQsffee9szz/xYK59qqlMTbwo8UrOC3hT0IMI7Dv0/CIQF2wQ18+U1GzJkiLMNvM3tqYaddLORqkXw2Wef9U5qS5YssZNPPtmXnyvj7LPPrhnl5z//udNkSk1GDB19+/Z1mhL01p749ttvO+sTVDNQULEUDCVjbzPDejCvwM9ypVKVv1zlq+b5Br2oKMX6dO4c/He9FPPWPNQks2rFU/PLCpQLSgqGveqqq0xNTCrgNey8ETRtrjw9iLryyitt5crMWlzT0+mYUM1ueimuh7V6Ee59oZUet1y/QTWKqCabUqY4lhG1vHHsy0HLKFUNflHXM47xgvbrXIGw3nKpuQtvUnP3pUrVcAyWal3r0nySdE6ptDv3IJXeAuVfvq6/vedFd02xKkE1nOvUxI83Bb3E845TW/orfU3qddQHHd4PwnStEuUeNug6xzv/QvpLeV/w7rvvOrWgF1IO7zQK9lEtfJVIpbq/feyxx+zbb7/1rYI+KOzevbsvP4kZteUcUg3n60pu/2o4v1T6fJ7k81u1XpcG7Xe18f49rmM7yftoOQ2C9qNSLK8U10e9evUy3VPMm/djK1QKqn/wwQftvPPOCyymamIMCpzTvOpiSup+HfYMuxTvvmrbe6+6uN+yzggggEChAgTOFSoX83QbtNzYGtZv4mtGdFqqOc9BlrvZz3yLGxQk17B+47xms3zVQt/4hQSh+WZSYIaCD/t23tXGzvxvzRzUdOs3s99z8r21zWmkIT2Pqhk3aseU+Z/bR9895hu9bSrobZdNfuPLD8tYv/7HAL/0OGvXZdbAls6v9K++CHYHzqk8uqhu3ry5ffrppxnF23///Z2gOWUeeOCBGYFzunFRk34HHHCAffbZZxnT6cY93fxrxgB6AgXCbh6ivqRRLQjewDl3DTvlrKUqcIViyNxvv/18zQ5rsQroiRo4p4fBCrbzJu3bCmC64IILvINK1l+K8pesMLVoRt6aCLVqO+ywg9PMaTGrGceXijpn3nbbbc75WEGhYQF0aor5kksucQLdgoJ58l1PHTOXp2pxDAouUjOUxx9/vNMcpdt21apVpqBZHStxpaCvYkvdpGgcy4jq5fZOT1PqfTmoxtCgvPTyq/U3yDLfwLmgl6BBQVGFGFXLMVjIutX1aZJ0TknCtuAeJAlboXxlCDpPul+gVcu5Lujvg7dm9fIpJmPOlbom9a69nlG8+uqrGdn6m67mnMLun90jB/39L/W1lHt5hXTruUzQR4iFzEsmlQqcU3mLvb/Vvc+jjz7qW3U1c6rAuWpJteEcUi3n60ruE9VwfpFPJc/nST+/VeN1adC9elBeJY+Nalp20vfRclkm+fylv6G6nvjXv/6VsfpvvvmmNW7c2GmJw91axxdffOF8hJwxcqpHz3Bz1Uzsnaa29Cd1vw67di/Fu6/a+N6rtuyPrAcCCCBQbgEC58otXKL510/ViNaldT+bsuDzjDl+Oe0l23WTk6xNs9I29dGu+Ub23bxPMpaVb21xi1b6qzxu12KjjHnG3TOox5EZgXNa/udTn7eNO+1go1OW7rRR262sS5vN3Fk5u9esW2XPj746NZ6/dr79+l9o+TQvG7RNFyyflrMMlRhh1113tfvuuy9j0ao9zlt7kG5WFBSXTmq+bfDgwfbxxx+ns5wa6hRw551WDyBI0QVatGgROLJso6ROnfxNLXtrfIgyn2oaR+sst6VLl2YUWwGDUb5WWrZsmd1www2+fTc9M73A2HzzzZ2mitN5pfwttvylLEttmldQIIu+Jt5pp52qYjX1AEvnaNV4qGa0H3roIScY1Fv4cePGOU0Tn3baad5Befc/8cQTvuNIVejra86wc7keWIVVs593ASJOMHPmTN+YG25Y2ppd41iGbyVCMuLYl4MeUNXGZiSDmthzf8EcsgkysoNqNyzV/lctx2AGCD2RBJJ0TolU4DKPxD1ImYErOPv169dbrvNktZzrgj5KKHXT3BXcVJEXXYlrUnfhZs+ebbfeeqs7y+k+8sgjnQ86fAMCMuK4lgpYbJ3NKub+VoEfaqI16KMcNdHqfkmedODacA6plvN1JfeFajq/VPp8XsntlG3Z1XhdWlfu37NtN4YVL5D085cqbnjttdd8zbOqVjG9k9IHvmpBRgH3+iDe+05KQrp2CApkL16PORQqwLuvQuWYDgEEEEAgm0D9bAMZliyB7u228RVo3fq1NnzC/b78YjMUOOdNS1bM9mZl7V+83P9Cul3zyjaF0KvDYOvQoldGub+Z/a6NnPKMLV+dWUPe4AJqm3v3m3ts7lJ/k3j9u+5rfTr+JGO5uXrat/BbJTVwTjfauslwJwUb6eGYOynQRM3yudPBBx/s7nWa47nrrrsy8tQTZzOtelFT7UlBiUFBKEE1NwStq7cZJI3j3nZ6UFbov6Dlqazp+QXdcAdNU468oIfSUQMG//73v/tuwr1lvPvuu+2rrzKbhPaOU0x/MeUvZrnVOG3U4zxof9QX89WWdIzpHHz77bfbr3/9a+d4866DmtaOur97p0336xwTVOviSSedFBo0l542zl81JbFixYqMRcooKCAqY6Q8euJYRh7FcZpK945f6n1Zf3u8qZoC56KeF4L2k3wD5/QC35uC5usdJ1d/tRyDudaD4X6BQs8pQQ/+/XMvTU7UY6g0SzPjHqRUksmbj2pX9Aa8tGvXrqZWsEqf6/LZ1/Uizpu8TYV6h9fm/riuSd2GOg/+5S9/sSVLlrizrU+fPnbsscdm5GXrqYb7Avc9e7Z1qZZhhd7fDhs2zPRhkDfts88+tuWWW3qzE91f7eeQSp+vE71xXYWrhvOLq7hOZ9zn86Sf36rxujQp9+/5XFd598Mk9Sd9Hy2XVdLPXyqfWsUIqkxAz0Dfeecde/7552306NGBQXOHHnqo771XuSzznW8cx05S9+tyvvtKv6Mq5DdoG+rvZXpeQcdL0DTkIYAAAghURoAa5yrjXtBSt9roQBsx6UHftJ9Pfc522viEktY6FxQ4N33R175lh2UsXD4jFUA22Tc4aL6+kcqcoVrnXvnqLzVLUfDhy2NuqOlXR8smnWyzzrtn5OXqmbFobGr7POwbrWmj1vbTzf/Hl58rIyjIcOnKubZg2TRr27y0NeLkKkuU4Qps01c52ZI3SE7jDhw40NRUxpQpU0In7d27t6mGp7iSXkwGPTyIa/mlWE7Tpk1Nzdt6azPQi/qgh8/eZQbVaKLtlE6XXnppujPvX9XK9t///jdjOjVjqhcXlUz6Kj0okKFhw9x/KrU+qubdmzSt+6WflnHNNdc4zba2bdvWO3pR/cWUv6gFV+nEUY/zjTfe2LeGEydONHlX49eGKvMRRxzhND+sF4jupH1VL5jU5FShSc1sq9lVd9KxrQdNSUpqfsGbVKtFKWufiGMZ3nXI1h/HvhxUY9qsWbNswYIFVupzXrZ1LXRY1PNC0Hqq+YqoSQEhQU0nB8036jzT41XLMZguL7/RBaKcU/RA1pt0/MWVoh5DpSwP9yCl1EzOvHSt5U3u4OJKn+vy2df191e1XLjT2LFjnXuEKPcZ7ulqU3e5r0ndVvqgTy9D3UnXfOeff77lsw3iuJZyl7GQbtXwv/POOxcyqW+aoL8pvpHKmFHo/a0CU1XLtjfpRaU+IKq2VO3nkEqfr6tle1fD+SXMMq7zeTWc36rtujTo/rMS9+/5XFeF7YdJyK+GfbQcTtVw/lJTq3ofccsttwQG1ge5KNBJ1w2HHXZY0OBE5MVx7CR1vy7nu6/a+N4rETsshUAAAQSqQKB+FZSRIv6fQIcWPaxn+4E+DwV+vfb1LbZ+/TrfsGwZK9csta9n+AM9NE1QgNusxeNtynz/i+agZXz83WOpxkozy1OvXoNUcF+XoNFjzduy2/7WuEH25ioH9Tgi9RVA7mCZdMHXrVtjz31xVWobrE1n1fzu1e/31qJxu5r+qB3tmvtrbdG0/x1/R9RZxDqemgHUDUVY2mSTTZxmKr3D9TD2oIMO8mZn9O++++4Z/eXuybfWmHKXp9D5b7rppr5JcwU3agKtv2oM9CZ34Jx3WG3oV/CmHs57U9CDJPc4eqik2ua8SYGit912mzVp0iRjkL5mu+666wKXlTFinj2Flj/PxSRmdNWKGFQzYtQCRj3Ot912W98sVYPWs88+68uvpow99tgj8JzsDbbNd52CXJNWq4OO86CXabmO9Xwsil1Gsft3UFnj2Jc7d+7sCyhVLS//+te/goqUuLyg/TeokO7gjfRwvZAPCoZLD3f/vvDCC7Z69Wp3lvO3on379hl5hfQErUPSjsFC1quuTxP1nNKxY0cfVdDHEL6RUhnZPmIJGj8oL2j/CxqvlHncg5RSMznzevTRR32FcX/YFLSvxXmuC1q+r8D/l7HVVlv5Bun+odqvJX0rVWBGua5J08VRkGLQdd8JJ5yQ98d5cVxLpctdzK9qKCvFvygf3BVTzlzTFnJ/q5pX9FLc+yGPlnXKKadE+ogwV7niHl7t55Cg82Wc5+u4t1ehy6v0+aUU95/lPp/LthTnNs2jXOe3arsuTcr9e9B5otBjqdLTJX0fLYdPpc9fUddJH0tsttlmOUfXeHvttZfT5HuSg+a0InEdO0ndr3n3lXN3ZgQEEEAAgTwFwqNc8pwRo0cXmL8s1YTlpxfaLW/+zPn3n88ucmoRizKHn/QKbkZi7Mz/2ktjrk8FbkVrYnL12hX22Cfn2pMjLzZN602dWvVJNWna05ttH09+zJfnzVBA3sgpw7zZtmmnna1+Kniu0qlJwxam4Lmw1KB+Y9u2e34144yY9JApsNCbeqQCHbfeKHtQmHeadH+jBk2tc6u+6d6a3zHTX7XpC6PX/lczYZk79PVu0I1SerFBtc2lh+lmJKi67PTwcjbTGvSSOqiGg3RZqulXzTJ6k762d9eA5h2u/v/85z++cRTg6H5ZFTRdEvP0dfOyZcsiFe2BBx4IHG+bbbYJzFemAkJuvPFGW7p0acY4qu3v+OOPt+7du9sZZ5yRMUw9n3/+eeALHO+I5S6/d3lJ7m/WrJmveFGP1WKOc+33+jLRm/QCLqiGQu94lehXgIX+5UpqSsSbvPuyd3iu/saNG/tGadGihS/PmzF58mRfmXOdq7zziNr/xhtvWFATpXrQX6qU7zKK2b+jljmOfVm1DfTt6792UTPAQQHZUctejvGKOS8oyLJXr16+YkUJglDAnJoB8abtt98+sIl173i5+qvhGMy1Dgz3C0Q9pwQFdeqaI9ffBJ1v//nPf/oXnCWnmGMoy2zzHsQ9SN5kiZ9g1KhRvtrBVOj99tuvpuxxnuuK3dd1HRkUnK+gctVAWptTJa9J5apAENUu4m2yWoFIhxxySN70cVxL5V2oKpug3Pe3uub01i4oIrV0UMoPMrVPaTl33HGHnXPOOU6N8uW6N6z2c0ic5+sqOxwyihv3+SXf+89Kn88zsBLcU23XpZW4fy/2uirBm7/OFi3u81ch0K+88or99re/tWeeeaZmcgXQ6ppQzwLVMsepp55qQ4cOtUceecT52x5Uk17NxBXo4Njxo9e2d19qLUCtMp122mnOv1tvvbXW3y/6tyo5CCCAQGUFCJyL2X/pynl2/4hf27hZb5ma3dQ/Ba7d//5vbOmq+TlLs8kGO9lmXfYMHO+z75+2//3o97Zw+fTA4elM1Rp3/4jf2PfzRzpZz48eaotXzEoPdn4V4LZ7399m5Knnq+mv2yeT/+PLT2esWL04FZB3jil4zp1U29we/U53Z1W0e2Cqudaw1L/rPta8cduwwb78OUsm2bvf3OvLb1Cvke2/xYW+/Hwywsye+PR8mzD7vayzmrZwTGo7LMk6TqkHhgW46cHBrrvuGro4PbDZZ599Aof379/f1HxeuVJQE7B62OqtCaZcyy/nfIcMGWKqttqd9DD3wQcf9L08SI+jZsBUE443KSgy6IGnd7wk9U+YMMFUtbYC11TTQFhSwPFzzz1nH3zwgW8UNTGp/TcsBTX7o3HPPvvsGvs999zT9t57b98sHn/8cRsxYoQvP50RR/nTy6qG36BggPvuuy9SwHixx/mxx/qD1lesWOE0uxulhraPP/7YeeiSbT8s5TZ47LHH7De/+Y29/vrroce6znFB5Sn2y+ugYCIFbWRLI0eOtHPPPddX1jlz5uRVq2CU5ghffvll+8c//uErjl5I6VjNlcq1jGL271xldg+PY19W0LA36eXilVdeGbjPucdVcN2SJfFcuxRzXlANuyeeeKK76E73q6++asOHD/flpzNWrlxp1157rc2fn3nNry+ag9zS0+XzW8ljMJ9yMu4PAqU+pwQF5+jvlLeZSLe/Aksuv/xy++abb9zZObuLOYZyzjzPEbgHyROsQqPrgwftb9mS7kX0ssCbtI3dNUTEea4rdl/XB0hHHXWUd5Wcj3v++Mc/Wq6mvvU3VH9f9Hdn3LhxvvkkOaOS16RyufPOO817ra4P9hToVGgzpHFcSyV5mxZTtnLf3+pZx733+p/NqQb4008v7fPIJ5980i688ELnOYLuqXSPceaZZ5pqly91qvZzSJzn61Lbxz2/OM8v+d5/Vvp8Hve2KGZ51XZdGnQfWs7792Kvq4rZNkxbPoE4z1/5roWeM+maUPu1kp7/6bmMPmK55ppr7LzzznOaZFWlD1tvvbW1bNky30XEMj7Hjp+5Nr37UsUPep+ka0p97K1/L730knPfkuse2i9DDgIIIIBAoQLR26IsdAlMlyHw8eQnbPlq/1fFy1JBc5+mAtJ22eSkjPH/P3v3AT/HnP9x/KskBCEhBXEipOgiIUFIOE6Nc3oQ3DmckuPUI04XjkR0ooTo/fQW7qJEjRJREiURhxCJkgRBsP/v+/u/WbOzM7uzuzP7293f6/t4/H67074z85zZ3e/MfL7fb9jA1mscY6Z/8bL5fsHcvMnTv3zZjHp6D9Otw6amx/JbmLatOpkWi7Qyyn+mbRFNQXpewJy3sPK5f9JpZu8NL7U3D3+NpezRcXPTqc3a5pOv3/Rmdd2vPvb2cPPlt/81G3fZ1yy1eDs3Td3Fzpz7ru2u9Ewz65tp2fm9N71sC27qarZWUvulurhubz/88tW8Tdqg8+5546JGqHvch94cZn7OLMibReOeej//4XzejP8boe5ct1z9SLOobfHOS6u262u62L8PZucG9Mz7YZa53QYorrPi9q51PLUO2KrlMq67Xh2Htz97wkyw3eXquFQzbbzxxi64KtgtxnbbbWdatGhRcFMGDhxo7rvvvrwgmCRrBYdtQNhFh2r+K+BKgRz+Lq/Uzake5uy5555hWdXcON0gVpPit956a862qUU5PRzVwxddLCogTg/xn376aTN69Oi8VklUA1G1ruop6WJYtXL0qi7KjjvuOKNzbO211zaqMbbccsu51sJ0EaIbgJMnTw7dvUItUL333nvmpptuyltOF9pajz+pVpsedAW78Rs5cqTrSib4oLsa2+/fvnp4H3ZjV8fthBNOcEFiXbp0ifyeqfRzvskmm5g111zTBLs61kOSww47zOy9996uGX9/7T9d1E6fPt2oq7EJEyY4YgVsqYXCch/UxT1OCpDQgyOdX/fcc4/Za6+9jFpO9Fp+U6DGVVddZdTlbDAVamExOG/YcNiDEbXGoM/KoEGDjAKEvKSbAmpFSdsS1RqSPjP+B+XesmGvL730kgvO2m233Yya6/d+d7QetWinm2KvvPJK2KLuJlmh7sa9hdJaRyXnt7dtcV6rcS6r6yW1nvbCCy/kbJK629INSf0uKZhY++ydD/qefuaZZ9z3sYLLqpEq/V7YYIMNXO1kf2CoWu1SDWU9fNBvgT94XZ83ff6D3yPaV3VZr25ykkhN+RlMYvubWx5Jf6eoMorObX3n+dNll13maiqrJr3KdUr63lWAtX6nwn4P/MuHva/0MxSWZ7njuAYpV666y+n6Q10lqtykYHVdqyjpe1/BTffee68LEAtula5V/mi71fSnan7XJXGu65pCLVwEW0vW8JFHHumuL3Xdq1arvc+oWgHWb4bKUF5gqyrenHTSSX6Kmn7flGVSXduGBQ2rjKhKG6UkPUT1WmquRlmqlG2rl3mrcX2r6/+wB4v6jtE1f9yk7sgGDx6cLacGl1MFqrDupOfOnes+r/pMJ53q+Tukmt/XSbtXO79qfr+Uev3ZlN/n1T4Ola6v3sql1b5+T6JcVekxYvnkBar5/VXq1isQKXifSde/KmvPmzfPXYfoftWMGTOM7peqorEacVC5XK3p6bmW3jd14rOTfwQa6dmXGrL4/PPcxm20xzpXFUBX690G5x8dxiCAAAL1KfDr08v63P6622q1ThaVCk3zL7PUYsuZPXuPtK3LHWF+/Pk7/yT3XgFbU2aOc395EyNGqBW6eT/MNksv3iFnjt/2GGJufPGQnHEamPChDQSwf0st1s60Xqy9mf3tdLPg5/Da4y0XWcJsGiMgMG8lKY/ovfLuJhg495u265nll+4Re80KTvMHFgYXnPLZf4KjCg73tAGGHVt3y5lnyx5HmNGz93VBizkT7MAbMx52fxq/RIs2LoAv2NpfcJk0h1V7u0+fPmb8+PHZ1ejG//bbb58djnqjmzaqJaIHiF5SEMOmm27qDabyqgAntSoWfIihB+F6QKMH2bpxqoKr1yrIDjvsULO1j4JIu+++u3tgEOw2RF0g/e1vf3MBPMW6eP7DH/5gVlpppWDWNT2sbvAU2OYlPRxWYKb+4qbevXtHXpToZvl5552XF+yjADidN8GkCzkFeMncf7GugJ6zzjrLBTj5AyzS3v7g9tXDsGrt6oFqMCkoSzWyFIATdXwr/Zwr0G3o0KFuPcHPkgKFx4wZ4/5UK1E3U/RdodbSgkmBdgpS2GqrrYKTEht+6623cgIg1IqJAnm0D/oc6ztZtS3DWtVU18JhDzZK2Tj9DuhYPfXUUzmLKYBX+65jocAOPQDWZ1QP0QolPWTu0aNH7GBDtRypP50P+g3R93fYsfCvU10zKAgqbkpjHZWc33G3W/NV61w+4IADXMBoMCBSx1vB2/rT8dFvv87FsJtDpexXOfNW+r2gdSoAXd8/waSuv9Wdsz5TCsBXEG1UCyT63kgyIL+pP4NBC4aLCyT9naLP32mnnZazYn0WdV6q2xnd/FdSoFKwskvOQkUGkvgMFVlF7Mlcg8SmavIZv/zyS3PppZe6VqFUblblnajvR29j9ZDAC1ryxlXzuy6Jc13lEpUldS0QbFlVn08F9+tPQf9y0bWGgsqDSa1V68FePVybNWWZVOUKnWdhSdfB+islqWVA7xysVlmqlO2rh3nTvr7VdUZUBRn56KF5KUmVPLzfy+Byqiih6/iwFFUhL2zeUsbV83dINb+vSzGtxXmr+f1SyvVnU36f1+JxKrZN9Vgureb1exLlqmLHgOnVF6jm91epe6fK8/6kCroXXnihf1Tee5XXvVahdS9awXP77bef0ee7qRKfnXD5Rnn2pfuGUanQtKhlGI8AAgggUJ7Ar82Llbc8S5UosHiL1pFLLN5i6chpwQlqCW6vDS82CkqrNC1pA/EG970iL2hO+f6mbU/z2x5/jVzFNzbY7tO5kyOD5hZdeDHzh55nGrWmVmupe4fNXNCff7s26LyHf7Dg+6+++8Q8+e4VBedJYmKH1qvZluiOKJrVdwu+zusit+hCKcygmvL+1K9fP9e6l39c1Hu1zuJPvXr1ckEP/nFJv1cQSVS3HQooU60OtRTmBc1p/cFWPJLepiTzU8DWySefHBnoVyxoTg/91VpVvaVKb1jrwYhaqdOFf1hSC1mqieZPmlcBFF7rGf5peq+aYWHnmi7Ygw920t7+4LbVw3D37t1dQFbUthYKwEric962bVvXmllYDT9vm3RjRQFhhQK1Sn1o4+Ud9zWsZQ0tq8+6WljUxXZY0Jwe1CbVOoJaWJRXMOkhplqY04MzBREWOmbesgrAC2vZ0Zse9aoHWgoIKXQstKyOpz7r5aQk11HJ+V3qtlfjXNaDxkMOya944d9WHX8FcTZF0Jy2I4nvBR23qBZZtX/6ftdD3KigEAVMK6i60i6S/a56XwufweA2MVxcIKnvFFVEURk6LGkdOi/1FwyaC2t5JCwPb1wSnyEvryReuQZJQrF6eSjoRGWmqO9Hb0v0YF8t1IWlan3XJXWu6zN2+umnm2WWWSZsd9w4ldH0+QwLmtMMKs+FVSSJzLAJJzRVmVS/v2rhVa2IpJWqUZZKa9ubKt80r28VgKvr82olVXpQa+dhyV9JLmx6JePq+TukWt/XlfjWyrLV+n4p5fqzqb7Pa+WYlLMd9VYureb1e1LlqnKOC8ukK1Ct769S90I9IlSSdA39wAMPFA22q2QdcZblsxOu1CjPvgp1Eez1IBMuwFgEEEAAgSQFCJxLUjNGXt3aR7ee1bV9vxg5/DqLgucO2vQW2y3rZr+OLOndQmatFbY2f974etcla9SiG3XZxwxc+x9msUWXjJoldPwyrVZwwX2l7ldoZimMXHjhRW03pztnc1bLeT06DMgOF3vz5LuXm59+qU53Yn1WGWQGrnNySYGSSy/eNE1Iq9Uef2EuGAxXyHX99dd3rbN48wRvNHjjk35VN4AHHXSQa/0mTt71FDin/VHXpGeeeWa2lnycfdQ822yzjbsoVOtQ9ZaOOOIIVxssTteL/n1T8JC6Mbv44osjAxnU0kNY8NNOO+3kuvP05xd8v+WWW4a2NjZu3Djz4IMPZmdPc/uzK6nDNwrEKaVlMP8uJvE5V5CVzg11OVrquaXASrWgqa4q00xq3arUbdPFuYLH1lhjjUQ2TUFACgbSTbO4adttt3WtkAW7Ldby6iI7jaTgknPPPdf4u9hNej2lrKOS87vU7a7GuazWZnVelVIjt9rdXyTxvaByjvaz0E2usOOjh59qDVJln6RTvXwGk97v5pBf3O8UtWoVFTwX5qQu4BTQU2pK4jNU6jqj5ucaJEqmNsarHFTKNYXK5AqY0/erWloKS9X8rkvqXFc+F1xwQdllLnUZutlm5d7/CVNMb1xTlUl1raYWqdNO1ShLpb0P1cw/zevbG264Ia8lx7T37fjjj3etCgfXE2zVJji90uF6/Q6p5vd1pca1sHy1vl/iXn821fd5LRyLcrehHsul1bx+T6pcVe7xYbn0BKr1/VXKHqg3oSR6/nj22Wddl5mlrDvpefnshIs2wrMv3euJSoWmRS3DeAQQQACB8gTC70CWl1fVllpysWVjrWvJlvHmC8ssrXV079jf9F1lb/Pi9Fv+t1q1ZpQxG3UZbAPgooPqwrZR45ZptbzZvddwM3XWc+b1jx8wU2c/b1t/+z5qdjdeLqu138T0tQFx7ZcKryUZzGDdlQaarnb7nps6xkz+7N+2W9dZvln+fx+8Ee1snut2Gmg26Ly7WXThlt7o2K9p2YdtQM/f7GTGT73W/JL5yfReeTcbbBD/I7HQQtWNO1230w5m1eX6mmemXmPUBez8BXPDdskGOC5leq28i9l0tQPM9S8cZGZ/My0739KtOmbfp/VGDzk22WQT8/jjj5tu3bqV/FBAD6Avu+wy12rXxhtvnNZm5uWr7kh18TFixAjXdVXeDHaEHvgowEI1jQol3RSstaTapKNGjTJ33XWXC/oq1LqDWls78MADjVoLTCNVw0et+AwZMsQFwd1zzz1GD1DUNVRUatOmjetmeJ999gm9Ae5f7tprr/UPuvcK9lGT7XGSalurFcNgAObo0aPdhby2Pc3tj7ONxeZR95dNkbRedT+nFsvGjh1rpk6dWtJmJPE513fcvvvu677n1BWjWktRKwdRSa02KjBGNyH1Pu2kc1hBaArufPTRRwu25KIgZ5nor5Tgpjj7oC4ELr/8cvf3zDPPhC6iWoF6AKxARHXHqqRANj1QnjhxYqwW6fwZ60ZC+/btzdNPPx358EzHT12zap9LCSrx1pPmOio9v71tjPtajXNZAfA9e/Z03c/pPJg7N7zsoqCzHXfc0eyxxx4uSMLrEkP7UkoAZtx998+XxPeC9lPde99xxx1G+xns0tm/vlVWWcWo+y91+65jkFaq9mcw7m973PnScombb9ztjDtf1HrT+k7Rg3tVmtBvgQIK/C0ne9uicq3Wr8+AvosL/ZZ5y4S9JvEZCsu31HH6PHENUnvXIDqOLVu2NJdccol7vfPOO40eOs2ZMyf0EOs7X61C6PfA6xozdMb/jazmd11S57oe3uma84UXXjD33XefURd4wa7N/fus30hdl6mSTufOnf2TQt9X+r0UmmkZI5uqTKpubpNOUabVKEslvS9NlV+a17dhrWmnvZ8KDLjooovM/vvvn3N/SAFGaad6/Q6p5ve1jkHU5zZ4fOLOF1wu7XVU4/sl7vVnU32fh5nXy7h6LZdW8/o9qXJVKZ/Fejl/qrGdlXz3Fdu+anx/FduG4HT1EKP7MLfddpt77qNrX10P63nASiut5MrYanlRLupNRBV4dW8x+AxIFd91z7VQStNW603ys1NoP+ptWq08+yr3+Oueoq6BdV/Rn3TPPI0Kt/518B4BBBBA4FeBhWxXD5lfB3lXLYGZc98zs76Zalq1WMYstXg707F1t0RWraC5j7+aZOZ+P9N8+8OX5rsfv7JdUbU0S9iuUpdo2cZ0aN3VdFiqa2T3g3E34vN5U83XtqvSb3/80ixjWzZTIJ0C8hQ012aJFeNmUxPzvfXpWDPv+1lmPRvs16pldLcpNbGx/9uIXzI/m0/nTLbb/bk9Bl+ZFrZL3LZL/sYsu+TKNdEtrgKCXn75Zdf6loLRSkm60f3www+74KX+/fuXsmhi86prHAXDqPs4XUApEEN/ugmqZrEbIWn/pk2b5h6kKnhFD2v0IKZr164Fuw+q531XF5XqFlAP6nQs1Y2PWjfSn27k13qq9+1Pw1dBOHrYqGOq7w7dPIibkvycKyBBgT767tN3hG5AqxsuBcql2ZpZnH2VjfZV3U7rsy4znfN6GF2t7zR1x6YgR617/vz57sG5XBQspxtqYUnbPWXKFLeMgvqCgbyadswxx+QsuvXWW2e7m1VwsI6HPvNKOiZ6GK8bKXKIk6qxjkLbUcn5XSjfQtPSPJf1O6PzQEFlWo+Og4KOdXOyULd1hbY36WlJfS/o3FN33tpPlSPmzZvnXvU7GycQJOn9SuMzmPQ2Nof8mvI7ReeiuuvWOa4gHH33qpu5pH+jkvoMlXs+cA1Srlzyy6nCypNPPuky1nefHgT4k36ndS2i21GaV78DCgbReamHWOWkan7XJXmua7vfe+89F7yq8o8+n7r21O+FXpOu3FCObRLL1EKZNIn9KJZHmmWpYuuut+mNcH17yimnmFdeeSVLr0A6PfSsZqrH75Bqfl9X81ikva60v1/iXn82l+/zSo9nvZdLq3n9nmS5qtLjxvLpCKT9/ZXGVut+89ChQ3OC51QuV0WgWkl8dqKPRL0++1L5WNfJum+j6+M4FaeiFZiCAAIIIFCqAIFzpYoxPwIIIIAAAggggECTChQLQEli46qxjiS2kzwQQKA+BPhOqY/jxFYigAACCCAQV2DYsGHmueeey85+3XXXNUkliewG8AYBBBBAAAEEEhM44YQTXOtz/gzVonvaXbP718d7BBBAAAEEEKieQPx+Kau3TW5NE6bfbt6f9WyV18rqEGheAi9/FtsAAEAASURBVBt03qOsLoKblxJ7iwACCCCAAAIIIIAAAggggAACCCCAwP8LqHXhl156KcvRs2dPguayGrxBAAEEEECgtgT0m73OOuuYVq1axd4wtZIdTKUsH1yWYQQQQAABBBCobYGaDZyb/e0H5oMvfr0BUduMbB0C9SnQvWPTdIVan1psNQIIIIAAAggggAACCCCAAAIIIIBAcxb48ccfzciRI7Pdt+kh+uGHH96cSdh3BBBAAAEEalbgySefNMOHDzdLL72061J9hx12MC1btozc3kwmY9SKrILk/alNmzZG3bWSEEAAAQQQQKAxBWo2cK4xudkrBBBAAAEEEEAAAQQQQAABBBBAAAEEEEAAgXoT+Omnn8yIESPM5MmTs5t+1FFHmRVXXDE7zBsEEEAAAQQQqA2BL7/80lxxxRVuY+bOnWuuueYac88995gdd9zRdO/e3ay66qqmdevWbvqcOXPMiy++aB577DEzZcqUvB3o359GKPJQGIEAAggggEADCdRs4NzKy/YyCy+0SANRsysI1J5A+6W61t5GsUUIIIAAAggggAACCCCAAAIIIIAAAgjUkMD3339vhg0bZl599dXsVu2///6mX79+2WHeIIAAAggggEDtCFx88cXmm2++ydkgdcE6ZsyY7DgFzs2fPz/bkmx2gu+NWpcdNGiQbwxvEUAAAQQQQKDRBGo2cG6tFbY2+iMhgAACCCCAAAIIIIAAAggggAACCCCAAAIIINBUApMmTcoGzS266KLm6KOPNgMGDGiqzWG9CCCAAAIIIFBAQK3EfvDBBwXm+P9J8+bNKzjPUkstZU4//XSzzDLLFJyPiQgggAACCCBQ3wIL1/fms/UIIIAAAggggAACCCCAAAIIIIAAAggggAACCKQn0KdPH7Phhhu6B+fnnHMOQXPpUZMzAggggAACFQsoyP3SSy81AwcONC1btiwrv169epnhw4eb1VdfvazlWQgBBBBAAAEE6kegZlucqx9CthQBBBBAAAEEEEAAAQQQQAABBBBAAAEEEECgkQWGDh1qfvnlF7P44os38m6ybwgggAACCDSEgLphPfTQQ82+++5rxo0bZ8aPH2+mTJlSsFtWBdz179/f7LrrrmaVVVZpCAd2AgEEEEAAAQSKCyyUsan4bMyBAAIIIIAAAggggEBtCMyePds8/vjjORuz2mqrGbUCkVSqxjqS2lbyQQCB2hfgO6X2jxFbiAACCCCAAAIIIIAAAggg0NgCP/74o3n33XfNrFmzzNdff20WLFhgll12WdOxY0fToUMH065dO7PIIos0NgJ7hwACCCCAAAJ5AgTO5ZEwAgEEEEAAAQQQQAABBBBAAAEEEEAAAQQQQAABBBBAAAEEEEAAAQQQQAABBBBAoJEFFm7knWPfEEAAAQQQQAABBBBAAAEEEEAAAQQQQAABBBBAAAEEEEAAAQQQQAABBBBAAAEEEAgKEDgXFGEYAQQQQAABBBBAAAEEEEAAAQQQQAABBBBAAAEEEEAAAQQQQAABBBBAAAEEEECgoQUInGvow8vOIYAAAggggAACCCCAAAIIIIAAAggggAACCCCAAAIIIIAAAggggAACCCCAAAIIBAUInAuKMIwAAggggAACCCCAAAIIIIAAAggggAACCCCAAAIIIIAAAggggAACCCCAAAIIINDQAgTONfThZecQQAABBBBAAAEEEEAAAQQQQAABBBBAAAEEEEAAAQQQQAABBBBAAAEEEEAAAQSCAgTOBUUYRgABBBBAAAEEEEAAAQQQQAABBBBAAAEEEEAAAQQQQAABBBBAAAEEEEAAAQQQaGgBAuca+vCycwgggAACCCCAAAIIIIAAAggggAACCCCAAAIIIIAAAggggAACCCCAAAIIIIAAAkEBAueCIgwjgAACCCCAAAIIIIAAAggggAACCCCAAAIIIIAAAggggAACCCCAAAIIIIAAAgg0tACBcw19eNk5BBBAAAEEEEAAAQQQQAABBBBAAAEEEEAAAQQQQAABBBBAAAEEEEAAAQQQQACBoACBc0ERhhFAAAEEEEAAAQQQQAABBBBAAAEEEEAAAQQQQAABBBBAAAEEEEAAAQQQQAABBBpagMC5hj687BwCCCCAAAIIIIAAAggggAACCCCAAAIIIIAAAggggAACCCCAAAIIIIAAAggggEBQgMC5oAjDCCCAAAIIIIAAAggggAACCCCAAAIIIIAAAggggAACCCCAAAIIIIAAAggggAACDS1A4FxDH152DgEEEEAAAQQQQAABBBBAAAEEEEAAAQQQQAABBBBAAAEEEEAAAQQQQAABBBBAIChA4FxQhGEEEEAAAQQQQAABBBBAAAEEEEAAAQQQQAABBBBAAAEEEEAAAQQQQAABBBBAAIGGFiBwrqEPLzuHAAIIIIAAAggggAACCCCAAAIIIIAAAggggAACCCCAAAIIIIAAAggggAACCCAQFCBwLijCMAIIIIAAAggggAACCCCAAAIIIIAAAggggAACCCCAAAIIIIAAAggggAACCCCAQEMLEDjX0IeXnUMAAQQQQAABBBBAAAEEEEAAAQQQQAABBBBAAAEEEEAAAQQQQAABBBBAAAEEEAgKEDgXFGEYAQQQQAABBBBAAAEEEEAAAQQQQAABBBBAAAEEEEAAAQQQQAABBBBAAAEEEECgoQUInGvow8vOIYAAAggggAACCCCAAAIIIIAAAggggAACCCCAAAIIIIAAAggggAACCCCAAAIIBAUInAuKMIwAAggggAACCCCAAAIIIIAAAggggAACCCCAAAIIIIAAAggggAACCCCAAAIIINDQAgTONfThZecQQAABBBBAAAEEEEAAAQQQQAABBBBAAAEEEEAAAQQQQAABBBBAAAEEEEAAAQSCAgTOBUUYRgABBBBAAAEEEEAAAQQQQAABBBBAAAEEEEAAAQQQQAABBBBAAAEEEEAAAQQQaGgBAuca+vCycwgggAACCCCAAAIIIIAAAggggAACCCCAAAIIIIAAAggggAACCCCAAAIIIIAAAkEBAueCIgwjgAACCCCAAAIIIIAAAggggAACCCCAAAIIIIAAAggggAACCCCAAAIIIIAAAgg0tACBcw19eNk5BBBAAAEEEEAAAQQQQAABBBBAAAEEEEAAAQQQQAABBBBAAAEEEEAAAQQQQACBoACBc0ERhhFAAAEEEEAAAQQQQAABBBBAAAEEEEAAAQQQQAABBBBAAAEEEEAAAQQQQAABBBpagMC5hj687BwCCCCAAAIIIIAAAggggAACCCCAAAIIIIAAAggggAACCCCAAAIIIIAAAggggEBQgMC5oAjDCCCAAAIIIIAAAggggAACCCCAAAIIIIAAAggggAACCCCAAAIIIIAAAggggAACDS1A4FxDH152DgEEEEAAAQQQQAABBBBAAAEEEEAAAQQQQAABBBBAAAEEEEAAAQQQQAABBBBAIChA4FxQhGEEEEAAAQQQQAABBBBAAAEEEEAAAQQQQAABBBBAAAEEEEAAAQQQQAABBBBAAIGGFiBwrqEPLzuHAAIIIIAAAggggAACCCCAAAIIIIAAAggggAACCCCAAAIIIIAAAggggAACCCAQFCBwLijCMAIIIIAAAggggAACCCCAAAIIIIAAAggggAACCCCAAAIIIIAAAggggAACCCCAQEMLEDjX0IeXnUMAAQQQQAABBBBAAAEEEEAAAQQQQAABBBBAAAEEEEAAAQQQQAABBBBAAAEEEAgKEDgXFGEYAQQQQAABBBBAAAEEEEAAAQQQQAABBBBAAAEEEEAAAQQQQAABBBBAAAEEEECgoQUInGvow8vOIYAAAggggAACCCCAAAIIIIAAAggggAACCCCAAAIIIIAAAggggAACCCCAAAIIBAUInAuKMIwAAggggAACCCCAAAIIIIAAAggggAACCCCAAAIIIIAAAggggAACCCCAAAIIINDQAgTONfThZecQQAABBBBAAAEEEEAAAQQQQAABBBBAAAEEEEAAAQQQQAABBBBAAAEEEEAAAQSCAgTOBUUYRgABBBBAAAEEEEAAAQQQQAABBBBAAAEEEEAAAQQQQAABBBBAAAEEEEAAAQQQaGgBAuca+vCycwgggAACCCCAAAIIIIAAAggggAACCCCAAAIIIIAAAggggAACCCCAAAIIIIAAAkEBAueCIgwjgAACCCCAAAIIIIAAAggggAACCCCAAAIIIIAAAggggAACCCCAAAIIIIAAAgg0tACBcw19eNk5BBBAAAEEEEAAAQQQQAABBBBAAAEEEEAAAQQQQAABBBBAAAEEEEAAAQQQQACBoACBc0ERhhFAAAEEEEAAAQQQQAABBBBAAAEEEEAAAQQQQAABBBBAAAEEEEAAAQQQQAABBBpagMC5hj687BwCCCCAAAIIIIAAAggggAACCCCAAAIIIIAAAggggAACCCCAAAIIIIAAAggggEBQgMC5oAjDCCCAAAIIIIAAAggggAACCCCAAAIIIIAAAggggAACCCCAAAIIIIAAAggggAACDS1A4FxDH152DgEEEEAAAQQQQAABBBBAAAEEEEAAAQQQQAABBBBAAAEEEEAAAQQQQAABBBBAIChA4FxQhGEEEEAAAQQQQAABBBBAAAEEEEAAAQQQQAABBBBAAAEEEEAAAQQQQAABBBBAAIGGFiBwrqEPLzuHAAIIIIAAAggggAACCCCAAAIIIIAAAggggAACCCCAAAIIIIAAAggggAACCCAQFCBwLijCMAIIIIAAAggggAACCCCAAAIIIIAAAggggAACCCCAAAIIIIAAAggggAACCCCAQEMLEDjX0IeXnUMAAQQQQAABBBBAAAEEEEAAAQQQQAABBBBAAAEEEEAAAQQQQAABBBBAAAEEEAgKEDgXFGEYAQQQQAABBBBAAAEEEEAAAQQQQAABBBBAAAEEEEAAAQQQQAABBBBAAAEEEECgoQUInGvow8vOIYAAAggggAACCCCAAAIIIIAAAggggAACCCCAAAIIIIAAAggggAACCCCAAAIIBAUInAuKMIwAAggggAACCCCAAAIIIIAAAggggAACCCCAAAIIIIAAAggggAACCCCAAAIIINDQAotWY+8OPvhg8+CDD7pVtW7d2qy55prVWC3rQAABBBBAAAEEEEAAgRoQmDlzppk+fbrbkhYtWphevXrVwFaxCQgggAACCCCAAAIIJCvw8ssvm59//tllutpqq5l27doluwJyQwABBBBAAAEEGlhg1qxZZtq0aW4PF110UdO7d+8G3lt2DQEEEEAgKQH9dug3RGndddc1jz76aElZL5SxqaQlypi5T58+ZsKECWUsySIIIIAAAggggAACCCCAAAIIIIAAAggggAACCCCAAAIIIIAAAggggAACCCCAAAIIRAussMIKZsaMGdEzhEyhq9YQFEYhgAACCCCAAAIIIIAAAggggAACCCCAAAIIIIAAAggggAACCCCAAAIIIIAAAgg0rkBVumpVRJ+XOnbsaHbYYQdvkFcEEEAAAQQQQAABBBBocIEpU6aY5557zu1lq1atzF577dXge8zuIYAAAggggAACCDRHgRtvvNEsWLDA7Xr//v1N165dmyMD+4wAAggggAACCJQl8N5775lnnnnGLduyZUszePDgsvJhIQQQQACB5iWg3w79hii1b9++5J2vSuBcjx49shvWrVs3M3r06OwwbxBAAAEEEEAAAQQQQKCxBUaNGpUNnGvbti3XA419uNk7BBBAAAEEEECg2QrcfffdZs6cOW7/DzzwQLPvvvs2Wwt2HAEEEEAAAQQQKFVgzJgx2cC5pZZainuIpQIyPwIIINBMBQ444IBs4Nyqq65asgJdtZZMxgIIIIAAAggggAACCCCAAAIIIIAAAggggAACCCCAAAIIIIAAAggggAACCCCAAAL1LEDgXD0fPbYdAQQQQAABBBBAAAEEEEAAAQQQQAABBBBAAAEEEEAAAQQQQAABBBBAAAEEEECgZAEC50omYwEEEEAAAQQQQAABBBBAAAEEEEAAAQQQQAABBBBAAAEEEEAAAQQQQAABBBBAAIF6FiBwrp6PHtuOAAIIIIAAAggggAACCCCAAAIIIIAAAggggAACCCCAAAIIIIAAAggggAACCCBQsgCBcyWTsQACCCCAAAIIIIAAAggggAACCCCAAAIIIIAAAggggAACCCCAAAIIIIAAAggggEA9CxA4V89Hj21HAAEEEEAAAQQQQAABBBBAAAEEEEAAAQQQQAABBBBAAAEEEEAAAQQQQAABBBAoWYDAuZLJWAABBBBAAAEEEEAAAQQQQAABBBBAAAEEEEAAAQQQQAABBBBAAAEEEEAAAQQQQKCeBQicq+ejx7YjgAACCCCAAAIIIIAAAggggAACCCCAAAIIIIAAAggggAACCCCAAAIIIIAAAgiULEDgXMlkLIAAAggggAACCCCAAAIIIIAAAggggAACCCCAAAIIIIAAAggggAACCCCAAAIIIFDPAgTO1fPRY9sRQAABBBBAAAEEEEAAAQQQQAABBBBAAAEEEEAAAQQQQAABBBBAAAEEEEAAAQRKFiBwrmQyFkAAAQQQQAABBBBAAAEEEEAAAQQQQAABBBBAAAEEEEAAAQQQQAABBBBAAAEEEKhnAQLn6vnose0IIIAAAggggAACCCCAAAIIIIAAAggggAACCCCAAAIIIIAAAggggAACCCCAAAIlCxA4VzIZCyCAAAIIIIAAAggggAACCCCAAAIIIIAAAggggAACCCCAAAIIIIAAAggggAACCNSzAIFz9Xz02HYEEEAAAQQQQAABBBBAAAEEEEAAAQQQQAABBBBAAAEEEEAAAQQQQAABBBBAAIGSBQicK5mMBRBAAAEEEEAAAQQQQAABBBBAAAEEEEAAAQQQQAABBBBAAAEEEEAAAQQQQAABBOpZgMC5ej56bDsCCCCAAAIIIIAAAggggAACCCCAAAIIIIAAAggggAACCCCAAAIIIIAAAggggEDJAgTOlUzGAggggAACCCCAAAIIIIAAAggggAACCCCAAAIIIIAAAggggAACCCCAAAIIIIAAAvUsQOBcPR89th0BBBBAAAEEEEAAAQQQQAABBBBAAAEEEEAAAQQQQAABBBBAAAEEEEAAAQQQQKBkAQLnSiZjAQQQQAABBBBAAAEEEEAAAQQQQAABBBBAAAEEEEAAAQQQQAABBBBAAAEEEEAAgXoWIHCuno8e244AAggggAACCCCAAAIIIIAAAggggAACCCCAAAIIIIAAAggggAACCCCAAAIIIFCyAIFzJZOxAAIIIIAAAggggAACCCCAAAIIIIAAAggggAACCCCAAAIIIIAAAggggAACCCCAQD0LEDhXz0ePbUcAAQQQQAABBBBAAAEEEEAAAQQQQAABBBBAAAEEEEAAAQQQQAABBBBAAAEEEChZYNGSl2ABBBBAAAEEEEAAAQQQQAABBBBAAAEEEEAAAQQQQAABBBBAAAEEEEAAAQRiCvz4449m1qxZ5vPPP3dLtG/f3uhvscUWi5kDsyGAAALJCxA4l7wpOSKAAAIIIIAAAggggAACCCCAAAIIIIAAAggggAACCCCAAAIIIIAAAs1WYO7cuebRRx81Dz30kBk7dqz57LPPQi3atm1rNttsM7PDDju4v06dOoXOx8jaEDj33HPNxIkTsxuz6aabmsMPPzw7zBsE6k2AwLl6O2JsLwIIIIAAAggggAACCCCAAAIIIIAAAggggAACCCCAAAIIIIAAAgggUIMCP/zwg7n00kvNsGHDzFdffVV0CzXP/fff7/4WXnhhc/DBB5uzzjrLLLfcckWXZYbqCyhwzn9cdcwInKv+cWCNyQkQOJecJTkhgAACkQLfffeda3r4iy++MD///LNp1aqV6dq1q1l88cUjl2ECAggggAACCCCAAAIIIIAAAggggAACCCCAAAIIIIAAAgggUC8C6op16623zmmRrJRt/+WXX8yoUaPMHXfcYa6//nozcODAUhZnXgQQQKBkAQLnSiZjAQQQQKC4wJQpU1yzw2p6+KWXXjLffvtt3kKLLLKIC55bZ511jP7U/HDv3r3z5mvOIw444AAzf/78PIIll1zSXHPNNXnjGYEAAggggAACCCCAAAIIIIAAAggggAACCCCAAAIIIIAAAtUXmD17thkwYICZPHlyxSv/8ssvze677+66eFU3riQEEEAgLQEC59KSJV8EEGiWAtOmTTPHHnusueeee4ruv1qee+edd9zfXXfdZU477TQzaNAgc84555jOnTsXXb4pZ1BA4NFHH22uuuoqVwAuZVtKWVYu8+bNy8u+bdu2BM7lqTACAQQQQAABBBBAAAEEEEAAAQQQQAABBBBAAAEEEEAAgaYROOaYYyKD5vr27Wu2335706lTJ/fXokUL8/HHH5sPP/zQPP/88+bRRx/N2+jvv//e/P73vzeTJk0yv/nNb/KmMwIBBBBIQoDAuSQUyQMBBBCwAmoyeL/99jM//PBDWR6ZTMbceuut5l//+pc55ZRTzNChQ8vKJ82F3n33XXPUUUeZhx9+uOTVVLJsyStjAQQQQAABBBBo9gIvv/yyGT58eE7rtarg0L9//2Zv4wd47733zKmnnmq++eab7OiDDjrI7Ljjjtlh3lQmcO+997quRVRxxktXXnmlWWGFFbxBXisUGD16tLn//vuNrqm8dOONN5plllnGG+S1GQl89NFH7np6zpw5eXu9/PLLuwpgeRMYgQACCAQEKEsGQAoMUp4sgJPAJMqSCSDGyILyZAwkZkEAAQSKCCgA7pZbbsmba8MNNzQjRowoek9O5a+TTjrJtTDnz+Trr7929/guvvhi/2jeI4AAAokJEDiXGCUZIYBAcxZQsNs+++xjfvrpp4oZFHinguFqq61m9txzz4rzSyKDuXPnmjPOOMOoULpgwYKSsqxk2ZJWxMwIIIAAAggggIBP4Mknn3QVG3yjzLbbblv0Jp1//ubwfsKECa7yhn9fe/fuTeCcH6TC93feeafRA09/Ovnkkwmc84NU+H7MmDFm/PjxObmUW6EpJxMGnMD777+fE1xbDotaFGjfvn05i5a8zBtvvGFuuumm0OW6dOkSOp6RCCCAQFCAsmRQJHqY8mS0TRJTKEsmoVg8D8qTxY3KmWP69OlGAS+VpLXWWsuoVSoSAgjUvsDll1+e95y0e/fu5rHHHjPqSapY2mCDDYx6rdpqq63MU089lTP7NddcY3QvpVrXlTkrZwABBBpegMC5hj/E7CACCKQt8Nlnn5l99903rzBY6XrV0kevXr1Mt27dKs2qouXV7eyhhx5qZs6cWXI+lSxb8spYAAEEEEAAAQQQ8AkceeSRZtNNNzVq5Uvdy99www2+qbz1BAYNGuTKmz/++KNr+XjkyJHeJF4TErjiiivMYYcd5nI77rjjXPcjCWVNNv8T0HXHO++844bUCvi0adOwSUjg7rvvNrvttlvFuV144YVG38vVSNttt5159dVXzXfffZdd3fz5883vfve77DBvEEAAgWIClCWLCf06nfLkrxZpvKMsmYZqfp6UJ/NNkhijVt9VnqwkXXbZZdnrqUryYVkEEEhf4PXXX89bydVXXx0raM5bcNFFFzW33367WW+99XKeS+qabty4cWaPPfbwZuUVAQQQSEyAwLnEKMkIAQSaq8AFF1yQc0O+kEObNm1ci23ffvttodnctHnz5pndd9/d3fBfeOGFi86f1gzqgracoDltTyXLprU/5IsAAggggAACzUNANdI32mgjt7OPPPJI89jpMvZS5Ux1maEUdoOzjCxZJCCw9NJLm379+rmxyy67bGAqg0kItGvXzuhPackll0wiS/L4n8C6667rWqBUC34ff/yxefvtt80SSyzhApPjIE2dOtXor5ppoYUWMuuvv37OKuNcg+cswAACCDR7AcqS8U8BypPxrcqZk7JkOWqlL0N5snSzUpbQNWewtSlV3lLrnlFlyw8++MCoK2haki5FmnkRaFoBfWb9yV+e8o8v9r5jx46uApcCZ/3prbfe8g+W9X7OnDnuvoEC9NJKer6r/Fu1apXWKly+aa9HPYppHxqp1c9qHP9UDzqZpyaQ3jdCaptMxggggEDtCHz//fdm1KhRkRukwoRqXQ4ZMsSoSXHvIc5XX31lnnjiCXPOOeeY1157LXJ5PbxUQXCdddaJnKeRJ+y4447u4UxwH1u3bh0cxTACCCCAAAIIIIAAAggggEDCAmoB/f7773e5qmsctYz+t7/9zQwbNizWms444wxz6qmnxpqXmRBAAAEEEEAAAQQaU+D88883m222Wc7OzZ4923W5uNJKK7luHHMm2oF//vOf5sQTTwyOZhgBBGpYwN/qtzYzk8m4v3I2WS2GBwPnJk+eHJrVRx99ZNRCqz+dddZZRsH9WkbXsg888IDRfHquq6C2zp07m65du7pnuPvss0/ZwWEKAlarpQ8++KAZP368US9lWofSUkst5daz9dZbm1133TVbqdK/nXHfV2M9srrooovMyy+/7CrAqattGSqQUb16/PnPfzbbbLNN3E128ynPG2+8MWeZ/fff3/To0SNnXNTAmWeeadTaoJfWXntts/fee3uD7rUpj3/OhjBQ1wIEztX14WPjEUCgqQVUe0IR92FJUfgKjttkk03yJqt2lVqTU0FJ3ciMHTs2bx5vxAsvvNBsA+duvvlmj4FXBBBAAAEEEEAAAQQQQAABBBBAAAEEEEAAAQQQQAABBBCoQYGVV17ZBY55m/bTTz+ZO++80wwePNgbFft1iy22MEOHDnWtVS633HKulflVV101dPlPPvnENVTin3jaaacZ9Rj2j3/8w2g7/EnDXuvojz32mDnllFPc8gqgKyWp160TTjjBqIXMsPTNN9+4xlHUQIq2Zdttt3Wvq6++etjskePSXo+C/f7yl7+44EIFO/rTL7/8Yj799FN3HHUsDznkEHPppZf6Zyn4/t133807NgrCixs4Jzc1RuOl3XbbLS9wrqmOv7dNvDaGAIFzjXEc2QsEEGgiAf3gRyVF3YcFzfnnV6T+LbfcYrp06WLUpG5Yev75512t/rBpxcb9/PPPLl+10LbIIosUm73ZTlftDxUG02g2WU3J6zioyXkSAggggAAC9SSg2ny6sTNjxgxXVunevbtZbLHFam4XdAPnww8/dDe89Juu2uq6+ZLU77r2Xy0Er7DCCma99dZLrEyVVr5pHCB1cahyr7pp1M1KOXgtKZe7PpWPlKcqoqy44oqudeakjpm2KQ3fND8TOocnTZpkfvOb3xjVni2nyxCd/7p20LFRV0jqrtKfZKJaw7r2WHPNNUs+l9UihG4s64aqKgKtttpq7tgF1+NfZ6Xv1YXGl19+6Wpo69qJ1PgCTXGelauqbf3vf/9rdJNenzt9JvQbVOm1d9rfj+XuL8shUKpAmr+bpW5LofnTLktq3WmUS9LMt5BXudPqrTyZxjFL8zORRFlSx5byZLlnOMvVg0AtXltQ7quHM4dtLEVgjTXWMC+99FLOIocffrhRS+Z9+/bNGV9sQF2Vx23pPCwvtZQebIUubD6NU4tlCu7Tfa+///3vUbNlx6v8ePTRR7vW2bIjY7x59NFHzXPPPWfuuusuoxb1iqVqrEf35fQ8Oyr4L7iN6oVN5Y6oZ9rB+ZtqOM3j31T7xHrTFSBwLl1fckcAgQYXiGptTrv9+eefx9p7PXxULQNF6oelF198MWx06LhZs2aZ22+/3XWlo25edSNfBSs9ZNJ6VDhVC3e77LKLe1gWmokdqSaFVXhTUj5R6aqrrsppRn377bc3arq33GVVy8CfTj/9dKPAs2Bad911XfPJwfEaVg2UYNLDvCOOOMI1J6xpOjYKWJSVCoVffPGFM1JAQO/evU2vXr2MuomVV6lJBWw1+ayHkq+88op5++23XW2WZZdd1uiiQTVW1IzwMsss47JWwV83D4OpX79+ZocddgiOZhgBBBBAAIFUBVTj8txzz3VN6L///vsu+NtboQIB9Fup31r9nqn1XP1mBn971aWf8liwYIG3qBk+fLgZMGBAdth7c+SRR7pAH29YryoPjBw50j8q9L0e6ugGmGo5Tps2LWceVRoYNGiQ6x6wU6dOOdOCA+pC8JFHHsmO1rrXWWcdVyNVXS0oIMJL6mJh4403NuomoNgNv7Ty9balGq8KCFENXdVs9ZdXVLZUcOJf//pXc+ihh5a0KTJV+UdBmTqGXlKe6iJjr732MieddFLRLjKq5ZvEZ8Lbx+CrHsjqhuzjjz9uZs6cmZ2sAMINNtjAdSWiz1wwyU+fM68WsLof0c1XfR48U3WjoeGdd97ZlXf33Xdfd/PaW6ZPnz7u+kO1waOSugG59957Xd7PPvusC3QMzqugR3XF+cc//jFWsJA+q6rFrIdW/nTJJZdkP1Pq2kWfa12TKBBQx0CBejovdGO63EA9dfGi7kF0feRPLVq0MBdffLG7DvCP530yAt51jx56hKU0zrOw9SQ1Tp8hXUvq86XPRTApwFzdzuyxxx7us6Fr2s033zw4W+hwUt+PoZkzEoEqCSTxu1lvZUnRplUuSSvfKp0ObjW1Wp6slm0Sn4mo41VuWVL5UZ7MrWASZRwcT3kyKNK0w0lfW1Tr90dqlPua9txh7ekJqCvP66+/PmcFeo6q513qgUv3A3R/sNLKRjkriBjQNVswtWvXzug+iJ7befdP/POo9TjdnzruuOP8o/PeH3XUUe4+Qt6E/43QfUld64Y935SHnv2ptzHdVy2U0l6PyhI6Nnq2HJZ0nOThv8er+fz3UcOWq4VxaR7/Wtg/tiEFAXvDJ/Vkv1zUpqP7sw9BUl8fK0AAAQSqJWCDo7Lfb973nP/VNgGcsbWGim6O7dI1s99++2Xsg8fMsccem7EPKDP2AXPm8ssvz9jgrqLL2wJY5p///GfGPowouD3ettmHTRn78Cxjg7xC87ZBZrHy8fLzXg877LBMJcsGN8YWLkO3wz44C86aHda+edvjf73wwgsz9iGZM7WtAYTO45/fPkDLHHPMMRl7gyubd7E3Nvgx06ZNm6J52xZrMvbhpsuuffv2ofPb2hDFVsd0BBBAoG4E7IVq9rvOBlnUzXY3tw21rV1l7A2b7LHS76UNDsvYgPvMRhttlLFB4Nlpa621lntvW63KYzr55JOz83m/rfamcN58GmG7WMib1948Cp3XP9LWbMzYwKLssosvvnjGtrCVsTUkM/qd9darbbYB7RkbcOPG2Qcd/mzce+2jN79ebdBfxrb6lR2n33ZbCzSz2WabZWzgnBuvMsr48ePz8vKPSCtf/zqSfi8fGagsevfdd2dswEvWYfnll3e+tpJBpmXLltnxtlJGxt5oK7optpWyjO1OIbucjpmtDJHZaaed3PnlL0Np/Kuvvlowz2r4JvWZ8O+Izm8Z2wDNnHKjyrcDBw5055ltqdjNo3KirYjhX9y9tzeZs47KS+VWverPdveR/azqfL3pppsyHTp0cNN03Hr27Jnxysv25mjBaxXbenY2X+WtY9a/f/+MDW50nwnbslZ2ug2kzdvOsBFPP/10dhlvm/WqcrSSrYCTsZVXsvPYlvcyOve8ee1N9rBsc8bZwFc3vw1GzBnvP/+8/LxXG1CXM29aA/Zmc8YGA2ZssGRFf7YGf1qbWDDfq6++2tnagOm8+WyFq4xtSSATdLcPBdz3iQ2+zVtGI9I4z8JWZLvIcdtuW1wMmxx7nP96V59VG4Tqfif1+dW5532+vHPr+OOPL5p30t+PRVfIDKkK+H87b7jhhlTXVWuZJ/W7WW9lSR2HtMolaeWb5rlTL+XJatgm9ZnwH68kypLKj/KkXzX/PeXJfJNyx9hAGVcGe+aZZ/KysIEabpqtLJQ3TSP0vENlKl07haWkry2q8ftDuS/sSOaOu+6669xx17HXPR1S/QnovoF3PRT2quNqK+RmdH1pG7ZIZAd1nR22Lm+crQSb0e+ynhEq2YC2jA2WzdgGR/KWs5UZM7rvGJUmTpyYsQFlecvpvs6VV16ZmT59ultU1/+6t2UrO+bct/G2SfdkCqVqrMe2spe3H9o+27BIZty4cRldR+v5s+5BKN4neL3r7YtebYMhobtjK2TmreOhhx4KnTdspFz969G9nWCq5vEPrpvh2hH405/+lD1X/vCHP5S8YaqhnHoicC51YlaAAAJNJKACg61Rnv0i9v94e+9tK2MZ22JC3gOEpDZZDyK23nrrgtvgbUvw1dauyEyYMCFvU/wPA4LLFBqu5cC5ESNGZPRAr9D2h02LKuz50WyrGBk9xAtbvtA4BUYSOOeX5D0CCDSqAIFztX9kdaPKC9axXc25oDDvZpK39bqpdM011+QElSlIJ5i0nK35nbEt1mVsq2/u9zEqcM426+/m07y33nqrm7dY4JzttjFja4e6ebXN+j3VzSh/evPNN7OBdQoqUmCDfpPDAuf0O6712xaA3Tzeb7f2zbb8m72ppvx1k9u78a8KC7bVWv9qc96nlW/OShIe8B50KoBSAUuyWH/99TMKiPEnnQsKMPQC6GxLcZmooBgtpxttehii/BTMZVtgyptf542CvLygRZWxbQ1g/2pz3qftm+Rnwr/h3sNO7zzTDWUFYfora9hWDjO6waN5dENZ5X1/st18uXNWQYdePrqRqJuaSvpcKYjHm6ZX5afPjtIbb7yRvYYZO3asGxf2TwE/us6wLcplnnrqqYytjZ0zm7ZZx8z77tBnMU5SoKU+c/rz9kGBc9dee232ZrLOA9u6dca2oO2ytC3CuXMyzoOTqAedWp8X/Kpttq2GuW349NNP42x2IvOMGTMm57j4j1Gp720X0olsUymZFAqc8+79ybWUlNZ5FtyGJALnvO9IPSTR95j3mfKva/LkyZk999wze5xVMa5QSuP7sdD6mJa+QHMNnEvyd7PeypI6q9Iql6SVb5qfBO+7stbLk2nbJvmZ8B+vJMqSyo/ypF81/z3lyXyTcsfoO8G2Vp6xPcDkZVEscE7XN6psV6jSWpLXFmn//lDuyzsFQkcQOBfKUlcjVZlKFZbiXuOqkrXuH+qewjvvvFPWvhYKnFLlv+D9DG8lU6dOzahScHBbbQvi3ix5r8Hgcy2rCreF7i3Y1spzKvp66yt0/Zz2emQWFginBmH0fRiW/vWvf2Xvq3j74L1GPUtt6sC5pI9/mAvjakOAwLnaOA5sBQIINGOBYA1Fr5AQfLXN2WZUg+CUU07JPPnkky5Kv1I2FV7UkmdwXaUM6+FRMHiuEQPnSjEJzqsCZKGklniCy8QZ1jkRNR8tzhUSZxoCCNSbAIFztX3EVJ5Qa2r6TVIQSzBIJ7j1truljILrNH9Y4Jx//oMPPtjNFxU4559XtReVZ7HAOS8QXttQ6IaagulsV6IuT+/3Vjfto9IBBxyQnVflO9uVZOisqjjhtcynwPxiKa18i623nOneg07P65BDDilYZlXgjtcaWKGyy4EHHuhsbfehGd2ULJT0ENOrnayyc9TNOi+PNHzT/Ez4H3YqmE1BiGFJN3XV8p6ORdR5q0ormq4ARtvFR042jz32WPZ81uc7GFzqfY7UikOlafTo0W5dW265ZclZqYUy7YP3naL3qj0cFpCkgD8FJRVLYQ865eOdq2opr1iLhsXWUe50nf+q0S3/Sv7UUnmx7+pyt7HQcoUC5/QdoONnu+UplEXZ0yo5z7TSJALnVOte+3jeeecV3A99h3jB2MUC59L8fiy4kUxMTaA5Bs6l+btZT2VJnVRplEvSzDeND0K9lSfTOGZpfiaSLEvq+FOeDP8UUJ4Md0l6bLHAuVLXl+S1RRq/P5T74h1RAufiOdX6XKq4FvfZqa6x/H9qhf7oo4/OlFJZLCpwTttQLKnybfBZnQLKwnpXuOOOO3K2Vdutewxff/11sdW41vX8PQZ4y4ZVRK3GetTqn99d7/fff/+i+6EeKoLLabgWA+eSPv5FcZihSQUInGtSflaOAAIIZFxLCGGFhGLjFLCmG+9qjU61EMtJ/ouIYusrNF21vvSQ0ksEzuUW1As16arWNwrZljut0MNn7zjxigACCNSLAIFztX2kVKNTv1dqifarr76KtbHeDZxqB84pcEbbqhtYYV29BDdeLWL5u3SNCkDSct5DM3VDW6glOc3rPRDcb7/9NFgwpZVvwZWWOdHbLxmrpblgsFVYturaQvPrJmOwMobm/89//uOmq6uLuN1Lyt/rrrNYK2Zp+Kb5mfAedqpb4aigOc/5/PPPd3Z6aBOWvAedZ599dt5knftqNVB/CnYNJu97WTWJK01qFU7ngLpJLjV5D7e8z/WZZ55ZahZ58wcfdKo1S3Uzq3Wo9clCtcDzMmNEjoAXOKcWIRUc5P/zWqBMK3CukvNMO5FE4JzXEmSc7jfViqLOueHDh+cY+gfS/n70r4v31RNojoFzaf5uJh24kGZZUmdZGuWSNPNN45NRb+XJNI5Zmp+JJMuSOv6UJ8M/BZQnw12SHptW4FwS1xZJ//5Q7ot/9vifecVpcTx+zsxZbQHdl1BvBTqO+lyW86ffPQXhFUtRgXOPPPJIsUXddK9yoX8bdf0bTLpX5p9H71VxMW4aMmRI3vI333xz3uJpr+fnn3/O66ZW9/XiVFZUBQHdOw061GLgXNLHP+9AMaKmBCoNnFvYntQkBBBAAIEKBA466CBjm3otOQd749488MADxhaUjH0waOxDXWNr0RsbwBYrL9sFkznxxBMj57XdxxjbnLCxrUiYk08+2fTu3TtyXttai5svcoYGm2AfnBl7Y8xccMEFxrbWYFZZZZWCe3jfffcZ+wA3bx5bIjDHHHNM3nj/iOWWW8788Y9/NPaBibHBcGbttdf2T+Y9AggggAACTS6g3zmls846y7Rp0ybW9vz+9783NkjGrLfeerHmT2ome9PKZWVbQjO21d2i2ao8ZG+6Gnvzp+i83gw2CMnYm3reYOjrGmus4cbHLbdp5rTyDd3ACkfawERju5Q0NuiqaE62IogrC9sbZ8bekMqb//HHH3fjbE1Ws+GGG+ZNDxshf9sNoptkWysMmyVvXJK+1fhM2AAxYwON8vbDP8IGprpBlfsLJdsNbt5knfs6722Ak7HdnoZOzxtZ5ojWrVu7JVU2LjdpO20XJcYG8pWbRd5y2p7TTjvNnZ+2BT9ju34xttKLsS3P5c3LiNIEbNCnkan/z7bGWVomJc6dxHlW4irzZretIbpxtqKZsbXsjX0QlDePN0LzTpkyxRx11FHeqLzXan0/5q2YEQgkLFCN382kNrkaZUlta5LlEv++p5Wvfx1Jva+38mSSttX4TCRZltQxpzwZfuZTngx3qfWxaVxbVLrPlPsqFWT5ehTQfYnjjz/efPzxx+4ekw2Cc/coStmXhx56yD1T0/O1UtNGG21kbEvgsRbTM9RgevDBB3NG6TdB13j+1LlzZ7P11lv7RxV8/+c//zlv+rvvvpszrhrrefHFF/Oeee68887Guw+Vs0GBAZXxhg4dGhhbe4NJH//a20O2KGmB4nfBk14j+SGAAAINKHDVVVcZ292PUQBauemVV14xtrluY7tyMbbbLxNWgPLnrYfbn332mX9U9r0eBt12221mwIAB2XGnnnqqeyCuh0dhSTcPVTjUA9JzzjnHPWTSfNom22992CJu/Oabb56dpotSJW8d5SybzSylN7ZrNRewuOKKK2bXYFtTMbYLK6PCYlhSQVWF14033jhnsq0JYl5++eWccf4BPRyWnW2qOTva1uQwJ5xwgjvG2ZG8QQABBBBAoAkFJk2a5Na+5557xt4K/ebrxlcpAWmxMy8wo61B6qbaVn8KzJU7SUHrthtIY1v4zZ0QMaQbe8VSnHmCecRZJs48wXzTGJaX7SY0dta6uWZb9TKvv/563jLeMVPZy9ayz5seNcK2zuwmvf3221Gz5IyPYxdnHmVaK5+JuNubA5HwgAKDFND27LPPmg8//ND92ZYpjY6PAm27dOniPl+Vrvbiiy92gW2V5uNfXpWbxo0b50Ydd9xxxnav6Z/M+woEdJN82LBhOTkoQOzCCy/MGRd3oFrnWdztiZpP33UKFlYFOAXGKchXAeQKpl511VXdn22hxn0m9DDBtuwelZUbX63vx4IbwUQEEhCold/NOLvife7SLEtqO+L8hseZJ7hPcZaJM08w3zSG6608GcctzjyyrJXPRNztTeP4+/Os1u885Um/evN+n8a5UKmo9/uT9nVxpdvJ8gikIWB7IDC2C1D3Z7slNbYHCfPvf//b3SOaOHGiUUXMQkkVthSA5z1bKzSvf5oaFombdB239NJLm7lz52YX0TNff9J90Pnz5/tH5T0zzJkYMmBbanPBg6qM5qXg/cpqrCfsueZvf/tbb5OKvu66665m8ODBRs9OazUlffxrdT/ZruQECJxLzpKcEECgGQvowZFqPqgVg7ACRyk0X3/9tQtWU20GBWYtscQSeYurtbpCDyVGjRqVEzSnDHSzRMFzr732mvFqPvoztl0WmYcfftioBRmt01tvoZYw9KCgbdu2/mzc+0qWzcsswREdO3Z0BfJgazotWrRwgYZ6sK6Ce1iaMWNG3mg9RIxKWteTTz6ZdfTm03FQ7Ri1yKCLeBICCCCAAAJNKWC7vjMqA+jmbfD3sdh2VTtoTtvzwQcfuM0qtaU7BYEFb0QV27/mPL1U3549ezou7yGh3852ieYGzzjjDP/o2O8/+eQTd+NSNzCrkertM5Gmicq6qlgzbdq0vNXMnDnTjVPlnyRSsVYey1mHFzSnZW03wa5lb+86pZz8kljm6aefdi1fR11zxF2HWl/T/nXq1CnuIqnP57VQ6b3GXWE1z7O42xQ1n84f2z21ufTSS80ll1zifld0HPznmpZt3769Ucv0Rx99tFEL5FGp3r4fo/aD8c1boN5+NylLVu98ba7lyXr7TKR9RlTzd57yZGlHsxbLk6XtQfTcaZwL0WuLN4VyXzwn5mp8gSWXXNK1Aue1BDdnzpxsIJ3t8tTYrkIjEdQDV9euXV0lpsiZfBPUGlwpaeWVVzZvvvlmdpHPP/88+15vwu4rqgGTsHthOQsGBvxBc2H5VmM9wX3TdoT1VhDY9OygKlTrujcsn+xMTfwm6ePfxLvD6qsgQOBcFZBZBQIINA8B1aR87rnn3A30kSNHGj3kqyTde++9rgbGHXfcYVRb3Z9UcIrqCketou20007+2XPen3vuuaGBc5pJgV4KnGvUpG5Vo4ICVrHdtao1OtV2CUvBmiSaZ+rUqWGzunFq1aLQgzkV8tXKX1i+kZkyAQEEEEAAgYQFvvzyS5fjMsssk3DO6WTn3VzSjbZyUrBMVU4ezWGZQmWYsP33joda8Q0m3UhTl/dqpbhdu3bBybGGVau4WqnePhNpuagizqGHHuqyV0WZv/71r6Z///5GNx4VaKtrEVX40U3tCRMmuAo6tVbTWN1J69pHLXqri1a1FKbKSart3lRJ3Tur5b5CXXwW2zZVxNF3mWrd11JSC39qjbCUWur1ep4NGTLE6E/HUy2Tq7uet956yz1kUWsiCixVl3833nijUbdcUS3P1dv3Yy2db2xL7QjU2+8mZcnqnTvNtTxZb5+JNM+Iev2d95tQnvRr8L4SAcp9leixbCML6H7kwIED3Z/2U88+9fuhP11vBZN6u1JrZ3Hu7+mZXykpGDincqPue3jPFMMC2pR/3J4SorYlmG9w2FsuyfWEBbz5e87y1lnoVfOH5VNomWpOS/r4V3PbWVfTCBA41zTurBUBBBpUQC2XqVa5HizdeeedrptO1ZJQC3HlpLvuusucf/757mGPf/mogpPmCXYn6l9O73XTXg+/9FAjmCptLS+YX60NqzvWQkk2cQPn1Hz09OnTQ7NTof0vf/lL6DRvpLrTVQuF1113nTeKVwQQQAABBKouoK7lVEvw/fffNwp6UlmmlpOCdlT7U7W1i5V5/PvhtS5Sa4E9/m2spff+GrZxtsurPa+uLYJJFRMUVPLHP/7RVQoJTq+14Xr7TKThp8Cuww8/3GWt4DkFn6lFCn/Sw3DdPNaNyC233NIFzsW5ce3PI+33TzzxhFlzzTXN+uuv7wI31VWwuuZTi2H63muKpFr1+q6t9Luo1qxlqc/6NddcE5u1Ec4zfQ7U4qbX6qZ2XkGRao1e9wXUWqOu+dQyY1grrfX2/Rj74DJjsxKot99NypLVOz2ba3my3j4TaZ0RjfA7LxvKk2mdIc0vX8p9ze+Ys8flCXTr1s09E1XDFAqQU2Ml/qQKS2PHjjXbbLONf3To+1JaUFMGHTp0yMtHz1G9wLlCDWnkLVjCCAXnqYtYr6eFaqxHLeQGU6mVXRU4F+zONphnUw4nffybcl9Yd3UEFq7OalgLAggg0LwE9NB57733Ngp8UwFEXaCqRroe3JSaRowY4R6u+JdTrfaodM8995jDDjus4F9Y0JzyK7VJ4ahtqNXxxfy9gmnY9gcfbn300UeRrf6pm1Z131ssRbU8UGw5piOAAAIIIJCUgLrUW2ONNVxZY+LEiUllm1o+6lZdafz48bHXoXKPbqyR4gvIy2stI85SXsUDdYkbTApaUlJryvWQ6u0zkYbpmDFjjCqJ7LDDDuayyy7LC5pLY51p5Ond9NX3hlr9UuUh3WDfZZddIsvxaWxHWJ4KfKvkLyzPehtXb+eZrv8uuOACo66ECiV9h6gF+Geffda1sqnf1qiHCfX2/Vhov5nWfAXq7XeTsmT1ztXmWp6st89EWmdEvf3ORzlQnoySYXypApT7ShVj/noTUAUx3au7++67zRVXXGFOP/1088gjj5S9G2p4QsHLumcZTFHXV8H5wnpFCM7jH1ZvCcHk76FDrb9XI1VjPWEt8ZfaO1Y1tlPe5bbYn/Txr8axZx1NK0DgXNP6s3YEEGgGAmrNYLvttnNduOqm0aeffmpuueUWM3jwYLPccssVFVA3Lyps+lOhFufUoooKpoX+/Hn53+shQLmFEH8+tfheN64KBcZpmxdffPHYm16o1oeadI6T4s4XJy/mQQABBBBAoFyBDTbYwC2q1nEULBM3KahclQMKlUu8FnbCulcIridOMJxaLVM666yzzMcff+zeF/v3t7/9zXjdchWbt56n64bQHXfc4Vp222+//cy///3vslu1UjecRxxxRCwOVegYOXKkm3fAgAF5yyj4qmXLlua+++4zDzzwQN70WhyR5meiFvc3uE1eJZ2dd945Vvcnr7/+ejCLmhvWgyq1BK7rAX1v7b777nmVk2puoxt8g+rtPBs9erRrRU6BAHGSHvR43yVeq6fB5erx+zG4DwwjIAHvXKcsWf/nA+XJZI5hmp+JZLYw/Vzq7Xc+jgjlyThKjTNP0vcyKPc1zrnBnoQLqMvO/v37m91228016qEuVS+//PLwmWOOVXDXP/7xj7y51WtGnKTKT6Wk//73vzmz617Wsssumx2n1vCC6aqrrnI9jqnXsUr+/M8uq7EeXa8GU3D/g9ODw6X6+peP+xxa96nL7dGt1O0L7n/w+Pu3n/eNKUDgXGMeV/YKAQRqWEAFkr322svceOONZsaMGebaa681YYUU/y489dRT/kHXnVrOiAQH1CRwI6awGhTB/SwlcO6TTz4JLp4djvtw3mviObsgbxBAAAEEEGgCgVNPPdWoBqUC19RFfJz0zjvvmC222MK1SHXCCSdELqKuipRee+21yHk0Yfjw4S4goeBMduLvfvc7o5ZCVF458MADi7YapcoHN9xwQ7FsG2L6ySefbPbcc09z/fXXu3LmVlttZW699day9+3mm282t99+e8HlFRCpYEbVStXNUR2fYFLt4DPOOMMF8e27775G506cpJtjar35+OOPr3rgY5rACB+VAABAAElEQVSfiTj73tTzeN1ZFCrvetv4r3/9y3WDquFgC83ePLXyuuGGG7oa72oZWt216vMS92ZtrexDI21HvZ1nXu17BSjHOW8+++wz89JLL7lDFlVhqh6/HxvpHGRfkhNI83eTsmRyxylOTpQn4ygVnyfNz0TxtdfGHPX2Ox9XjfJkXKn6ny/p3x/KffV/TrAHhQXat29vvIBTb84XXnihpAq63nL+V6+1Rv+4sJbh/NO998FAKG981Gsw0Eo9S/lT9+7d/YPuvQLFl1xyyYr//BlXYz0rrLCCf5XuvbpZLyWV6uvPWxV24yTd/y33XlOp21fs+MfZXuapbwEC5+r7+LH1CCDQhAJTpkxxXRepxoMe3KrWUK9evYwKHKplGycpYv1Pf/qTmTBhgikU2BX8wVbraWml5hw4FyzYFzIu1Fpg3EKfWh8kIYAAAggg0NQCK620UrbFMAUp7bPPPq6r+bDt0m+cgqDWW289o8B+BZ2rHBSV+vTp4yapJVyVnYJJrdVtvfXWLjgqOC1sWL/VarlX61XrUX379g3thlXbqX3ZY489wrJpuHE///yzufrqq/P2SzVfK0mq7HHMMceEBq698sorruz7/PPPu1aU1aVnVDruuOPMpptu6ro41MMmBUpGlZe0LwraU4CkWgXTvNOmTYvKOpXxaX4mUtnghDPt16+fy/G8884zOs5hSTdUBw0aZHbddVcTp0XJsDyaYtwmm2xiHnzwQbPEEkuYe+65x33f6ZwjVV+gXs+z5557zmy22WYFv5cmTZrkAonV5bW+y/RbFZXq7fsxaj8Y37wF0vzdpCxZvXOL8mRy1ml+JpLbynRzqtff+TgqlCfjKNX/PEn//kiEcl/9nxfsQbSAnnV6AafeXLNnzzZ33nmnN1jW69dff523XFTFpOCMhXrICM6rRk50/eZPwQC24LDmLVZR2J+f917Bdm+//bb59ttvvVE5r9VYT+fOnXPWqQH1mBY3qRU4tTIYJ4U9z457Hylu5duw7Uj6+Ietg3ENJmCjNFNPtjCQsWzuz94sT319rAABBBCohoB9aJz9bvO+47xXe4MkY1vJKGkzbCsdkfmtu+66OXnZ7rci57U1OzJrrrlm2X82Cj9nXfaBWOS6nnzyyZx5gwOVLKu8WrduHbrutm3bBleVHV5ooYVCl9ExKZZst2+hy+q4XnnllTmL20Jk5Ly2FYuceaMGbNBlZB62W7moxRiPAAII1J2ADZrKft+tuOKKdbf9zWWD9btkb2a4Y2W7IsjssssumVNOOSVz6aWXZoYMGZKxXS5kbGup2WNpb4hlbNBUUZ7tt9/eLWNrYGZsMJv7TVU5Svl5v9u2RYLM6aefns17nXXWyWi5qGS7/czYbgzc/DaIzs1rW8jI2C5DM7YFtEyXLl2yeek39aSTTsoO25Z+Mz179sw888wzGRvMl+nRo0emQ4cOGeWj33zb+l5G67etp+WtXuu1N5eyDosttpibV1b+lFa+/nX436vc6d9nr0y63Xbb+WcLfW8DIN2yMvDKXraVjMxf/vKXrNkqq6ziXOUry2222SbTokULN13TbCBJaN7+kfaGaWbvvffOyXPw4MGZYcOGuXNMx2nbbbfN2Eoo2Xl0Pmp6MFXLN6nPhD4nq622mjvP7M3k7P7JXCbB9Pvf/97N633edJ5pXnvzNGNvrmYOPfTQjK35nLEVb1xeOmd1XtsuJHOy8tblLatj4CUbVOmWtQFkLm99Nv1pp512ctMXWWQRt4069iNGjMiofO8/1/Rdcckll7h5bWCry0ufHxu06s/Ovbc3oTP2IWqma9eu2T9tu3e+ajvD/nbccce8vIIj9B0lEy2vbVaeM2fODM6WmTp1amb11VfPrlPz6dpCy2255ZZ58zMi4z7f+r6Xkfcd4Z03/uMlf9sVT0lkaZxnulb2b5f3XtfJOt7eeeqN91513up3JCrpM+Kdq3rV50/3OPVdeeGFF2Zs8HBm6NChGdvaZ3a+du3aZSZPnhyVZXZ8kt+P2Ux502QC/u812+ptk21HU6w4qd/N4LbXcllS25pWuSStfIO+3nBzKk9Wyzapz0TSZUkdc8qT3pn/6yvlyV8t0nq3884755TTVFbyyldemUyvKlfqnkGhlOa1hbfeNH5/KPd5utGv1113Xfa80PUmqX4Ewp4H6lmlDRAreycOP/zw7PngfV/oHkQw6bfSm+696v6drbQZnDV0WPekvOW814suuihvXn9ZX/Pp3pju08RNr7/+evZeqJbX92DYvYi01zNnzpyMd8/I21/dZ9V3a5yk+0Pect5r2P0t5fXEE0/kzXv22WfHWU3mnHPOyVtWz9KDqVrHP7hehmtLwDZUlD1f/vCHP5S8cWreMPVE4FzqxKwAAQSaQGDcuHHZL2CvYOB/td2ylLRVtjWPyPxsLfWcvPQw078u//sLLrggZ95KB8IKu976ZFAoVbKs8vUezHjr815rIXDO1qiIPAbazjiF5QEDBkTmQeBcoTOLaQggUG8CBM7VzxF79dVXXVCZ95sb9qqgM9sFaMZ2VRdrxz7++OOMra0d+punmzSHHHJIxrZ46347/euzNfkL5q8HXgoM84Lv/MvqvYJ7bDeSLo/gjRYFuY8dOzbzxhtvZBTQF1xWw9rmYNJ+e0E5/mWCN7nSyje4Pf5hBW74t0nbqX0sljRP8GbZaaed5hbT/iqo0Z+v/73tejWjm22lJNtFZkYVGvz5BN/b2sOZY489NhOs0OGtp5q+SXwmFJyo4Lfgfmp44MCB3m5lX22rfKHzKpDO1mbOhFW40TFU4I4/6SGDt049fLKtHWcne4Fzmq7PkB6e+pOt1e0CgsLOdy2jm8MKUrU1jDM//PBDdj3e+hQEGUyaV+V4b564ryozF0th1x1hgXO2ZndGn/+wdffu3bvYaprldF3zRZ2/fkcFutoWIksySuM802fKv11x3yug7qijjorc/ptuusk52BYxMwcddFA20Dwsf30+NM/06dMj8wubkMT3Y1i+jKuugP8hV3MLnJN0Er+bwSNWy2VJbWta5ZK08g36+oebS3mymrZJfCaSLkvqmFOe9J/5//+e8mS+SdJjNt5441jlNJXLghV7gtuS5rWFt660fn+UP+U+Tzn/lcC5fJN6GaNKlWHXR6qY+v3335e8G/r9C96vUv4KPgumsMApzat7H8XSZ599lq2Y6N9+29J+3qK6D+mfR+8333zzvPmiRtieFfKW33///fNmr8Z6bC9qeduiymDFkp6NehXT/BZRgXMvv/xy3npUIbdYsq3SZVSJz78OvY8bOKd5kz7+xbaZ6U0rUGng3ELafHvipJpsAcd1r6KVqHsWW7M/1fWROQIIIFANAXUvZR9GRTanq2bbbcHOhDVDG9w+dYegbquimvW1NfHNvffem13M3nw1tjCVHfa/OeCAA8zo0aP9o3Lea11ffPGFsQ+tjL2hnzMtbEBddN12221hk8zjjz9ubI360GkaWcmyWt7WcDDz5s3T25ykbQ82m+zNYC+sFRTuDWZf1U1CsMvb7MT/vbEtmhhbGzQ42g3bFufMwQcfnDPN1oAzs2bNyhnnDdiWDsz111/vDea9yk5d00UlGzhnbBBk1GTGI4AAAnUlMGrUKGODMtw22xbnzCeffFJX29/cNla/o+oa0z5QMm+++abrttXW0jS2lSjTrVs3Y1trKpnEtmDhukdUfkoqQ22wwQbGtqpr7E2wkvPzL/D+++8bG9hh1AW6yjn2gbVZf/31jb1xZWxAkH/Whn+vbhWefvpp1yWquty1QW8V77OO3b///W8zceJEs2DBAqNhG2Dkjp+9UVZW/jrHPvjgA6PuDPWnrjdsy3/Gtvhk1lprLXcMy8o4pYXS+EyktKmJZ6uuLV544QWjV3VvqmOuz5e6n6z0s5v4xpJh3QrU43mm3xz9TtpWDN13rg0iNp06dTLqNkjfkXpfTqq378dy9rHRl7FBzu6c0H7q3o0NMm/0Xc7bvzR+NylL5jGnNoLyZPK0aXwmkt/K9HKsx9/59DTIud4E0vz9odwXfjbYltSNDX5wE3XvSM+ySPUjYCu+uftSwS1eY401jA3QL/hMzFtGn7sbb7zRHHbYYSbYpaetpGceeeQRb9bsq+5b2ODc7LD3RvfFdJ/M9pbgjcp5tRUBje0Nwdx11105420vGe75bs5IO6D7mronYisT50zSszw90yuUrr766rxnjJrfBtm7PP3LVmM9trKsscFu/tUaW9HQ2BbiTN++fXPGewP63jr66KPdsfTGea/Ky1Y08wazr3qWa1vWy3luq/u1L774onsunp3R90bngK1obWQWTDZwLq8L4God/+C2MFxbAoqPsMHXbqNsi3PmnnvuKW0D7QmeeqLFudSJWQECCDSRQFhEvv0WVtSW+ytUY92/yZrPWybsVa3R+dOzzz4bOb9aTbEBYv7Zc97ffvvtrnsa1YJXM8mq4aBWRe68886MvZGRM68G1IVW2DZp3MMPP5w3v39EJcsqn1pucU7bV+j4q8WFCRMmaLa8pCbZ1f1ulKvG0+JcHhsjEECgjgVoca6ODx6bjgACCCCAAAIIIBBboLm3OBcbihkRQAABBBBAAIEQAVqcC0Gpo1E2gCmz+OKLRz77Ugv7tgEL15r+V1995fZMXbmqVTLbEEVGMSW2QmXo8mqNcvz48aEaUS3O6Vnbcsstl7EVQvOWsxW7MzZALG9derYX1qqdl4Ge3YU921NLaDbQ05st+6pW+keOHOmeywaX22yzzbLzBd+kvR4bnJbR+oPbpBbnr7322uDmuB4n1P1lcH5vOKrFOWWkXgm8+bxXdVMb1quZDRrM2EZH8ub3liulxTktk/Txz4NhRM0IVNri3KL2hCEhgAACCJQpYJsYNg899FDk0qplYIOnXKubG220Ud58mma7XQ2tIeGfWevxJ+WlGhqTJ0/2j3bvbSHT/PWvf3U1JGzXSjnTVXvi3HPPdS2FKGLfdifq/mzQnJvPNv9rbDBczjKFWqWzTRXnzBscqGTZYF61OGwDHiOPv2qcqFaKbQrY1dpQS3hKtmBv1AKM7XqsFneJbUIAAQQQQAABBBBAAAEEEEAAAQQQQAABBBBAAAEEEECgJAG1VKZWx2yDHe45ZHBhPRPV30knneQm6RminqXZyJvgrHnDF198senXr1/e+GIj1Gqhen/Sc1W1SqdW1V566SX3rG7u3Ll5i+u5n3rIiEq2IRKj1tpmzpyZM4tarfvPf/5j1BtZz549XW8b06dPd61ehfWGpZaqL7vsspw8/ANpr0etvun55XrrrWfUw5qX9BxZLXdddNFFrifJFVZYwdhAQtdyX3CfvWWKvar1wEcffTRnNtvAiNliiy1Mnz59nJV6OFCvIjYIMme+SgeSPv6Vbg/L164AgXO1e2zYMgQQqAMBBUANHz68YJdzCpRSYUyFC3Vxpu49VbhQ4FSc4CkV0Gx/7zkaCsI64YQTIrtrVbeutqaA67JVAXZKM2bMcE0bq9nfqPT3v/89b1KrVq3yxnkjVHBTl2jff/+9GTt2rOnVq5c555xzvMmmkmWzmdTwmy233NLtc5Tp/PnzXbcshx9+uOnevbvrkoymxWv4gLJpCCCAAAIIIIAAAggggAACCCCAAAIIIIAAAggggAACZQnssssuZtSoUa6BDwVhFUoLFiwoNNlNU4CXGiDRc7Zyk55j2p683F+hPAYNGmTOPPPMQrMY28K0sa3jGXUZ+s033+TMq25JH3zwQfeXMyEwsMQSS7hGOdZZZ53AlF8Hq7Ge1Vdf3dx2222u8Q895/UnBcvpL4lke+8yPXr0MO+8805edgpijEq2hzUXXCfTSlKSx7+S7WDZ2hb4/+Zvansb2ToEEECgZgXUL7tqFgRbdgvb4E8//dQ888wz5u6773Y1GeIEzSkfBciFJfUX36VLl7BJbpyi8m1XrMY2Q2ts08Ju3vvuuy9y/q222soMGDAgb7oC/aKSAgCHDBlijj32WBc4FyxEVbJs1DprbbxtOrroJqnWim1q2hA0V5SKGRBAAAEEEEAAAQQQQAABBBBAAAEEEEAAAQQQQAABBOpU4KCDDjJvvfWWUS9XlSQ943zqqadc4Fyp+Zx88smmUGBaML+hQ4eaW265xdiuSoOT8obV2IkaTVFjKaWmVVdd1dx///2uZbpiy1ZjPTvvvLN54oknXKtvxbbHm37EEUeYPfbYwxss+qrGYB577LGSvFZccUUXXNi7d++i+YfNkObxD1sf4+pfgMC5+j+G7AECCDSxgFp2O+uss1LZChUu99prr9C8FQyn1t1U26JQUg0HRdP7m9oNzq/aDerCNSypWeG46eOPP86ZtZJlczKq4YE999wz8hjV8GazaQgggAACCCCAAAIIIIAAAggggAACCCCAAAIIIIAAAggkLrDaaquZhx9+2AVlHXrooWallVaKtQ4Fru24445mzJgxZuLEia53rVgLBmZSwyPPPfec2W+//Yy6hA1Les6qRkpee+01M2zYsKLPW/15qIvTt99+21x55ZVmrbXW8k8Kfa+AuWuvvda1uqberOKmaqxHXeC+99575jTby5gaY4lK3bp1M3feeafrxnXZZZfNma3Qcpqxc+fOZtKkSa5Fv+WXXz5nWf9A69atzcEHH+zmVWMvpa7Hyyvt4++th9fGEVi0cXaFPUEAAQSaTkBdnKq1NTVpm1RSwJyaMy6UFLSlVt+OPPLIQrMVnLbUUku5qH11sxqWfvvb37puZtViXrEUDJyrZNli66qV6QpcvO6669xx+M9//hN7s1RoO/roo11z1WELqQYGCQEEEEAAAQQQQAABBBBAAAEEEEAAAQQQQAABBBBAAIF6FFCQmP4uv/xyM2XKFDN9+nTzySefuL+vv/7adO/e3ajXJgVTqZWxvn37GgVPJZH0/FPdqp5//vmu1yz1BKZ1KohPQWAKSisUxFVsGxSQpyAv/Wmf1B3sZ599ZmbNmmUymYxZZZVVjALm9Lfyyiubcp/7VWM9ClBTl7jqZevVV191gXTTpk1z29ypUydnpWPjpSuuuMLor5TUqlUr849//MOodb8XXnjBvPHGG0bPntXwi469vPRcWY29eEmt2+mvnJT28S9nm1imdgUInKvdY8OWIYBAHQkoeEpdtqqFuBNPPNEU6pO92G61b9/enH322eaAAw6IVYhSgUEFGgVhqTBWSlphhRXMXXfdVbBJYHVDq0KMgvN++eWXgtl/9dVX5rvvvssWaipZtuCKamyiasCMHTvW1ZRQ64Nq4a9Q2m233cxVV11lxo0bFzmbv2AYORMTEEAAAQQQQAABBBBAAAEEEEAAAQQQQAABBBBAAAEEEKhxgdVXX93or9qpXbt2rmW5NNer4LJSui8td1vSXo+eTW666abur9xtLLacAgjVY1kpvZYVy7PQ9Goc/0LrZ1p9CNCcTX0cJ7YSAQTqRECR8C+++KILRlt//fUjm/8N7k7Lli3NFltsYc477zwXxX/ggQfGCprz8hk8eLBr3lct33Xt2tUbHfnao0cPc/XVV5sPPvggVsFkyJAhrv/5QjUvVNDZeOON87qErWTZYBO8kTvkmxC1TLFmgn1ZhL5VTYhCSUGCasZYtWXUpLMKfKq1ovGqHaOmmhVY+fzzz7umjNu2bWsWLFgQmaVqQpAQQAABBBBAAAEEEEAAAQQQQAABBBBAAAEEEEAAAQQQQAABBBBAIB0BWpxLx5VcEUCgmQvsuuuuRn9qeUzdlypATU3a6k/NALdp08b1E68odwWjKchqySWXrEhNgVj//Oc/3d/kyZNdE7fqxvXzzz93TQKrGWA1c6s/NUGsVvJKSVtttZXbF/VzP3HiRPPWW2+54L6OHTu6rlz79etnOnToEJplucsqCK3UNHv27FIXyc5/0kknGf1VkhQspxb69Fcsffvtt5GzEDgXScMEBBBAAAEEEEAAAQQQQAABBBBAAAEEEEAAAQQQQAABBBBAAAEEKhYgcK5iQjJAAAEEogXU2ljnzp3d3+abbx49Y8JT1lhjDaO/pJP2p9ymlCtZNun9SCq/ESNGmAsuuCB7jHWsFZjoHXO1/qfWBKPS1KlToyYZBSSSEEAAAQQQQAABBBBAAAEEEEAAAQQQQAABBBBAAAEEEEAAAQQQQCAdAQLn0nElVwQQQACBZiAwZ84cM2PGDPenLliD6cQTTzRnn312cLQb/uSTT8zo0aNDp2lkr169IqcxAQEEEEAAAQQQQAABBBBAAAEEEEAAAQQQQAABBBBAAAEEEEAAAQQqE1i4ssVZGgEEEEAAgeYrsOGGGxbc+csuu8y8/fbbefNMmjTJ7LLLLkZd6YYldbu76qqrhk1iHAIIIIAAAggggAACCCCAAAIIIIAAAggggAACCCCAAAIIIIAAAggkIECLcwkgkgUCCCCAQPMU6Nu3b8Ednzt3rll77bXNeuutZ5Zffnkzf/5889FHH5lp06YVXG6vvfYqOJ2JCCCAAAIIIIAAAggggAACCCCAAAIIIIAAAggggAACCCCAAAIIIFCZAIFzlfmxNAIIIIBAMxbo2LGj2Xbbbc2jjz4aqZDJZMzEiRMjpwcnLLroouaoo44KjmYYAQQQQAABBBBAAAEEEEAAAQQQQAABBBBAAAEEEEAAAQSKCCy22GJF5mByIwtw/Bv56KazbwTOpeNKrggggAACzUTg5ptvNn369DFTp05NZI9HjBhhunbtmkheZIIAAggggAACCCCAAAIIIIAAAggggAACCCCAAAII/B979wEmRZW1cfyAoGAABBTBhGAWUBQxi4tiztk1rIKLYVdR17yIIAbMcRHdVYI554QYMWMkiAoCioCKKEHEhPPVW7tV362a6jRTPdPT87/PM3TluvdXRXd19alzEUCgXAW6dOli77//fqR5G2+8cWSckfIV4PiX77GtyZYROFeT2uwLAQQQQKDsBFq2bGmPPvqo7bbbbjZ79uwqt69JkyZ23nnnWb9+/aq8DVZEAAEEEEAAAQQQQAABBBBAAAEEEEAAAQQQQAABBBBAoL4ILL/88ta1a9f60lzaGRPg+MdAGK2SQMMqrcVKCCCAAAIIIBAKdOrUyT777DPr37+/rb766uH0fAYUMHfqqafatGnTbMCAAfmswjIIIIAAAggggAACCCCAAAIIIIAAAggggAACCCCAAAIIIIAAAgggUE0BMs5VE5DVEUAAAQQQkMAKK6xggwcP9v8mTJhgb775pn377bf23Xff2dy5c23evHnWoEEDa9asmTVv3tzWWmstv4tXdfPaokULEBFAAAEEEEAAAQQQQAABBBBAAAEEEEAAAQQQQAABBBBAAAEEEECgBgUInKtBbHaFAAIIIFA/BDp37mz6oyCAAAIIIIAAAggggAACCCCAAAIIIIAAAggggAACCCCAAAIIIIBAaQrQVWtpHhdqhQACCCCAAAIIIIAAAggggAACCCCAAAIIIIAAAggggAACCCCAAAIIIIAAAgggUCQBAueKBMtmEUAAAQQQQAABBBBAAAEEEEAAAQQQQAABBBBAAAEEEEAAAQQQQAABBBBAAAEESlOAwLnSPC7UCgEEEEAAAQQQQAABBBBAAAEEEEAAAQQQQAABBBBAAAEEEEAAAQQQQAABBBBAoEgCBM4VCZbNIoAAAggggAACCCCAAAIIIIAAAggggAACCCCAAAIIIIAAAggggAACCCCAAAIIlKYAgXOleVyoFQIIIIAAAggggAACCCCAAAIIIIAAAggggAACCCCAAAIIIIAAAggggAACCCCAQJEEGhVpu2wWAQQQQAABBBBAAAEEEEAAAQQQyCgwf/5823HHHU2vLVq0sPHjx2dcNtOMO++80+bOnevPbtOmjf35z3/OtGhZTb/77rvtm2++8dvUpUsX23nnnWukfb///rvdd999/t8XX3xhCxYsMLmvvvrqdsQRR9ghhxxSI/Wozk7+85//2KJFi/xNdO/e3bbbbrsqba5nz542depUa9mypb366qvWrFmzKm2HlRBAAAEEEEAAAQQQQAABBBBAAAEEEECg9gQInKs9e/aMAAIIIIAAAggggAACCCCAQL0VOPPMM23ChAl++0899dREhx9++MH69+9vRx55pG277baVlrnqqqvso48+8qdvscUW9SZw7uqrr7b333/fb3e3bt1s3LhxlWyKMUHH6eabb45sWgF0KknHJ7JgiYxcdNFFNnPmTL82vXr1stGjRyfWLNe5t+uuu9pLL73kb+uss86yW265JXE7TEQAAQQQQAABBBBAAAEEEEAAAQQQQACB0hWgq9bSPTbUDAEEEEAAAQQQQAABBBBAAIGyFBgzZozddtttfts6dOhg8cC5iooKGz58uG2wwQY2dOhQP7NXWULUoUbpeMWD5tzqd+rUyR2ts8P5nnunnXaarb322n47//3vf9vLL79cZ9tMxRFAAAEEEEAAAQQQQAABBBBAAAEEEKivAmScq69HnnYjgAACCCCAAAIIIIAAAgggUAsCixcvtr59+4Z7vvzyy23ZZZcNxzXw5ptvWu/evSPTGKldgSuvvDJSgY4dO9q+++5rjRs3tm+//da6du0amV9XR/I995o0aWJDhgzxu6hVsN3xxx/vZ1Bs2rRpXW069UYAAQQQQAABBBBAAAEEEEAAAQQQQKDeCRA4V+8OOQ1GAAEEEEAAAQQQQAABBBBAoPYEBg4caNOnT/crsNlmm9lBBx1Ue5Vhz3kLTJ06NVy2bdu2Nn78eFt++eXDafVx4LDDDrNLLrnEJk6caJ9//rkNGjTID6arjxa0GQEEEEAAAQQQQAABBBBAAAEEEEAAgbooQFetdfGoUWcEEEAAAQQQQAABBBBAAAEE6qDA999/73e9GlR9wIAB1qBBg2CU1xIV+Omnn2zp0qVh7Xr27Fnvg+aEoXP3ggsuCF3+9a9/2fz588NxBhBAAAEEEEAAAQQQQAABBBBAAAEEEECgtAUInCvt40PtEEAAAQQQQAABBBBAAAEEECgbgaFDh5qCsFRWWWUVv6vPsmlcGTfEDZpTM9u0aVPGrS2saQceeKC1atXKX+nHH3+0YcOGFbYBlkYAAQQQQAABBBBAAAEEEEAAAQQQQACBWhOgq9Zao2fHCCCAAAIIIIAAAggggAACCNQfgV9++cVuuummsMEKOFpmmWXCcQ18+umn9uWXX9qkSZMi01955RVT96AqXbt2tdatW0fmuyMVFRX++uPGjTP9ff311/66G2ywgR1yyCHhdtx1Mg0vWLDAPvzwQ/voo4/8VwX9denSxTbddFPbfPPNC9pWpn0kTX/55Zdt7NixfvefP//8s2299da2/fbbm7q2bdSo8Fs5VW3Ha6+9ZkuWLAmDHYO6fvDBB/b8888Ho9a9e3dr3rx5OK4BHYcvvvjCPvnkk/BPx6Jp06a+m9bZcccdrV27dpH14iNykIGKjuFaa60VXyQy/vbbb9vChQv9aSuttJJvF1kgw0hVzz0dj/32289uv/12f8s33HCDnXHGGbbssstm2BOTEUAAAQQQQAABBBBAAAEEEEAAAQQQQKBUBAq/21oqNaceCCCAAAIIIIAAAggggAACCCBQZwTuuOMO++abb8L6KogtXtTV5Y033hif7AclBYFJp556ql1//fWVltGE7777zv785z9HgrrcBRXQpPWHDBmSNbBJQV+qy9lnn+0HjrnbuO+++/xRddN55pln2sUXX5x1W+66uYZff/1169evn7333nuRRYN9rrvuuvb0009H5mUbqW47jj76aJsxY0alXbz00kumv6C89dZbttVWWwWjpnbI+f333w+nJQ0st9xyflencm7cuHHSInbkkUfazJkz/Xm77767PfPMM4nLBRNPPvnkcL8KNFSQXz6lOueezuXg/JwzZ47dfffdduyxx+azW5ZBAAEEEEAAAQQQQAABBBBAAAEEEEAAgVoUoKvWWsRn1wgggAACCCCAAAIIIIAAAgjUF4FRo0aFTVU3rTvttFM4XshAvNvQYN2JEyf62ejcTGjBvOBV61577bWmgLBMRVnR9thjDzvllFMqBc256ygo7corr/SzrU2ePNmdVaXhRx991HbZZZdKQXPuxqZOnWrbbLONn/3OnZ40XFvtOO200/zseLmC5lRnZSHs37+/9erVK6kJlaZlOvaVFizShEz733nnnW3llVcO9+qe6+FEBhBAAAEEEEAAAQQQQAABBBBAAAEEEECg5ATIOFdyh4QKIYAAAggggAACCCCAAAIIIFBeAuriVF1oBiWpm1bN23LLLf2gNnXvqW5Wg7LddttZhw4d/FF18ZlUFIT11VdfhbM22WQTP4Br/vz59uyzz5q6Kw3K/fffb71797bddtstmBS+HnrooX43qeEEb0DLab9NmjTxs5mNHj3aFi1a5C+iblzVVacC96raPae6CdV+f/vtt3C3rVq1MmVY22ijjfyuTp977jmbO3euzZs3L1wm20Aa7TjggAP8LH46fg899FC4u4033ti22GKLcDzoOleZ5+LZANW9qnzU1a66fZ02bZo98MADkeOhrnhffPFF69mzZ7jNmh6ozrmnbHn77ruvjRw50q/2G2+84Xcvq/OFggACCCCAAAIIIIAAAggggAACCCCAAAKlK0DgXOkeG2qGAAIIIIAAAggggAACCCCAQFkIvPbaa/brr7+GbVGQUlJRJjj9KfBIwXJB6du3rx1zzDHBaNbXrl272mOPPWZrrrlmuNysWbNMQWBuMJ4yvMUD5+69995I0JyCvdQFpwLY3KLMb9qeguVUpkyZ4geMnXXWWe5ieQ+rC1k3aE5BaarfGmusEW5D3dwq4FA2uUpa7bjmmmv8XSlI0A2c23PPPf1se/F6xIPmBgwYYAMHDjR1a+uWyy+/3O/K9IknnggnDxs2rFYD56p77m299dZh4JyCONVdrTLRURBAAAEEEEAAAQQQQAABBBBAAAEEEECgdAUalm7VqBkCCCCAAAIIIIAAAggggAACCJSDwAsvvBBphhvUFplRzZF11lnHnn766UjQnDa5+uqr2y233BIJ4HrnnXcie1NWtbPPPjuc1rBhQz8zWjxoTgusu+669uabb0YC2y6++GJTcFuhRdn1VOegtGzZ0l566aXItjWvTZs2/vSOHTsGiya+1lY7FJzoBtcp8HHQoEER86DCauN//vMfa9To/5/nVDBiXS7xc1oZ9CgIIIAAAggggAACCCCAAAIIIIAAAgggUNoCBM6V9vGhdggggAACCCCAAAIIIIAAAgjUeYEgM1vQkHiQUTC9uq+33nqrrbbaaombUSY6N+gs3uXpM888YzNnzgzXVZY7N+tdOON/AyuuuKL1798/nLxw4UJ78sknw/F8B5566qnIoqeeeqqttNJKkWnBiLqCPffcc4PRxNfaaoe6kVX3sMq8tuqqq9qJJ56YWL9gopZZa621glFTwF9dLm5b1I4JEybU5eZQdwQQQAABBBBAAAEEEEAAAQQQQAABBOqFwP8/2lsvmksjEUAAAQQQQAABBBBAAAEEEECgpgUUVOWWYgTOLbfccrbDDju4u6k03L59ewsym82fPz8y/7PPPouMqzvSXGXXXXeNLKIuWwst8Wx8CtjLVtRlrbqEjdc/WKe22rHZZpvZnXfeGVQj6+sff/xhH3zwQSQb3e+//551nVKfGT+n4+d8qdef+iGAAAIIIIAAAggggAACCCCAAAIIIFAfBQicq49HnTYjgAACCCCAAAIIIIAAAgggUIMCbhDRyiuvbMrWlnZRV6YKnstW1EVoUJYuXRoM+q/xoLfrr7/e7rrrrsgyuUbi28i1vOZ/9dVX4WJNmza1tm3bhuNJA8o6p8x57733XtJsi9ehptqRVJmKigqbNm2aXycF9H366af+n+oeD/zTsnW5tGjRws8UuGjRIr8Z7jlfl9tF3RFAAAEEEEAAAQQQQAABBBBAAAEEEChnAQLnyvno0jYEEEAAAQQQQAABBBBAAAEESkDADSKKZ+ZKq3oKyKtOiQecxTPB5bPt+DbyWeebb74JF1t99dXD4WwDa6yxRt6BczXVDre+Y8aMsWuvvdZeffVV+/HHH91ZZT2sc/vjjz/22+ie82XdaBqHAAIIIIAAAggggAACCCCAAAIIIIBAHRYgcK4OHzyqjgACCCCAAAIIIIAAAggggECpCyiT2E8//RRWs3Xr1uFwmgONGlXvFsesWbOqXZ1vv/224G24gWX5tkHZ9TKV2mqH6qO27LHHHvbaa69lql44fbXVVrOvv/46HE9roDYz162yyiphM9zjGk5kAAEEEEAAAQQQQAABBBBAAAEEEEAAAQRKSqB6d5VLqilUBgEEEEAAAQQQQAABBBBAAAEESk2gQYMG1qpVK/vuu+/8qi1cuLDUqujXp127djZ9+vSwbrfeequp7oWUFVZYoZDF/WUVSPjll1/6w/na/PDDDxn3U1vt+O233+yggw5KDJpbddVVrXPnzrbxxhtbly5dbJtttvGHu3XrZu+//37GtsRn/PHHH/FJlcbdIM1KM4s8YcGCBeEe3CC6cCIDCCCAAAIIIIAAAggggAACCCCAAAIIIFBSAgTOldThoDIIIIAAAggggAACCCCAAAIIlJ+AsosFgXPBa6m1cv3117fXX389rNbOO+9sHTp0CMeLNSCbIHBOGdh+/fVXW3bZZbPuLlg+aaHaasfdd99to0ePDqukoMNzzjnHTjjhBGvfvn043R1wAwDzyRQnm1xl/vz5uRYp2nz33G7btm3R9sOGEUAAAQQQQAABBBBAAAEEEEAAAQQQQCAdgYbpbIatIIAAAggggAACCCCAAAIIIIAAAskCbhCRG1yUvHTtTFXAmVveeecddzRxWIFcN910k40aNcpeffVVq0o3qe5+lVEtVwY27XPKlCmJ9dFEd3sar6l2vPzyy9pdWK699lq77LLLMgbNLV68OOKVKZuc231tru5PdW5VpbvcsNLVHJg3b164BfecDycygAACCCCAAAIIIIAAAggggAACCCCAAAIlJUDgXEkdDiqDAAIIIIAAAggggAACCCCAQPkJuEFECn5atGhR1kbGu0jNFFSVdSMFztxwww0ja1x88cWm7kezleHDh9spp5xif/nLX6xHjx7Wt2/fbIsnztt///0j0wcPHhwZj4/cdttt9v3338cnh+O11Q43W58qc/TRR4d1ShpQhjo3g1wm66ZNm4arqyvdn3/+ORyPDzz88MOWT+a6+HrueFXPPWXPW7JkSbgp95wPJzKAAAIIIIAAAggggAACCCCAAAIIIIAAAiUlQOBcSR0OKoMAAggggAACCCCAAAIIIIBA+QnEs6C99dZbWRvpBktpwWyBYlk3VMDMPffc0zbYYINwjUmTJtmQIUPC8fjAzJkz7aKLLopMPvHEEyPj+YzssccettJKK4WLPv300/bss8+G4+6AHC699FJ3UqXh2mrHiiuuGKlLtsxvTz31lP3tb3+LLJ8pIG6NNdYIl1M3rAMHDgzH3YGxY8dav3793ElVGq7quRc/p+PnfJUqw0oIIIAAAggggAACCCCAAAIIIIAAAgggUFQBAueKysvGEUAAAQQQQAABBBBAAAEEEEBgr732iiC89tprkfH4yAorrBCZdP3119sTTzxh48aNsy+++CIyL62RZZdd1rQftwwYMMCOOuooU8CWW1T/XXbZxWbPnh1OXnfddS3eznBmloHll1/e4lnm9t13Xxs6dGgke9qHH35o3bp1s6+++irL1sxqqx1du3aN1KtPnz4W75ZX2eAeeughO/jggytl81MWwqRscQceeGBku1dffbXdeuutYZes6h5Xmf/222+/rNnoIhvJMlLVcy+eca8q50KWajELAQQQQAABBBBAAAEEEEAAAQQQQAABBIogQOBcEVDZJAIIIIAAAggggAACCCCAAAII/L/AZpttZmuuuWY4IVfg3Nprr+0HgAUrfPnll6Zgsu7du1fKVBYsk8brbrvtZvFArbvuustWWWUV69Kli+29997WqVMn22GHHeyzzz4Ld9msWTO77777rGHDqt1mUXev2223Xbg9dVuqjGytWrWynj172nrrrWcKTFNXpfmU2miHumZ12//GG29Yhw4d7PDDD7fTTz/d77pV4wqaS8oupzZPnTq1UvOOPPJIk29Qfv/9dzvhhBNMXaEqG53+evfubeoqNY1S1XPPPafXWWcd/zxJoz5sAwEEEEAAAQQQQAABBBBAAAEEEEAAAQSKJ1C1O7rFqw9bRgABBBBAAAEEEEAAAQQQQACBMhRQ0FlQ3n77bfv111+D0UqvypqmjGVJ5eOPP06anNq0e+65x84//3xbZpllwm0qWGvChAmmLkbVhatb1EXp448/bptvvrk7uaBhBZype9Zdd901sp6CwV566aVIQJkC+A444IDIckkjNd2OnXbayc4999xIVZRFTgGF1113nd155502Y8aMcL4yso0YMSIc18C9994bGdeIfJVRzg2e0/Q//vjDlG3OLQpAzNWVrbt80nBVzr1ffvnF3nnnnXBz++yzTzjMAAIIIIAAAggggAACCCCAAAIIIIAAAgiUrgCBc6V7bKgZAggggAACCCCAAAIIIIAAAmUjoIxxQVm8eLEfbBaMJ73edNNNdvLJJ/uZxdz56qpV2cniJd7FZny+xvNZRoFTl1xyib355pu27bbbWpMmTZI25Qd0nXPOOX4WuB49eiQuU8hEBYg9+eSTpna3b9++0qpNmzY1BWS9/PLLfia3SgvEJqTZjsaNG0cyAMZ2FY7K7eGHHzZ1W5tUZKlsfWqn/pR9TvUMioIHk4qyAL7//vum4DzVxS0NGjSwTTbZxK688kq74YYbbKWVVgpnJx3vpGnhCv8bKPTce/TRR23JkiXhZtxzPZzIAAIIIIAAAggggAACCCCAAAIIIIAAAgiUnECDCq8Uu1Znn322fwNT+9l+++1t7Nixxd4l20cAAQQQQAABBBBAAIESERg2bJiddNJJfm3atWtXKUNQiVSTaiCAQJEFli5dahtttJFNmTLF39Puu+9uzzzzTF57nT17tk2bNs3atGnjd/maKZgtr40VuJDq/fnnn9vEiRPt22+/9fevLkfVHWex6qEMd9qfrJR1Tt20qrvbeNBYIU2pyXZoX+pWVl2vKtBRXc527tzZD6hzM/kVUv9gWWV3Gz9+vH300Uf++aAublu2bBnMTv01n3OvV69eNmbMGH/fG2+8sX/sFNBHQQCB+ifQokULW7Bggd/wUaNG+d1U1z8FWowAAggggAACCFRNQFnJjzvuOH9lfc+bN29e1TbEWggggAAC9Uqgd+/efo8VavT+++9vjzzySEHtb1TQ0iyMAAIIIIAAAggggAACCCCAAAIIVEFAAVPqAjW4CT569GibOXOmH4iWa3MKutVfbRTVe/311/f/amr/jRo18gPlFCyXVqnJdmhfyjqXKfNcddq03HLL2ZZbbun/VWc7+a6b69xT97MvvPBCuDmd4wTNhRwMIIAAAggggAACCCCAAAIIIIAAAgggUNICdNVa0oeHyiGAAAIIIIAAAggggAACCCBQPgJHHXVU2A3pH3/8ET4JWD4tpCX1TeD222+3oDMHBQoefvjh9Y2A9iKAAAIIIIAAAggggAACCCCAAAIIIFBnBQicq7OHjoojgAACCCCAAAIIIIAAAgggULcElEntnHPOCSt900032aJFi8JxBhCoSwLqjnHo0KFhlc877zxTtj0KAggggAACCCCAAAIIIIAAAggggAACCNQNAQLn6sZxopYIIIAAAggggAACCCCAAAIIlIVAnz59bNNNN/XbMnfuXLviiivKol00ov4JXH755TZv3jy/4d26dbNjjjmm/iHQYgQQQAABBBBAAAEEEEAAAQQQQAABBOqwAIFzdfjgUXUEEEAAAQQQQAABBBBAAAEE6ppA48aNbeTIkaZXlWuuucbmzJlT15pBfeu5wKxZs+y6667zFZZbbjkbMWKEKaMiBQEEEEAAAQQQQAABBBBAAAEEEEAAAQTqjgCBc3XnWFFTBBBAAAEEEEAAAQQQQAABBMpCQBnnBgwY4Lflp59+soEDB5ZFu2hE/RHQ+btkyRK/wTp/N9lkk/rTeFqKAAIIIIAAAggggAACCCCAAAIIIIBAmQjwKGyZHEiagQACCCCAAAIIIIAAAggggEBdEjj33HNt9uzZNn/+fGvYkOf66tKxo65mLVq0sCOOOMJWXnllO+ussyBBAAEEEEAAAQQQQAABBBBAAAEEEEAAgTooQOBcHTxoVBkBBBBAAAEEEEAAAQQQQACBui6gbi2HDh1a15tB/eupwNVXX11PW06zEUAAAQQQQAABBBBAAAEEEEAAAQQQKB8BHukun2NJSxBAAAEEEEAAAQQQQAABBBBAAAEEEEAAAQQQQAABBBBAAAEEEEAAAQQQQAABBPIQIHAuDyQWQQABBBBAAAEEEEAAAQQQQAABBBBAAAEEEEAAAQQQQAABBBBAAAEEEEAAAQQQKB8BAufK51jSEgQQQAABBBBAAAEEEEAAAQQQQAABBBBAAAEEEEAAAQQQQAABBBBAAAEEEEAAgTwECJzLA4lFEEAAAQQQQAABBBBAAAEEEEAAAQQQQAABBBBAAAEEEEAAAQQQQAABBBBAAAEEykeAwLnyOZa0BAEEEEAAAQQQQAABBBBAAAEEEEAAAQQQQAABBBBAAAEEEEAAAQQQQAABBBBAIA8BAufyQGIRBBBAAAEEEEAAAQQQQAABBBBAAAEEEEAAAQQQQAABBBBAAAEEEEAAAQQQQACB8hEgcK58jiUtQQABBBBAAAEEEEAAAQQQQAABBBBAAAEEEEAAAQQQQAABBBBAAAEEEEAAAQQQyEOAwLk8kFgEAQQQQAABBBBAAAEEEEAAAQQQQAABBBBAAAEEEEAAAQQQQAABBBBAAAEEEECgfAQInCufY0lLEEAAAQQQQAABBBBAAAEEEEAAAQQQQAABBBBAAAEEEEAAAQQQQAABBBBAAAEE8hAgcC4PJBZBAAEEEEAAAQQQQAABBBBAAAEEEEAAAQQQQAABBBBAAAEEEEAAAQQQQAABBBAoHwEC58rnWNISBBBAAAEEEEAAAQQQQAABBBBAAAEEEEAAAQQQQAABBBBAAAEEEEAAAQQQQACBPAQInMsDiUUQQAABBBBAAAEEEEAAAQQQQAABBBBAAAEEEEAAAQQQQAABBBBAAAEEEEAAAQTKR6BRTTRlypQp4W4+//xz+/vf/x6OM4AAAggggAACCCCAAALlLTBx4sSwgfPnz+f7QKjBAAIIIIAAAggggEA5CSxZsiRszsiRI+3tt98OxxlAAAEEEEAAAQQQyC4wefLkcIHFixdzDzHUYAABBBBAIJvAm2++Gc6eMWNGOJzvQIMKr+S7cFWX6969u40bN66qq7MeAggggAACCCCAAAIIIIAAAggggAACCCCAAAIIIIAAAggggAACCCCAAAIIIIAAAokCbdu2tdmzZyfOyzSRrlozyTAdAQQQQAABBBBAAAEEEEAAAQQQQAABBBBAAAEEEEAAAQQQQAABBBBAAAEEEECgLAVqpKvWli1bhngtWrQwZaCjIIAAAggggAACCCCAQP0QmDlzpgVdLSy33HLWo0eP+tFwWokAAggggAACCCBQrwRefPFF+/333/02d+rUydq1a1ev2k9jEUAAAQQQQACB6gjMmjXLJk2a5G+iUaNG1rNnz+psjnURQAABBOqJwMSJE8Msc82bNy+41TUSONelSxd77rnn/MrphkEwXHBtWQEBBBBAAAEEEEAAAQTqnMCwYcPspJNO8uvdqlUrvg/UuSNIhRFAAAEEEEAAAQTyEdBD4wsWLPAXPfvss+3oo4/OZzWWQQABBBBAAAEEEPAERowYYccdd5xv0axZM+4hclYggAACCOQl0Lt3bxs+fLi/7IYbbpjXOu5CdNXqajCMAAIIIIAAAggggAACCCCAAAIIIIAAAggggAACCCCAAAIIIIAAAggggAACCCBQ9gIEzpX9IaaBCCCAAAIIIIAAAggggAACCCCAAAIIIIAAAggggAACCCCAAAIIIIAAAggggAACrgCBc64GwwgggAACCCCAAAIIIIAAAggggAACCCCAAAIIIIAAAggggAACCCCAAAIIIIAAAmUvQOBc2R9iGogAAggggAACCCCAAAIIIIAAAggggAACCCCAAAIIIIAAAggggAACCCCAAAIIIOAKEDjnajCMAAIIIIAAAggggAACCCCAAAIIIIAAAggggAACCCCAAAIIIIAAAggggAACCCBQ9gIEzpX9IaaBCCCAAAIIIIAAAggggAACCCCAAAIIIIAAAggggAACCCCAAAIIIIAAAggggAACrgCBc64GwwgggAACCCCAAAIIIIAAAggggAACCCCAAAIIIIAAAggggAACCCCAAAIIIIAAAmUvQOBc2R9iGogAAggggAACCCCAAAIIIIAAAggggAACCCCAAAIIIIAAAggggAACCCCAAAIIIOAKEDjnajCMAAIIIIAAAggggAACCCCAAAIIIIAAAggggAACCCCAAAIIIIAAAggggAACCCBQ9gIEzpX9IaaBCCCAAAIIIIAAAggggAACCCCAAAIIIIAAAggggAACCCCAAAIIIIAAAggggAACrgCBc64GwwgggAACCCCAAAIIIIAAAggggAACCCCAAAIIIIAAAggggAACCCCAAAIIIIAAAmUvQOBc2R9iGogAAggggAACCCCAAAIIIIAAAggggAACCCCAAAIIIIAAAggggAACCCCAAAIIIOAKEDjnajCMAAIIIIAAAggggAACCCCAAAIIIIAAAggggAACCCCAAAIIIIAAAggggAACCCBQ9gIEzpX9IaaBCCCAAAIIIIAAAggggAACCCCAAAIIIIAAAggggAACCCCAAAIIIIAAAggggAACrgCBc64GwwgggAACCCCAAAIIIIAAAggggAACCCCAAAIIIIAAAggggAACCCCAAAIIIIAAAmUvQOBc2R9iGogAAggggAACCCCAAAIIIIAAAggggAACCCCAAAIIIIAAAggggAACCCCAAAIIIOAKEDjnajCMAAIIIIAAAggggAACCCCAAAIIIIAAAggggAACCCCAAAIIIIAAAggggAACCCBQ9gIEzpX9IaaBCCCAAAIIIIAAAggggAACCCCAAAIIIIAAAggggAACCCCAAAIIIIAAAggggAACrgCBc64GwwgggAACCCCAAAIIIIAAAggggAACCCCAAAIIIIAAAggggAACCCCAAAIIIIAAAmUvQOBc2R9iGogAAggggAACCCCAAAIIIIAAAggggAACCCCAAAIIIIAAAggggAACCCCAAAIIIOAKEDjnajCMAAIIIIAAAggggAACCCCAAAIIIIAAAggggAACCCCAAAIIIIAAAggggAACCCBQ9gIEzpX9IaaBCCCAAAIIIIAAAggggAACCCCAAAIIIIAAAggggAACCCCAAAIIIIAAAggggAACrgCBc64GwwgggAACCCCAAAIIIIAAAggggAACCCCAAAIIIIAAAggggAACCCCAAAIIIIAAAmUv0KjsW0gD67zApEmTbNGiRX47WrRoYRtuuGGdbxMNQAABBGpL4PPPP7e5c+dm3f3WW2+ddX5tzPzss8/s+++/z7jrlVZayTbZZJOM85mBAAIIIIAAAggggAACCCCAAAIIIIAAAggggAACCCCAAAIIIICAK1AnA+emTp1qzz77rNuOgoabNGlixx9/fEHrsHDtCZxwwgn2+uuv+xVYZpll7Oeff7ZGjerkqVt7iOw5dYEpU6bYvffeayuuuKIde+yxtvLKK6e+j7qwwYqKChsxYoTtHIVEBQAAQABJREFUueee1qZNm7DKab5Pjx071t544w1bvHix/fTTT/57wG+//WYrrLCCKZi2efPmttZaa5mCvdq2bRvWIdfAa6+9Zi+++KJNnjzZPv74Y1uyZImtu+66tt5669lWW21lhx9+uDVsmDsxq9Z74IEH7KmnnrIvv/zSvv76a/98WGeddUx/PXr0sH322SdXdfz5N954ox166KERy7xWLGChwYMH28iRI7OusXTp0rzannUjKc/s37+/75xps8stt5x/bmSaz3QEEEAAAQQQQKAUBObNm2dXX321de/e3fbff//UqqRr0iFDhpgeJjjzzDMzbjeta2B3B2+++aaNGjXKJk6caLNnz7ZVVlnFttxyS+vWrZvtsMMO1qFDB3dxhhFAAAEEEEAAAQTyEPj111/t9ttvt3fffdf0QOnMmTNttdVW8+9fKrlA3759/euuPDaVc5F8ryWDDXH9F0jwigACCCCAQFSgWPd9tJfhw4f71wTRPRY2tv3229tee+2VuBKf74ksTKwvAl7QQ9HLWWedVeF5+n/ef8Zq7+8f//hHuL1gu4W8tmzZstp1YAM1J7DddttFjvcvv/xScztnTwgkCPzwww8Vyy+/fHhebrPNNglLlf+kH3/8saJXr16+w/jx4yMNTvN9upBteQF0Feedd17FN998E6mPO+LddKrwfkysaNCgQXgMkz5DOnXqVOEFaburVhp+7LHHKvSZkrS+O8370bDi+eefr7R+fIL3A2pF69atK1599dX4rNTG//KXv+Ssrxc4l9r+0trQIYcckrXeXuBcWrtiOwggUASBm2++Ofw/3K5duyLsgU0igAACpS+g62dd7+k60XtALNUKH3HEEf52O3bsmLjdNK+Bgx3oe9EBBxwQvr+717/B8LLLLltx1113BavwigACCJS9gPdwX/i+6AUVl317aSACCBRH4NFHH63wHj4I30+Cayv3tVmzZhVXXnllxR9//FHtSuS6lgx2wPVfIMErAggUS8ALDArf+/g9v1jKbLdYAsW876M677bbbuH/D/eaoJDh008/vVLz+XyvRMKEOihw3HHHhf8/vIeVC25B7lQ63v80CgIIIFDOAm+//baddNJJNn369Lya+fjjj/uZz4KFFYGf77rBOnX9VZkflUXNCwYzL4iwoExvxWy7Mr5ddtll1r59e7vhhhsSd3XhhRfaVVddZd4nZuL8YKIyZuy+++724IMPBpMirw899JCfJSRb96HBCnoy1LugtZdeeimYlPjq/dBp3333nf+0h87L2ijK6OkFFdbGrtknAggggAACCCBQtgJ64ljXlu+8807qbdT17z333JN1u2ldAwc78W4G+9nkHnnkkWBS4qsypRx55JF28cUXJ85nIgIIIIAAAggggEBU4Omnn7YDDzzQpk2bFp0RG1u4cKF5SSvs+uuvj80pbDSfa0ltkeu/wlxZGgEEEECgfgkU875PmpLxXgH4fE9Tl23VZQEC5+ry0aPuCCBQLQH9yONlFfO7+Bw2bJjpZkM+Rd0OuUXdg66xxhrupLIf9rK6hUFgp512mnlZ0kqqzepeoF+/fnbRRRdVqteJJ57od2EVzNhggw3s4IMPtoMOOsjv6iCYHrz27t3bPvnkk2DUf9WFpIIt48F3TZs29QPk1N3q+uuvH1nHe/rTvKc3/a5cIzOckYEDB/pdUS9atMi8DGs2f/58Z25xBr2MfvbWW2+Ff5MmTSrJwLlLLrkkrGNQ3+KIsFUEEEAAAQQQQCBdAXWt5WWpNnWTmnZ54oknTF3a5yppXAO7++jTp4/fNas7zcuyZPvuu69/PexlA3Zn2QUXXGBe5rnINEYQQAABBBBAAAEEogJexhf/oQPdRwzKMsssY7vssot5vUjYTjvtVOm+ne7Txu9dBuvmes33WlLb4fovlybzEUAAAQTqq0Ax7/u4promqE7R79nHH398ZBN8vkc4GKnHAo3Koe3nnHOOHXbYYXk3Rdl0KAgggICe3lOQUFDyzbK10UYb+RnLlNFslVVWMQU7NW7cONhM2b++8sor4ZOMCpjTe3Cukub7tH50U7Ceytdff21z5swx1em2226z2bNnR6oyaNAgPyhu4403Dqd73bnakCFDTFk3br/9dj9zXjBTN6VuueUW+9vf/hYGxSmI7ZprrrFbb701WMx+//13W3XVVW3u3Ln+tBVWWMFGjhzpZ4pr0qSJP01BdarTX//613A9rwtZu/fee8P6hzP+N6BgOy3vdWloM2fO9IP/tN1iFgWCbrXVVsXcRSrbXm+99VLZDhtBAAEEEEAAAQRqSkDXljfeeKOdf/75kYzVae1f32WUzc39YTXTttO4Bg62/fHHH9v9998fjPqvl156qZ/xJLjfopvGejBFWZyDou9Nhx9+uFX3Rm+wPV4RQAABBBBAAIFyE3juueciD9J63bHaq6++aptuumnY1DfeeMN/UEEP9qqoZxD1kLLhhhuGy+QzUMi1JNd/+YiyDAIIIIBAfRMo9n2fuKeSwOh+Sz5Fv1H26tUrsqiC7YPfMDWDz/cIDyP1XKAsIsjWXHNN69q1az0/lDQfAQRqUkBZuvRX34outNTuINPaCSecYLqBk6uk+T7dpk0ba9mypb9LvSoobuedd7YBAwbYP//5T7viiivC6uiiVd0N3HHHHeE0DShbnJ7SVMCbWxo2bOjPGzdunA0fPjycpXG3tGjRwtRF71FHHWWjR4+2xx57zK+Du4wCMfXkxssvvxzJrvHhhx+6i1UaVhcLCpxTUb0VJMhnXCUmJiCAAAIIIIAAAiUtMHnyZD8rh64Zi1G+//5722+//UwPeeRbqnsNHOznX//6VzDov+qaVzdf3aIHQh566CH/Ovann37yZ02dOtXvqlbZ9ygIIIAAAggggAAClQVeeOGFyETdF3SD5jRz22239bP5ug8zT5gwIbJerpFCryW5/sslynwEEEAAgfomUOz7Pkme+q1Vf/mUJ598MrKYek7r27dvZBqf7xEORuq5AF211vMTgOYjUIoCyiimKHdK6Qmoe9v33nsvrNiBBx4YDtf2gLJbXH755aZuUt3yzjvvuKP+sILa4kFz7kLqJtUtypShLHNuWWmllUweejpTgXuZyo477hiZNX78+Mh4fGSdddYJA+UUoKhgQAoCCCCAAAIIIIBA3RFQ1mE9+FCsoDldl+p69fPPPy8IJY1r4IULF9qoUaPC/apL1uuuuy4cdwcUPBe/NlcWFQoCCCCAAAIIIIBAssB3330XmaH7hEnF7V1D86dMmZK0WOK0Qq8luf5LZGQiAggggEA9Fij2fZ80aNXrllvUG4Lu4QSFz/dAglcE/itQFhnn0jyYH3zwgb3//vv+nwIlVl55ZevSpYt17tzZ1J1d+/bts+7utdde89fVQgri6N27t5/y8ssvv/S77FPAhLrqUxd/a6+9tqkv6aVLl4bbPPHEE61Vq1bheHzgk08+8Z/a1hPdyrqUrShd57x58/xFlEXJfQJcdVDXhmqj/tTVYdOmTW2DDTbwu+xToEeHDh2ybd4Kbavapi4u40Upxd9++217/fXX/R8WlixZYh07dvTrcswxx8QXr/b43XffbcEXUHURoy4ZdVyeffZZ0/FX94jav465/vQElwJkMpW0HKpz7qXdJretaZwr7vbUzpdeesn0FJy+0Ddv3tyPjt9888397F3XXnutXXzxxX7GLf2ossUWW7ir+8PVrdM999zjd7Gpc98td911l58dzJ12xBFH+N2xatp9993n//9152u4Z8+e1qlTp/jkSuNpHGP9Xz755JNNr0rDr/87wZ/Oa6Xk13m77777mrpjSru4Tx/o/VDHrdSK3jfcrqNmzJjhd18ls3yL3pvdsuyyyyZ2KaVt5nqvjGcB0bZyFQUk6nxReeaZZ2z69OmW6UZZrm1Vd766sw26ftBnl7rXylbUpa3OTRX9/1Zmv3hRJkAFHep9f9q0af7/x9VXX93WXXdd0+fPLrvs4n+GxtdjHAEEEEAAAQQQqAsCykj8yy+/hFXVNZGu03XdnkY5/fTT7cUXX0xjU5Ft5HMNrO9MwbWhVtZ3oWwPpChwbsSIEeF+ihVMGO6AAQQQQAABBBBAoA4L6P6YW/Tbw7HHHutO8oeD+4bBjNVWWy0YzPla6LUk1385SVkAAQQQQKCeCRT7vk91OdVLluJdgtKuXTs/ZiUY1yuf764Gwwh4Al42m6IXr9u5Cu1Kf9tvv3219+d1ExhuT9u86aabqr1NL8CsYp999olsN6hz8OoFwlV4AT0VXqBbxv3F6+YFp/n107rBdoJXL2irYuutt45Mv+WWWzJuWzO8L0n+8gMHDsy6nBf8VeE9TR5uu3v37v7y3hPpFX369KnwIorDeUF93FfV7Ywzzqjwbohn3E+hbfWCBytty7vZX+EFCmasy4orrlhpnvcDRKXtFDLBS20e2aaX3awi6fgEHl7K0wrVM1OprkMa517abVJb0zxXtD0vcr3CC1KMnJeBcfDqBShGjo33A5O/ntZXSatOm222WWQ/wf6TXt3/k17wbOJ6XiDrfyuY4d+0j/HDDz9c4aXTr8hUH7XD60q04oEHHshQo6pN9gJsK7xAsdDg1FNPzbih+P+L6rxPF7otL8gsrKMs9F7oBXJlrGvSDO+iMrINL4A6abG8pnk/Fka29fe//z3neh999FFkHa+72Zzr5LuAF8gW2fa9996bdVX3s8QLZM26rGZ63eeG2/eCCist/8Ybb1Rssskm4TJJ/+/0uXDmmWdWWjc+wV1Xn2sUBBAoXQGvC+rw/733Rb10K0rNEEAAgRQE3Ou/ww47rELX0cOHDw/fB3UNc8IJJ1RpT/p+4l4DtW7dOjLuPYhQpe1qpXyugVVvd/96f89Wvvjii8jy1alftv0wDwEEECgVAd3LCt4nvQydpVIt6oEAAnVEIH7NqPtyXldrlWqv39mC9xq9Dho0qNIySROqci3J9V+SJNMQQKBYAu77oH5roCBQigLFvO9T3fZ6iSsq4r+DX3PNNZU2y+d7JRIm1HGB4447Lrw+3n///QtuTf7pd7yr73ItynjjvYHYE088kbWJSmHdv39//4lqZWjLp3hfRMwLkqjUxZ/W9Q5Ypejehx56KONmf/jhBz/jlRZQRp94t4HuisqM5Z0N4aQ///nP/rD6rlb6UPfp93AhZ0BZ8Lw3Udt7772dqdkHc7U13uf2jTfeaLvuumuYFS9p6+6T7Enz05g2ePDgrJbKQKduGL0A0Lx2V4hDsc69NNqU5rmidK/KHKdsZe55GQd1M3Mp2+Odd94ZyfaXZp3i+y7WeDGOsbru/NOf/mTjxo3LWO358+f73Tc99dRTGZcpdIYXiOdnbgvW0/tmKZZZs2ZFqqXsnm764cjMDCPK2OkWZfCraolnFtlqq61ybkrdLbiZ6ZQlsRzKp59+anvuuaffvW229ihbKt01ZxNiHgIIIIAAAgiUuoCyBStzsPeQghWSASRbu1599VX//kKwTOPGjf2M9PrulEbJ5xpY34/d4j0M6I5WGtZ9gCZNmoTTvUC6SNb9cAYDCCCAAAIIIIAAAqbeT9ysc7qXfsABB9jQoUNDHQ0rE11QdK3l/fgdjGZ8req1JNd/GUmZgQACCCBQjwWKcd8nDc7HH3/cPvzww3BT3gOXidcJfL6HRAwg4AuUReCcvjzk+st0vNW14V577eV3zxksowCL3XbbzQ+SU9BbvKtIdXGq6fkUdaEZlG222cZPqx0EkJ1yyil20EEHmW52B0XdrShALql4TymaujFVmT17tt/NXdJymuYGWag7Uu8pd3/ReL3VzaDe2BUY5mUtiwRqaIWXX37ZHnzwQX/dXP/kaqu7/lVXXWVetqpIwJrqqW5xvWhQP+AnrR8X3P1mGtaXy913390/rgrqiHe9qPNLdfYyfWXaRDg9X4din3vVbVOa54q2pW5Z3SJvBYCdc845frfF7jwNe5kAKwVuplUn7VvdTcaPs3700XT3T11HBkXLe5my/K58g2nZXot1jCdPnmxeRjJ/1+pieY899jB1hbzDDjtUqo73tGGlaVWd4L6vaBsK7sq35HqP1vy0Srz7p0LqqfdWdbGtHzmDoq61vAycwWhBr48++qjpx8Gg6H0u6TgF84NXdfW93nrrBaN+d9I67nW9qCtmBXW6Rf+vZK7uad3uwaoTrOhun2EEEEAAAQQQQKCmBS699FL/QQF970irzJgxww4++GD77bffwk3qwSR1c1/dUsg18FdffRXZnW7AZitelhRzl1H949eD2dZnHgIIIIAAAgggUJ8E9NuUHrzwehMJm63rJ68nF9tpp51MDzqoq1W36P56mzZt3EmVhqtzLcn1XyVOJiCAAAII1HOBYtz3SYt0yJAhkU2ddtpptvzyy0emaYTP90okTKjvAl6wQtFLsbtq9Y5hmHYv07D3ZSKxnSeffHJkXaV9HTt2bKVlr7jiikgXhdqPupuLl3iXglpO3cd5wVThokqR+cEHH4Tj8S5ilYY2qWy00UaRuvbo0SNpsQovo09kuV122SVcTvvu2rVrxQorrFBx5ZVXVniBeOE8DagrzG233TayfqauVKrSVu3DuylfEe+CtWPHjhXqmtAt6pLVe5oqUhd5pt1Va69evSq8qGp31/7wyJEjI10Oat/rr79+hfdFNbJsVR3SPPfiXbVWt01qYFrniv4/yc79+/e//x0x9IJFK3Q+u8tsuOGGlbpFTqtOwc7Vxaq7z/g5GCwXf413o5mpq9ZiHmPV27spUun/sN5r3O5UtVzSe1q8TbnG1cWS22WntrtgwYKMqyX9v3Ctk4YzvU/Ht5Wt29dPPvmkIt7lr9bPVbxshhVrrbVWhbqpduum9+8XXngh1+qJ89Wttxe0F9meuknNt7ipnlWnCy+8MN9Vsy5Xm121eoHaEQ99trpF7++XXHKJ/xmhz4pcJX6sci3PfAQQqD0BumqtPXv2jAACpSHgdjejaxh1iZFv8TKxV3gPmUWuo7wH0cLVvYxz4bxM39/DhZ2BqlwDu/tSOxYvXuxsMXnQeyAkrJ/W+fLLL5MXZCoCCCBQBgJ01VoGB5EmIFACAuPHj6/wHjCNXEO598GCYe+B6kr30OPVr+61JNd/cVHGEUCgmALud2e6ai2mNNtOW8A9d/U5Xch9n7Tq4iVEilw7NGvWrMJ7eDFx83y+J7IwsQ4L0FWr985T1TJp0iRTt5puefbZZ2377bd3J/nD6qYz3lXn2WefXWm5pAneD4V+iu1gnp64drs4VPpttyR116o02vFsQ8p8pzbESzwrVNBNq5bTvtX9pbrAO/PMMyNdpmi+Mv8ow5wbeTx16lRzu9DUcplKrrZqvfPPP9/cLli7detm7777rp9tzt2uuim8//77C8pq5a6fz7CyOj333HO2xhprVFr8mGOOsbfeeiuSEfCzzz7zu7qttHBsQi6HYp57abUprXNF565bdL57gWbuJP8JOu+CInI+egFQkUxdWiGtOkV2XqSRYh5jVVkp+fXUgNvtkabLVxno3BJ/73Dn5TusDHfeZ2W4uDKDeRdc4XhtD6jr6rvuustvu/t+pXNmv/32y1m9CRMmmPcDXqTbKO9LmY0ZM8bvnjvnBhIWuOOOOyLdjSq7qBf8lrBk8qQNNtggMsMLuI6M18UR99io/npS1i1639dnxLfffhvJPucuwzACCCCAAAIIIFCfBHQNru+m3o+nYbN33XVXu+aaa8Lxqg4Ueg3sPeRg3sMz4e70XcS9dxDOiA3Ev7MEmfRjizGKAAIIIIAAAggg8D8B9YKS9DuVC6Teex577DFTr0KZSnWvJbn+yyTLdAQQQAABBEpP4PLLL49U6q9//aupV6144fM9LsI4AmaZr6jrgY6CGryMQGFL1T3rlltuGY7HB5QOW0FJQXnttdfs+++/D0YTX9X9qZfdJ3FeMFHd0XkZ4IJRe/75523hwoXhuAaUgjupqGuWeHG7ClVqb3V/5xZ1W+hlVnInRYYVEBNfZ/r06ZFlkkbyaasC9rxMbpHVb7zxxkjqcXemvL2IZ3dSqsMKqtFfpqKuEtWFoFsUaJet5ONQzHMvzTalca4o+NAtmf4/qMvgeBeW06ZNc1f1h9OoU6WNFmFCMY+xArBOOumkjLVWV7NuUUBYdUt8G8X8f5mrrnqPUyDzRRddZOryev/99/e7zz3qqKMs/l7Vr1+/SudVru0H8/WjoAI6582bF0zK+9XLvGEDBgyILN+nTx+/a+zIxCwjbpcMWix+DLKsWrKz3K6PVUn388qttLogpiCAAAIIIIAAAgiYDRw40B5++OGQQg9X3HfffeZlSg6npTmQ7Rr4119/jezKywgeGc80ou8vbtENWgoCCCCAAAIIIIBAsoAeKPV6DbIHHnggeYH/TdWDFbpHqgeKM5XqXkty/ZdJlukIIIAAAgiUloASoDzzzDNhpXTfyOutIBx3B/h8dzUYRuC/Av8fBVaHRQ4++OCcT9/oi0a8KHuYWxQYl62sueaa5nUnaV63feFiXtempqxEmcpBBx2U9YkfraegOWVECgIIdBP5ySeftCBT3Ny5cyM3yt19KThH0cNe14T+5Pfff9/cdu25556JkcTBNrwuMm3ixImmrHJqi/bldZFps2bNChbxXxXApCeYspV82vrmm29GslZ5XbHa1ltvnW2ztT5P54WbmTApmMutZD4O7jHSusU499w6xYcLbZPWr+q5oi/6bknK7hfMj8+bM2dOMCvxtap1StxYyhNr8xjHHdMIuIpvw+tuuSCxqr5PJ+3E6ybb9Jer6L3ssssuy7WYP1/BwnrqQlk3gvc/BVbffvvt9s477/iZ59q0aZPXtrSQsqa5Znqf79+/f97ra8G4sdeldEHrl+LCClB3g2mvu+46PwBdAdSllMGwFO2oEwIIIIAAAgjUPwFlgx88eHDYcD1Y8fjjj2d88CxcMM+BQq+BlR3YDZZzM1Jn22X8hmz8AZFs6zIPAQQQQAABBBCoTwL6bUi/mXz66adhs/WgvDLG6EFm3UtzH0K4/vrr/WX1e1L8wYo0riW5/gsPAwMIIIAAAgiUtMAVV1wRqZ/iFTIlUuLzPULFCAK+QFkEzqmrt1yBR0nHOx7YokxWuUr79u0jiyjYLFuWunhXe5GVnRF1rxgEzmmyumsNAudGjBgR+TKkG+cXXHCBv7a6PFUGt7///e/+uLsNTQi24c90/lGmPAXc3XTTTfbTTz85c5IHv/vuu+QZztR82qqMc25REEWpl44dO0aqmCtwLh+Hmjj3IpWOjRTSpuqeK8pg6BYF/2yyySbupHB49uzZ4bAG4gFgwczq1inYTjFfa/MYxwO88vk/nsvCDQLTsvGgrlzrV/V9Otd2k+aruyg9RaHutOPdQiUtr2nqulp/+iFQmTz/+c9/hl1UK7hYgX9jx47NtHpkuoL69N7qlkGDBtnqq6/uTso5HAREBwsq852OZT7dYQXrlNqrjok+s2bMmBFWbdSoUX63En379jVlCCzUKdwQAwgggAACCCCAQBkJfPjhh372+iA4TT+E3n///bb++uun1spCr4GV0V4/3AZ1+u233/K6PnV/3NX68e8rqTWIDSGAAAIIIIAAAnVc4Kqrroo8MKweeZR5Tj1uqKhHi+OPP95effXVsKXPPvusnXvuuXbllVeG09K6luT6LyRlAAEEEEAAgZIV0G9u6p3ALaeffro7Ghnm8z3CwQgCvkDD+uqg4AhlWQuKbt5mCtIJltFru3bt3FE/S1tkQmxktdVWi01JHlUAmZu5Tl92FCChG9K33npruJK6AVXWos022yycNnToUH9YbXLfFJW9Z++99w6XCwbuvPNOv7tARR6nEVATbDeftk6ePDlY3H9VV6ilXhSk0rp167CaixYtytp1Yy6Hmjr3wgonDOTbpjTOlXiw6b333ptQIzMFZ77++uuReZ06dYqMaySNOlXaaMoTavsYFyOwKsjCFlAVGjgXrFeMVz0ZoWDQnXfe2Q9+U0CzMs1VpTvZhg0b+t2/3nPPPZGqqmtuvS/nKvpRUDewdA4ERRlPTzvttGA071e3C+9gpa+++ioYrJOvOjdfeeUV22ijjSL1V5dgurmnrlwVtKigcAoCCCCAAAIIIFBfBZS1W1np3e/relJY3dnrujT+pwC2oOi6PZi/ePHiYHLW10KugVUHt+g6LlfRg09B0X0PXb9TEEAAAQQQQAABBKICuvZTRjm33HDDDWHQnKbr95Tnn3/elDnYLVov6K0i7WtJrv9caYYRQAABBBAoPQEl81AvWkFRb3+5evzj8z3Q4hWB/wrU68C54ClpUWhY0bW5Sjx70cKFC3Otktf8xo0b+xmNgoX1Jenpp5/2u4V1A/xOOeUUfxG3T2oFo7344ot+NiQ3qEIpveP1ffjhh+3YY481t956cl034S+66CJTdjs91bT99tsHVUn1dcqUKZHtxQMRIzNLaCT+4aEuQqtaFFBTCuderjalda4ccsghESp1LxwPQJLJWWedFQmWUQZIN2BRG0mrTpEKFWGkVI5xmk2Lp/p3z+E095PPtvQepfc6vffphtCSJUv8QOgxY8b4wVe5glfz2cdee+0VeU/WOvGMnknbUWa5Tz75JJwlNwU/x/3CBQocSGs7Be421cWVGvrtt9+2c845x++q3N34zz//bJdeeqltscUW4c0+dz7DCCCAAAIIIIBAfRA4+eSTLZ7xWdnmdthhh8Q/96EDXRsHy8WzIOeyy+caOP4dLdd3Yz1YoszJQUnjWj3YFq8IIIAAAggggEA5CTz11FP+w+VBmxQkd8IJJwSj4aseQlACBT2AGpTff//dhg8f7o+mfS3J9V+gzCsCCCCAAAKlJ6CHJm+77bZIxfJJ5sHne4SMEQSsLLpqrcpxVIrrFi1amJ6+CYqelG7evHkwmvga70pynXXWSVyuKhPVraqbXU7dtbpPjrdq1cqOPPJIf9Pq2lVd3gVdqKprwVVWWSWyWy3jFt3QPvrooyMRxzvuuKMNGzasUvYfdRGop9TTLsqC55Y5c+bYhhtu6E4quWF96XSPu57GX3PNNatcz1I493K1Kc1zZdttt7XtttsuzCanoDL9IKMv8PpBRz/yKIvcSy+9FDG98cYbI+Np1imy4SKMlMIxTrtZ8e6U3OwXae8r1/YUEFwT3Xn26NHDHnzwwbA68cDfcMb/Bj744INIlwiarGDnbt26xRfNazwpQ0i5/NCoz5ghQ4b4GQKvueYa05/bhZe6OlYGwUmTJpkCyykIIIAAAggggEB9Evj6669Taa57PyHfDea6BtY9EDeoT92A6aGnTGX69OmRWeVyPRtpFCMIIIAAAggggEAKAh9//HFkKwcffLDpt4ikovvPSq7gJljQfTSVtK8luf5LOgJMQwABBBBAoDQE9Bv7/Pnzw8ooXkTJlXIVPt9zCTG/vgkkX3XXEwX3iRw12Q2OykQQpLsO5se3EUyvyquCiNxgEHVpqeC5oPz1r38NM8gpcKRv377BLD8T1y233BKOr7rqqrbLLruE4xoYNWpUpKuXzp0725NPPlkpaC6yUsoj8a5Z4zfRU95dKptTZis3vamC5vLJTpht5/HzpqbPvVxtSvtcUfCRskwFRcFzyn5w2GGH+d1axoPm9CRdz549g8X917TrFNn4/0ZUr7RKbR/jtNoRbCf+A1dSUFewbLm8tm3bNtIU9wfCyAxvRMGovXv39l+DeXqvGDx4cDBa8Gs8OFFdtyZ131rwhquxQpr/R1QNPdGiDHP6wXWbbbaJ1EyBiiNHjoxMYwQBBBBAAAEEEKgPAnrIT9dJ+f41aNAgZNGPq8F6yy+/fDg934Fc18Dt27ePbCr+XS4y0xt59913I5Pi9wQiMxlBAAEEEEAAAQTqscAXX3wRaf0aa6wRGY+PrL/++pFJs2bN8sfTvpbk+i/CzAgCCCCAAAIlJaBu3d2ingeVnTZX4fM9lxDz65tAvQ6c69ixY+R4q+u4bEVBDPEsbPHgmGzr55qnG9yHH3544mLqnk8ZutyicT1ZlFQOPfTQSl0DxrvHVLCCsv7UZInfJM91k70m65ZpX0qR7pZ4G9x5+Q7X9rmXq01pnysKunrrrbds1113zUqkzFIKNFIWxHhJu07x7Wvc7UIoaX4h02r7GBdS13yWLaWMc/nUN41l4jersgXMXn755X7wl7tfZQJdccUV3UkFDceDE+PBiwVtrBoLuxnf8nlitSrd+CrzqD5fN99880hN45+5kZmMIIAAAggggAACZSqgB9zmzp2b959+HA1Khw4dwvXOOOOMYHLer7mugbt06RLZ1osvvhgZj48899xzkUnxzPiRmYwggAACCCCAAAL1WCB+7y+exCFOE3/IN7gPmfa1JNd/cXnGEUAAAQQQKA2BF154wdyMtXqw0k28lK2WfL5n02FefRSo14Fzm266aeSYKwNWtjJixAj7/vvvw0V0c7o6XXaGG3IG1F1rUtl///0r7UvZ6Q466KCkxS1pO26aTq3UtWvXxHU1UdmTilE22GCDyGbvvvtuGz9+fGRaKY0oWPLiiy+OVGmLLbaIjFdlpDbPvXzalPa5ogAgOb7++usRLkW8K6JdAXWary/7/fv3jywTjKRdJ203HnGf62ZEUJd8XmvzGOdTv0KXiQfOxYO6Ct1eXVg+HmCaqcvVyZMnV8osp64U9tlnn2o1M55xLn4MqrXxAlZ2uyRX4NzChQszrq2LdHWrXJWi4PG//OUvkVXjP9xGZjKCAAIIIIAAAgggkLpArmvgXr16RfY5bdo00zVgUtH3OzeLvoL6lGmfggACCCCAAAIIIFBZIJ5B7rHHHrPffvut8oL/m3L//fdH5mW6dxlZqAojXP9VAY1VEEAAAQQQKFBg4sSJpriJH3/8Me8149nm/vSnP1m+SZ/4fM+bmQXriUC9DpxTxK26NA3Ke++9Z+oHOqmoyzhlaHPLeeedVymrmzu/KsPKthP/gqTtnHrqqYmbS5quIId4l3daOZ4B6/PPP0/c5tixY+2CCy6IzFPXnmmUAw88MNIdrbr9O/744/2AqaTt64uhnrQvVlFmpHhwSrAvfTCpe1w3w5Iy9FXlqf1gm8FrMc+9NNqU9rly2mmn2dChQ03BVjoHnn76af+4/vLLL6buepWF4J///KfFn6oLvPSadp20zfj/tbvuukuTUynFPMapVLDAjay99tqRNdz/F5EZdWDk559/NmU4O//88zMGCf/nP/+xePaMePfXaqrew9RFq87loDRv3tziF6vBvEJe58yZE1nc7e44MqPII+5Ftt5frr322sQ96qkWpYDOVuSkoMJMmeQ++uijyOrZsvxFFmQEAQQQQAABBBBAIKtAWtfAnTt3tni3YXr4wX3IUBXRg0977rmnLVmyJKyXlnO7lQ1nMIAAAggggAACCCBQ6V61HtaN/04TMF1zzTU2ZsyYYNR/3XrrrSPjaY1w/ZeWJNtBAAEEEECgsoB+d9t9991Nn7dHHnmkH0dx7733Vl4wNuXbb7/1f293J+ebbU7r8PnuyjGMgFm9DpxTEFT8i8cxxxxjAwcOtCDzlIKnnnjiCdtuu+1s1qxZ4TmjAIakoLVwgWoMxLPFbbbZZrbjjjsmbnHbbbe1eAa0TF2faDtuUVev+vIVlG+++caUdU8RxvGb3hMmTAgWq9br8ssvXymD27hx46xTp05+MMYHH3zgB1dp/w8++KDv/tlnn1Vrn9lWVmY9ZQbTU/D6gFGgnkwU0a0PDL265ayzzooEW7rzChku5rmXRpvSPFf0g4mCkILStm1bmz17to0aNcrvfljBSApiUnDOzjvv7AcrvvLKK8Hi4WuadQo2Gk9Dq5sN//jHP/ygvl9//dXPkHfZZZdZVc7/Yh7joP41+ar3wBVWWCHcpYIg3ffEcEYdGFAQ9Keffmo6tmrXjTfe6B9rBW098sgjpgyfCpp1izKMJmWQU4CcuiF2S9OmTf3MiX369LFsf0nnubud+Hvfbrvt5s6useF4ILayQ6pLZX1mqCiwetCgQX7Adq4g68cff9x/v1Wmkf32289Gjx7tZ7BTILe6tr3vvvsi7SIjSYSDEQQQQAABBBBAoMoCaV4Dn3vuuZF66HtBz549/es5PSBx1VVX2U477WSTJk0Kl2vUqJHpfgsFAQQQQAABBBBAIFlAv/O4D7Bqqcsvv9x/GEG/Uekete6t6Z6a7mG7Rb9X6fqrWIXrv2LJsl0EEEAAgfouoN/JlGAmKOr16aKLLgpGM77ec889keQg6rJ93333zbh80gw+35NUmFZvBbwo1qIXL9iowgP2/7bffvtq78/7UhBuT9v1gr2qvE0vOKbCC56JbC+oq16XWWaZSvO87uQqvDTYifuM180LjEhcLttEL6Ajss/bbrst2+IVI0eOjCzvfYFKXP67776r8Lr6iyyrtnhZtyrWW2+9yHTXQMNel5YVXvalyHar2talS5dWbLnllln3F9+/O+5lLIrUo9ARL1CuSvv2upmt8AIpK+2uqg5pnntptynNc8UL5KvwAokKNveClCq8rAihd5p1CjbqZQur8IKCEuvmZUIIp1999dXBKv6rF2AVztO56WVNjMwPRop1jBs3bhzsIvF1xowZkfp5Gb4Slyt0ondTJrLd+HuCu734/4vqvE+nuS3vRz3//cx9T8k1rHPB6xrBbZ4/7AV7VXjBwBGTXNty5w8bNqzSNt0JXvbQcNt6r/aCe93ZVR72Mn2E21V9vCdXsm5L73vt2rWLrBO0w/sBNHF6MN/rjiuybS/rSNblg/X0qvcNGWcr7vJedrpsizIPAQRqWeDmm28O///rPYWCAAII1DeB4cOHh++DuoY54YQTUiNYeeWVw217P7ZW2m6a18DauL6T696Oey2Wa9gLpqtULyYggAAC5SjgZaEP3x+9h0bLsYm0CQEEiijw/PPPh+8hua6vgvm6b1iV36GCZuS6ltRyXP8FWrwigECxBdzvzi1btiz27tg+AqkJuOeuPqPzve9z+umnJ372f/HFF1nr5gXcR9bzEitlXT5pJp/vSSpMq6sCxx13XPh/wkuSU3Az6nXGOe9Ny7wAFHvjjTdMXYYkFS/IKzJZ2bK8Ly92yCGHRKanOaLuI4Mscq1bt7Z4Brr4vg477LAwC5qypCl7W1Jp1aqVn/lLbQ6KuhlUViN1RRsUzVeqbzejnrJvFZLeM9hW0qv3Rc5eeOEFO/zww5Nml+Q0pUZ99913Ixm3qlvR2j73srUpzXPFCz41naOFFj1F53aLm2adgrqomyAveMmUHS5evHfTcJKbKSGcmMdAbR/jPKpY0CLxJxWUta2uFR3ro48+Ou8uonTe3XLLLYlPaSgrXaaunqvr4l2smndRHG5mq622slVWWSUcr8kBZRpUNrgmTZpU2q0yXAZF3arefvvt5n2ZDSZFXvV5k6mL1siC3og+J5SV0gu8i89iHAEEEEAAAQQQQKBAgTSvgbVr78E6/zv9sccem1dNTjnllEpZUfJakYUQQAABBBBAAIF6JqDeWS688EL/d6t8mq5eMm699daMPRbls418luH6Lx8llkEAAQQQQKBwgfhvr9qCemFTNtlM5eOPP7b33nsvMvvQQw+NjOczwud7PkosU18E6n3gnA60ggJGjBjh/0jvZUIzdbMXL2uuuaYfbDF+/Hi/C5L4/LTHg+5WvUxWicEK7v4UrHDiiSf6k3IF2e2999729ttv+92QutvQcLNmzfwvWK+//rp50c1+9yrqU1vBRSrqxjStohv3SiGqgBR1l6luW+Jlo4028vvmVje1mh/8xZer7rjs1PZ40Xmx9dZbmxchbnfeeacpxWnapVjnXhptSvNcGTp0qF1yySX+sfaeYDN12etl8DN1PdmvXz8bMmSInXPOOX6Xra6x1ps3b144Kc06BRvV+acughWYlFQULLRkyZKkWXlNK8YxLvRcLHT5TA3ba6+9wvcDLaOuTeta0XuPug5+5513TO1RcHJS8bJz2vnnn2/qQjTebWuwvIJpq1OyHZeJEyeaAs2CktRNbDCvJl7Vfa2Ot96Pg8+EYL8a12fF2LFjzYvmjwQYu21UMJwu5nXzb/XVVw9Wj7xqWwq0Vfu9TImReYwggAACCCCAAAJ1WcC9LlI74uPVaZu+c2QraV4DB/vRzVV9V77hhhv871JJD1l07drVvGz9/jLBerwigAACCCCAAAIIZBcYOHCg3y2r7oXrt5+k4mW3NC+TjZ8QoU+fPkmL5D0t17VksCGu/wIJXhFAAAEEEKgsEL/PEx+vvMZ/p6irdf0upt/QVPT75KBBg/47M8O/zzzzTGSOfuvcY489ItPyHeHzPV8plit3gQbKUVfsRp599tl25ZVX+rvxuvPwf1wv9j6rs31lmVMWNq9rSL9vaK8bzIwZdKqzn2zrKlhI/Vn36tUrryxDhS6vfc+cOdM+/PBDU0YwZanLFLn81Vdf2eTJk00BT926dctW7SrP87rkNAUlel3IWPv27c3rOjbVHxLciilKOwj4UUYwZdPTf4Mvv/zSb6d+VNCHUseOHSsFiLjbKcZwVc+9Yrepps4VtV8f7MrqGBRlJ+zZs2cwGr4Wo06zZ8/2A3t0caKbD/o/kXaWr6oe47DhtTygpx51TFQU/KTjEA+kquUqFrz74D1O7wfKlqYsZ/le0Ba8szxXGDBggA0ePNhfWkHDeg/2ut3Kc+3siykziNfFd7iQ11VrQVkhFy9ebJ988okfVCivTTbZxJSNtdDidT1r06dPN73/a5t679efAmvzLe65pxuJ2hYFAQRKU0AZXk866SS/cl5Xrf41X2nWlFohgAAC9UMg7WtgZSJWpu4ffvjBv4+yzjrr+N+p64cmrUQAAQT+X0DZnxYsWOBPUCZ1Zb2nIIAAAlUV0IO1+s1ED/d+8803tsYaa/i/nay66qpV3WRq63H9lxolG0IAAUdAiW70gL6Kfn9wk2s4izGIQNkJzJgxw08qseuuu/qZ/murgXy+15Y8+62uQO/evf2HfLUdJYR55JFHCtpk5TRfBa1engsrkEzZzmqzqHvAXNnj3PoVurzWVRY9/eUq+jKmv2IWPZ3evXv3Yu4i67YVfLH22mv7f1kXLPLMNM+9NNtUU+eK2q/MVW7gnH7QSSrFqJN+yNdfMUuax7iY9cy0bQVBK4A2uGmjzG2ZsvVl2kapTa+J97hC2/zwww+HqyjQJK2guXCj1RjQU6jqTjzoUryqm9INvlK4yVfV+rMeAggggAACCCBQlwXSvgbWwx566JCCAAIIIIAAAgggkJ6AHvDO9z54envNb0tc/+XnxFIIIIAAAgjkIxAkl8hn2WIuw+d7MXXZdikL0FVrKR8d6oZAmQgo60Dnzp39ri/nz5+fsVWLFi0yZb9yS6ZMiO4yDNecgLpbUsR2UB566KFgkNeUBD799FM/W4c2pyeq1D0DBQEEEEAAAQQQQAABBBBAAAEEEEAAAQQQQAABBBBAAAEEEEAAAQTSFSBwLl1PtoYAAgkCp5xyip9e9rLLLjN12aNuKMeMGeOnWFZXuV988YXdfPPNftbBcePGhVtQN6lbbrllOM5AaQhcfPHF1qxZM78yOm7qLoCSnkD//v3DjQ0aNKjGuwoPd84AAggggAACCCCAAAIIIIAAAggggAACCCCAAAIIIIAAAggggAACZSxA4FwZH1yahkApCDz33HN21113hVVRxrnBgwdbr169rHXr1rbccsuZ0s+efPLJ9sknn4TLaUCBduoWklJaAm3atLEhQ4b4lfrxxx+tX79+pVXBOlybZ555xh588EG/BeoCV920FruoW3ClXnb/1BVvqRWdZ24dNUxBAAEEEEAAAQQQQAABBBBAAAEEEEAAAQQQQAABBBBAAAEEEECgqgIEzlVVjvUQQCAvgQ4dOth+++1nDRo0yGt5LdS4cWMbOnSo9enTJ+91WLBmBRTQde211/o7VXetU6ZMqdkKlOnegoDE7bbbzkaPHm3LLLNM0VuqILmlS5dG/oq+0yrsYM6cOZE6qs4UBBBAAAEEEEAAAQQQQAABBBBAAAEEEEAAAQQQQAABBBBAAAEEqipA4FxV5VgPAQTyElhvvfXs0UcftQ8//NAOP/xwP8tcphWbN29uZ599tk2fPr1GMm1lqgfT8xM47bTT7JZbbrGGDRvaL7/8kt9KLJVV4Oeff7add97ZlKkx6A436wrMRAABBBBAAAEEEEAAAQQQQAABBBBAAAEEEEAAAQQQQAABBBBAAIEqCdDPWZXYWKkuC5xxxhn27bff+k2oiWxONWFVF9rUpUsXu+eee3wO+U+cONHvmlXHQF21rr322rbOOuv4XbfWhBn7SEegb9++1rZtW//YpbPF+r2Vc8891/bYYw9r0qRJ0SAUwNqpU6eM21f3yAqGLLVy9NFHW/fu3TNWi65bM9IwAwEEEEAAAQQQQAABBBBAAAEEEEAAAQQQQAABBBBAAAEEEEAgQYDAuQQUJpW3wDHHHFN2DaxrbVp11VWtZ8+e/l/ZHYx62KB99tmnHra6OE0+4IADirNhZ6u777676a+uFZ1nnGt17ahRXwQQQAABBBBAAAEEEEAAAQQQQAABBBBAAAEEEEAAAQQQQKB0BUovpUzpWlEzBBBAAAEEEEAAAQQQQAABBBBAAAEEEEAAAQQQQAABBBBAAAEEEEAAAQQQQACBMhAgcK4MDiJNQAABBBBAAAEEEEAAAQQQQAABBBBAAAEEEEAAAQQQQAABBBBAAAEEEEAAAQQQyF+AwLn8rVgSAQQQQAABBBBAAAEEEEAAAQQQQAABBBBAAAEEEEAAAQQQQAABBBBAAAEEEECgDAQInCuDg0gTEEAAAQQQQAABBBBAAAEEEEAAAQQQQAABBBBAAAEEEEAAAQQQQAABBBBAAAEE8hcgcC5/K5ZEAAEEEEAAAQQQQAABBBBAAAEEEEAAAQQQQAABBBBAAAEEEEAAAQQQQAABBBAoAwEC58rgINIEBBBAAAEEEEAAAQQQQAABBBBAAAEEEEAAAQQQQAABBBBAAAEEEEAAAQQQQACB/AUInMvfiiURQAABBBBAAAEEEEAAAQQQQAABBBBAAAEEEEAAAQQQQAABBBBAAAEEEEAAAQTKQIDAuTI4iDQBAQQQQAABBBBAAAEEEEAAAQQQQAABBBBAAAEEEEAAAQQQQAABBBBAAAEEEEAgfwEC5/K3YkkEEEAAAQQQQAABBBBAAAEEEEAAAQQQQAABBBBAAAEEEEAAAQQQQAABBBBAAIEyECBwrgwOIk1AAAEEEEAAAQQQQAABBBBAAAEEEEAAAQQQQAABBBBAAAEEEEAAAQQQQAABBBDIX4DAufytWBIBBBBAAAEEEEAAAQQQQAABBBBAAAEEEEAAAQQQQAABBBBAAAEEEEAAAQQQQKAMBAicK4ODSBMQQAABBBBAAAEEEEAAAQQQQAABBBBAAAEEEEAAAQQQQAABBBBAAAEEEEAAAQTyFyBwLn8rlkQAAQQQQAABBBBAAAEEEEAAAQQQQAABBBBAAAEEEEAAAQQQQAABBBBAAAEEECgDAQLnyuAg0gQEEEAAAQQQQAABBBBAAAEEEEAAAQQQQAABBBBAAAEEEEAAAQQQQAABBBBAAIH8BRrlv2jVl5w6dWq48ueff279+vULxxlAAAEEEEAAAQQQQACB8haYMGFC2MAFCxbwfSDUYAABBBBAAAEEEECgnASWLFkSNueOO+6wd999NxxnAAEEEEAAAQQQQCC7wMcffxwusHjxYu4hhhoMIIAAAghkE3jrrbfC2TNmzAiH8x1oUOGVfBeu6nLdu3e3cePGVXV11kMAAQQQQAABBBBAAAEEEEAAAQQQQAABBBBAAAEEEEAAAQQQQAABBBBAAAEEEEAgUaBt27Y2e/bsxHmZJtJVayYZpiOAAAIIIIAAAggggAACCCCAAAIIIIAAAggggAACCCCAAAIIIIAAAggggAACCJSlQI101bryyiuHeM2bN7du3bqF4wwggAACCCCAAAIIIIBAeQt89dVX9umnn/qNXHbZZW2HHXYo7wbTOgQQQAABBBBAAIF6KfDyyy/b0qVL/bZvvPHGpifdKQgggAACCCCAAAL5CShD0OTJk/2FGzVqZD169MhvRZZCAAEEEKjXAurqe86cOb5Bs2bNCraokcC5TTfd1EaPHu1XrnPnzjZmzJiCK8oKCCCAAAIIIIAAAgggUDcFhg0bZieddJJf+datW/N9oG4eRmqNAAIIIIAAAgggkEOgRYsWtmDBAn+pc889144++ugcazAbAQQQQAABBBBAIBAYMWKEHXfccf6oAh+IKQhkeEUAAQQQyCbQu3dvGz58uL/IRhttlG3RxHl01ZrIwkQEEEAAAQQQQAABBBBAAAEEEEAAAQQQQAABBBBAAAEEEEAAAQQQQAABBBBAAIFyFSBwrlyPLO1CAAEEEEAAAQQQQAABBBBAAAEEEEAAAQQQQAABBBBAAAEEEEAAAQQQQAABBBBIFCBwLpGFiQgggAACCCCAAAIIIIAAAggggAACCCCAAAIIIIAAAggggAACCCCAAAIIIIAAAuUqQOBcuR5Z2oUAAggggAACCCCAAAIIIIAAAggggAACCCCAAAIIIIAAAggggAACCCCAAAIIIJAoQOBcIgsTEUAAAQQQQAABBBBAAAEEEEAAAQQQQAABBBBAAAEEEEAAAQQQQAABBBBAAAEEylWAwLlyPbK0CwEEEEAAAQQQQAABBBBAAAEEEEAAAQQQQAABBBBAAAEEEEAAAQQQQAABBBBAIFGAwLlEFiYigAACCCCAAAIIIIAAAggggAACCCCAAAIIIIAAAggggAACCCCAAAIIIIAAAgiUqwCBc+V6ZGkXAggggAACCCCAAAIIIIAAAggggAACCCCAAAIIIIAAAggggAACCCCAAAIIIIBAogCBc4ksTEQAAQQQQAABBBBAAAEEEEAAAQQQQAABBBBAAAEEEEAAAQQQQAABBBBAAAEEEChXAQLnyvXI0i4EEEAAAQQQQAABBBBAAAEEEEAAAQQQQAABBBBAAAEEEEAAAQQQQAABBBBAAIFEAQLnElmYiAACCCCAAAIIIIAAAggggAACCCCAAAIIIIAAAggggAACCCCAAAIIIIAAAgggUK4CBM6V65GlXQgggAACCCCAAAIIIIAAAggggAACCCCAAAIIIIAAAggggAACCCCAAAIIIIAAAokCBM4lsjARAQQQQAABBBBAAAEEEEAAAQQQQAABBBBAAAEEEEAAAQQQQAABBBBAAAEEEECgXAUInCvXI0u7EEAAAQQQQAABBBBAAAEEEEAAAQQQQAABBBBAAAEEEEAAAQQQQAABBBBAAAEEEgUInEtkYSICCCCAAAIIIIAAAggggAACCCCAAAIIIIAAAggggAACCCCAAAIIIIAAAggggEC5ChA4V65HlnYhgAACCCCAAAIIIIAAAggggAACCCCAAAIIIIAAAggggAACCCCAAAIIIIAAAggkChA4l8jCRAQQQAABBBBAAAEEEEAAAQQQQAABBBBAAAEEEEAAAQQQQAABBBBAAAEEEEAAgXIVIHCuXI8s7UIAAQQQQAABBBBAAAEEEEAAAQQQQAABBBBAAAEEEEAAAQQQQAABBBBAAAEEEEgUIHAukYWJCCDwf+zdBbwc1dnH8VOsaLDgHgjSENw1ePDgUCC4W3ALEkIguAQLLRCshOIUKC5Fk0DRYIEEDcElBKf7nv95e6ZnZmd9Zu/ee3/n80l29MzMd3Zn5+4++zwIIIAAAggggAACCCCAAAIIIIAAAggggAACCCCAAAIIIIAAAggggAACCCDQUQUInOuoZ5bjQgABBBBAAAEEEEAAAQQQQAABBBBAAK1UBJYAAEAASURBVAEEEEAAAQQQQAABBBBAAAEEEEAAAQQQSBUgcC6VhYkIIIAAAggggAACCCCAAAIIIIAAAggggAACCCCAAAIIIIAAAggggAACCCCAAAIdVYDAuY56ZjkuBBBAAAEEEEAAAQQQQAABBBBAAAEEEEAAAQQQQAABBBBAAAEEEEAAAQQQQACBVIEpUqcyEYEWEhg9erSZOHGi26OZZprJLL744i20d9XvyiuvvGJ++OEHt8If/vAHs/LKK1e/cjtZsjMcYyucio7ymmgFS/YBAQQQePfdd83nn39eFmKVVVYpO78tZr799tvmq6++KrnpGWaYwfTo0aPkfGYggAACCCCAAAIIIIAAAggggAACCCCAAAIIIIAAAggg0NkF2mXg3DvvvGPuv//+us/d1FNPbfbee++612fF5grst99+5umnn3YbnXzyyc1PP/1kppii/T11+/bta15++WV3HFNOOaX55ZdfmgvZhK11hmNsAmPFTXSU10TFA2WBdiUwZswYM3z4cDP99NOb3Xff3cw888ztav+z2tlCoWCGDRtmNtlkEzPHHHNE3WZ57/Lkk0+aZ555xkyaNMkFZOt98ddffzXTTTedUYD5jDPOaOaff36jYK+55por2odKA0899ZR59NFHzRtvvGFef/118+OPP5pFFlnEdO/e3QV777jjjmayySonK9Z6t9xyi7n33nvNBx98YCZMmOCeDwsttJDRv7XXXttsvvnmlXbHzR8yZIjZfvvtY5ZVrVjDQgMHDjTXXntt2TV+//33qo69bCcZz+zfv79zLtXtH//4R3fPVGo+0xFAAAEE8hPI8r3Q76X+frz66qvN888/bxQ8/eGHH5o555zTvVfrx2X77ruvmW222fziscdrrrnGrRObWOPIGmusYTbddNPUtZ599llz3XXXmddee82MHz/e7ceKK65oVlhhBbPmmmuabt26pa7HRAQQQAABBBBAoDMJZHmPmGVfpc6BPne6/vrr3ed9+pzrmGOOKbVo6nTuEVNZmIgAAggg0MEFvvzyS3PeeeeZlVZayfTp0yeXo83iPiDvz4pyOXA6RSBPAfsFb+7t6KOPLthjcP/sh60Nb+/II4+M+vP91vI4yyyzNLwPdNA8gdVXXz12vn/++efmbTzDLS299NLRcdjAuQx7bp2uOsMxtoJ2R3lNtIIl+5CNwNdff12Ydtppo2vcqquumk3H7ayX77//vrDBBhs4B5uBM7b3Wd671NKXDaArHH/88YVPP/00tj/hiP0ivnDUUUcVbDbU6Bym3VctueSSBfvDhXDVouG77rqroPustPXDafaL9MJDDz1UtH5ygv3jstC1a9fCv/71r+SszMZ32223ivtrA+cy215WHW233XZl99sGzmW1qUz6ufzyy6P9nXvuuTPpk04QQACBVhTI+r1Qx3jnnXcWbPBZdB0N31P9cJcuXQrnnHNO4T//+U8Ry0YbbVR2Xd9HucfDDz+8qF/dA2611VZl+55qqqkKN954Y9G6TEAAAQQ6qoD9IVN0XbRBxR31MDkuBBCoUSDLe8Qs+yp1GPZHm4WFF144up7pPvEvf/lLqcVj07lHjHEwggACNQrYYJ7o2sP3+TXisXibC+g7In2nofdNmwQll/3J6j4gr8+KcjloOkWgCoE99tgjev+wQatVrBFfpHLaEPvKpiGAAAIIIIBA5xEYMWKEOeCAA8y4ceOqOui77747KkWtFfSL0mrXrWoD7WAhZX1TFjUbDGZsEGFNmd7yPDxlfDvzzDPNggsuaC6++OLUTZ1yyinm3HPPNfYWMXW+n6gsMr179za33nqrnxR7vO2229wvqMqVD/UrKFuO/cPMPPbYY35S6qP9kNZ88cUXLsONnpdt0ZTlViXWaQgggAACCFQSyOO98L777jNbb721GTt2bNnNf/fdd8b+aNFcdNFFZZerd2Yya5z9MNhlk7vjjjvKdqlMeTvvvLM5/fTTyy7HTAQQQAABBBBAoKMKZHmPmGVfpbxVSUHVAt59993YIqqAUKlxj1hJiPkIIIAAAh1VQJnm9P3JyJEjczvEZtwH1LLzyc+KalmXZRFoNQEC51rtjLA/CCCAAAIItJGAvvi0WcVcic8rrrjC6AvYappKcYVN5UHnnXfecFKHH7ZZ3aIgsH79+hmbJa2ljlmpuw877DBz2mmnFe3X/vvvb2aYYYZo+mKLLWa23XZbs80227jyb9GM/w7sueee5s0334xN1gejCrZMBt9NM800LkBO5VYXXXTR2Do2I47ZaaedXCnX2Ixg5NRTT3Xl2SdOnGhshjXzzTffBHPzGbQZ/cxzzz0X/Rs9enRLBs4NGjQo2ke/v/mI0CsCCCCAQDUCebwX2mwdLuhM75m+TT755Gb99dc3NmOq6dWrV9F7lO5Jku/TWqeRpnu7vffeO9bFXnvt5UqzhhNVLn6LLbZw7/0qGR62k046ydjMc+EkhhFAAAEEEEAAgQ4vkOU9YpZ9lYK/+uqrjT73Ce8/p556ajN06FBz7bXXllotms49YkTBAAIIIIBAJxJ4++23ja3EZJ566qncjjrr+4A8PivK7eDpGIEmCEzRhG3kvoljjz3W7LDDDlVvR5lDaAgggAACCCAQF1BGEwUJ+VZtlq0llljCZSxTRrPZZpvNKNjJlqT23XT4xyeeeCLK7qKAOd2XVGpZ3rvoi2gF66lNmDDBfPLJJ0b7dNVVV5nx48fHdmXAgAEuKO5Pf/pTNN2WczWDBw82yjynD0iVOc83fVCqD0cPOuigKChOQWznn3++ufLKK/1i5rfffjOzzz67+fzzz9206aabzn2guummmxp9wKqmoDrt0z777OPG9Z8tIWuGDx8e7X80478DCrbT8rbMp/nwww9d8F81H9Qm+6llXIGgK6+8ci2rtMmy3bt3b5PtslEEEEAAgXSBPN4LH3jggVjQuC3Hamz5crP00ktHO/HMM8+4QDV9gKqmLLjKBrz44otHy+gHEfoQt5qm92tbej62qILx/Pu5Zrz++uvm73//e2yZM844w2W885+3aHsKwlfGWt90j7jjjjuaRj+c9f3xiAACCCCAAAIItLpAlveIWfaV5qYv+21ZuejzHy2j+zZ9brPlllumrRKbxj1ijIMRBBBAAIFOIKDvT4YMGWJOOOGEWFWmPA496/uArD8ryuOY6ROBZgp0iAiy+eabzyy77LLNdGNbCCCAAAIIIBAIKEuX/nW2pi+Xddw+05o+YNSX2pValvcuc8wxh5llllncJvWooLj11lvPnHzyyebEE080Z599drQ7+kNOpVuvv/76aJoGlC1OmWsU8Ba2ySabzM0bNWqUueaaa6JZGg/bTDPN5Er07rLLLubBBx80d911l9uHcBkFYipbzeOPPx7LOPPSSy+FixUNq+ycAufUtN8KEuS+r4iJCQgggAACbSyQx3vhI488EjsqvQeGQXOaudpqqxkF0YeB+6+++mpsPd136F817Z577oktpizC++67b2zapZdeGhvX+7uC68Km4HeVENF79g8//OBmvfPOO65kiX6FTUMAAQQQQAABBDqDQJb3iFn2lbT/7LPPXHIKfSkfNv1ospqgOa3DPWIoxzACCCCAQEcXeOONN4wyrT777LNNOdSs7wOy/qyoKQhsBIEcBSjVmiMuXSOAAAIIIJCFgL4M1a82aa0noPK2L7zwQrRjW2+9dTTc1gPK+HLWWWcZlUkN28iRI8NRN6ygtmTQXLiQyqSGTdljkh+mqtyrPJS1UIF7pdpaa60Vm/XKK6/ExpMjCy20UBQopwBFBQPSEEAAAQQQaEWBrN8Lv/jii9hh6j0xrYWZZDV/zJgxaYtVNU0ZaMOmX02HZVe/++47c91110WLaN6FF14YjYcDCp5L3ocoix4NAQQQQAABBBDoTAJZ3iNm2Vd4Dg4++OCiqgXKKKyyrdU07hGrUWIZBBBAAIGOIqDKOvqhYLOC5rxbXvcBvv9Sj5U+Kyq1HtMRaE8CHSLjXJbgL774ovn3v//t/ulL4ZlnntkstdRSpmfPnkaluxZccMGym1M6a62vpi+s9YeFSpp88MEHrjyZvhxWWTKVM1tggQXMXHPNZX7//feoz/3339/MOuus0Xhy4M0333S/2tYvupVhplxTis0vv/zSLaKMMeEvwLUPKuOmY9Q/lXWbZpppzGKLLebKk+lL7W7dupXr3tXpruVYdWwq55dsKikzYsQI8/TTT7s3mB9//NEsvPDCbl/69u2bXDy3cW1XX8jrvE011VS5bSfsWGV29JxREMO3337rnmd6o11uueWKMgmE64XDWZzLsD8NT5o0ySgDkIIf9E8BO3oOLbPMMm7flCFApf3qbSrbc//990er68sWvVZuuukmV4rPz2jW60Hby8Kx1td/q7wm/va3vxn/pZzS76sko65VOke6Jqo8ol6Tug7qn7Ja6OasVMvKoZHrcdbHFB5rFs+VsD8d52OPPWaUGURfcs4444wuI4iuA8redcEFF5jTTz/dZdzSF43LL798uLobbnSf9NpTiU29H4TtxhtvdNnBwmk77bSTK8eqaTfffLN77YTzNbzuuuuaJZdcMjm5aDyLc6xr04EHHuiuUSpNpvcT/0/Pa5Up0/N2iy22aOi6VbTz/50Q/ppW9wg6b63W9F4allN77733jDLPya7apvuVsOl9Mq3MmvqsdP+gUq9hq+Y9VwGJer6o/fOf/zTjxo0zpYIHwr7zGFY5W18OT/dzKjlXrunX2Xpuqun1rcx+yabzoaBD3QuNHTvWvR7nmWces8giixjdk62//vru/iS5HuMIIIAAAq0nkOV7od4Lwqb77N133z2c5Ib9e6SfMeecc/rBmh6VMdb/ja8V55577qIvS3V/6N8HtYzu+8oF3ytwbtiwYVrUtWZ/qOy3yyMCCCCAAAIIINCWAlneI2bZl0weffRRc8stt8R4Nt1009j3SbGZKSPcI6agMAkBBBBAoMMKqOrOzz//HB2fPvfXd1H6birvlvV9QKX9reazokp9MB+BdiFgA4Vyb7bEVsFiuH9rrLFGw9uzJdGi/tTvJZdc0nCfNsCssPnmm8f69fvsH21AVcEGLxRsoFvJ7SX3zQanuf3Tur4f/2i/cC6sssoqselDhw4t2bdm2A/J3fKnnnpq2eVsoEvBZo+J+l5ppZXc8u+++27Bpg0t2EClaJ7fn/BR+3bEEUcU7AfiJbdT67Ha4MGivuwfZQUbKFhyX6affvqiefaNqKifLCbYgAe3rSmnnLLscde7LVtSJ3Ys9ovw2Hjor+GtttqqoOdlqZbluQy3Yd8ACzZAouy+6bllU7QXbCBnuGohPEY5pjUbyFKwQRWx/u2XLYVffvml0KtXr9j0vF8P2r8sHdvrayI8b3ru2exmhbRrln+O2vS9Bb12S7VGHbK4Hmd9TFk/V9Sf/SVmwQYpxq7V3tg/2gDF2GvC3ny79bx9Vs9fGxQb247fftpj+Lq0AeWp69ngbr+LqY9Zn+Pbb7+98NVXXxVK7Y+Ow6axLtgPAVP3p96JNui8YP9IiQwOPfTQkl0lXxeN3LvU2pcNMov2URa6httArpL7mjZD7w3h88H+qCBtsaqm2S/QY33ZXzVXXO/ll1+OrWPLzVZcp9oFbCBbrO/hw4eXXTW8v7KBrGWX1UxbPjfqX+9/yfbMM88UevToES0TOvth3SsdddRRyVWLxv3yetS9Xis1W243OkYbiNFKu8a+IIAAAk0XqPa90JZJj66durbrPciWUi3aX33OEr4HDBgwoGiZShNsEHcheU94/vnnF61my9LHtqXre7n2/vvvx5a3QeHlFmceAggg0O4F9He7vybbDJ3t/ng4AAQQaJ5AtfeI1exRtX3pHtD++DW6bun6pe8GbOnWajYTLcM9YkTBAAIINCgQ/h2sz1VpCLSiQPg+u8MOOxT0XVH43NX7qd4b26qF+6d9qeY7mLR9rfazorR1mYZAswX22GOP6J62T58+NW+++lQj9lXVUZuyeyiT1j/+8Y+yh6iSZP3793e/qFaGtmqaDTAwSnOdLGemde0JK/r19m233Vay26+//tpl99ECyl6S1qdfWVmA7LPBj5o///nPbnjfffd1me/CKOhooWBAWfDsh+Rms802C6aWH6x0rKqVHbYhQ4aYDTfcMMqKF87zw+Ev2f20vB9//fVXl4kn7+0o21y5pswzNvjHlFou63NpA1nMzjvvbGxAnMtAWG7f9NxShHmlLDvJPvSctW/WLpuOn6fyPbfeequxgXbR89TPy/v1oO1k7ej3XY/t9TUxcODAstcXZaBTGUYbFB0ebsnhWhzyuh5ncUxZPldUvkCZ45StLLxWJxHDzFzKgHrDDTfEsv1luU/Jbec1nsc5VunOddZZx4waNarkbn/zzTdG5UbvvffeksvUOkO/xlWmMN90L9GK7eOPP47tljLeKtNnLU1ZbMOmDH71tuSvrlZeeeWKXakEXZiZTlkSO0J76623zCabbOKyu5Y7Hr1HU665nBDzEEAAgfYlUO17oTL9hlnndN9of2BlLrvssuiANaxMdL4p4739cNaPVv149913u6zjfoWuXbum9qO/BcJmfwwYjhYN63MA7ZNvNpAulnXfT+cRAQQQQAABBBDo7ALV3iNW41RtX8qYk6xAYYN+o2oT1WxLy3CPWK0UyyGAAAIIdBQBVcRRdRz7Q3xTb+b/vCyqvQ+otP1qPyuq1A/zEWgPAh0icE4fHlf6V+pkqIyb0k6HN/b6MnmjjTZyQXIKekuWxVOJU02vpqlcoG8qb6myKj6A7JBDDjHbbLONCxjyyygttgLk0pr+YFE5UbXx48e7kl5py2la+IWySqnZaGe3aHK/lc5TF3YFwShIK/xSWis8/vjjLqjJrVzhv0rHGq5+7rnnGpuZJxaco/1UWVwbDeqCG1rtTSbc/6yGVdJGX3zYLIBGXzhMO+20sa4/+ugj9/zU+U62rM+lnovhOdT2unTpYmwWOFe6UwFvSjNrsxy4XdHj2WefndytsuOHHXaYS/3uF7K/FjE2Y4IriaxpzX49aJtZO6pP30LPtNe/X06Prfaa0JdbvXv3dj4K6kiWXtQ1V/tsM32Fh5E6XK1D3tfjRo8py+eK+lJZ1rDJWwFgxx57rCvlHc7TsM0EWBTMnNU+adsKhE2eZ12XND38p9KRvml5mynLlfL108o95nWO33jjDWMzkrlNq+z4xhtvbFQKec011yzaHZuBpWhavRPC91r1oeCualul+xbNz6olS6LVsp96/1Epbf0B6JvSjtustH60psc777zT6Atz3/Ten3ae/Hz/qDLq3bt396OunLTOe3tvKsWsoM6w6XUlc5WnDUvkNhKsGPbPMAIIIIBA2wrU8l6ozyb0AazNnBvttH7oZbMWu7/TFNh++OGHR/M0oHvJOeaYIzatmpHBgwfHFuvXr1/R36daQH+jhk0BduWa/m4Ml9H+J9/7yq3PPAQQQAABBBBAoDMI1HKPWMmjlr4uvvjiWHf6jEY/5D355JONfsTRt29fc84555j777/ffPvtt7FlwxHuEUMNhhFAAAEEOrrAGWec4X4Mr+/WWq3Vch9Qad+r/ayoUj/MR6BdCNgvZnNveZdqtdBR2r1Sw/bD5NTjPPDAA2PrKu3rk08+WbSsDRCKlWPTdlRaK9mS5dO0nEpl2cCRaFGltXzxxRej8WSJWKXyTGtLLLFEbF/XXnvttMUKNntJbLn1118/Wk7bXnbZZQs2YKtg/+Ap2EC8aJ4GVPZvtdVWi61fqpRKPceqbdgv4QvJEqwLL7xwQWXYwqaSrCpXmjyneZdq1fZUQjHrliwdqXSRNkgytplPP/20YL8oLzpmmzEwtpxGsjyX1157bdE2lcY1zeHf//53wd4IFPS6TrbwGJOlWsMSbTLW/LRyn818PWTt2F5fE+F507nZYIMNCjaYOHl6C3qehCUHtazNGFiwX37Flq3XIcvrcdbHlOVzRe8xsgv//eUvf4kZ6tqga3y4jA1cLSoVnuV1QDugEqvhNpPX5dhOBiPJMpqlSrXmeY613/aL4qL3Nb3/huVUtVza+3xwOFUNquyYyqWFXvYDxJLrpr0uwnXThkvduyT7Klf2VSW1kyV/tX6lZrMZFuaff/6CSreH+6Z7mkceeaTS6qnzVereBu3F+lOZ1GpbMr34KaecUu2qZZdry1Kt9scLMQ/db4ZN9zyDBg1y9026f6rUkueq0vLNnB/eB1CqtZnybAsBBFpJoN73wldeecWVzAqv82nD9scDRfeL1Ry//cFc7P3I/oCqYIPbUle1WZBjy06aNCl1uXCiDX6PrfPBBx+EsxlGAAEEOpQApVo71OnkYBBoikC994hpO1dLX/ocy/5QMXaflnaP6afZH2cUbBWatM0WuEdMZWEiAgjUIRCWu6RUax2ArNJmAuFzV++dbVGqtZb7gEpQtXxWVKkv5iPQDIFGS7UqU1vurVUD52wK6qIvhEeOHFnSQ1/I+z8S9LjGGmsULZv8MlvLXX311UXLhRP0pX7Yry2PGs52wzbLXWwZv7yOIdlOPfXU2LLJ7Y8ePbqgL/xLNX0xazOfxfpIC6Cq51i1TZt1L9b3CiusUBRA5vdNATnJL9k7QuBcMqjMH69/tBmRYkY633oOJFsW59KWfyvMNttsse0dc8wxyU1VNR4GK4XHqDdXjfvnrR6TgUJ+A81+PWi7WTiqn/b6mgjPmz4sUTBWqfb2228XnUub6SK2eD0OWV+Psz4mf4BZPFcUBBO+FuyvN333scexY8cWbJa82LKalmxZ7JPvM8/AuTzPsTxtmTJ/GEWPNrNszNGWOy9aptYJNkV1rE+bGaxsF2mvi/B5kDbcSOCc3j9tad9CMjBLwX62BHjZfdVMmyUzdnzav1I/LqjY2X8XGDZsWKxPvS+kPadL9WezLsbWtxnYSi1a0/S2DJyzGXhix1TqPvSHH36o6pjC55GCHFupETjXSmeDfUEAgbYSqPe9UO8DtuR87D0jvOZr2GZvL/zyyy91HZoC7sL+dN+S1n766afYDxJ0r1pN69mzZ6x//diPhgACCHRUAQLnOuqZ5bgQyE+g3nvEtD2qpa/kZ1vh/WC5YVtJKbZp7hFjHIwggECDAmHwEYFzDWKyelMFwueu3kfbInCulvuASjjVflZUqR/mI9AsgUYD5zpEqVZ78amrXX/99cZG3kbrqjzriiuuGI0nB1QORaXCfHvqqafMV1995UdTH23whrFfyKbO8xNVekslO3176KGHjA1U86PuUSVY0tqll15aNNkGHkXTVNpFpb7CphJtNotMOCk2rLJgyXXGjRsXWyZtpJpjff31143NWhVbfciQIbHSM+FMedtfK4WTOsXw8ccfX1TyzwZAFB17FufSvomazz//POpbJXJtFp9ovNEBPXe23XZbo5I8vtkvYowN0PGjscdmvx608SwcYwfx35H2+JpQKSX9K9VUKlElBMP2wAMPhKNFw9U45Hk9zvKYsniuPPfcczGjUu8RKqOdLGFpg4xi62oki30q6jSHCXmeYxuAZQ444ICSe61Ss2GzWU7C0bqGk3205XuV3vftjxTMaaedZlQGvk+fPq587i677GKS798qmZ18XlULoJIc9o8/YwOuq10lWs5mo3FlPqIJdkBlyvU8r7aFZeq0TvIcVNtPKy0Xlj7WfoX3cOF+qgQxDQEEEECgfQvU+1742WefGZs13txyyy1lAWxWOnc/8Ntvv5VdLjlT5e7Dkuwqo37ooYcmF3PjNjAvNt3+4CY2XmpE92phsz+GC0cZRgABBBBAAAEEOq1AvfeIaWC19pX8jDLs0/5AwtgKSMZWMQgnu2F9n/Pggw9G07lHjCgYQAABBBBAoM0Ear0PKLejtXxWVK4f5iHQngT+FwXWnvY6sa8KyrHZ3xJT46P6oDnZbOak2CQFxpVr8803n7Gl84wtURYtZkubGhvxHo0nB7bZZhtjS8QlJ8fGFTS35ZZbRl+W6kPke+65x9jynG45BTXdfvvtsXX8iAIRzjrrrOgPGFtG04THtckmmxj7S0e/eNGjLQdobBYg88477xgdi7ZlywGajz/+OLasgjXsL9hj05Ij1Rzrs88+qyyH0aq2FKtZZZVVovG8B/RHnAJ/0gIe9Ybim4IH04KH7r//frP66qv7xXJ71BcLp59+eiyA8Y033ii7vXrPpc1WFev3uOOOMzbjYGxavSPff/+9USDcF198EXWh56QtRReNJwfa8vWgfanXMXkcGm8Pr4m0/a40TdfKoUOHRoulBXNFM+1ANQ7hdUvr5nE9DvcpOVzrMWn9ep8r+vIzbPPOO284GhtOzvvkk09i85Mj9e5Tsp88xtvyHCcdswi4SvZhS5DXxFbvvUvaRmzpeKN/lZre388888xKi7n5CqDX/cOrr74a3RPoxwY2i62xWdHMww8/bGyJjqr60kInnHBCLNBN1/r+/ftXvb4WTBrbktI1rd+KC+tHG+EH1RdeeKG7R9GH0LZMXivuMvuEAAIIIFCnQD3vhfpsQH8z2wxt0Vb1d+o+++zjfmCm940wCO2iiy5yy+rzBAXAVdOSf5vp3r3UD+2mmmoqEwbLhX/bl9tW8svUZDB8uXWZhwACCCCAAAIIdGSBeu4RS3nU2teECROKutJnEbqn7Nu3r/teS/d+1113ndl///1j9536oYV+uKH7Q+4RixiZgAACCCCAQNMFar0PKLeDtXxWVK4f5iHQngQ6ROBcr169KgZZpJ2U5Jf4ytpTqS244IKxRRRsVi5L3WKLLRZbvtSILdUXBc5pmdtuuy0KnFNGsPDD8IEDBxpbrsx1pcAkZXA7+OCD3XgyU4kPvnMzg/8UOKaAu0suucTYsi/BnPTBMPApfQljqjlWZZwLm74wbmZT1rNksEPa9sMgunB+mKEwnJ7H8HLLLRfrNmnnZzZ6LpMBeVkFBuqPamU7UmBm2BZeeOGKwaTNfj1o/xp1DI/RD7eH14Tf11oedQ7DVilwrhqHZlyPw31ODtdyTI0+VxSYGzYF//To0SOcFA3b0tnRsAaSAWB+ZqP75PvJ87Etz3EywKua971KFsn3kmRQV6X16713qdRv2nwFQ+sDTVuG2+gXw9W0o446yuifruXKbnviiSeaiRMnulV1XVfg35NPPllNVy6oT/cbYbMlyc0888wTTqo4nPyVszLf6VxmFexdcQdyWEDnRPdx7733XtS7PpC+6667zL777muUIbBWp6gjBhBAAAEEWkZAAe71vBeee+65seB4ZWRX5jlll1VT9lZl8rZl2KNj1Y+99GOoc845J5pWakDvPzfffHNsti0VHxsPR5TRXoF7PmBOf19X814cfp6h9ZP3ZuE2GEYAAQQQQAABBDqLQL33iGk+9fSV/HGv+lXVm8033zzahJJC7L777kaZ8MOKDvphhyonbbrppoZ7xIiLAQQQQAABBNpEoJ77gFI7WutnRaX6YToC7U2gfCq09nY0NeyvvghWljXf9OFtqYAEv4we55577nDUZWmLTUiMqOxlNU0BZGHmOn3YrQ+g9YH0lVdeGXWhkofK0LLMMstE0y677DI3rGMKP/TWr4M222yzaDk/oD9+VBpN0cJZBA/4fqs51mSQlrK/NbvpD7m0f+F+6PmQtkyl7IFhH40O61f+YWk2BcYkAxizOJfJc9KtW7dGd92tryBDffGfbHq+KjNiudbM14P2IwvHtONpL6+JtH0vN01BKl27do0WUTBNudKNlRyadT2OdjhloNpjyuK5smAiAHv48OEpe2Tc6/3pp5+OzVtyySVj4xrJYp+KOs14Qluf4zwCq5KZWWsNnMuYONadfumrYND11lvPBb8pyF+Z5uopJ6v3PZV/vemmm2LbULl63atUavqiXF/q6zngm7IA9+vXz49W/RiWtfcrffTRR36wXT7qufnEE0+48ifhAagsrgIeVMpVQYv6oQQNAQQQQKB9CtT7Xqi/1ZVRLmwXX3xxFDSn6fp7Wl9YKlNs2LReNZlZFcwX/jhM2eArZYQP/0bVNvWeVanpb1nf9LmH7lVoCCCAAAIIIIBAZxao9x4xzazevpL3ZPohfxg0F25r++23j30npXlhVmTuEUMthhFAAAEEEGieQL33AaX2sJ7Pikr1xXQE2pNAh8g4Vw+4vsD1v5LW+hpWoFSllszU8t1331Vapar5Ks2p7C0+SE4fkt93331GJUzCAD99ea2mzDF77rmnG1bg06OPPupKsYRfIKukS3J/VfJVvxAKPxxXCRf9Yl1BeQrWUnDWnXfeafSleNZtzJgxsS6TgYixmTmM6Ev3n376KbVnBRMqilpNH/4nM9u4GU38T8F72t8ff/wx2moYuJfFuVRmvW+++SbqXxkMwgDOaEaGA3ruKYvOiBEjSpYPatbrQYeVhWMjPG39mqh335MfhqhE6KyzzlpXd61yPa50TFk9V7bbbrvYl6Aqua1fbPbu3Tvyk8nRRx8dC5ZRVtQwYFELZ7VP0YZzGmiVc5zl4SXLn4X3FFlup5q+lI1GzyEFsSqAT++t4ftFNX1UWka/INZ9yq233hotqiy34fM2mhEMKLPcm2++GU2Rm+51kn7RAjUOZNVPjZvNdHHde+k9cdCgQS4bUZj1VvcsZ5xxhnNXedz55psv023TGQIIIIBA/gL1vhfee++9sR9OKUhuv/32K9phfeGpH9AtscQS0WcHv/32m7nmmmvMySefXLS8n6D3m6uuusqPusdqAtt1Pxpm3tXfAcmMymGn+gA3/JFNpR/VhOsyjAACCCCAAAIIdFSBeu8R0zzq7SuZSGKFFVZI695N03cVm2yyiXnppZeiZcLAOe4RIxYGEEAAAQQQaKpAvfcBaTtZ72dFaX0xDYH2JtBpA+cUIKSgtDAdtYKlZpxxxrLnMFk2T8FWWTWVVfWBc+pT5VpV+sQ3BaXsvPPOblSlLFXey2cgUxm12WabzS8aLRNO0Afau+66ayxobq211jJXXHFFUaYTBY3lETinLHhh++STT8ziiy8eTmL4vwLJLxiUKcgHtWV1LhWYpz59BgB9waLXxOyzz57ZeVCZzgcffNAFV/jsdi+88IJRtoRyZYDyfj3oALNybASrPb4m9DwJr4UK0GkkmKMVrseVjinL58pqq61mVBLZZ5NTUJmCkg488ECz5pprumA5ZZF77LHHYk+tIUOGxMaz3KdYxzmMtMI5zvqwkiXGsszgWuu+Kki+GeU811577VjgXDLwN7nfL774YlGZOP0AoNwHsck+wvEwoMxP7yhfvuu+a/DgwS5D4Pnnn2/0T/cBvqnUsTIIjh492ii4nIYAAggg0D4EGnkvfP3112MHqQD2UoHxutfSj+v0zze9Z5Rrut8Mf0SlzxP047tKTZ+BhIFz+vJUP/Ao1caNGxeb1VHeu2MHxQgCCCCAAAIIIFCDQCP3iMnNNNJX8rMkfV9WriW/C1OFA9+4R/QSPCKAAAIIINA8gUbuA9L2st7PitL6YhoC7U2g05Zq1YlS+auwhYEg4fRwOFnuJNlHuGytwwqYCP9YUfk+Bc/5ts8++0QZ5PQlubJ2+aasQ0OHDvWjLvBp/fXXj8Y1cN1118VKs/bs2dPcc889RUFzsZUyHkmWZk1+iJ7x5tp1d8oeGGYwCu2yPJfKTBC2MMNhOL2eYZUKfOSRR1wmQwVo6pdpvp100kmxL1z8dP+Y9+tB28nS0e93rY/hedW67eE1oedmmLVSQXPVZOwsZ5O8ljb7elzpmLJ+rihrl7JM+abgOaU/3mGHHVxZy2TQnLKLrLvuun5x95j1PsU6/++I9iur1tbnOKvj8P0kv/RNC+ryy3aUx2Q2mfBL8+QxKhhVmXH16JuuFQMHDvSjNT8mgxMV/K1/bdmyfI3oOPQLbWWYUxDCqquuGjs0BSpee+21sWmMIIAAAgi0rkCj74Xvv/9+7OCSGUFiM+3IoosuGpuULCsfm2lH9EOmsCkzfbJcVzjfDy+44IJ+0D0m71tjM+3I888/H5uU/PsnNpMRBBBAAAEEEECggws0eo8Y8jTaV/L+Mvy8N9yOH07OD5NQcI/olXhEAAEEEECgOQKN3gek7WW9nxWl9cU0BNqbQKcOnFNQT9hUJqtc0xe2ySxsyUCAcutXmqdfj6vUWlpTKTJlIwqbxvXL8rS2/fbbF5VBu//++2OL6ovZZpcjTX5IXulD9tgOd7KRZ555JnbE4XMty3OZzPj3wAMPxLZb74iezyoh7INBld3QlxdWnwoyOeigg0p2n/frQRvO0rHkgVSY0R5fEyobFbbkMYTzqh1u6+txpWPK+rmioKvnnnvObLjhhmWJlFlKgUYKPE22rPcp2b/Gw7JaafNrmdbW57iWfa1m2VbKOFfN/maxTPIL/HIBs2eddVasfIe2r+y4KiVbb0sGJyaDF+vtt9b1woxvEyZMqLh6GARfceH/LqD3Zt1zLrfccrFVkvehsZmMIIAAAgi0lECj74XJ97nkj/iSB5sMaC/3nqsfN4UZ7fQDp/CHecm+w/GllloqHHV/88UmJEaSf18qez4NAQQQQAABBBDorAKN3iOGbo325T+3930mP/fx0/1j8gff4fcK3CN6JR4RQAABBBBojkCj9wHJvWzks6JkX4wj0B4FOnXg3NJLLx07Z8r2U64NGzYsKmmp5ZS6upHyhGnbUnnKtNanT5+ibekPm2222SZtcZPWT1iGRSstu+yyqetqoqKU82gq2xm2v/3tb+aVV14JJzFsBfTrrUGDBsUswswzWZ7L5Ovg3HPPNZW+lIntWIkRBXuGGbW02Nlnnx0rA6uMh7fcckuJHkzq81gLZ/F6UD9ZOqq/elp7e00ogPj000+PHeryyy8fG69nJPk8bOb1uJpjyvq5ogAgOfpyrd5MWT70C00F1Gm+vgDt37+/nx17zHqf1Hkyy0gW1wK/0215jv0+ZPmYDJxLBnVlua1W6SsZYFqq5KrKciczy6m83Oabb97QoSQzziXPQUOd17ByWJpEgXPfffddybX1x6bKKtfTFEC+2267xVat9CF2bGFGEEAAAQTaTCCL98JkBrm77rrL/PrrryWP6e9//3tsXqn3aS2U/AXxOuusU5SRP9ZZMLLBBhsEY8aMHTvWZRmPTfzviO5lwyz63bp1M8osTkMAAQQQQAABBDqjQBb3iN4ti770mW6YNU4/ePjqq6/8JmKP+r4oeb8ZBs5xjxjjYgQBBBBAAIGaBV577TWjuInvv/++4rpZ3AckN9LIZ0XJvhhHoD0KdOrAOf2ievbZZ4/O2wsvvGBUuzmtqTyWMrSF7fjjjy/K6hbOr2dYmUWSH5Crn0MPPTS1u7Tp+kI3DLLyKyaz/bz77rt+VuzxySefNCqjGTaVMcyibb311lEGMvWnEmd77713yZKd+mLg888/z2LTFfvo0qVLxWWyWkDH/emnn6Z2pz9CTznlFPPWW29F8/UFg0r1+pbludxrr71coI7vW4EJu+66q/nkk0/8pKLHkSNHmiOPPLJoeqUJs8wyizn//PNji+k5nAwA8gvk+XrQNrJ09Ptc62OrvSaUGSkZnOKPSTdreh6GGZaUtfKII47wi9T9mOf1OItjyvq50q9fP3PZZZe5zIt6Dtx3333uWvfzzz+7cr36oOrEE080yUwjIXDW+6S+k+8/N954Y7jJhobzPMcN7VidKy+wwAKxNcPXRWxGOxj56aefjD7sPOGEE0oGzv/1r38tyiiTLAmvQ9X7m7KL6rnsmz6ETf7R5efV8ph8X0oGZ9fSVyPLhhlgdX254IILUrtTJh+VvSvX5KSgwlKZ5F5++eXY6uWy/MUWZAQBBBBAoM0EsnovTN6X6UPR5N/p/iD1N9bDDz/sR93jKqusEhv3I5999pm79/Tjeqw225yW7dmzp0mW9VKgd/JLVv2Nt8kmm5gff/xRq7mm5ZTdjoYAAggggAACCHQ2gazuEeWWVV/KULzffvtFp2LixInm1FNPjcbDgYsuush9Zumn6UfzK6+8sh/lHjGSYAABBBBAAIHaBPQdQ+/evd176c477+ziKIYPH16yk6zuA8INNPpZUdgXwwi0V4Ep2uuOZ7HfCvjQB8+HHHJI1F3fvn3NO++8YxRMpGxyChRROVGNhwFc+rI2LWgt6qiBAWWLC/9AWWaZZYzKXKa11VZbzeiXQQr6861U6RP1EwZBqNSrsn0tscQSblUFcmn8qKOOin3hrZmvvvqq776hx2mnndZlUdpjjz2ifkaNGmWWXHJJM2DAANOrVy8XuKEvklXmUxnK3n777WjZPAeU+clHcZcra5PFPiijnI5ZwWc77LCDexNUqnN9yS6H5BflSrcaflme5bnUOVF2r8022yw6tCeeeML06NHDZQxSRgBlRVNgxYsvvmiuvvpqF2CqN3J9EbLeeutF61UzoDf9a6+91jz00ENucQWbHHfccamlKLVAXq8H9Z2lo/qrp7Xaa0KBm8oMNnjwYJcNYuaZZ3bXRJ17BXK99957scM8+uijYwHIsZk1jOR5Pc7imLJ8ruhLRAUh+TbXXHOZ8ePHm+uuu85Z65qnYGXtt4KzFDi7yy67mLXXXtuv4h6z3CffcbKsgr6A1XVKr1EFP+l6/a9//ctdL/SlaS0tz3Ncy35ktezqq69upptuOhf8qD6Vce7jjz+OBYdnta28+9EPAxSsfeaZZ7qMMXq+KXBZ74XKIqNrtrLchE1Zd9MyyClATmWIwzbNNNOUzJwYLqd7sOTzPJyfvB/YaKONwtlNG9aPE8Lse8oOqexwCjpQFjy9fq+66ioXKF4uG512+O6773aZeJSNZ4sttnAlzBXooHtOlWO++eabY8dFlp4YByMIIIBASwpk9V6ov/MVrK3PJ3zT34XK2H7AAQe4Hz/pb0i95+j9JGz6vEJ/W6e1m266KRYor/d7vQfV0nRvePDBB0er6B5o3XXXdT+y0d8SuhfQjxJHjx4dLTPFFFMYvdfTEEAAAQQQQACBziiQ1T2i7LLsS99x6QeBPrPxkCFD3Oe/hx9+uPuRpT671+dCCpwL2/7771/0A1zuEUMhhhFAAAEEEKhO4MEHHzRKpuGbvlM47bTTzI477ugnxR6zvA/wHWfxWZHvi0cE2q2ADX7JvdnAioIFcv/WWGONhrdnv8SP+lO/Nuin7j5/+eWXgg0UiPXn91WP9pczRfPsl6MFm5Y6dZvJfbMBSKnLlZtov7yObdN+EF5u8YL9wyW2vA1yS13+iy++KNgvdGPL6ljsL9kL3bt3j00PDTRsy/cVbCBbrN96j9UGjRVWXHHFsttLbj8ct0F1sf1oLyP2C4SSx2x/dV9yng1OKzrErM+lNmAD1EruQ+gfDttsQ7F9C49xyimnjM0LR+yXP4Wpp5462p6O32bbCReJhvN6PWgDWTu219dEeN7C81tp2AZUFmywaXSu/EC9Dllej7M+piyfKzYgrmADiaLnfyVnP98GKRVsAKtnzvz5q47tL1UKNigodd/C69R5550X7YcGbLBvbB2bSTQ234/kdY7LXW+0bRvwGds/m+HL71JDj1tuuWWs3+T7ZNh58nXRyL1Lln3ZL7rde7x/nlXzqOeCDaQLD88N20y2BRsMHDOppj+/zBVXXFHUZzjBZtSN+tb9i/0VVDi77mGb/SbqV/tif81Vti9d9+aee+7YOv4YbFBA6nQ/3wbCxvrWe7yfV+lR1w0Zl2thHzbgvtyiTZ93+eWXR8cqPxoCCCDQEQWyfi+0PzaKrp3hNb7csN4jy30OYQPyYn3aH97VfCr0N7k+2ym3H8l55557bs3bYQUEEECgPQrYH51F10f7A7n2eAjsMwIIZCyQ5T1iln35w7TBc9F1K3kPlzbetWvXgs027FePHrlHjCgYQACBBgSuueaa6Jpkq1g10BOrItBcgfC5q/dPm9W1qh2wwerRcz58333//feL1s/jPkAbyeKzoqKdZQICTRawibui11KfPn1q3nqnLtVqLz7GftlunnnmGaOSIWlNmcHCpsxAypS13XbbhZMzHVZJFv26XM3+EeIybpXbgDKW+ZKzygCkTGZpbdZZZ3VZjnTMvimdpzK4qBStb5qvUi9hRj0b7FBT+RbfV9qj/SDfZbQpFSmdtk5Hn2ZfuUWHqF/kK4vNP/7xj6J5eZxLZQTQr8tsQFvR9kpNUNk8/2u0UsukTVeJybDMkI5fmXr0PEu2vF4P2k4ejsn9r2a8Pb4mlDnw+eefdxm3qjnGapZp6+txuWPK8rmiUga6btfadC0Iy+JmuU9+X2xAlMv+qOxwyRZep8LsIcnlyo239Tkut2/1zEtmZwlLbNfTX1uso3Ot8tw699U0Pe+GDh2amplGpZxLlXqupu9yyygTrf1DMVpE5UBmm222aLyZA8o0eOmll6a+XypTpG/KFKssrSpTntZ0D1aqRGtyeb1PKCulMlDSEEAAAQRaVyDr90KVRT/llFPc5xbVHLUywl555ZUlM9Yrw3mYrV59br/99tV0HVvG/rDO/U1fqSS5X0lZ/m3gvx/lEQEEEEAAAQQQ6FQCWd4jZtmXPwnKJqcqBPrsoVKzP2o099xzj1GVkmTjHjEpwjgCCCCAAAKVBZLfM2kNVZxSNYFky+M+IKvPipL7yjgC7U2g8p1wezuiOvZXX4AOGzbMfSFpM6EZlRRLNpVt1RfLKouiEiR5N19u1WbtSf1iNty+vphVamw1lbUs11SOc8SIEa5OdnK5Ll26uA/YVbJUqbjtL8JdTW3/ZXo9AVLJbfhxfVGvtJ/68l2lARUklmwqIXvfffe5fdJ8/y+5XHsbV9nTL7/80pW91BcbyaZAgA022MDoPKg0Zqk/WLM+lzrP/fr1c+VYVX7PB2Mm90/Pt0033dQodexrr71W8kucSuVuVeJT5WB90xvz9ddf70djj3m9HrSRrB1jO17DSCu9JnQ90fUg2XStVAlB+6sJV3qp0jlOrl/NeF7X4yyOKcvnymWXXWYGDRrkrn/6oEkle3VtUOnJww47zJXKPfbYY11JhNBN6+n64VuW++T71DVZpXkVmJTWFFz7448/ps2qaloe57jW52Kty5c6MF0L/XuklkmW2S61XitN17VHpYNHjhzpru0K2E9rKkF6wgknGPuLJleGLW0ZBdM20sqdF73fKNDMt7QysX5eMx7tr1Xc+V5rrbVizwFtW8+J3r17myeffNKoNL2e876Fx6j3d733KSBinnnm8YvEHtWXAm11/DZTYmweIwgggAACrSeQx3vhqaeeamxWefd3i/4WS2s2u5Gxv2R2P4jba6+90hZx0/75z3/G5ul9f+ONN45Nq3ZEX4zq7wKVCNF9Y9oPsJZddlljs/W7Zartl+UQQAABBBBAAIGOJpDlPWKWfYXOKrOqe0V9UR8mXvDLaJp+dPzSSy+V/MxQy3KP6MV4RAABBBDobALhZ/869uR4KY9evXq57wB8PIC+ixkwYEDq4nncB2T5WVHqTjMRgXYi8AflqMt7X4855hhzzjnnuM3Ych7ui8S8t9lI/8oypyxstjSfUeYQW/KvZLaQRrZTbl0FRqietQKoqsmoUuvy2vaHH37o/tBR9iNlqUuLXNZyH330kXnjjTfcr4hWWGEFTcq82fKDLijRlowzCy64oLGlY6t+Q8l8Z3LqUEGA33zzjVFwpo7Pt/fee8+MHTvWBQZqurIa1tryOpcTJkxw50VfguhLmgUWWMDoDTsMFKl1X+tZvtbnd63L+33Ky9H3X8tjM18T+kDEB/zoQxBl/tNbwwcffOBe+wqs0XlXpsBmn/t6r8d5H1Oznis6fn2ZqUynvj3yyCOpAdx57NP48eNdYI9u2PWFrN4nqnlP8vtazWO957iavpuxjDLB6JyoKfhJ56HZr5Osj9O/7+t6oGxpynJW7R95We+L7+/kk082AwcOdKMKpNd9ySKLLOJnN/SobDm27H3Uhy3VWlNWyEmTJpk333zTBRXKS0Hh9byX29KzZty4cUbXf/Wp+yH9U2BttS187ul9W321SrOleM0BBxzgdseWajW656MhgAACCNQmoCByXT8VyP7pp5+aeeed1/1tWepHT7X13tjS+uxEWYm//vpr9zmKspHo7wcaAggg0NkE9CPZb7/91h22skbrh9g0BBBAoD0J6LNh3dfp82J9bqcfQ+j7IwXF1dq4R6xVjOURQECJbvRjZDV91qrv+2gIdAYBxQvoB/QbbrhhXe+5ncGIY0SgnMCee+7pfuSrZZT84o477ii3eNG84jRfRYt0vgkKJFO2s7ZsKoVWKXtcuH+1Lq91lUVP/yo1fRivf3k2BWattNJKeW6izfveZJNNUvfBfzGeOrPKiXmdyznnnNPoX1u3Wp/ftS7vjy8vR99/LY9t/ZpQ8IUCJfWvLVuW1+Msj6lZzxUdvzJXhYFzCmpKa3nsk4Jb9C/PluU5znM/S/WtHwYoqNx/ka3MbaWy9ZXqo9WmN+N9v9Zjvv3226NVFHyVVdBc1GkDA8oot/zyy7t/DXTjMr22QuBDI8fAuggggAAC+QroxwzV3vPluyfFvSuwXT86pCGAAAIIIIAAAgi0bwEFyClYTv8abdwjNirI+ggggAACnUUgi3iBzmLFcSKQhwClWvNQpU8EEEAAAQTKCCgTR8+ePV3pS2WiLNUmTpxolP0qbKWyg4bLMNw8AX2IqF8x+Hbbbbf5QR4zEnjrrbfcL53VnX5lqJJ1NAQQQAABBBBAAAEEEEAAAQQQQAABBBBAAAEEEEAAAQQQQKBRAQLnGhVkfQQQQAABBGoUOOSQQ1zK5TPPPNOojJXKUD788MMu7bjKIbz//vvm8ssvd5k4R40aFfWuMqkq90xrLYHTTz/ddOnSxe2UzhslKLM9P/379486HDBggAueiyYwgAACCCCAAAIIIIAAAggggAACCCCAAAIIIIAAAggggAACCNQpQOBcnXCshgACCCCAQD0CDzzwgLnxxhujVZVxbuDAgWaDDTYwXbt2NX/84x+NUjIfeOCB5s0334yW04AC7VQWktZaAnPMMYcZPHiw26nvv//eHHbYYa21g+14b/75z3+aW2+91R2BSuCqTGve7c9//rNRKZHwn0rxtlrT8yzcRw3TEEAAAQQQQAABBBBAAAEEEEAAAQQQQAABBBBAAAEEEECgegEC56q3YkkEEEAAAQQaFujWrZvZcsstzR/+8Ieq+5pyyinNZZddZvbaa6+q12HB5goooOuCCy5wG1W51jFjxjR3Bzro1nxA4uqrr24efPBBM/nkk+d+pAqS+/3332P/ct9oHRv45JNPYvuofaYhgAACCCCAAAIIIIAAAggggAACCCCAAAIIIIAAAggggED1AgTOVW/FkggggAACCDQs0L17d3PnnXeal156yey4444uy1ypTmeccUZzzDHHmHHjxjUl01ap/WB6dQL9+vUzQ4cONZNNNpn5+eefq1uJpcoK/PTTT2a99dYzytToy+GWXYGZCCCAAAIIIIAAAggggAACCCCAAAIIIIAAAggggAACCCCAQJUC1HSqEorFEEAAgY4qcMQRR5jPPvvMHV4zsjk1w7E9HNNSSy1lbrrpJsch/9dee82VZtU5UKnWBRZYwCy00EKudGszzNhGNgL77ruvmWuuudy5y6bHzt3LcccdZzbeeGMz9dRT5wahANYll1yyZP8qj6xgyFZru+66q1lppZVK7halW0vSMAMBBBBAAAEEEEAAAQQQQAABBBBAAAEEEEAAAQQQQAABJ0DgHE8EBBBAoJML9O3bt8MJtLdjmn322c26667r/nW4k9EJD2jzzTfvhEedzyFvtdVW+XQc9Nq7d2+jf+2t6XnGc629nTX2FwEEEEAAAQQQQAABBBBAAAEEEEAAAQQQQAABBBBpa3/tAABAAElEQVRAoJUEWi99RivpsC8IIIAAAggggAACCCCAAAIIIIAAAggggAACCCCAAAIIIIAAAggggAACCCCAAAIdToDAuQ53SjkgBBBAAAEEEEAAAQQQQAABBBBAAAEEEEAAAQQQQAABBBBAAAEEEEAAAQQQQACBcgIEzpXTYR4CCCCAAAIIIIAAAggggAACCCCAAAIIIIAAAggggAACCCCAAAIIIIAAAggggECHEyBwrsOdUg4IAQQQQAABBBBAAAEEEEAAAQQQQAABBBBAAAEEEEAAAQQQQAABBBBAAAEEEECgnACBc+V0mIcAAggggAACCCCAAAIIIIAAAggggAACCCCAAAIIIIAAAggggAACCCCAAAIIINDhBAic63CnlANCAAEEEEAAAQQQQAABBBBAAAEEEEAAAQQQQAABBBBAAAEEEEAAAQQQQAABBBAoJ0DgXDkd5iGAAAIIIIAAAggggAACCCCAAAIIIIAAAggggAACCCCAAAIIIIAAAggggAACCHQ4AQLnOtwp5YAQQAABBBBAAAEEEEAAAQQQQAABBBBAAAEEEEAAAQQQQAABBBBAAAEEEEAAAQTKCRA4V06HeQgggAACCCCAAAIIIIAAAggggAACCCCAAAIIIIAAAggggAACCCCAAAIIIIAAAh1OgMC5DndKOSAEEEAAAQQQQAABBBBAAAEEEEAAAQQQQAABBBBAAAEEEEAAAQQQQAABBBBAAIFyAgTOldNhHgIIIIAAAggggAACCCCAAAIIIIAAAggggAACCCCAAAIIIIAAAggggAACCCCAQIcTIHCuw51SDggBBBBAAAEEEEAAAQQQQAABBBBAAAEEEEAAAQQQQAABBBBAAAEEEEAAAQQQQKCcAIFz5XSYhwACCCCAAAIIIIAAAggggAACCCCAAAIIIIAAAggggAACCCCAAAIIIIAAAggg0OEECJzrcKeUA0IAAQQQQAABBBBAAAEEEEAAAQQQQAABBBBAAAEEEEAAAQQQQAABBBBAAAEEECgnQOBcOR3mIYAAAggggAACCCCAAAIIIIAAAggggAACCCCAAAIIIIAAAggggAACCCCAAAIIdDiBKZpxRO+++260mbFjx5ojjjgiGmcAAQQQQAABBBBAAAEEOrbAyy+/HB3gt99+y98DkQYDCCCAAAIIIIAAAh1J4Mcff4wO58YbbzQvvvhiNM4AAggggAACCCCAQHmB0aNHRwtMmjSJzxAjDQYQQAABBMoJjBgxIpr9/vvvR8PVDvyhYFu1C9e73EorrWRGjRpV7+qshwACCCCAAAIIIIAAAggggAACCCCAAAIIIIAAAggggAACCCCAAAIIIIAAAggggECqwFxzzWXGjx+fOq/UREq1lpJhOgIIIIAAAggggAACCCCAAAIIIIAAAggggAACCCCAAAIIIIAAAggggAACCCCAQIcUaEqp1u7du5sxY8Y4wOmmm85onIYAAggggAACCCCAAAKdQ+CLL74wH330kTvYKaec0vTo0aNzHDhHiQACCCCAAAIIINCpBF599VXz+++/u2Oef/75zSyzzNKpjp+DRQABBBBAAAEEGhH46quvzAcffOC6mHzyyU3Pnj0b6Y51EUAAAQQ6iYDeO/QeorbwwgvXfNRNKdVa816xAgIIIIAAAggggAACCCCAAAIIIIAAAggggAACCCCAAAIIIIAAAggggAACCCCAAAI5CVCqNSdYukUAAQQQQAABBBBAAAEEEEAAAQQQQAABBBBAAAEEEEAAAQQQQAABBBBAAAEEEGhNAQLnWvO8sFcIIIAAAggggAACCCCAAAIIIIAAAggggAACCCCAAAIIIIAAAggggAACCCCAAAI5CRA4lxMs3SKAAAIIIIAAAggggAACCCCAAAIIIIAAAggggAACCCCAAAIIIIAAAggggAACCLSmAIFzrXle2CsEEEAAAQQQQAABBBBAAAEEEEAAAQQQQAABBBBAAAEEEEAAAQQQQAABBBBAAIGcBAicywmWbhFAAAEEEEAAAQQQQAABBBBAAAEEEEAAAQQQQAABBBBAAAEEEEAAAQQQQAABBFpTgMC51jwv7BUCCCCAAAIIIIAAAggggAACCCCAAAIIIIAAAggggAACCCCAAAIIIIAAAggggEBOAgTO5QRLtwgggAACCCCAAAIIIIAAAggggAACCCCAAAIIIIAAAggggAACCCCAAAIIIIAAAq0pQOBca54X9goBBBBAAAEEEEAAAQQQQAABBBBAAAEEEEAAAQQQQAABBBBAAAEEEEAAAQQQQCAnAQLncoKlWwQQQAABBBBAAAEEEEAAAQQQQAABBBBAAAEEEEAAAQQQQAABBBBAAAEEEEAAgdYUIHCuNc8Le4UAAggggAACCCCAAAIIIIAAAggggAACCCCAAAIIIIAAAggggAACCCCAAAIIIJCTAIFzOcHSLQIIIIAAAggggAACCCCAAAIIIIAAAggggAACCCCAAAIIIIAAAggggAACCCCAQGsKEDjXmueFvUIAAQQQQAABBBBAAAEEEEAAAQQQQAABBBBAAAEEEEAAAQQQQAABBBBAAAEEEMhJgMC5nGDpFgEEEEAAAQQQQAABBBBAAAEEEEAAAQQQQAABBBBAAAEEEEAAAQQQQAABBBBAoDUFCJxrzfPCXiGAAAIIIIAAAggggAACCCCAAAIIIIAAAggggAACCCCAAAIIIIAAAggggAACCOQkQOBcTrB0iwACCCCAAAIIIIAAAggggAACCCCAAAIIIIAAAggggAACCCCAAAIIIIAAAggg0JoCBM615nlhrxBAAAEEEEAAAQQQQAABBBBAAAEEEEAAAQQQQAABBBBAAAEEEEAAAQQQQAABBHISIHAuJ1i6RQABBBBAAAEEEEAAAQQQQAABBBBAAAEEEEAAAQQQQAABBBBAAAEEEEAAAQQQaE0BAuda87ywVwgggAACCCCAAAIIIIAAAggggAACCCCAAAIIIIAAAggggAACCCCAAAIIIIAAAjkJEDiXEyzdIoAAAggggAACCCCAAAIIIIAAAggggAACCCCAAAIIIIAAAggggAACCCCAAAIItKYAgXOteV7YKwQQQAABBBBAAAEEEEAAAQQQQAABBBBAAAEEEEAAAQQQQAABBBBAAAEEEEAAgZwECJzLCZZuEUAAAQQQQAABBBBAAAEEEEAAAQQQQAABBBBAAAEEEEAAAQQQQAABBBBAAAEEWlOAwLnWPC/sFQIIIIAAAggggAACCCCAAAIIIIAAAggggAACCCCAAAIIIIAAAggggAACCCCAQE4CBM7lBEu3CCCAAAIIIIAAAggggAACCCCAAAIIIIAAAggggAACCCCAAAIIIIAAAggggAACrSlA4Fxrnhf2CgEEEEAAAQQQQAABBBBAAAEEEEAAAQQQQAABBBBAAAEEEEAAAQQQQAABBBBAICcBAudygqVbBBBAAAEEEEAAAQQQQAABBBBAAAEEEEAAAQQQQAABBBBAAAEEEEAAAQQQQACB1hQgcK41zwt7hQACCCCAAAIIIIAAAggggAACCCCAAAIIIIAAAggggAACCCCAAAIIIIAAAgggkJMAgXM5wdItAggggAACCCCAAAIIIIAAAggggAACCCCAAAIIIIAAAggggAACCCCAAAIIIIBAawoQONea54W9QgABBBBAAAEEEEAAAQQQQAABBBBAAAEEEEAAAQQQQAABBBBAAAEEEEAAAQQQyEmAwLmcYOkWAQQQQAABBBBAAAEEEEAAAQQQQAABBBBAAAEEEEAAAQQQQAABBBBAAAEEEECgNQUInGvN88JeIYAAAggggAACCCCAAAIIIIAAAggggAACCCCAAAIIIIAAAggggAACCCCAAAII5CRA4FxOsHSLAAIIIIAAAggggAACCCCAAAIIIIAAAggggAACCCCAAAIIIIAAAggggAACCCDQmgIEzrXmeWGvEEAAAQQQQAABBBBAAAEEEEAAAQQQQAABBBBAAAEEEEAAAQQQQAABBBBAAAEEchIgcC4nWLpFAAEEEEAAAQQQQAABBBBAAAEEEEAAAQQQQAABBBBAAAEEEEAAAQQQQAABBBBoTQEC51rzvLBXCCCAAAIIIIAAAggggAACCCCAAAIIIIAAAggggAACCCCAAAIIIIAAAggggAACOQkQOJcTLN0igAACCCCAAAIIIIAAAggggAACCCCAAAIIIIAAAggggAACCCCAAAIIIIAAAgi0pgCBc615XtgrBBBAAAEEEEAAAQQQQAABBBBAAAEEEEAAAQQQQAABBBBAAAEEEEAAAQQQQACBnAQInMsJlm4RQAABBBBAAAEEEEAAAQQQQAABBBBAAAEEEEAAAQQQQAABBBBAAAEEEEAAAQRaU4DAudY8L+wVAggggAACCCCAAAIIIIAAAggggAACCCCAAAIIIIAAAggggAACCCCAAAIIIIBATgIEzuUES7cIIIAAAggggAACCCCAAAIIIIAAAggggAACCCCAAAIIIIAAAggggAACCCCAAAKtKUDgXGueF/YKAQQQQAABBBBAAAEEEEAAAQQQQAABBBBAAAEEEEAAAQQQQAABBBBAAAEEEEAgJwEC53KCpVsEEEAAAQQQQAABBBBAAAEEEEAAAQQQQAABBBBAAAEEEEAAAQQQQAABBBBAAIHWFCBwrjXPC3uFAAIIIIAAAggggAACCCCAAAIIIIAAAggggAACCCCAAAIIIIAAAggggAACCCCQkwCBcznB0i0CCCCAAAIIIIAAAggggAACCCCAAAIIIIAAAggggAACCCCAAAIIIIAAAggggEBrChA415rnhb1CAAEEEEAAAQQQQAABBBBAAAEEEEAAAQQQQAABBBBAAAEEEEAAAQQQQAABBBDISYDAuZxg6RYBBBBAAAEEEEAAAQQQQAABBBBAAAEEEEAAAQQQQAABBBBAAAEEEEAAAQQQQKA1BQica83zwl4hgAACCCCAAAIIIIAAAggggAACCCCAAAIIIIAAAggggAACCCCAAAIIIIAAAgjkJDBFTv3SLQIIIIAAAggggAACCCCAAAIIIIAAAggggAACCCCAAAIIINChBQqFgvn+++/NpEmTzA8//GB++ukn8/vvv5suXbqYGWec0T1ONlm+uUx+/fXXzIynnHLKzPpqi47+85//mPXWWy/a9MEHH2y22WabaLwtBj766CP3XJhhhhmatvmXX37ZfPLJJ6Z3795N22a4IT0nJ598clPLc/+3334zej2pheuGz+9weri9UsPhun/4wx/MFFP8f3iEtqPt+ZbW7y+//OJe0z/++KN7XWtc/6aaairTrVs3U89rRdcGPUd9q6UPXVvuvPNO06tXLzPnnHP6LnJ91PPonXfeMRMmTDCzzDKLWXrppc2iiy4aOea68Tbs/NJLLzW33nqr24MllljCXHbZZW24N/VtWu9L+jdx4kT3qPcn//ydY445jP5VuiaFr5/69uJ/a+m5rteSrgl6Lep1VE1r5DWT1v+3335r3njjDfP222+79+2FFlrIdO/e3eixluvVZ599ZkaMGGF0fdf7/Yorruj60bFV23QdUh96jWm//vSnP5nll1/e9dfMPqrdVkdejsC5jnx2OTYEEEAAAQQQQAABBBBAAAEEEEAAAQQQQAABBBBAAAEEEMhN4OGHHzYbbrhhyf4VkLPUUkuZVVZZxWy++eZm4403LrlsvTMWWGABFyRV7/rhep9//rnp2rVrOKldDSsQ4fHHH4/2uU+fPtFwWwycddZZ5rjjjjPnnnuuOfLII3Pfhbfeesvss88+5sknn3Tbuuqqq8yee+6Z+3bDDYwcOdI931dbbTXzxBNPuCC4cH7a8DfffGPmnntuF1ij+TfeeKP585//bG6++Waz4447Rqtst9125u9//3s0Xm5AwSgKiPFtmWWWMS+++KIbff75581KK63kZ5mhQ4eafffdNxrXwDrrrGOeeeaZ2DQ/oiAg9b3kkku6f/vtt5+ZffbZ/eySj1tssYW577773Py55prLjB8/vuSyyRk67t12280cf/zx5owzzkjOzmxcgX0XX3yxueSSS8y7775b1O/UU0/tAnx0LCeeeGKHDKIbM2ZMdB2RQXsLnFMw13zzzVd07pIT9BzcfvvtTd++fc1yyy2XnG2yfG/5xz/+4d4D/UYuuOAC069fPz+a+vjdd98ZBS7614mC28aOHZu6bKWJCkzT6+aiiy4yP//8c9Hiyy67rNE+rb322kXzwglffPGFOeSQQ8xtt91mkoGFCpbX9Uqvn0qBgcOHDzcnnHCCGTduXNi9CyrUMV955ZVm9dVXj81LjmTRR7LPzjqe788bOqsqx40AAggggAACCCCAAAIIIIAAAggggAACCCCAAAIIIIAAAp1eQNlyFKxz+eWXm0022cQoeMcHNXV6nA4OMGTIEBc016zDVJCZgj/C55eC9ZQNsZlNASoKYHz66afNgAEDqtq0sqkpG1WyrbvuurHMbvfcc4/LoJVcLm08GWCnoLusmgJmXn/9dRfEd/LJJ7tAsptuuimr7lP7UXCf2g033BDLWpe6cJ0TFTi7xhprmMMPPzw1aE7d6lz9+9//NqeeeqrLfqcgLVr7FFBWSgWSKVva6aefHmV8zONoFDweBoKddtpp5quvviq7KQVm+qA5LahgsnqatqPAwLPPPjs1aE596n1a2RyHDRtWchMKotR7uALWkkFzWknXPr1ON9poI/P111+X7EfB1DvttFNR0JxW0LVT1xZlTtV2SrUs+ijVd2ecTuBcZzzrHDMCCCCAAAIIIIAAAggggAACCCCAAAIIIIAAAggggAACCDRdQKUPlaFO2XdoHVNAGbsUeHTooYc27QCVoW3nnXeOBZ8pGGbUqFFmuumma9p+JDc0aNAgl3UuOb3a8dlmmy1WblbBdSpXWk0LA+dUPlEZ7PJqX375pet/q622MspIlXV77bXXoux3H374oXn00Uez3oRRdi+V9n322WeL+p5mmmlSM8spOFKBRMq8SWu/ArpmnXTSSWbgwIG5HsT555/vMqppIwosKxdYq2tXmOlP2RbXX3/9uvZvjz32KMpUN9NMM5n555+/qD9dt99///2i6br2KIPpxx9/HJu3+OKLmx49ekTHpZnKeqpA+bR2/fXXG2UiDdv000/vMmDOPPPM0WRlxdM1y2eojGbYgSz6CPtj2BhKtfIsQAABBBBAAAEEEEAAAQQQQAABBBBAAAEEEEAAAQQQQAABBDIQUODBDjvs4AKYJkyY4LI26UvuMBhFGZt23313l22mS5cuDW9VmcbSSs+p4/vvv9+cd9550Tb0hX1aST6/gErN0eoXePPNN11p1PB8199bdWuqnKieT8pu6JvKpD700ENm2mmn9ZPa5FEBObvssotRwOgss8xS1z4oYCYMNFVmt1133bVsXypZq236pkxXCy64oB+t+VEBNrfccos7BgX86Dy/8cYbLohPj74pqE8Zo6oN7vPrVXpMZtq69tpr6w4iKrUtZfdSJjnfVI5WgU0KplO5aWXYevXVV10gpLLs+QyBChrUOVJpXAXY0VpPQNnN+vfv74Ifdb6UaU7ZG1VuVAGTvp1zzjlm//33j8oOZ/3eovLICgZToK+aMrEedNBBZtFFF/W74B51LVP5Y10/1FQGWUF39TQFsupYfVPAnI57rbXWch4q23zMMceYxx57zC0yceJEl0ny6KOP9qu4R72PK4DVN2XQU3CuL4mrIFJltZSt2nPPPWfuuusus+WWW/pV3DVa5Vl9U0Dv1Vdf7YKe9Xr74YcfXEnvK664wi2ia4lel2EQnmwa7cNvn8f/CRA49z8LhhBAAAEEEEAAAQQQQAABBBBAAAEEEEAAAQQQQAABBBBAAIG6BRQA0L17d7e+gk3UDjjgAJeRafPNN3dlDjVNpeMUDHPUUUdptKG25pprllz/gw8+iM3TsquuumpsGiONC/z222+uDKDKD5YKYmx8K8U9KChEgZravm9LLrmkCxRp66A5vz8q5bnXXnuZO+64w0+q6XGzzTYzysTkSx8qIFDH3bVr15L9KMgtbMrG10hT1j4F/fimbH5qp5xyiitZqoAjH7ioYJm7777bbLHFFn7xhh4VoKagnbDdfvvtLhvXDDPMEE6ue1jlMP/6179G6//xj380t956q5G9b5NPPrkr6aljVwldZd9S9js1ra/sYCoNTGs9gcUWW8yVEw73bOutt3bPXwWV+ixq33//vQsq03uWWh7vLWeccYbR81fPawVj6j1Qr5ewXXzxxa50qp+m8XoDb5X9zQfgqb9tt93WPX993yussIL529/+Zuaee+6oVK0CRJPtkksuiSYpkFbBsXPMMUc0TY4KCNRrwzeVVQ4D53RtCEsby0JBz77pmn3ppZcaBf76QL6XXnrJjB492mW103JZ9OG3x+P/BCjV+j8LhhBAAAEEEEAAAQQQQAABBBBAAAEEEEAAAQQQQAABBBBAAIHMBVRibsiQIbF+X3jhhdg4I+1XQBnelBmomUFz0lJ5xTAQY6655jIPPPCACzRrJU0FmYRlF2vZNwVxKTjQNwUJJgPj/Dz/GJZpVSan7bff3s/K9FH7duaZZ5rrrrsu1u8hhxxiJk2aFJtW74iO5ZtvvomtrsxUCmzLqikTpTJh+qZMYGHQnJ/uH5W1UgGMypjlm/pQ4BWt/QgssMACZvDgwbEdVubAPJuCzlTK2jdlk3zkkUf8qAvGVEZD3/Q8DF//fnq1j99++21s0fXWWy82rhEFwIXZEpOlWv/1r3+5bIt+RWWjC4Pm/PR11lnHBZf6cZUw9gG1mhYG36kMtTLdJdtkk01WFFCva7pvWfTh++LxfwIEzv3PgiEEEEAAAQQQQAABBBBAAAEEEEAAAQQQQAABBBBAAAEEEEAgF4Ew84w2MHbsWLcdZcNSYI/+JYPr0nZEZUD98jvuuGOULSht2SymKbChX79+rrSdSrnOOeecZsMNN3Rf7ocBD8ltvfLKK9F+qlyngn8UWHPNNde40nTqR/0pM18yo5bvS/0rOEzZkZQ1aeqppzbKqNa3b18XhPD555/7RUs+Krvfueee6/rQNpW5qFevXubYY481yaCKkp1UmBFmKFLwmjLP5d3ee+89c9VVV0WbUcCFHJU5qRWbspGFTrXso8532FSutVRT6dRwOxtvvHHd2apKbSM5XaUwfRY6zVOmx7/85S/JxeoaT5Zp9Z2oXGsWTSWlw20ok5/KaVZqej0qi6Zvei2Gx+yzIfprla4Hpdq7774bXSu0vErhJpvKVt53333m4IMPdq9f7acCF/WaVilLveZ8mczkumnjKmN9xBFHmJVXXtldV+aZZx7X79lnnx0LIkxbV9ckf1zDhg1zi4waNcpdq5TRU9cpBYgpkCoMnPJ91XtN9etn+bj00kvHuksGjcVmZjRy3HHHxQLPdG3wWeEOPfTQKABTGRUVxNlIU3Bg2PQcSjZdLxSM6ltyHX+O/fzwee+n+ccw06Te88aNG+dm6Zrgs8hpwqabbmp0zU5ren/Vc9s3X0I5iz58nzwmBOwFhoYAAggggAACCCCAAAIIIIAAAggggAACCCCAAAIIIIAAAgggUKPAgw8+WLBfv0b/br755pI92ACKgs1+FS279tpru2XtF+3RNBvUVbCZn0r2oRm2tFu0vC0hWZg4cWLJ5W1gVbSs9vOZZ54puWxyhg1yK9iApdj64bH6YZtdq2DL7iVXLyRtnn/++YINJEntz5aji63/5ZdfFmxAYeqyfrt6nH766QsXXnhhtK7NRhZbx5blK8w777yxaeH6Cy20UEH71WizgTIFGwRROOiggwo2GK9gg7di27SBe41uomj9PfbYI7YNG4xStExbTEie99D7T3/6U8EGqBTtlg14ih2LLXlYtMwiiywSLWMznRVsEEnRMpowYMCAaDltO+01OXLkyNgyQ4cOLerLZhGMllliiSWK5icn2OxS0fLarl6nyWYDvKJlbIBlcnbRuA3oiZZXnzrH3lMGNiinaJ1aJwwfPjzqU33bbFpVd2EDgWLr7rbbbtG6yX3X86JUS54Pm+ErtqgNFi706NEjti3vED7aQNyCDXKKrZscseVB3es0XK/c8HzzzZfsohA+N7bZZpuCDcYqTDHFFEX7t9VWW8XWbfSaGuuszIgtoRvbl1NPPbXk0raUaWzZ/fbbr+Sy4YxG3lvUjw3WjG3XBl0WbGbK2DSbXS3cZF3D3333XWGmmWaK9XvBBRfE+rLlYmPzbXB3bL4tWRvNt4HbsXnJEZshMlpWzysboOkWsUHgsek2Y2Ry1di4rpX+ebnKKqtk1kdsI4xEAukhjPYM0BBAAAEEEEAAAQQQQAABBBBAAAEEEEAAAQQQQAABBBBAAAEEshFQCTwbtBF1ZoNx3PDee+8dTVN2tLvuuisaTw788ssvRmUvfevTp4+xwWN+NLNH7ccKK6xQVIIyLM3oN6YseauvvrrRvpVru+66ayzjjl92rbXWMmHWIxtEY2zQgLHBU36Rko/KYGeD7krOVznLsJRpckFlA9puu+0q7ntyveS4skwpE6DK6HXp0iU5O/PxMWPGxM6Nsn8NHDjQ2CBKo4xrcmmVpgyDKpeq9vrrr7vshfXsW5h1zkY7GBvwldpNWKZVGavKZYdK7aDOib1sFkMbPBWtrfPQaAszwdnAMXP88cdHmahkkCwRW8/2lO0tbGHGrHB62rAN/jVTTTVVNMtn0YwmZDTw2WefmdGjR1fsTRkkdT3V8yytKQOYymZfeumlabPrmjZixAh3DVEJ4WRTyV7f8rim+r4beVQZ0rDp2tuMtueee5qePXtGm1L503322ScaV/nrAw88MBqvd0DXAJXRDptKxdogT6OsiPfcc48577zzotnKNqcssGGzgYjRqA3gjYbTBrp16xab7DP4hX1ogVr6ybKP2M4xEgkQOBdRMIAAAggggAACCCCAAAIIIIAAAggggAACCCCAAAIIIIAAAgjkI3DFFVfEOvYBCiolqfKevinQqFRTeUEFf/imYLQ8ms1QFCuXqMAsm1HLBWR9/fXXLtjAZnKLNq1Scsnji2b+d8AHEqnsqwJbbKY3o2AJlT30TYGFNpOa+fTTT/0kF2Bwww03uP1RoMMTTzxhTjnlFFfmVUEOF110UbRs2oBK3h1zzDHmySefNArAUeBhuO8KnrvsssvSVq162qOPPmpWWmmlqpdvdMGLL744VgJSAY0K2FDQnp5XetS4SuSOHz++0c01tL4CMMPStQoGu+2222ruU8cSBm6mlWtVcFUYYGWzgZlpppmm5m3Vs8Lkk0/uynP6df3z3Y/X+mizOMZKGKt8qs6rAr98yyNwLnxt+O2UetT5CEsD67WUR1Mw33LLLee61rVI5VQVYPzcc8+5AFuVe/ZNAWwKjEprCqDS9cM3PTcGDx5sFPymUrO6vqp0ay1NgbmTJk0yCy64oLsuKkBKpT1t9klXqtX3lcc11fdd76OC5k4//fRodZWYtVnyovE8B/R6CQPW9L7mS28rGPOvf/1r7PXeyL7YjHLmjDPOiHWh146C1xRYqyBUNQX4KmDbB/pqmuaF19BZZ51Vk0u2ZCC7gpnVkgHctfSTZR8ld7yTzyBwrpM/ATh8BBBAAAEEEEAAAQQQQAABBBBAAAEEEEAAAQQQQAABBBDIT8CWaHWBWbY8XGwjK664ohtXlipb1jGaZ0samo8//jgaDwds2clodM4554wF0UQzGhx48803zeWXXx71oqAUW+LVrLfeembaaac1tuyd2XTTTY0yw9kyhtFyynhmy+JF42kDtmSpkYOy7S2//PIuACYMBNL8MFuUtvPCCy+4DEAKmFGwgTLUKQhFmbJs+buyGd5mnnlm89BDD5mzzjrLrLHGGma22WYzW265pVHASJgpq55ArrTja9Y0mYRN5yzMaKRgDwUxKQjElhY04fMmXK9Zwwpc1HnzTZmlbKlVP1rVoy2ra2zJxGjZF198MRbcqRlhtjmNJzNHaVqeTcFTvum1EAbc+OnVPupYwiDZnXbaya2qYEDf9Bp46qmn/Ghdj2HGuWQgXDUdzjPPPNFiOt5KmSejhWscULDcoEGDzCuvvOICbhVMpyA3BRQqCHeZZZaJetQ11Acb+YkKqLQlef2oC3LUde3YY491Qa9du3Y1G220kQsQrjUIVkGqCr7T9UqBh8pmpuyTvuV5TfXbKPeoa/X111/vgoYVmH3mmWe615IyBobnSxnywmt6uT6zmLfBBhsYW764qCsFOPqMrEUz65ygbI3Kchc2ZSj0Te/Duk4qe2rYFMQdGtly6uHsomEFH4bNlqZ2o+H1WRNq6SfLPsJ9Y/h/AgTO/c+CIQQQQAABBBBAAAEEEEAAAQQQQAABBBBAAAEEEEAAAQQQQKBuAWU1U+m3Bx54wFx99dUuM9qiiy7qsg+FnSqr2iqrrBJN0hf6PpvWf/7zH3PttddG8/yAMlDdfffdftQokEZZe7JuCl4Lyw4qI1Hal/zKkheWIlQ2uFtuuaXk7igAr1QmKK2kQCMF3/mmEnvK3FSq9KmC6BZeeGG/eOpj//79Y8FWfiEFYflAJE1TGd320hQU99prr1W9u8oQqACyV199tep1sl5wsskmc4E7M844o+va75OCSmtpYblWrZfMOhcGzun5ue6669bSfcPLKlAzbOHrKJxezXAY5KVSwHrOqilgLCwJm3atqKZ/v8x7773nB432PwwojWaUGQizZeralQwQKrNqTbMUuHvCCSek7p8yhCXLcSaz3x155JGxLI3KfBgG2/mdUcYwedfSFJg7++yzl1wlr2tqyQ0mZtx3331Grx1lk9N7jRyTAZcbbrhhLDNkoovcRg8++OBY37ruH3fccbFpWYwoeFfvJ6WaXqsKcEy2MGhO88JsdMllNa4Mp2HT+7Zash8FoZdrYT96XWn9LPoot83OPI/Auc589jl2BBBAAAEEEEAAAQQQQAABBBBAAAEEEEAAAQQQQAABBBDITEBZhlT6rXfv3mavvfZygQhjx46N9T///PObCy+8MDZNJeOU/ce3tC/47733Xlcq1S+TV5nWsNSlAtM222wzv8miRx1j2N5+++1wNDa89957GwVQlWoqbemDDLTMEUccYZQFqpFWLrCwR48eUdcTJkwwPqtPNLFFB95///2ibFoK9tFzT1ncvv/+exe4qTK2vilALRmg4uc161HP+7AkrgJ3whKu1ezHdtttFyu9GgbOKTAwDHzZcccdyz7fqtlercuEmSIVYBNmY6ulLx3Ls88+G62irGq+KWA0vFYoWDB83fjlqn2cbrrpokXr6Sf5ukmWqow6z3BAAURvvfWWUUDYkCFDjILgfvrpp9gWwuvuzz//7DLJ+QWU5VLZ5bJoOh/bbrtt2a7yuqaW3WiVMxXMqtLXskxmS6uyi4YWS5YmV6bA22+/vaE+kysrw94555xjFICmpvcFvX8ms9opoFAB1b50q5YNhzXuA9w1nNaSwbL+9ZXsR2XJy7WwHwWz6nqSRR/lttmZ55W+M+nMKhw7AggggAACCCCAAAIIIIAAAggggAACCCCAAAIIIIAAAgggkKGAvqxXpjllpUvLohYGoY0ZM8YtF24+LLepoK9ll102nJ3ZcBj8tvTSS5cNFFAmOgWO+BaWffTT/GMySMFP949hiVZNU4apPNscc8wR6z4ZABSb2UIjSSft2l133eWyGqrMogI1lD3queeec2V1/a6rPO2oUaP8aJs8KgAsDAJTNkPtV7VNrxuV2vVNrxOV6VQLs81pfJdddtFDU1tYflaBi+UCN8vtmALBfFMf22+/vR91j1tvvXU0rkyNd9xxRzRe60BYXlaBc1999VVNXXz00UfR8tNMM41Jvq6imRkMKChUzxlld1t88cVdadRDDz3U7Lfffi4QKtzEZ599Fo3qeRJmN+zTp080r9EB7Uelltc1tdJ2/XwFx6222mqmZ8+eRedH70kqfV3vc9Vvo55HBc+mZSnt16+fUVbKLJpKOofZCHV9fPzxx811111nXn75ZVf+N8zgOHz4cOfht63ndNjC8snhdD+sIM2w+YyMyX7CMrHh8n447EevKQXsZdGH75/HuACBc3EPxhBAAAEEEEAAAQQQQAABBBBAAAEEEEAAAQQQQAABBBBAAIGGBfQlt4LFNt54Y1fSVOU1Vb5VmbfS2jbbbBMLdAoz8ShgRBnnfMsrKOjLL7+MBc4oEKtS84EBWq5c4FylgBplnAtbpTKs4bKdeXiNNdZILUk655xzFpXGTRq3hZuyzvlseMoApTKytQRrlSrXGgbOKZhpueWWa+rhKQvaJ598Em3Tl1aNJlQ5oADOG264IVpa2dGSZUBVcjPMfNVIudbkfoaBcNFOlBkIs+yFQXhlVqlr1sMPP2y6detmTjrpJFMp6Ci5gWSwaffu3ZOL1D1e6bqW5zW12p1Wieynn37avPLKKy7QNMwKqEyVL730UrVdZbacsqeVKt396aefGpVWzaIp21yYqU1ZKnXNVFMWN2WZU4a7sDTq4MGDjQ+8rDVYLXkt03VYrZF+suzD7Qz/FQkQOFdEwgQEEEAAAQQQQAABBBBAAAEEEEAAAQQQQAABBBBAAAEEEECgdgFlhVMAjbJAKQBGARsqgXfxxRe7DEnletQX62E2LmXiUcCc2t133x2VY1TAjIKN8mhhgEG1/YfZesIsOcn1w0Cf5DyNf/7557HJYSa72IxOPpIs/1ku86CCrsIWZr4KpzdzWNmvlO3Jl+1VoFaYbbHSviibng8k0bJ6zSmrVHhseb0+yu3bE088EQvQUZBXPU0BgGFWq/Ca4PtTsOqqq67qR80jjzxixo8fH43XMpAMdlOAb7VN+6nAMN+SQXh+eqOPyp6oLHHhNWKxxRZz5TeVbVHHf95555XczLhx42LzGi0BHXZW6bqW5zU13I9qh+edd14zcODAaHGVBN13332jMqbRjJwHrr/++ihbpDbVv39/s8UWW0Rbveqqq2rKRhmtGAzovTgs+7r66qu7UurBIm5Q5dWPP/74aLLW82WgZ5hhhljQW/h8j1YIBpKvQ3+tSgZY1tJPln0Eu8pgIEDgXIDBIAIIIIAAAggggAACCCCAAAIIIIAAAggggAACCCCAAAIIINCIgLLY6Mv2etree+8draagOV/GTuXjfOvVq5epJhOcX76WR5VeDTPvVJPZKcw4VW+wkPYxue57771Xy653mmUV+BI2lR4s1ZLPk1qziZXqt9Hpa621ljn22GOjbhQYVW1TSckwmEzPv4MPPji2elsEzp1xxhmxfVhkkUVi49WOhGVatc6QIUNc2WKVLg7/jRgxIupSZUgViFRPSwa7hZkuK/U3bNiw2CLJvmIzGxg56KCDzKRJk6IeBg0aZEaPHm2OOuooF2y17rrrunKt0QKJgWTGvma+DtrymppgiEYPOeSQWKlvlXBW5rlmNZ3LMFBt7rnnNscdd5x7rvvrmQIOVYK3XDB2pf1NlujdaKONSq4SvvdqoTAQNwwulVW5YMhwPfXjM7KGfWj6yJEj9ZDalInznXfeieZl2UfUKQMxAQLnYhyMIIAAAggggAACCCCAAAIIIIAAAggggAACCCCAAAIIIIAAAm0joOxhYYlJBbEoq9MDDzwQ7VBeZVq1AWUBC4NfKgWYKLNemAWq3mAhbVtlbcOWDEAI53XmYWXim3rqqSMCnYNSLcxcpmWS2epKrdeM6QMGDDDLL798XZv6v/buPNS2svwD+PKX9EdZpA1CYFlQyi0rLafKTKNs1jRLKUujRItGLQgrpAEazAoUG0xJKhRJqKSibKDhGinerCDNkCwoC80k1Chr/97vorV61zp7n+Huc+692/t54bDX+O61P3uddf44X55n3K518+bN/TxPf/rTB/dwv2MDF66++urmBz/4Qf8OaYV50kkn9eurXfjlL3/ZZK56XHvttc33vve9JT8Jy9UjVfy2ZqQq4YMf/OD+1FRvG1do63dWCwn3jMNWy1U/3NoA1HXXXdfkpxupjpb2mglQrnaMW7Mu11J6tXOu9rjt+UyddY2x+8xnPtNXfcxxqfi20vN+1nxr3f7Rj350UCExodME5tLG/Oyzz+6nu+GGG5q0Wt3acccddwxOrVvUDnaUld13332wqW65Woe6b7vttia/p7NGHWhNyLmrNFfPkXPzOz1rpFJtV202xzztaU9rD12POWa9586+XXBuZ78DfH4CBAgQIECAAAECBAgQIECAAAECBAgQIECAAAECBHYYgbpt5Y9+9KO2HWFax2WknevLX/7yDb3WOvyW9//LX/4y8/2+8IUvDPbV5w52rGJlHJxLe1tjukAdoFguxPHzn/98MMG+++47WN+eK6nM+KUvfal5wAMesObLePKTn9zkZ9rY1tXmbrnlluYNb3jD4FJSTa8LzAx2rLAyrja3wuGD3QnbpBrWWkda577xjW/sT0s1rbqVZ79jtJBWlnUALe0ka/vMW48//OEP9epgOWGkWWN8f5988smzDp25fRycu+iii7Zpa9L6ubgtn6kzQcqOAw88cPC9//3vf29S2W+jR+6Dj33sY/3bJBRWB2Hf9ra3NU960pP6/QnO/frXv+7X17JQh8Bz3vheque6/vrr69Xm0Y9+dL+eMG49vvOd79Sr/XIMv/nNb/br+VxdS+p8pq6aXg5Ia+fu73p/wn8X0q65G/mb/4pXvKJdXY85unm9DgUE54Ye1ggQIECAAAECBAgQIECAAAECBAgQIECAAAECBAgQILDdBNKGsq4oVreAfOlLXzqoDrURF3n88cf306ZK1Kc//el+vV64++67m0996lP9prR4ffGLX9yvr3Vhn332aTZt2tSfdtVVVzV1gKDfUS3ceOON1driL6Zq2Ute8pK26mCqMv3jH/+Y+qHG4cq6ylF3QgJQ55xzTrfavo7Did3Oz3/+820b0Lz3tLm649b7Nd/5ueeeu1XT1mGbboKE8bqQSbdtI19//OMftwGktA3tRqr6veMd7+hWV/2a36e63WoqC95zzz3NvffeO/Ona+Xcvck4yNptX+n17W9/exvK7Y5LpctUdZs10qJ1HGDLZ66fW6m2Va/XgaJ63lTWOuuss+pNg+UEh+px66231qv9cl2VMxvj2Y2EGOtny69+9avmc5/7XLd7yetyrTiXHLyKDdvrmbrSpaXlbdcGNMd+7Wtfa6644oqVTptrf1q05r7uxic/+clml1126VabXXfdtf2b021LuCwtW7fmO0kL2DqYm6BuqtiNR+ZOq9h6HHLIIf3qc5/73H45C/mbXLco73amZXR93732ta/tdjX3v//9m8MPP7xfT0W79773vf16t5Cwc0y6ccwxxzRdCHU95ujm9ToUEJwbelgjQIAAAQIECBAgQIAAAQIECBAgQIAAAQIECBAgQIDAdhN4yEMe0uSf5dPGRrZp7d4v71FX/ElLzTogl+PyT/+0eKwrTiU0sPfee3fTrPl1HJjIBCeeeGLzzne+cxC0yPZU13r+85/fhmFuuummbFr4cdddd7Xf+5VXXtls2bKlSdWyWUGoVDjrwhT54KlCmApG3chcr3zlK5tf/OIX3abmsMMO61v+9RvLQgJHr3/969vWgXnvI444ornzzjvrQzZ0OaGYBPbWOhIwHbfrPOqoo5qHPexha51qxeNzvydAmiprCY29+c1vbg4++ODWqm5VnIlSIasO66w4+X8PSEi0dk/YKsGzfMZZPy984QsH73XppZfOrGK13HU84hGPaOowZo7N58h9lvsjYaDbb7+9+cY3vtHk9/yUU05pw3zdnA9/+MOb0047rVttXxN8SjCyG1//+tfb9qDdel7ThvbZz352e7/X2+vl+lmU7Wkx+q9//as+pA0a1eG07KzDjFlPELUep59+evs91i0xE6BKePHCCy+sD517eXs9U1e68LToHT/bc28v1/55pTmX259Q7pe//OX+kDyjnvGMZ/Tr3cKhhx46qOKYKn3LBR2788avuQfr+RPCSwguoewuiHfzzTc3L3rRi5of/vCH/ekJa9bnpSpeXeEyz4MTTjih6arU/e53v2ve8pa3NHW75HyGxz/+8f2cWchzth6pvJf7OZXqEpLOdeV3OuvdGAdU12OObm6vlUC5IQwCBAgQIECAAAECBAgQIECAAAECBAgQIECAAAECBAgQWKPAt7/97Un512v/c9lll61xhumHf+tb3+rn7OYv4ZRJCYxMP2HG1lJJbDDP5s2bZxw53FwCMoPzcg2ldd3k6KOPnpSgy6QEgwb799hjj0kJEwwmGduUNnmD/bNWXve61w3mznuXSmKTJzzhCZMS1pvstddeg/0l3NNPVapzDfaVyj39vvFCCaUNji0BqPEhW71eWgsO5i6V31acq4SyBufkc5fwxszzSoWkJceXANRkv/32m5TKRIN9JXg1KSGPqXN95CMfGRyb9y0tQ6ceu5qNW/O9l3bAk1IVrL+OUhlqNW81ecELXtCfk+uO4WrGz372s8F5Jbyy5LTSnnFwTOZf7qeERif57MuNEorp5yiVvgaHlgpX/b68TwlCDvbPWimhycF5X/nKV2Yduuz2EpaaPPWpTx3M1X3e0m5y6vbsz+eY9bud77Gbo3stbUsnJfTa3qfdtvFrCTH11/rvf/97csABBwzmedCDHtQ+i0p4aVKqig32dXOVyn+TUp2unycLz3nOc5YcWwK7kxJwaveV0OWS/XnejEd9bxx33HHj3VPX1+OZOnXiKRtLO9TB5zj77LOnHPW/TePfo9K69387Zyxtzd+WEibrr6uEQiclcDZj9kn79yTPs+77LIHyyZ/+9KeZx8/aUSq4TfL86+bpXnMP5W9qt16/nnfeeUumKwHSqfOU8OGSOXJPlbDfkjmy4VnPetaS4/O8LhVbl2zP9/Kf//xnyTzrMceSSXfyDSrOld8AgwABAgQIECBAgAABAgQIECBAgAABAgQIECBAgAABAjuKQKq5jatWpcJNqrJti1H+Yd+27Nt99937t7vllluar371q03aidbt6J7ylKc0JZDX1Mf2J23FwgUXXNC2iUyVrW6kwlQqSKUiTwmFdJvb1xIyHKwv6sr+++8/aFmYz1GCTDM/zgc/+MHmXe9612B/CaA1JcQ0qDqWFrrnn3/+oIpgfVLa6+622271pkHls8GODVpJxbKLLrpozbPX7VpLEKYpwc41zzHvCSVU1labSvvPcUvH1c6dyoA//elP+8PT5jQVAlczUm2wHrOqFNbHTFuOXyrKPfOZz1yyu4R3lmzLhrTCTLvaJz7xiVP3p2JknmX1+O1vf9vkdzb3aUaqe6VV7KwR31Tyqlu2piJXnkWpsPfHP/6xPTWV6c4888x+mrTSTDXDeqSqX6qL1SOtcH/zm9803/3ud5vbbrut3rWuy9vzmbrSB8nzofZNdcX6flzp/NXsz3d19dVX94eeccYZTQlj9+vjhfw9+fjHP95v/tvf/ta89a1v7ddXu5BKcWmtOv7bmXtoXC0yFepyz7zpTW9aMv3znve8Ju2GUxG2HuPqfPm7VYJ3U3+Pcl7mGP/OphJe2qLXI9ed6oddy9p633rMUc9nuWkE59wFBAgQIECAAAECBAgQIECAAAECBAgQIECAAAECBAgQ2IEE8s/3UmFtcEXr0aa1DkcMJp+y8rKXvaxtoZgw0rT2l495zGOahB8SsKhbMk6Zak2bSvWd5kMf+lDzk5/8pDn88MObBHrGI2GahMouvvjipm7VmpBB2lt2Yxw+7LZv9OvYeTXXEcNTTz21bz9aKnO1bTFnXWvukVItrkkYKOfGZDwSvkh7xHGAqD5u06ZNTVoh1kHFBLe29UiLwmmBleWuI/dm2k1m5H4du886dzXfx7RzEzBMSCzBl/e85z1tsCWBzrS7fOADHzjtlMG2We97+eWXD45LSHZaYGZw0H9XEgSr7/mE0sYhnGnnTduWlq1p+ZvgT+6LlUYCtOMga31OPkOu58Mf/vASn+xLGCmh2wTs6jH+HvMsvO6665qDDjqoPqxdLhXh2paruc/T+rJUS+vv5Trgm4NLZcwmLWNLBcjmcY973BLjfL9nnXVW23Y2QavuZ8mbbuWGbfVMzf1Q3z9jz/Hl51n+vve9r9+coOQ4lNvvnLGw0nu8//3v788sVQqbd7/73f36rIX8zTvyyCP73XnWlWqR/fpqF/JZrrnmmra18rTrzPecwGiCfQkNzhoJxubvXUKQ0/4mpr1rwt3LPW/zDMjnSJivVAft79XuPRPMy9/VXMtDH/rQbvPgdT3mGExopdklFfc4ECBAgAABAgQIECBAgAABAgQIECBAgAABAgQIECBAgMCOI3DSSSc1X/ziF9sLSjDqhhtu2K4Xl8pOpbVeG9BKqKYLLG30ReXf2TfffHNT2p+2IbpHPepRTYJdpX3rRr/1dpn/97//fVvxLQGtOvyy0sXcddddTSqXpepcghWlveXM4MW0uXL8li1b2l2pwJVg0bYe99xzT1uR6cADD2wSiFrNSMWzfOZc/957772aUxyzSoEbb7yx/d0rLTLbMxI6SnW4P//5z/0M+T1MgPOYY45p/WfdswljpWplniNZTjA0Aaq1jlSSy32eQG1+R8YVwDJfKonlefHYxz62fVbMeo9UCyutPJvSDra930t71zX9zs2ad7Xbt9czdbXXd188Lt91wtZ5xuXezX2Y4OC4It1qPnvu51ROzL2Ye221z6x67jzzcg/efvvt7b267777DoKw9bGzltdjjllz7yzbBed2lm/a5yRAgAABAgQIECBAgAABAgQIECBAgAABAgQIECBAYCEEEhZL687rr7++vd4PfOADbYWrhbh4F7lwAn/961/btpupVHbIIYcMWiou3IdxwRsq8P3vf79tSZsA0ngkTJsqWl2AMRW4Tj/99PFh1gkQILBDCey6Q12NiyFAgAABAgQIECBAgAABAgQIECBAgAABAgQIECBAgMBOLJDKYWk32IXmUsHpVa961U4s4qNvpEBCmmeeeWbb3jMVmM4999yNfDtzL7jAEUcc0SQ8l/aqqf5Wj1RwS4vl/GRMa7NcH2+ZAAECO4KA4NyO8C24BgIECBAgQIAAAQIECBAgQIAAAQIECBAgQIAAAQIEdlqBO+64o7nkkkuatEa89NJLm6x349hjj21byXXrXgmsl0BCc6kIdvHFF7dTnnPOOc2hhx66XtOb5z4qcNhhh7XB3vPOO6/57Gc/27ZfnfZR03bSIECAwI4uoFXrjv4NuT4CBAgQIECAAAECBAgQIECAAAECBAgQIECAAAECBO7TAlu2bGkOOOCAJZ9xn332aTZv3tzsscceS/bZQGBegSuuuKI57rjjmvvd735NQlCnnXbavFM6fycTuPfee9tn1LXXXtvkJ1XoUnnuzjvvbC688MLmyCOP3MlEfFwCBBZNQHBu0b4x10uAAAECBAgQIECAAAECBAgQIECAAAECBAgQIECAwH1KYBycS8vM17zmNc0nPvEJ7Q7vU9/0jvVh/vnPf7YtN0899dTmqKOO2rEuztUQIECAAIFtICA4tw2QvQUBAgQIECBAgAABAgQIECBAgAABAgQIECBAgAABAgRmCdx6663NKaec0jzykY9sNm3a1Lz61a9u9txzz1mH206AAAECBAgQILAOAoJz64BoCgIECBAgQIAAAQIECBAgQIAAAQIECBAgQIAAAQIECBAgQIAAAQIECBBYHIH/W5xLdaUECBAgQIAAAQIECBAgQIAAAQIECBAgQIAAAQIECBAgQIAAAQIECBAgQGB+AcG5+Q3NQIAAAQIECBAgQIAAAQIECBAgQIAAAQIECBAgQIAAAQIECBAgQIAAAQILJCA4t0Bflkslh7l4WgAABDdJREFUQIAAAQIECBAgQIAAAQIECBAgQIAAAQIECBAgQIAAAQIECBAgQIAAgfkFBOfmNzQDAQIECBAgQIAAAQIECBAgQIAAAQIECBAgQIAAAQIECBAgQIAAAQIECCyQgODcAn1ZLpUAAQIECBAgQIAAAQIECBAgQIAAAQIECBAgQIAAAQIECBAgQIAAAQIE5hcQnJvf0AwECBAgQIAAAQIECBAgQIAAAQIECBAgQIAAAQIECBAgQIAAAQIECBAgsEACgnML9GW5VAIECBAgQIAAAQIECBAgQIAAAQIECBAgQIAAAQIECBAgQIAAAQIECBCYX0Bwbn5DMxAgQIAAAQIECBAgQIAAAQIECBAgQIAAAQIECBAgQIAAAQIECBAgQIDAAgkIzi3Ql+VSCRAgQIAAAQIECBAgQIAAAQIECBAgQIAAAQIECBAgQIAAAQIECBAgQGB+AcG5+Q3NQIAAAQIECBAgQIAAAQIECBAgQIAAAQIECBAgQIAAAQIECBAgQIAAAQILJCA4t0BflkslQIAAAQIECBAgQIAAAQIECBAgQIAAAQIECBAgQIAAAQIECBAgQIAAgfkFBOfmNzQDAQIECBAgQIAAAQIECBAgQIAAAQIECBAgQIAAAQIECBAgQIAAAQIECCyQgODcAn1ZLpUAAQIECBAgQIAAAQIECBAgQIAAAQIECBAgQIAAAQIECBAgQIAAAQIE5hcQnJvf0AwECBAgQIAAAQIECBAgQIAAAQIECBAgQIAAAQIECBAgQIAAAQIECBAgsEACgnML9GW5VAIECBAgQIAAAQIECBAgQIAAAQIECBAgQIAAAQIECBAgQIAAAQIECBCYX0Bwbn5DMxAgQIAAAQIECBAgQIAAAQIECBAgQIAAAQIECBAgQIAAAQIECBAgQIDAAgkIzi3Ql+VSCRAgQIAAAQIECBAgQIAAAQIECBAgQIAAAQIECBAgQIAAAQIECBAgQGB+AcG5+Q3NQIAAAQIECBAgQIAAAQIECBAgQIAAAQIECBAgQIAAAQIECBAgQIAAAQILJCA4t0BflkslQIAAAQIECBAgQIAAAQIECBAgQIAAAQIECBAgQIAAAQIECBAgQIAAgfkFBOfmNzQDAQIECBAgQIAAAQIECBAgQIAAAQIECBAgQIAAAQIECBAgQIAAAQIECCyQgODcAn1ZLpUAAQIECBAgQIAAAQIECBAgQIAAAQIECBAgQIAAAQIECBAgQIAAAQIE5hcQnJvf0AwECBAgQIAAAQIECBAgQIAAAQIECBAgQIAAAQIECBAgQIAAAQIECBAgsEACgnML9GW5VAIECBAgQIAAAQIECBAgQIAAAQIECBAgQIAAAQIECBAgQIAAAQIECBCYX0Bwbn5DMxAgQIAAAQIECBAgQIAAAQIECBAgQIAAAQIECBAgQIAAAQIECBAgQIDAAgn8P1mNTIzAOf9TAAAAAElFTkSuQmCC)"
      ],
      "metadata": {
        "id": "6jIcE2lsJUVt"
      }
    },
    {
      "cell_type": "markdown",
      "source": [
        "# 6.Create New Tensors on GPU\n",
        "\n",
        "`t = tensor.rand(2,2, device=torch.device('cuda:0'))` instead of `t = tensor.rand(2,2).cuda()`. The latter will generate the tensor on CPU first and then transfer it to GPU, which takes time."
      ],
      "metadata": {
        "id": "PTNFljg3JqiJ"
      }
    },
    {
      "cell_type": "code",
      "source": [
        "start_time = time.time()\n",
        "\n",
        "for _ in range(100):\n",
        "  # Creating on the CPU, then transfering to the GPU\n",
        "  cpu_tensor = torch.ones((1000, 64, 64))\n",
        "  gpu_tensor = cpu_tensor.cuda()\n",
        "\n",
        "print('Total time: {:.3f}s'.format(time.time() - start_time))"
      ],
      "metadata": {
        "id": "mWyJBoW5Jz3a",
        "colab": {
          "base_uri": "https://localhost:8080/"
        },
        "outputId": "c1413756-1817-40ab-d514-541e1a214147"
      },
      "execution_count": null,
      "outputs": [
        {
          "output_type": "stream",
          "name": "stdout",
          "text": [
            "Total time: 4.784s\n"
          ]
        }
      ]
    },
    {
      "cell_type": "code",
      "source": [
        "start_time = time.time()\n",
        "\n",
        "for _ in range(100):\n",
        "  # Creating on GPU directly\n",
        "  cpu_tensor = torch.ones((1000, 64, 64), device='cuda')\n",
        "\n",
        "print('Total time: {:.3f}s'.format(time.time() - start_time))"
      ],
      "metadata": {
        "id": "X4Ej6-wP2QJh",
        "outputId": "5c99e8f9-53f5-46d4-9a2d-763a8501a412",
        "colab": {
          "base_uri": "https://localhost:8080/"
        }
      },
      "execution_count": null,
      "outputs": [
        {
          "output_type": "stream",
          "name": "stdout",
          "text": [
            "Total time: 0.009s\n"
          ]
        }
      ]
    },
    {
      "cell_type": "markdown",
      "source": [
        "# 7.Avoid Tensor Transfer between CPU and GPU\n",
        "\n",
        "\n",
        "```\n",
        "# bad\n",
        ".cpu()\n",
        ".item()\n",
        ".numpy()\n",
        "\n",
        "# good\n",
        ".detach()\n",
        "```\n",
        "\n"
      ],
      "metadata": {
        "id": "U2Cdp0sDJ0Yv"
      }
    },
    {
      "cell_type": "code",
      "source": [],
      "metadata": {
        "id": "FhOI8yzNK2Tb"
      },
      "execution_count": null,
      "outputs": []
    },
    {
      "cell_type": "markdown",
      "source": [
        "# 8.Use Gradient/Activation Checkpointing\n",
        "\n",
        "It decreases the computation time by saving computations as functions instead of intermediate values. It also decreases memory fingerprint."
      ],
      "metadata": {
        "id": "UXr1wtNbKPDP"
      }
    },
    {
      "cell_type": "code",
      "source": [],
      "metadata": {
        "id": "JJg3nExtK1jC"
      },
      "execution_count": null,
      "outputs": []
    },
    {
      "cell_type": "markdown",
      "source": [
        "# 9.Set Gradients to None Rather Than Zero\n",
        "\n",
        "Use \n",
        "```\n",
        "for param in model.parameters():\n",
        "    param.grad = None\n",
        "``` or\n",
        "`.zero_grad(set_to_none=True)` rather than `.zero_grad()`\n",
        "\n",
        "\n",
        "\n",
        "recommended resource: https://github.com/prigoyal/pytorch_memonger/blob/master/tutorial/Checkpointing_for_PyTorch_models.ipynb"
      ],
      "metadata": {
        "id": "3nfqXaQJLGz-"
      }
    },
    {
      "cell_type": "code",
      "source": [],
      "metadata": {
        "id": "qtG4wFxhLMwf"
      },
      "execution_count": null,
      "outputs": []
    },
    {
      "cell_type": "markdown",
      "source": [
        "# 10.Use `.as_tensor()` rather than `.tensor()`"
      ],
      "metadata": {
        "id": "mCF960UMLXs6"
      }
    },
    {
      "cell_type": "code",
      "source": [],
      "metadata": {
        "id": "n_E5gUHpLdPt"
      },
      "execution_count": null,
      "outputs": []
    },
    {
      "cell_type": "markdown",
      "source": [
        "# 11.Turn off Bias Before BatchNorm\n",
        "\n",
        "set the bias keyword to False: `torch.nn.Conv2d(..., bias=False, ...)`"
      ],
      "metadata": {
        "id": "f1effbkvLdk-"
      }
    },
    {
      "cell_type": "code",
      "source": [],
      "metadata": {
        "id": "8GalfL9ZLuXq"
      },
      "execution_count": null,
      "outputs": []
    },
    {
      "cell_type": "markdown",
      "source": [
        "# 12.Turn off Gradient Computation During Validation\n",
        "\n",
        "set `torch.no_grad()` during validation"
      ],
      "metadata": {
        "id": "2at4ju9GLuqL"
      }
    },
    {
      "cell_type": "code",
      "source": [],
      "metadata": {
        "id": "LUdfxSc0MBZY"
      },
      "execution_count": null,
      "outputs": []
    },
    {
      "cell_type": "markdown",
      "source": [
        "# 13.Use JIT to Fuse Point-wise Operations\n",
        "\n",
        "If there is an mathematical operation on images or other tensors used in the model, use the decorator `@torch.jit.script`. By this way, calculations will be done on only one kernel, rather than multiple kernels by default.\n",
        "\n",
        "![Screen Shot 2022-10-02 at 8.34.07 PM.png](data:image/png;base64,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)"
      ],
      "metadata": {
        "id": "ILbZTiLlMJ8h"
      }
    },
    {
      "cell_type": "code",
      "source": [
        "def gelu(x):\n",
        "    return x * 0.5 * (1.0 + torch.erf(x / 1.41421))\n",
        "\n",
        "@torch.jit.script\n",
        "def fused_gelu(x):\n",
        "    return x * 0.5 * (1.0 + torch.erf(x / 1.41421))"
      ],
      "metadata": {
        "id": "3MYTU5v7MJIb"
      },
      "execution_count": null,
      "outputs": []
    },
    {
      "cell_type": "markdown",
      "source": [
        "# 14.Disable Debug APIs for Final Training\n",
        "\n",
        "run following codes after debugging the model:\n",
        "```\n",
        "torch.autograd.set_detect_anomaly(False)\n",
        "torch.autograd.profiler.profile(False)\n",
        "torch.autograd.profiler.emit_nvtx(False)\n",
        "```\n",
        "\n"
      ],
      "metadata": {
        "id": "Z9NQviNoRuAj"
      }
    }
  ]
}